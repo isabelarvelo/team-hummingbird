{
 "cells": [
  {
   "cell_type": "code",
   "execution_count": 1,
   "metadata": {},
   "outputs": [],
   "source": [
    "#| default_exp assistant"
   ]
  },
  {
   "cell_type": "code",
   "execution_count": 2,
   "metadata": {},
   "outputs": [],
   "source": [
    "#| hide\n",
    "from nbdev.showdoc import *"
   ]
  },
  {
   "cell_type": "code",
   "execution_count": 3,
   "metadata": {},
   "outputs": [
    {
     "name": "stdout",
     "output_type": "stream",
     "text": [
      "2.15.0\n"
     ]
    }
   ],
   "source": [
    "import pandas as pd\n",
    "import tensorflow as tf\n",
    "print(tf.__version__)"
   ]
  },
  {
   "cell_type": "code",
   "execution_count": 4,
   "metadata": {},
   "outputs": [
    {
     "name": "stdout",
     "output_type": "stream",
     "text": [
      "2.1.1\n"
     ]
    }
   ],
   "source": [
    "import torch\n",
    "print(torch.__version__)"
   ]
  },
  {
   "cell_type": "code",
   "execution_count": 11,
   "metadata": {},
   "outputs": [],
   "source": [
    "#pd.read_csv('data/009-1.csv')"
   ]
  },
  {
   "cell_type": "markdown",
   "metadata": {},
   "source": [
    "### Zero-shot Model"
   ]
  },
  {
   "cell_type": "code",
   "execution_count": 12,
   "metadata": {},
   "outputs": [],
   "source": [
    "#df = pd.read_csv('/Users/hollyhou/Downloads/009-1.csv')\n",
    "#df.head()"
   ]
  },
  {
   "cell_type": "code",
   "execution_count": 5,
   "metadata": {},
   "outputs": [
    {
     "name": "stderr",
     "output_type": "stream",
     "text": [
      "/var/folders/4d/90l81fmn25scytf9lthr56fc0000gn/T/ipykernel_12680/3594426472.py:61: GradioDeprecationWarning: Usage of gradio.inputs is deprecated, and will not be supported in the future, please import your component from gradio.components\n",
      "  inputs=gr.inputs.File(label=\"Upload Transcript\"),\n",
      "/var/folders/4d/90l81fmn25scytf9lthr56fc0000gn/T/ipykernel_12680/3594426472.py:61: GradioDeprecationWarning: `optional` parameter is deprecated, and it has no effect\n",
      "  inputs=gr.inputs.File(label=\"Upload Transcript\"),\n",
      "/var/folders/4d/90l81fmn25scytf9lthr56fc0000gn/T/ipykernel_12680/3594426472.py:61: GradioDeprecationWarning: `keep_filename` parameter is deprecated, and it has no effect\n",
      "  inputs=gr.inputs.File(label=\"Upload Transcript\"),\n",
      "/var/folders/4d/90l81fmn25scytf9lthr56fc0000gn/T/ipykernel_12680/3594426472.py:63: GradioDeprecationWarning: Usage of gradio.outputs is deprecated, and will not be supported in the future, please import your components from gradio.components\n",
      "  gr.outputs.Dataframe(label=\"Labeled Transcript\", type=\"pandas\"),\n",
      "/var/folders/4d/90l81fmn25scytf9lthr56fc0000gn/T/ipykernel_12680/3594426472.py:64: GradioDeprecationWarning: Usage of gradio.outputs is deprecated, and will not be supported in the future, please import your components from gradio.components\n",
      "  gr.outputs.File(label=\"Download Labeled Transcript\")\n"
     ]
    },
    {
     "name": "stdout",
     "output_type": "stream",
     "text": [
      "Running on local URL:  http://127.0.0.1:7860\n",
      "Running on public URL: https://484e526e57b9674794.gradio.live\n",
      "\n",
      "This share link expires in 72 hours. For free permanent hosting and GPU upgrades, run `gradio deploy` from Terminal to deploy to Spaces (https://huggingface.co/spaces)\n"
     ]
    },
    {
     "data": {
      "text/html": [
       "<div><iframe src=\"https://484e526e57b9674794.gradio.live\" width=\"100%\" height=\"500\" allow=\"autoplay; camera; microphone; clipboard-read; clipboard-write;\" frameborder=\"0\" allowfullscreen></iframe></div>"
      ],
      "text/plain": [
       "<IPython.core.display.HTML object>"
      ]
     },
     "metadata": {},
     "output_type": "display_data"
    },
    {
     "data": {
      "text/plain": []
     },
     "execution_count": 5,
     "metadata": {},
     "output_type": "execute_result"
    }
   ],
   "source": [
    "import pandas as pd\n",
    "import gradio as gr\n",
    "from transformers import pipeline\n",
    "\n",
    "# Function to process the uploaded file\n",
    "def process_transcript(uploaded_file):\n",
    "    # Read the uploaded file into a DataFrame\n",
    "    df = pd.read_csv(uploaded_file)\n",
    "\n",
    "    # Initialize the zero-shot classifier\n",
    "    classifier = pipeline(\"zero-shot-classification\", model=\"sileod/deberta-v3-base-tasksource-nli\")\n",
    "\n",
    "    # Define your candidate labels\n",
    "    candidate_labels = ['PRS', 'REP', 'OTR', 'NEU']\n",
    "\n",
    "    # Positive and negative words for rule-based classification\n",
    "    positive_words = ['great', 'well', 'excellent', 'good', 'proud', 'amazing','exactly']\n",
    "    negative_words = ['bad', 'stop', 'disrespectful', 'quiet', 'get out']\n",
    "\n",
    "    # Function to apply rule-based override\n",
    "    def apply_rule_based_override(text, predicted_label, predicted_score):\n",
    "        text_lower = text.lower()\n",
    "        if any(word in text_lower for word in positive_words):\n",
    "            return 'PRS', 0.5  # Assigning full confidence to rule-based predictions\n",
    "        elif any(word in text_lower for word in negative_words):\n",
    "            return 'REP', 0.5\n",
    "        elif text.strip().endswith('?'):\n",
    "            return 'OTR', 0.5\n",
    "        else:\n",
    "            return predicted_label, predicted_score\n",
    "\n",
    "    # Classify texts and apply the rule-based override\n",
    "    final_labels = []\n",
    "    final_scores = []\n",
    "\n",
    "    for text in df['Text']:\n",
    "    # Get prediction from the classifier\n",
    "        prediction = classifier(text, candidate_labels, truncation=True, max_length=1024)\n",
    "        predicted_label = prediction['labels'][0]  # Top label\n",
    "        predicted_score = prediction['scores'][0]  # Confidence score for the top label\n",
    "\n",
    "    # Apply the rule-based override\n",
    "        final_label, final_score = apply_rule_based_override(text, predicted_label, predicted_score)\n",
    "        final_labels.append(final_label)\n",
    "        final_scores.append(final_score)\n",
    "\n",
    "    # Add the results to the DataFrame\n",
    "    df['Predicted_Label'] = final_labels\n",
    "    df['Confidence_Score'] = final_scores\n",
    "\n",
    "    # Save the processed dataframe to a new CSV file\n",
    "    output_file = '/tmp/labeled_transcript.csv'\n",
    "    df.to_csv(output_file, index=False)\n",
    "    return df, output_file\n",
    "\n",
    "\n",
    "\n",
    "# Create the Gradio interface\n",
    "iface = gr.Interface(\n",
    "    fn=process_transcript,\n",
    "    inputs=gr.inputs.File(label=\"Upload Transcript\"),\n",
    "    outputs=[\n",
    "        gr.outputs.Dataframe(label=\"Labeled Transcript\", type=\"pandas\"),\n",
    "        gr.outputs.File(label=\"Download Labeled Transcript\")\n",
    "    ],\n",
    "    title=\"Transcript Labeling Tool\",\n",
    "    description=\"Upload a transcript and get it labeled based on classroom interaction categories.\"\n",
    ")\n",
    "\n",
    "# Run the interface\n",
    "iface.launch(share=True)"
   ]
  },
  {
   "cell_type": "code",
   "execution_count": 6,
   "metadata": {},
   "outputs": [],
   "source": [
    "#| hide\n",
    "import nbdev; nbdev.nbdev_export()"
   ]
  }
 ],
 "metadata": {
  "kernelspec": {
   "display_name": "Python 3",
   "language": "python",
   "name": "python3"
  },
  "language_info": {
   "codemirror_mode": {
    "name": "ipython",
    "version": 3
   },
   "file_extension": ".py",
   "mimetype": "text/x-python",
   "name": "python",
   "nbconvert_exporter": "python",
   "pygments_lexer": "ipython3",
   "version": "3.9.12"
  }
 },
 "nbformat": 4,
 "nbformat_minor": 2
}
