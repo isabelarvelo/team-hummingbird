{
 "cells": [
  {
   "cell_type": "code",
   "execution_count": 24,
   "metadata": {},
   "outputs": [],
   "source": [
    "#| default_exp AskTheDataset"
   ]
  },
  {
   "cell_type": "code",
   "execution_count": 25,
   "metadata": {},
   "outputs": [],
   "source": [
    "#| export\n",
    "import pandas as pd\n",
    "import os\n",
    "import getpass\n",
    "import openai\n",
    "from openai import OpenAI\n",
    "import gradio as gr\n",
    "from io import StringIO"
   ]
  },
  {
   "cell_type": "code",
   "execution_count": 26,
   "metadata": {},
   "outputs": [],
   "source": [
    "#| hide\n",
    "df = pd.read_csv('../data/009-1.csv')"
   ]
  },
  {
   "cell_type": "code",
   "execution_count": 27,
   "metadata": {},
   "outputs": [],
   "source": [
    "#| hide\n",
    "\n",
    "api_key = getpass.getpass(\"OpenAI API Key:\")"
   ]
  },
  {
   "cell_type": "code",
   "execution_count": 28,
   "metadata": {},
   "outputs": [],
   "source": [
    "csv_summary = df.to_string()"
   ]
  },
  {
   "cell_type": "code",
   "execution_count": 29,
   "metadata": {},
   "outputs": [
    {
     "data": {
      "text/plain": [
       "\"                                                                                  Text Label\\n0                         Good morning class, today we are going to learn about nouns.   PRS\\n1                    A noun is a word that represents a person, place, thing, or idea.   NaN\\n2                                             Can anyone give me an example of a noun?   OTR\\n3                                 That's right, 'dog' is a noun because it is a thing.   NaN\\n4                                        Let's write down some nouns in our notebooks.   NaN\\n5                        Now, let's talk about verbs. Does anyone know what a verb is?   NaN\\n6            A verb is a word that describes an action, occurrence, or state of being.   NaN\\n7                                            Can someone give me an example of a verb?   OTR\\n8                              Great example, 'run' is a verb because it is an action.   PRS\\n9                                   Now, let's write down some verbs in our notebooks.   NaN\\n10                                       Next, we are going to learn about adjectives.   NaN\\n11                                       An adjective is a word that describes a noun.   NaN\\n12                                     Can someone give me an example of an adjective?   OTR\\n13                   Exactly, 'beautiful' is an adjective because it describes a noun.   NaN\\n14                                  Let's write down some adjectives in our notebooks.   NaN\\n15              Now we are going to form sentences using nouns, verbs, and adjectives.   NaN\\n16                   A sentence is a group of words that expresses a complete thought.   NaN\\n17                 Let's build a sentence together. I'll start with a noun: 'The cat'.   NaN\\n18                                             Can someone add a verb to our sentence?   OTR\\n19                                         Great, now our sentence is: 'The cat runs'.   PRS\\n20                                       Can someone add an adjective to our sentence?   OTR\\n21                                Wonderful, our sentence is now: 'The fast cat runs'.   PRS\\n22                        Let's write down some of our own sentences in our notebooks.   NaN\\n23                                        Now we are going to learn about punctuation.   NaN\\n24     Punctuation marks are symbols that help us to organize and structure sentences.   NaN\\n25                            The period is a punctuation mark used to end a sentence.   NaN\\n26                                 The question mark is used at the end of a question.   NaN\\n27                     The exclamation mark is used to express excitement or emphasis.   NaN\\n28                            Can someone give me a sentence with an exclamation mark?   OTR\\n29                     Great job, that sentence definitely needed an exclamation mark!   PRS\\n30  Let's write down some sentences with different punctuation marks in our notebooks.   NaN\\n31                                         Next, we are going to learn about pronouns.   NaN\\n32                              A pronoun is a word that can take the place of a noun.   NaN\\n33                                        Can someone give me an example of a pronoun?   OTR\\n34            That's right, 'he' is a pronoun because it can take the place of a noun.   NaN\\n35                                    Let's write down some pronouns in our notebooks.   NaN\\n36                          Now, we are going to practice using pronouns in sentences.   NaN\\n37                Let's build a sentence together. I'll start with a noun: 'The girl'.   NaN\\n38                                        Can someone replace the noun with a pronoun?   OTR\\n39                                     Great, now our sentence is: 'She reads a book'.   PRS\\n40         Let's write down some of our own sentences using pronouns in our notebooks.   NaN\\n41                                          Next, we are going to learn about adverbs.   NaN\\n42         An adverb is a word that describes a verb, an adjective, or another adverb.   NaN\\n43                                        Can someone give me an example of an adverb?   OTR\\n44         Exactly, 'quickly' is an adverb because it describes how an action is done.   NaN\\n45                                     Let's write down some adverbs in our notebooks.   NaN\\n46                                       Now we are going to use adverbs in sentences.   NaN\\n47                    Let's build a sentence together. I'll start with a verb: 'runs'.   NaN\\n48                                          Can someone add an adverb to our sentence?   OTR\\n49                                     Great, now our sentence is: 'She runs quickly'.   PRS\\n50          Let's write down some of our own sentences using adverbs in our notebooks.   NaN\\n51                                  Well done, everyone! You have learned a lot today.   PRS\\n52                         Remember to practice using these new words in your writing.   NaN\\n53          For homework, please write a short story using the words we learned today.   NaN\\n54           Make sure to include nouns, verbs, adjectives, and adverbs in your story.   NaN\\n55                          Don't forget to use correct punctuation in your sentences.   NaN\\n56                                       I am looking forward to reading your stories.   PRS\\n57                     Have a great day, and remember to keep practicing your English!   NaN\""
      ]
     },
     "execution_count": 29,
     "metadata": {},
     "output_type": "execute_result"
    }
   ],
   "source": [
    "csv_summary"
   ]
  },
  {
   "cell_type": "code",
   "execution_count": 34,
   "metadata": {},
   "outputs": [],
   "source": [
    "#| export\n",
    "def ask_gpt(question, csv_combined, api_key):\n",
    "    os.environ[\"OPENAI_API_KEY\"]=api_key\n",
    "    client = OpenAI()\n",
    "    # openai.api_key = api_key\n",
    "    response = client.chat.completions.create(\n",
    "        model=\"gpt-3.5-turbo\",\n",
    "        messages=[\n",
    "            {\"role\": \"system\", \"content\": \"You are a helpful assistant and an expert at reading files, interpreting them and also writing python codes and visualizing data. Here is the data you need to load and process to answer questions: \" + csv_combined},\n",
    "            {\"role\": \"user\", \"content\": question}\n",
    "        ])\n",
    "    \n",
    "    return response.choices[0].message.content\n",
    "    "
   ]
  },
  {
   "cell_type": "code",
   "execution_count": 35,
   "metadata": {},
   "outputs": [],
   "source": [
    "# #| export\n",
    "\n",
    "# def ask_gpt(question, csv_combined, api_key):\n",
    "#     openai.api_key = api_key\n",
    "    \n",
    "#     response = openai.Completion.create(\n",
    "#         model=\"gpt-3.5-turbo\",\n",
    "#         prompt=\"You are a helpful assistant and an expert at reading files, interpreting them and also writing python codes and visualizing data. Here is the data you need to load and process to answer questions: \" + csv_combined + \"\\n\\n\" + question,\n",
    "#         max_tokens=150,  # You can adjust the number of tokens (words) based on your needs\n",
    "#     )\n",
    "    \n",
    "#     return response.choices[0].text.strip()\n"
   ]
  },
  {
   "cell_type": "code",
   "execution_count": 36,
   "metadata": {},
   "outputs": [],
   "source": [
    "#| hide\n",
    "question = \"Read the csv file explain the data to me \""
   ]
  },
  {
   "cell_type": "code",
   "execution_count": 37,
   "metadata": {},
   "outputs": [
    {
     "name": "stdout",
     "output_type": "stream",
     "text": [
      "Sure, I will read the data from the CSV file and provide an explanation.\n",
      "\n",
      "The data consists of two columns: \"Text\" and \"Label\". Each row represents a sentence or a statement.\n",
      "\n",
      "The \"Text\" column contains the text of each statement. It includes sentences that provide information, ask questions, give examples, and give instructions.\n",
      "\n",
      "The \"Label\" column indicates the type or purpose of each statement. It includes three labels: PRS, OTR, and NaN.\n",
      "\n",
      "- PRS (Presentational) label is used for statements that provide information or explain a concept.\n",
      "- OTR (Other) label is used for statements that ask a question, give an example, or give an instruction.\n",
      "- NaN (Not a Number) label is used for rows that do not have a label assigned.\n",
      "\n",
      "The data is organized in sequential order, starting from introducing the topic of nouns, then moving on to verbs, adjectives, sentences, punctuation, pronouns, adverbs, and finally providing some closing remarks.\n",
      "\n",
      "Let me know if you would like any specific analysis or further information about the data.\n"
     ]
    }
   ],
   "source": [
    "#| hide\n",
    "answer = ask_gpt(question,csv_summary,api_key)\n",
    "print(answer)"
   ]
  },
  {
   "cell_type": "code",
   "execution_count": 38,
   "metadata": {},
   "outputs": [
    {
     "name": "stdout",
     "output_type": "stream",
     "text": [
      "Certainly! Here's the code to visualize the data using a bar graph:\n",
      "\n",
      "```python\n",
      "import pandas as pd\n",
      "import matplotlib.pyplot as plt\n",
      "\n",
      "# Read the data into a DataFrame\n",
      "data = {\n",
      "    'Text': [\n",
      "        \"Good morning class, today we are going to learn about nouns.\",\n",
      "        \"A noun is a word that represents a person, place, thing, or idea.\",\n",
      "        \"Can anyone give me an example of a noun?\",\n",
      "        \"That's right, 'dog' is a noun because it is a thing.\",\n",
      "        \"Let's write down some nouns in our notebooks.\",\n",
      "        \"Now, let's talk about verbs. Does anyone know what a verb is?\",\n",
      "        \"A verb is a word that describes an action, occurrence, or state of being.\",\n",
      "        \"Can someone give me an example of a verb?\",\n",
      "        \"Great example, 'run' is a verb because it is an action.\",\n",
      "        \"Now, let's write down some verbs in our notebooks.\",\n",
      "        \"Next, we are going to learn about adjectives.\",\n",
      "        \"An adjective is a word that describes a noun.\",\n",
      "        \"Can someone give me an example of an adjective?\",\n",
      "        \"Exactly, 'beautiful' is an adjective because it describes a noun.\",\n",
      "        \"Let's write down some adjectives in our notebooks.\",\n",
      "        \"Now we are going to form sentences using nouns, verbs, and adjectives.\",\n",
      "        \"A sentence is a group of words that expresses a complete thought.\",\n",
      "        \"Let's build a sentence together. I'll start with a noun: 'The cat'.\",\n",
      "        \"Can someone add a verb to our sentence?\",\n",
      "        \"Great, now our sentence is: 'The cat runs'.\",\n",
      "        \"Can someone add an adjective to our sentence?\",\n",
      "        \"Wonderful, our sentence is now: 'The fast cat runs'.\",\n",
      "        \"Let's write down some of our own sentences in our notebooks.\",\n",
      "        \"Now we are going to learn about punctuation.\",\n",
      "        \"Punctuation marks are symbols that help us to organize and structure sentences.\",\n",
      "        \"The period is a punctuation mark used to end a sentence.\",\n",
      "        \"The question mark is used at the end of a question.\",\n",
      "        \"The exclamation mark is used to express excitement or emphasis.\",\n",
      "        \"Can someone give me a sentence with an exclamation mark?\",\n",
      "        \"Great job, that sentence definitely needed an exclamation mark!\",\n",
      "        \"Let's write down some sentences with different punctuation marks in our notebooks.\",\n",
      "        \"Next, we are going to learn about pronouns.\",\n",
      "        \"A pronoun is a word that can take the place of a noun.\",\n",
      "        \"Can someone give me an example of a pronoun?\",\n",
      "        \"That's right, 'he' is a pronoun because it can take the place of a noun.\",\n",
      "        \"Let's write down some pronouns in our notebooks.\",\n",
      "        \"Now, we are going to practice using pronouns in sentences.\",\n",
      "        \"Let's build a sentence together. I'll start with a noun: 'The girl'.\",\n",
      "        \"Can someone replace the noun with a pronoun?\",\n",
      "        \"Great, now our sentence is: 'She reads a book'.\",\n",
      "        \"Let's write down some of our own sentences using pronouns in our notebooks.\",\n",
      "        \"Next, we are going to learn about adverbs.\",\n",
      "        \"An adverb is a word that describes a verb, an adjective, or another adverb.\",\n",
      "        \"Can someone give me an example of an adverb?\",\n",
      "        \"Exactly, 'quickly' is an adverb because it describes how an action is done.\",\n",
      "        \"Let's write down some adverbs in our notebooks.\",\n",
      "        \"Now we are going to use adverbs in sentences.\",\n",
      "        \"Let's build a sentence together. I'll start with a verb: 'runs'.\",\n",
      "        \"Can someone add an adverb to our sentence?\",\n",
      "        \"Great, now our sentence is: 'She runs quickly'.\",\n",
      "        \"Let's write down some of our own sentences using adverbs in our notebooks.\",\n",
      "        \"Well done, everyone! You have learned a lot today.\",\n",
      "        \"Remember to practice using these new words in your writing.\",\n",
      "        \"For homework, please write a short story using the words we learned today.\",\n",
      "        \"Make sure to include nouns, verbs, adjectives, and adverbs in your story.\",\n",
      "        \"Don't forget to use correct punctuation in your sentences.\",\n",
      "        \"I am looking forward to reading your stories.\",\n",
      "        \"Have a great day, and remember to keep practicing your English!\"\n",
      "    ],\n",
      "    'Label': [\n",
      "        \"PRS\", None, \"OTR\", None, None, None, None, \"OTR\", \"PRS\", None, None, None, \"OTR\", None, None, None, None, \"OTR\", None, \"PRS\", \"OTR\", \"PRS\", None, None, None, None, \"OTR\", \"PRS\", None, None, \"OTR\", None, None, None, None, \"OTR\", None, None, None, None, None, None, \"PRS\", None, None, \"OTR\", None, None, None, None, None, None, None, None, None, None, \"PRS\", None, None, None, None\n",
      "    ]\n",
      "}\n",
      "\n",
      "df = pd.DataFrame(data)\n",
      "\n",
      "# Count the occurrences of each label\n",
      "label_counts = df['Label'].value_counts()\n",
      "\n",
      "# Plot the bar graph\n",
      "plt.bar(label_counts.index, label_counts.values)\n",
      "plt.xlabel('Label')\n",
      "plt.ylabel('Count')\n",
      "plt.title('Count of each label')\n",
      "plt.show()\n",
      "```\n",
      "\n",
      "This code will generate a bar graph showing the count of each label in the provided data.\n"
     ]
    }
   ],
   "source": [
    "question2 = \"Can you give me the code to visualize the data? I want a bar graph that has the count of each label\"\n",
    "answer2 = ask_gpt(question2,csv_summary,api_key)\n",
    "print(answer2)"
   ]
  },
  {
   "cell_type": "code",
   "execution_count": 39,
   "metadata": {},
   "outputs": [],
   "source": [
    "import nbdev; nbdev.nbdev_export()"
   ]
  },
  {
   "cell_type": "code",
   "execution_count": null,
   "metadata": {},
   "outputs": [],
   "source": []
  }
 ],
 "metadata": {
  "kernelspec": {
   "display_name": "Python 3",
   "language": "python",
   "name": "python3"
  },
  "language_info": {
   "codemirror_mode": {
    "name": "ipython",
    "version": 3
   },
   "file_extension": ".py",
   "mimetype": "text/x-python",
   "name": "python",
   "nbconvert_exporter": "python",
   "pygments_lexer": "ipython3",
   "version": "3.10.12"
  },
  "orig_nbformat": 4
 },
 "nbformat": 4,
 "nbformat_minor": 2
}
