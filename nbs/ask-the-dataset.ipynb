{
 "cells": [
  {
   "cell_type": "code",
   "execution_count": 6,
   "metadata": {},
   "outputs": [],
   "source": [
    "#| default_exp AskTheDataset"
   ]
  },
  {
   "cell_type": "code",
   "execution_count": 1,
   "metadata": {},
   "outputs": [],
   "source": [
    "#| export\n",
    "import pandas as pd\n",
    "import os\n",
    "import getpass\n",
    "import openai\n",
    "from openai import OpenAI\n",
    "import gradio as gr\n",
    "from io import StringIO"
   ]
  },
  {
   "cell_type": "code",
   "execution_count": 2,
   "metadata": {},
   "outputs": [],
   "source": [
    "#| hide\n",
    "df = pd.read_csv('/workspaces/team-hummingbird/data/009-1.csv')"
   ]
  },
  {
   "cell_type": "code",
   "execution_count": 3,
   "metadata": {},
   "outputs": [],
   "source": [
    "#| hide\n",
    "\n",
    "os.environ[\"OPENAI_API_KEY\"] = getpass.getpass(\"OpenAI API Key:\")"
   ]
  },
  {
   "cell_type": "code",
   "execution_count": 4,
   "metadata": {},
   "outputs": [],
   "source": [
    "csv_summary = df.to_string()"
   ]
  },
  {
   "cell_type": "code",
   "execution_count": 5,
   "metadata": {},
   "outputs": [
    {
     "data": {
      "text/plain": [
       "\"                                                                                  Text Label\\n0                         Good morning class, today we are going to learn about nouns.   PRS\\n1                    A noun is a word that represents a person, place, thing, or idea.   NaN\\n2                                             Can anyone give me an example of a noun?   OTR\\n3                                 That's right, 'dog' is a noun because it is a thing.   NaN\\n4                                        Let's write down some nouns in our notebooks.   NaN\\n5                        Now, let's talk about verbs. Does anyone know what a verb is?   NaN\\n6            A verb is a word that describes an action, occurrence, or state of being.   NaN\\n7                                            Can someone give me an example of a verb?   OTR\\n8                              Great example, 'run' is a verb because it is an action.   PRS\\n9                                   Now, let's write down some verbs in our notebooks.   NaN\\n10                                       Next, we are going to learn about adjectives.   NaN\\n11                                       An adjective is a word that describes a noun.   NaN\\n12                                     Can someone give me an example of an adjective?   OTR\\n13                   Exactly, 'beautiful' is an adjective because it describes a noun.   NaN\\n14                                  Let's write down some adjectives in our notebooks.   NaN\\n15              Now we are going to form sentences using nouns, verbs, and adjectives.   NaN\\n16                   A sentence is a group of words that expresses a complete thought.   NaN\\n17                 Let's build a sentence together. I'll start with a noun: 'The cat'.   NaN\\n18                                             Can someone add a verb to our sentence?   OTR\\n19                                         Great, now our sentence is: 'The cat runs'.   PRS\\n20                                       Can someone add an adjective to our sentence?   OTR\\n21                                Wonderful, our sentence is now: 'The fast cat runs'.   PRS\\n22                        Let's write down some of our own sentences in our notebooks.   NaN\\n23                                        Now we are going to learn about punctuation.   NaN\\n24     Punctuation marks are symbols that help us to organize and structure sentences.   NaN\\n25                            The period is a punctuation mark used to end a sentence.   NaN\\n26                                 The question mark is used at the end of a question.   NaN\\n27                     The exclamation mark is used to express excitement or emphasis.   NaN\\n28                            Can someone give me a sentence with an exclamation mark?   OTR\\n29                     Great job, that sentence definitely needed an exclamation mark!   PRS\\n30  Let's write down some sentences with different punctuation marks in our notebooks.   NaN\\n31                                         Next, we are going to learn about pronouns.   NaN\\n32                              A pronoun is a word that can take the place of a noun.   NaN\\n33                                        Can someone give me an example of a pronoun?   OTR\\n34            That's right, 'he' is a pronoun because it can take the place of a noun.   NaN\\n35                                    Let's write down some pronouns in our notebooks.   NaN\\n36                          Now, we are going to practice using pronouns in sentences.   NaN\\n37                Let's build a sentence together. I'll start with a noun: 'The girl'.   NaN\\n38                                        Can someone replace the noun with a pronoun?   OTR\\n39                                     Great, now our sentence is: 'She reads a book'.   PRS\\n40         Let's write down some of our own sentences using pronouns in our notebooks.   NaN\\n41                                          Next, we are going to learn about adverbs.   NaN\\n42         An adverb is a word that describes a verb, an adjective, or another adverb.   NaN\\n43                                        Can someone give me an example of an adverb?   OTR\\n44         Exactly, 'quickly' is an adverb because it describes how an action is done.   NaN\\n45                                     Let's write down some adverbs in our notebooks.   NaN\\n46                                       Now we are going to use adverbs in sentences.   NaN\\n47                    Let's build a sentence together. I'll start with a verb: 'runs'.   NaN\\n48                                          Can someone add an adverb to our sentence?   OTR\\n49                                     Great, now our sentence is: 'She runs quickly'.   PRS\\n50          Let's write down some of our own sentences using adverbs in our notebooks.   NaN\\n51                                  Well done, everyone! You have learned a lot today.   PRS\\n52                         Remember to practice using these new words in your writing.   NaN\\n53          For homework, please write a short story using the words we learned today.   NaN\\n54           Make sure to include nouns, verbs, adjectives, and adverbs in your story.   NaN\\n55                          Don't forget to use correct punctuation in your sentences.   NaN\\n56                                       I am looking forward to reading your stories.   PRS\\n57                     Have a great day, and remember to keep practicing your English!   NaN\""
      ]
     },
     "execution_count": 5,
     "metadata": {},
     "output_type": "execute_result"
    }
   ],
   "source": [
    "csv_summary"
   ]
  },
  {
   "cell_type": "code",
   "execution_count": 9,
   "metadata": {},
   "outputs": [],
   "source": [
    "#| export\n",
    "def ask_gpt(question,csv_summary):\n",
    "    client = OpenAI()\n",
    "\n",
    "    response = client.chat.completions.create(\n",
    "    model=\"gpt-3.5-turbo\",\n",
    "    messages=[\n",
    "            {\"role\": \"system\", \"content\": \"You are a helpful assistant. Here is the data you need to read: \" + csv_summary},\n",
    "            {\"role\": \"user\", \"content\": question}\n",
    "        ])\n",
    "    \n",
    "    return response.choices[0].message.content\n",
    "    "
   ]
  },
  {
   "cell_type": "code",
   "execution_count": 10,
   "metadata": {},
   "outputs": [],
   "source": [
    "#| hide\n",
    "# Ask user to input their question\n",
    "question = input(\"Ask a question: \")"
   ]
  },
  {
   "cell_type": "code",
   "execution_count": 11,
   "metadata": {},
   "outputs": [
    {
     "name": "stdout",
     "output_type": "stream",
     "text": [
      "Sure! Here's a code that will summarize the data by data labels:\n",
      "\n",
      "```python\n",
      "import pandas as pd\n",
      "\n",
      "# Read the data into a pandas DataFrame\n",
      "data = pd.read_csv('data.csv')\n",
      "\n",
      "# Summarize the data by data labels\n",
      "summary = data.groupby('Text Label').size().reset_index(name='Count')\n",
      "\n",
      "# Show the output\n",
      "print(summary)\n",
      "```\n",
      "\n",
      "Output:\n",
      "\n",
      "```\n",
      "  Text Label  Count\n",
      "0        NaN     40\n",
      "1        OTR     10\n",
      "2        PRS      8\n",
      "```\n",
      "\n",
      "This output shows the count of occurrences for each data label in the dataset.\n"
     ]
    }
   ],
   "source": [
    "#| hide\n",
    "answer = ask_gpt(question,csv_summary)\n",
    "print(answer)"
   ]
  },
  {
   "cell_type": "code",
   "execution_count": 12,
   "metadata": {},
   "outputs": [],
   "source": [
    "import nbdev; nbdev.nbdev_export()"
   ]
  },
  {
   "cell_type": "code",
   "execution_count": null,
   "metadata": {},
   "outputs": [],
   "source": []
  }
 ],
 "metadata": {
  "kernelspec": {
   "display_name": "Python 3",
   "language": "python",
   "name": "python3"
  },
  "language_info": {
   "codemirror_mode": {
    "name": "ipython",
    "version": 3
   },
   "file_extension": ".py",
   "mimetype": "text/x-python",
   "name": "python",
   "nbconvert_exporter": "python",
   "pygments_lexer": "ipython3",
   "version": "3.10.12"
  },
  "orig_nbformat": 4
 },
 "nbformat": 4,
 "nbformat_minor": 2
}
