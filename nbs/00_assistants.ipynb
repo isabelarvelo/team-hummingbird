{
 "cells": [
  {
   "cell_type": "markdown",
   "metadata": {},
   "source": [
    "# Openai Assistants\n",
    "> Functionality for making calls to OpenAI Assistants"
   ]
  },
  {
   "cell_type": "code",
   "execution_count": null,
   "metadata": {},
   "outputs": [],
   "source": [
    "#| default_exp assistant\n",
    "import time"
   ]
  },
  {
   "cell_type": "code",
   "execution_count": null,
   "metadata": {},
   "outputs": [],
   "source": [
    "#| hide\n",
    "from nbdev.showdoc import *"
   ]
  },
  {
   "cell_type": "code",
   "execution_count": null,
   "metadata": {},
   "outputs": [],
   "source": [
    "import os\n",
    "import getpass"
   ]
  },
  {
   "cell_type": "code",
   "execution_count": null,
   "metadata": {},
   "outputs": [],
   "source": [
    "#| export\n",
    "class OpenAIAssistantManager:\n",
    "    def __init__(self, client):\n",
    "        self.client = client\n",
    "        self.current_assistant = None\n",
    "        self.current_thread = None\n",
    "\n",
    "    def add_file(self, file_path, purpose='assistants'):\n",
    "        with open(file_path, \"rb\") as file_data:\n",
    "            return self.client.files.create(file=file_data, purpose=purpose)\n",
    "\n",
    "    def create_assistant(self, name, description, model, tools, file_id):\n",
    "        self.current_assistant = self.client.beta.assistants.create(\n",
    "            name=name,\n",
    "            description=description,\n",
    "            model=model,\n",
    "            tools=tools,\n",
    "            file_ids=[file_id]\n",
    "        )\n",
    "        return self.current_assistant\n",
    "\n",
    "    def create_thread(self, user_message, file_id):\n",
    "        self.current_thread = self.client.beta.threads.create(\n",
    "            messages=[\n",
    "                {\n",
    "                    \"role\": \"user\",\n",
    "                    \"content\": user_message,\n",
    "                    \"file_ids\": [file_id]\n",
    "                }\n",
    "            ]\n",
    "        )\n",
    "        return self.current_thread\n",
    "\n",
    "    def run_assistant(self, model=None, instructions=None, tools=None):\n",
    "        from time import sleep\n",
    "\n",
    "        if self.current_thread is None or self.current_assistant is None:\n",
    "            raise Exception(\"Assistant and Thread must be initialized before running.\")\n",
    "\n",
    "        run_parameters = {\n",
    "            \"thread_id\": self.current_thread.id,\n",
    "            \"assistant_id\": self.current_assistant.id\n",
    "        }\n",
    "\n",
    "        # Adding optional parameters if they are provided\n",
    "        if model is not None:\n",
    "            run_parameters[\"model\"] = model\n",
    "        if instructions is not None:\n",
    "            run_parameters[\"instructions\"] = instructions\n",
    "        if tools is not None:\n",
    "            run_parameters[\"tools\"] = tools\n",
    "\n",
    "        run = self.client.beta.threads.runs.create(**run_parameters)\n",
    "\n",
    "        run = self.client.beta.threads.runs.retrieve(thread_id=self.current_thread.id, run_id=run.id)\n",
    "\n",
    "        print(self.client.beta.threads.messages.list(thread_id=self.current_thread.id))\n",
    "        \n",
    "        print(run)\n",
    "        counter = 0\n",
    "        while run.status != \"completed\":\n",
    "            run = self.client.beta.threads.runs.retrieve(thread_id=self.current_thread.id, run_id=run.id)\n",
    "            if counter % 10 == 0:\n",
    "                print(f\"\\t\\t{run}\")\n",
    "            counter += 1\n",
    "            sleep(5)\n",
    "\n",
    "        return self.client.beta.threads.messages.list(thread_id=self.current_thread.id)\n",
    "\n",
    "\n",
    "    def send_message(self, message_content):\n",
    "        if self.current_thread is None:\n",
    "            raise Exception(\"No active thread. Create a thread first.\")\n",
    "        return self.client.beta.threads.update(\n",
    "            thread_id=self.current_thread.id,\n",
    "            updates=[\n",
    "                {\n",
    "                    \"role\": \"user\",\n",
    "                    \"content\": message_content\n",
    "                }\n",
    "            ]\n",
    "        )\n"
   ]
  },
  {
   "cell_type": "code",
   "execution_count": null,
   "metadata": {},
   "outputs": [],
   "source": [
    "#| hide\n",
    "import nbdev; nbdev.nbdev_export()"
   ]
  },
  {
   "cell_type": "code",
   "execution_count": null,
   "metadata": {},
   "outputs": [],
   "source": []
  },
  {
   "cell_type": "code",
   "execution_count": null,
   "metadata": {},
   "outputs": [],
   "source": []
  },
  {
   "cell_type": "code",
   "execution_count": null,
   "metadata": {},
   "outputs": [],
   "source": []
  }
 ],
 "metadata": {
  "kernelspec": {
   "display_name": "python3",
   "language": "python",
   "name": "python3"
  }
 },
 "nbformat": 4,
 "nbformat_minor": 2
}
