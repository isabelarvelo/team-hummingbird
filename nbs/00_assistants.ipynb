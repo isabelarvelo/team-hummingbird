{
 "cells": [
  {
   "cell_type": "markdown",
   "metadata": {},
   "source": [
    "# Openai Assistants\n",
    "> Functionality for making calls to OpenAI Assistants"
   ]
  },
  {
   "cell_type": "code",
   "execution_count": null,
   "metadata": {},
   "outputs": [],
   "source": [
    "#| default_exp assistant\n",
    "import time"
   ]
  },
  {
   "cell_type": "code",
   "execution_count": null,
   "metadata": {},
   "outputs": [],
   "source": [
    "#| hide\n",
    "from nbdev.showdoc import *"
   ]
  },
  {
   "cell_type": "code",
   "execution_count": null,
   "metadata": {},
   "outputs": [],
   "source": [
    "import os\n",
    "import getpass"
   ]
  },
  {
   "cell_type": "code",
   "execution_count": null,
   "metadata": {},
   "outputs": [],
   "source": [
    "#| export\n",
    "class OpenAIAssistantManager:\n",
    "    def __init__(self, client):\n",
    "        self.client = client\n",
    "        self.current_assistant = None\n",
    "        self.current_thread = None\n",
    "\n",
    "    def add_file(self, file_path, purpose='assistants'):\n",
    "        with open(file_path, \"rb\") as file_data:\n",
    "            return self.client.files.create(file=file_data, purpose=purpose)\n",
    "\n",
    "    def create_assistant(self, name, description, instructions, model, tools, file_id=None):\n",
    "        assistant_kwargs = {\n",
    "            \"name\": name,\n",
    "            \"description\": description,\n",
    "            \"instructions\": instructions,\n",
    "            \"model\": model,\n",
    "            \"tools\": tools\n",
    "        }\n",
    "\n",
    "        if file_id:\n",
    "        # Ensure file_id is a list of strings\n",
    "            assistant_kwargs[\"file_ids\"] = [file_id] if isinstance(file_id, str) else file_id\n",
    "\n",
    "        self.current_assistant = self.client.beta.assistants.create(**assistant_kwargs)\n",
    "        print(self.current_assistant.id)\n",
    "        return self.current_assistant\n",
    "\n",
    "    \n",
    "    # add retreive assistant function\n",
    "\n",
    "    def retrieve_assistant(self, assistant_id):\n",
    "        self.current_assistant = self.client.beta.assistants.retrieve(assistant_id)\n",
    "        return self.current_assistant\n",
    "\n",
    "    def create_thread(self, user_message, file_id=None):\n",
    "        message = {\n",
    "            \"role\": \"user\",\n",
    "            \"content\": user_message\n",
    "        }\n",
    "\n",
    "        if file_id:\n",
    "            message[\"file_ids\"] = [file_id]\n",
    "\n",
    "        self.current_thread = self.client.beta.threads.create(messages=[message])\n",
    "        return self.current_thread\n",
    "    \n",
    "    def delete_thread(self, user_message, file_id=None):\n",
    "        self.client.beta.threads.delete(thread_id=self.current_thread.id)\n",
    "        return self.current_thread\n",
    "\n",
    "    \n",
    "    def send_message(self, message_content):\n",
    "        if self.current_thread is None:\n",
    "            raise Exception(\"No active thread. Create a thread first.\")\n",
    "        return self.client.beta.threads.messages.create(\n",
    "            thread_id=self.current_thread.id,\n",
    "            role = \"user\",\n",
    "            content = message_content\n",
    "        )\n",
    "    \n",
    "    def list_messages(self):\n",
    "        if self.current_thread is None:\n",
    "            raise Exception(\"No active thread. Create a thread first.\")\n",
    "        thread_messages = self.client.beta.threads.messages.list(thread_id=self.current_thread.id)\n",
    "        return thread_messages\n",
    "\n",
    "    def retrieve_message(self, message_content):\n",
    "        if self.current_thread is None:\n",
    "            raise Exception(\"No active thread. Create a thread first.\")\n",
    "        return self.client.beta.threads.messages.retrieve('message_id', thread_id=self.current_thread.id)\n",
    "\n",
    "\n",
    "    \n",
    "    def run_assistant(self, model=None, instructions=None, tools=None):\n",
    "        from time import sleep\n",
    "\n",
    "        if self.current_thread is None or self.current_assistant is None:\n",
    "            raise Exception(\"Assistant and Thread must be initialized before running.\")\n",
    "\n",
    "        run_parameters = {\n",
    "            \"thread_id\": self.current_thread.id,\n",
    "            \"assistant_id\": self.current_assistant.id\n",
    "        }\n",
    "\n",
    "        # Adding optional parameters if they are provided\n",
    "        if model is not None:\n",
    "            run_parameters[\"model\"] = model\n",
    "        if instructions is not None:\n",
    "            run_parameters[\"instructions\"] = instructions\n",
    "        if tools is not None:\n",
    "            run_parameters[\"tools\"] = tools\n",
    "\n",
    "        run = self.client.beta.threads.runs.create(**run_parameters)\n",
    "\n",
    "        run = self.client.beta.threads.runs.retrieve(thread_id=self.current_thread.id, run_id=run.id)\n",
    "\n",
    "        print(self.client.beta.threads.messages.list(thread_id=self.current_thread.id))\n",
    "        \n",
    "        print(run)\n",
    "        counter = 0\n",
    "        while run.status != \"completed\":\n",
    "            run = self.client.beta.threads.runs.retrieve(thread_id=self.current_thread.id, run_id=run.id)\n",
    "            if counter % 10 == 0:\n",
    "                print(f\"\\t\\t{run}\")\n",
    "            counter += 1\n",
    "            sleep(5)\n",
    "\n",
    "        return self.client.beta.threads.messages.list(thread_id=self.current_thread.id)\n"
   ]
  },
  {
   "cell_type": "code",
   "execution_count": null,
   "metadata": {},
   "outputs": [],
   "source": [
    "#| hide\n",
    "import nbdev; nbdev.nbdev_export()"
   ]
  },
  {
   "cell_type": "code",
   "execution_count": null,
   "metadata": {},
   "outputs": [],
   "source": []
  },
  {
   "cell_type": "code",
   "execution_count": null,
   "metadata": {},
   "outputs": [],
   "source": []
  },
  {
   "cell_type": "code",
   "execution_count": null,
   "metadata": {},
   "outputs": [],
   "source": []
  }
 ],
 "metadata": {
  "kernelspec": {
   "display_name": "python3",
   "language": "python",
   "name": "python3"
  }
 },
 "nbformat": 4,
 "nbformat_minor": 2
}
