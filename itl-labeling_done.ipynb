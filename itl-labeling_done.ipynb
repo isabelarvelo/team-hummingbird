{
 "cells": [
  {
   "cell_type": "markdown",
   "metadata": {},
   "source": [
    "# Enhanced Interactive Labeling and Model Training Using AI Assistance"
   ]
  },
  {
   "cell_type": "markdown",
   "metadata": {},
   "source": [
    "This notebook introduces an advanced approach to interactive data labeling, leveraging AI assistance to augment the manual labeling process. The core functionality of this notebook is the continuous refinement of the model through incorporating real-time user feedback. As users engage in labeling their dataset, the model learns from their inputs, enhancing its ability to make more accurate predictions over time. Key functionalities developed in this notebook, using a CSV file and integrated AI APIs, include:\n",
    "\n",
    "1. Targeted Data Retrieval: Implement a feature to extract a specific number of consecutive lines from a transcript, along with their corresponding labels. This selective retrieval allows for focused and efficient data processing.\n",
    " \n",
    "2. Mislabeled Data Correction and Accuracy Assessment: Introduce a mechanism to identify and correct mislabeled instances in the dataset. This component not only corrects errors but also calculates the accuracy of the model's predictions, providing valuable insights into its performance.\n",
    "\n",
    "3. Incremental Model Training: Develop a system that utilizes the corrected labels as additional training data. This process enables the model to learn from its mistakes and apply this new knowledge to future predictions, progressively and iteratively improving its accuracy.\n",
    "\n",
    "4. Dynamic Batch Sizing: Adaptively determines the size of data batches for processing. This method conditions the batch sizes on the accuracy of the model's recent predictions, optimizing the balance between efficiency and the need for user intervention.\n",
    "\n",
    "\n",
    "This notebook serves as a comprehensive guide to building a sophisticated, AI-assisted labeling workflow that not only aids in the manual labeling process but also evolves the model's capabilities through continuous learning and adaptation. In running this notebook, please read the text between each code block carefully as the notebook is sequential in nature and contains several interactive components that require the code to be executed in the correct order. "
   ]
  },
  {
   "cell_type": "code",
   "execution_count": null,
   "metadata": {
    "is_executing": true
   },
   "outputs": [],
   "source": [
    "# Importing necessary libraries \n",
    "import os\n",
    "import getpass\n",
    "import pandas as pd\n",
    "from openai import OpenAI\n",
    "from IPython.display import display, clear_output\n",
    "import time\n",
    "import matplotlib.pyplot as plt\n",
    "from ai_assisted_coding_final import assistant # Importing all functions from assistant.py\n",
    "from ai_assisted_coding_final.interactive_labeling import * # Importing all functions from interactive_labeling.py"
   ]
  },
  {
   "cell_type": "markdown",
   "metadata": {},
   "source": [
    "**API KEY**\n",
    "\n",
    "The next block of code will ask you to input your API Key. If you do not have one, please go to [make an account](https://platform.openai.com/docs/quickstart?context=python) and then set up an API key [here](https://platform.openai.com/api-keys). This functionality does cost money so you will need to pay for usage before proceeding."
   ]
  },
  {
   "cell_type": "code",
   "execution_count": 2,
   "metadata": {
    "ExecuteTime": {
     "end_time": "2023-12-09T08:01:17.531044Z",
     "start_time": "2023-12-09T08:01:11.499648Z"
    }
   },
   "outputs": [],
   "source": [
    "os.environ[\"OPENAI_API_KEY\"] = getpass.getpass(\"OpenAI API Key:\")"
   ]
  },
  {
   "cell_type": "code",
   "execution_count": 3,
   "metadata": {
    "ExecuteTime": {
     "end_time": "2023-12-09T08:01:18.902895Z",
     "start_time": "2023-12-09T08:01:18.895650Z"
    }
   },
   "outputs": [],
   "source": [
    "from openai import OpenAI\n",
    "client = OpenAI()"
   ]
  },
  {
   "cell_type": "markdown",
   "metadata": {},
   "source": [
    "## Instantiating Assistant\n",
    "\n",
    "The code block below will create a Custom Teacher Utterances Classifier Assistant that will leverage Generative AI to aid you in labeling. You have to options:\n",
    "\n",
    "1. Running the first code block will run your assistant using the GPT-4 Turbo with vision model, which costs costs $0.01/1k prompt tokens\n",
    "2. Running the second, will run your assistant using GPT-3.5 Turbo, which costs 0.003/1K input \n",
    "\n",
    "If you receive an error indicating that 'gpt-4-1106-preview' is not available, please use option 2. \n",
    "\n",
    "The assistant only needs to be **instantiated once**. After creating the initial assistant, the assistant ID will be printed. Please save this and run the code below to retrieve your assistant once you restart the kernel or come back to this notebook. This will allow you to use the same assistant, rather than initializing new one every time you to access the functionality in this notebook."
   ]
  },
  {
   "cell_type": "code",
   "execution_count": 4,
   "metadata": {},
   "outputs": [],
   "source": [
    "# Creating an instance of the assistant manager\n",
    "assistant_manager = assistant.OpenAIAssistantManager(client)"
   ]
  },
  {
   "cell_type": "markdown",
   "source": [
    "The function below processes the input text, sending them to the assistant to generate label predictions for each sentence, returning the original text and the predicted label line by line.\n"
   ],
   "metadata": {
    "collapsed": false
   }
  },
  {
   "cell_type": "code",
   "execution_count": 14,
   "metadata": {},
   "outputs": [],
   "source": [
    "def process_lines_str(lines, assistant_manager, context = \"\"):\n",
    "    data = []\n",
    "    additional_context = \"Return a list of labels for each utterance. Each utterance is separated by \\n\"\n",
    "    context += additional_context\n",
    "    assistant_manager.create_thread(context)\n",
    "\n",
    "    all_lines = \"\\n \".join(lines)\n",
    "\n",
    "    completed_run = assistant_manager.submit_message(all_lines)\n",
    "\n",
    "    response_page = assistant_manager.get_response()\n",
    "    print(response_page)\n",
    "\n",
    "    messages = [msg for msg in response_page] \n",
    "    print(\"messages\", messages)\n",
    "\n",
    "    assistant_message = messages[-1].content[0].text.value\n",
    "    print(\"assistant_message\", assistant_message)\n",
    "\n",
    "    labels = assistant_message.replace('\\n', ' ').replace(',', ' ').split()\n",
    "\n",
    "    # append tuple (line, label) to data using zip\n",
    "    data = list(zip(lines, labels))\n",
    "    print(\"data\", data)\n",
    "    \n",
    "    return(data) "
   ]
  },
  {
   "cell_type": "code",
   "execution_count": 18,
   "metadata": {},
   "outputs": [
    {
     "data": {
      "text/plain": [
       "{'client': <openai.OpenAI at 0xffffb8311870>,\n",
       " 'current_assistant': Assistant(id='asst_pG2tVNaCGT0DcZARLqCPca0b', created_at=1702409312, description='A tool for classifying teacher utterances into the categories OTR (opportunity to respond), PRS (praise), REP (reprimand), or NEU (neutral).', file_ids=[], instructions=\"You are the co-founder of an ed-tech startup training an automated teacher feedback tool to classify utterances made. I am going to provide several sentences. \\n                                            Please classify each sentence as one of the following: OTR (opportunity to respond), PRS (praise), REP (reprimand), or NEU (neutral)\\n        \\n                                            user: Can someone give me an example of a pronoun?\\n                                            assistant: OTR\\n                                            user: That's right, 'he' is a pronoun because it can take the place of a noun.\\n                                            assistant: PRS\\n                                            user: You need to keep quiet while someone else is reading.\\n                                            assistant: REP\\n                                            user: A pronoun is a word that can take the place of a noun.\\n                                            assistant: NEU\\n\\n                                            Only answer with the following labels: OTR, PRS, REP, NEU\", metadata={}, model='gpt-4-1106-preview', name='Custom Teacher Utterances Classifier', object='assistant', tools=[ToolCodeInterpreter(type='code_interpreter')]),\n",
       " 'current_thread': Thread(id='thread_kv7gn2PWsSDqHTkGORgAxoXz', created_at=1702410170, metadata={}, object='thread')}"
      ]
     },
     "execution_count": 18,
     "metadata": {},
     "output_type": "execute_result"
    }
   ],
   "source": [
    "assistant_manager.__dict__"
   ]
  },
  {
   "cell_type": "markdown",
   "source": [
    "Below is an example of how to use the function above to process a list of sentences and return the predicted labels for each sentence. We pass 5 sentences to the function and the assistant returns 5 label predictions. "
   ],
   "metadata": {
    "collapsed": false
   }
  },
  {
   "cell_type": "code",
   "execution_count": 15,
   "metadata": {},
   "outputs": [
    {
     "name": "stdout",
     "output_type": "stream",
     "text": [
      "SyncCursorPage[ThreadMessage](data=[ThreadMessage(id='msg_DUbGmmN6p23Q9G2BF8cq0uJl', assistant_id=None, content=[MessageContentText(text=Text(annotations=[], value=\"Here are more examples of how to classify utterances:\\n                            user: 'Good morning class, today we are going to learn about plants and photosynthesis.'\\n                            assistant: 'NEU'\\n                            I am going to provide several more sentences. Only answer with the following three-letter labels: OTR, PRS, REP, NEUReturn a list of labels for each utterance. Each utterance is separated by \\n\"), type='text')], created_at=1702410170, file_ids=[], metadata={}, object='thread.message', role='user', run_id=None, thread_id='thread_kv7gn2PWsSDqHTkGORgAxoXz'), ThreadMessage(id='msg_pjeihKsUWKwAQ7JNcr8Kd4CJ', assistant_id=None, content=[MessageContentText(text=Text(annotations=[], value=\"Plants are very important because they produce oxygen, which we breathe.\\n Let's start with the parts of a plant. Can anyone name a part of a plant?\\n Great, the root is indeed a part of the plant!\\n The main parts of a plant are the root, stem, leaves, and flowers.\\n Now, let's talk about photosynthesis.\"), type='text')], created_at=1702410170, file_ids=[], metadata={}, object='thread.message', role='user', run_id=None, thread_id='thread_kv7gn2PWsSDqHTkGORgAxoXz'), ThreadMessage(id='msg_HpLP3lRyQT2sKRsrwXp2bRPL', assistant_id='asst_pG2tVNaCGT0DcZARLqCPca0b', content=[MessageContentText(text=Text(annotations=[], value='NEU\\nOTR\\nPRS\\nNEU\\nNEU'), type='text')], created_at=1702410172, file_ids=[], metadata={}, object='thread.message', role='assistant', run_id='run_PAGD67owiXB5e5Z2kXB1krix', thread_id='thread_kv7gn2PWsSDqHTkGORgAxoXz')], object='list', first_id='msg_DUbGmmN6p23Q9G2BF8cq0uJl', last_id='msg_HpLP3lRyQT2sKRsrwXp2bRPL', has_more=False)\n",
      "messages [ThreadMessage(id='msg_DUbGmmN6p23Q9G2BF8cq0uJl', assistant_id=None, content=[MessageContentText(text=Text(annotations=[], value=\"Here are more examples of how to classify utterances:\\n                            user: 'Good morning class, today we are going to learn about plants and photosynthesis.'\\n                            assistant: 'NEU'\\n                            I am going to provide several more sentences. Only answer with the following three-letter labels: OTR, PRS, REP, NEUReturn a list of labels for each utterance. Each utterance is separated by \\n\"), type='text')], created_at=1702410170, file_ids=[], metadata={}, object='thread.message', role='user', run_id=None, thread_id='thread_kv7gn2PWsSDqHTkGORgAxoXz'), ThreadMessage(id='msg_pjeihKsUWKwAQ7JNcr8Kd4CJ', assistant_id=None, content=[MessageContentText(text=Text(annotations=[], value=\"Plants are very important because they produce oxygen, which we breathe.\\n Let's start with the parts of a plant. Can anyone name a part of a plant?\\n Great, the root is indeed a part of the plant!\\n The main parts of a plant are the root, stem, leaves, and flowers.\\n Now, let's talk about photosynthesis.\"), type='text')], created_at=1702410170, file_ids=[], metadata={}, object='thread.message', role='user', run_id=None, thread_id='thread_kv7gn2PWsSDqHTkGORgAxoXz'), ThreadMessage(id='msg_HpLP3lRyQT2sKRsrwXp2bRPL', assistant_id='asst_pG2tVNaCGT0DcZARLqCPca0b', content=[MessageContentText(text=Text(annotations=[], value='NEU\\nOTR\\nPRS\\nNEU\\nNEU'), type='text')], created_at=1702410172, file_ids=[], metadata={}, object='thread.message', role='assistant', run_id='run_PAGD67owiXB5e5Z2kXB1krix', thread_id='thread_kv7gn2PWsSDqHTkGORgAxoXz')]\n",
      "assistant_message NEU\n",
      "OTR\n",
      "PRS\n",
      "NEU\n",
      "NEU\n",
      "data [('Plants are very important because they produce oxygen, which we breathe.', 'NEU'), (\"Let's start with the parts of a plant. Can anyone name a part of a plant?\", 'OTR'), ('Great, the root is indeed a part of the plant!', 'PRS'), ('The main parts of a plant are the root, stem, leaves, and flowers.', 'NEU'), (\"Now, let's talk about photosynthesis.\", 'NEU')]\n"
     ]
    },
    {
     "data": {
      "text/plain": [
       "[('Plants are very important because they produce oxygen, which we breathe.',\n",
       "  'NEU'),\n",
       " (\"Let's start with the parts of a plant. Can anyone name a part of a plant?\",\n",
       "  'OTR'),\n",
       " ('Great, the root is indeed a part of the plant!', 'PRS'),\n",
       " ('The main parts of a plant are the root, stem, leaves, and flowers.', 'NEU'),\n",
       " (\"Now, let's talk about photosynthesis.\", 'NEU')]"
      ]
     },
     "execution_count": 15,
     "metadata": {},
     "output_type": "execute_result"
    }
   ],
   "source": [
    "predictions = process_lines_str(['Plants are very important because they produce oxygen, which we breathe.', \"Let's start with the parts of a plant. Can anyone name a part of a plant?\", 'Great, the root is indeed a part of the plant!', 'The main parts of a plant are the root, stem, leaves, and flowers.', \"Now, let's talk about photosynthesis.\"], \n",
    "              assistant_manager, \n",
    "              context = \"\"\"Here are more examples of how to classify utterances:\n",
    "                            user: 'Good morning class, today we are going to learn about plants and photosynthesis.'\n",
    "                            assistant: 'NEU'\n",
    "                            I am going to provide several more sentences. Only answer with the following three-letter labels: OTR, PRS, REP, NEU\"\"\")\n",
    "predictions"
   ]
  },
  {
   "cell_type": "markdown",
   "source": [
    "The code below takes in a list of sentences and sends them to the assistant to generate a predicted label for each line based on the given context, returning the sentences paired with the assistants labeled output."
   ],
   "metadata": {
    "collapsed": false
   }
  },
  {
   "cell_type": "code",
   "execution_count": 10,
   "metadata": {},
   "outputs": [],
   "source": [
    "def process_lines(lines, assistant_manager, context = \"\"):\n",
    "    data = []\n",
    "    additional_context = \"Return a list of labels for each utterance separated by \\n\"\n",
    "    context += additional_context\n",
    "    assistant_manager.create_thread(context)\n",
    "\n",
    "    all_lines = \"\\n \".join(lines)\n",
    "\n",
    "    completed_run = assistant_manager.submit_message(all_lines)\n",
    "\n",
    "    response_page = assistant_manager.get_response()\n",
    "\n",
    "    messages = [msg for msg in response_page] \n",
    "\n",
    "    assistant_message = messages[-1].content[0].text.value\n",
    "\n",
    "    labels = assistant_message.replace('\\n', ' ').replace(',', ' ').split()\n",
    "\n",
    "    # append tupe (line, label) to data using zip\n",
    "    data = list(zip(lines, labels))\n",
    "    \n",
    "    return(data) "
   ]
  },
  {
   "cell_type": "markdown",
   "source": [
    "Below is an example of process_lines functionality, showing how process_lines takes in a list of sentences alongside the updated labeling context and sends it to the assistant to generate predicted labels. This demonstrates how the assistant is used to automatically apply labels for a series of sentence samples based on the labeling context."
   ],
   "metadata": {
    "collapsed": false
   }
  },
  {
   "cell_type": "code",
   "execution_count": 11,
   "metadata": {},
   "outputs": [
    {
     "data": {
      "text/plain": [
       "[('Great choice! Those words are indeed synonyms.', 'PRS'),\n",
       " ('Next, we are going to learn about antonyms.', 'NEU'),\n",
       " ('Antonyms are words that have opposite meanings.', 'NEU'),\n",
       " (\"For example, the words 'big' and 'small' are antonyms.\", 'NEU'),\n",
       " ('Can someone give me another pair of antonyms?', 'OTR')]"
      ]
     },
     "execution_count": 11,
     "metadata": {},
     "output_type": "execute_result"
    }
   ],
   "source": [
    "predictions = process_lines(['Great choice! Those words are indeed synonyms.', 'Next, we are going to learn about antonyms.', 'Antonyms are words that have opposite meanings.', \"For example, the words 'big' and 'small' are antonyms.\", 'Can someone give me another pair of antonyms?'], \n",
    "              assistant_manager, \n",
    "              context = \"\"\"Here are more examples of how to classify utterances:\n",
    "                            user: 'Good morning class, today we are going to learn about synonyms, antonyms, and homophones.'\n",
    "                            assistant: 'NEU'\n",
    "                            user: 'Let's start with synonyms. Synonyms are words that have similar meanings.'\n",
    "                            assistant: 'NEU'\n",
    "                            user: 'For example, the words 'happy' and 'joyful' are synonyms.'\n",
    "                            assistant: 'NEU'\n",
    "                            user: 'Can anyone give me another pair of synonyms?'\n",
    "                            assistant: 'OTR'\n",
    "                            I am going to provide several more sentences. Only answer with the following three-letter labels: OTR, PRS, REP, NEU\"\"\")\n",
    "predictions"
   ]
  },
  {
   "cell_type": "markdown",
   "source": [
    "Print the predictions generated from process_lines here. "
   ],
   "metadata": {
    "collapsed": false
   }
  },
  {
   "cell_type": "code",
   "execution_count": 12,
   "metadata": {},
   "outputs": [
    {
     "name": "stdout",
     "output_type": "stream",
     "text": [
      "Prediction 1: PRS\n",
      "Text: Great choice! Those words are indeed synonyms.\n",
      "\n",
      "Prediction 2: NEU\n",
      "Text: Next, we are going to learn about antonyms.\n",
      "\n",
      "Prediction 3: NEU\n",
      "Text: Antonyms are words that have opposite meanings.\n",
      "\n",
      "Prediction 4: NEU\n",
      "Text: For example, the words 'big' and 'small' are antonyms.\n",
      "\n",
      "Prediction 5: OTR\n",
      "Text: Can someone give me another pair of antonyms?\n"
     ]
    }
   ],
   "source": [
    "for index, (text, prediction) in enumerate(predictions):\n",
    "    print(f\"Prediction {index + 1}: {prediction}\")\n",
    "    print(f\"Text: {text}\")\n",
    "    print()\n"
   ]
  },
  {
   "cell_type": "markdown",
   "metadata": {},
   "source": [
    "**Create an assistant** depending on your preferred model (GPT-4 Turbo or GPT-3.5 Turbo). Please uncomment the line of code that corresponds to the model you want to use.\n",
    "\n",
    "Exact models: \n",
    "**GPT-4**: pt-4-1106-preview assistant\n",
    "**GPT-3.5**: gpt-3.5-turbo assistant"
   ]
  },
  {
   "cell_type": "code",
   "execution_count": null,
   "metadata": {
    "is_executing": true
   },
   "outputs": [],
   "source": [
    "# creates assistant using GPT-4\n",
    "#assistant_manager.create_assistant()\n",
    "\n",
    "# creates assistant using GPT-3.5\n",
    "#assistant_manager.create_custom_assistant()"
   ]
  },
  {
   "cell_type": "markdown",
   "metadata": {},
   "source": [
    "**Retrieve previously created assistant**\n",
    "\n",
    "If you have already created an assistant and would like to retrieve it, please run the code below and input the assistant ID that was printed when you created the assistant."
   ]
  },
  {
   "cell_type": "code",
   "execution_count": 6,
   "metadata": {},
   "outputs": [
    {
     "name": "stdout",
     "output_type": "stream",
     "text": [
      "asst_hKIvXCjccLnlUMhZEncw4PPX\n"
     ]
    }
   ],
   "source": [
    "assistant_manager.retrieve_assistant(\"asst_hKIvXCjccLnlUMhZEncw4PPX\")"
   ]
  },
  {
   "cell_type": "markdown",
   "metadata": {},
   "source": [
    "## User Inputs "
   ]
  },
  {
   "cell_type": "code",
   "execution_count": null,
   "metadata": {
    "is_executing": true
   },
   "outputs": [],
   "source": [
    "FILE_PATH = \"data/231-3.csv\"  # This is the path to the file you want to label\n",
    "NUM_MANUAL_LABELS = 5 # This is the number of lines you want to label manually before starting the active learning loop\n",
    "INITIAL_BATCH_SIZE = 5 # This is the number of examples you want to start with\n",
    "MAX_LABELS = 500 # This is the maximum number of labels you want to create, only use if you only want to label a subset of the data"
   ]
  },
  {
   "cell_type": "markdown",
   "metadata": {},
   "source": [
    "## Initializing Data Structures"
   ]
  },
  {
   "cell_type": "code",
   "execution_count": 17,
   "metadata": {},
   "outputs": [],
   "source": [
    "# Read data\n",
    "lines = read_csv(FILE_PATH)\n",
    "end_line = min(MAX_LABELS, len(lines)-1)\n",
    "initial_data = lines[:NUM_MANUAL_LABELS]  # Adjust as needed\n",
    "unlabeled_data = lines[NUM_MANUAL_LABELS:]"
   ]
  },
  {
   "cell_type": "code",
   "execution_count": 18,
   "metadata": {},
   "outputs": [],
   "source": [
    "all_labeled_data = []\n",
    "context = \"\"\n",
    "accuracy_scores = []\n",
    "batch_sizes = []\n",
    "batch_size = INITIAL_BATCH_SIZE"
   ]
  },
  {
   "cell_type": "markdown",
   "metadata": {},
   "source": [
    "## Initial Labeling\n",
    "\n",
    "The block below will print out 5 labels. You will be asked to input the correct label for each line. The input box will only accept one of the four possible three letter labels: \n",
    "* OTR: An opportunity to respond (e.g., 'What color is this candy?')\n",
    "* PRS: Praise (e.g., \"Great job, Morgan!\")\n",
    "* REP: Reprimand (e.g., \"You need to keep quiet while someone else is reading.\")\n",
    "* NEU: None of the above"
   ]
  },
  {
   "cell_type": "code",
   "execution_count": 19,
   "metadata": {},
   "outputs": [
    {
     "name": "stdout",
     "output_type": "stream",
     "text": [
      "Line to label: Good morning class, today we are going to learn about ancient civilizations.\n",
      "Line to label: Can anyone tell me what a civilization is?\n",
      "Line to label: Yes, that's right. A civilization is a complex society with its own government, religion, and economy.\n",
      "Line to label: Now, let's talk about the first civilization we know of, the Sumerians.\n",
      "Line to label: They lived in a region called Mesopotamia. Can anyone find Mesopotamia on the map?\n"
     ]
    }
   ],
   "source": [
    "# Display all lines first\n",
    "for data in initial_data:\n",
    "    print(f\"Line to label: {data}\")"
   ]
  },
  {
   "cell_type": "markdown",
   "source": [
    "The labels you just assigned will now be used as context to improve the model classification accuracy on the next batch of data. Specifically, these labels will be sent to our Custom Teacher Utterances Classifier Assistant as context."
   ],
   "metadata": {
    "collapsed": false
   }
  },
  {
   "cell_type": "code",
   "execution_count": 20,
   "metadata": {},
   "outputs": [],
   "source": [
    "# Then collect labels for each line\n",
    "context = \"Here are more examples of how to classify utterances:\"\n",
    "all_labeled_data = []\n",
    "\n",
    "for data in initial_data:\n",
    "    label = label_data(data)\n",
    "    context += f\"\\nuser: '{data}'\\nassistant: '{label}'\"\n",
    "    all_labeled_data.append((data, label))\n",
    "context += \"\\nI am going to provide several more sentences. Only answer with one of the following three letter labels: OTR, PRS, REP, NEU\"\n"
   ]
  },
  {
   "cell_type": "markdown",
   "metadata": {},
   "source": [
    "## In the Loop Labeling"
   ]
  },
  {
   "cell_type": "markdown",
   "metadata": {},
   "source": [
    "We will begin the active learning loop by processing the first batch of data. The code block below will process the first batch of data, get predictions, allow user input for verification or correction, and calculate batch accuracy. This loop will continue to run until it has processed all the data in the csv file. If you are only interested in labeling a subset of the data please change the 'MAX_LABELS' input at the top of the notebook."
   ]
  },
  {
   "cell_type": "code",
   "execution_count": 24,
   "metadata": {},
   "outputs": [
    {
     "name": "stdout",
     "output_type": "stream",
     "text": [
      "Predicted for 'Good job, Sarah! Mesopotamia is between the Tigris and Euphrates rivers.': PRS\n",
      "Predicted for 'The Sumerians invented many things we still use today. Can anyone give me an example?': OTR\n",
      "Predicted for 'Excellent, they did invent the wheel!': PRS\n",
      "Predicted for 'They also invented writing. They wrote on clay tablets using a script called cuneiform.': NEU\n",
      "Predicted for 'Jack, please stop talking while I am teaching.': REP\n",
      "Progress: 5/68\n",
      "Predicted for 'Let's move on to the ancient Egyptians.': NEU\n",
      "Predicted for 'They built incredible structures called pyramids. Does anyone know why they built these?': OTR\n",
      "Predicted for 'That's correct, they built them as tombs for their pharaohs.': PRS\n",
      "Predicted for 'Can anyone tell me about a famous pharaoh?': OTR\n",
      "Predicted for 'Yes, King Tutankhamun is a very famous pharaoh.': NEU\n",
      "Predicted for 'The ancient Egyptians also invented paper using a plant called papyrus.': NEU\n",
      "Predicted for 'Now, let's talk about the ancient Greeks.': NEU\n",
      "Predicted for 'They are known for their philosophy, art, and mythology. Can anyone name a famous Greek philosopher?': OTR\n",
      "Predicted for 'Yes, Socrates is a very famous Greek philosopher.': PRS\n",
      "Predicted for 'The ancient Greeks also invented the Olympics. The first Olympic games were held in 776 BCE.': NEU\n",
      "Progress: 15/68\n",
      "Predicted for 'Jack, I need you to focus on the lesson.': REP\n",
      "Predicted for 'Let's move on to the ancient Romans.': NEU\n",
      "Predicted for 'The Romans built a large empire and they were known for their engineering skills.': NEU\n",
      "Predicted for 'They built roads, bridges, and huge buildings called colosseums.': NEU\n",
      "Predicted for 'Does anyone know what the colosseums were used for?': OTR\n",
      "Progress: 20/68\n",
      "Predicted for 'Yes, they were used for various events including gladiator fights.': NEU\n",
      "Predicted for 'The Romans also developed a system of law that has influenced the legal systems of many countries.': NEU\n",
      "Predicted for 'Now, let's talk about the ancient Chinese civilization.': NEU\n",
      "Predicted for 'They invented gunpowder, paper money, and the compass.': NEU\n",
      "Predicted for 'Can anyone tell me about a famous Chinese philosopher?': OTR\n",
      "Predicted for 'Yes, Confucius is a very famous Chinese philosopher.': PRS\n",
      "Predicted for 'The ancient Chinese also built the Great Wall of China to protect themselves from invasions.': NEU\n",
      "Predicted for 'Jack, this is your last warning. Please stop disrupting the class.': REP\n",
      "Predicted for 'Now, let's move on to the ancient Indian civilization.': NEU\n",
      "Predicted for 'They developed a number system that is the precursor to the one we use today.': NEU\n",
      "Progress: 30/68\n",
      "Predicted for 'They also practiced yoga and meditation.': NEU\n",
      "Predicted for 'Does anyone know what religion originated in ancient India?': OTR\n",
      "Predicted for 'Yes, Hinduism originated in ancient India.': NEU\n",
      "Predicted for 'Buddhism also originated in ancient India and it was founded by Siddhartha Gautama.': NEU\n",
      "Predicted for 'Let's move on to the Maya civilization.': NEU\n",
      "Predicted for 'The Maya were known for their advanced knowledge in astronomy and mathematics.': NEU\n",
      "Predicted for 'They developed a calendar that is more accurate than the one we use today.': NEU\n",
      "Predicted for 'Does anyone know where the Maya civilization was located?': OTR\n",
      "Predicted for 'Yes, it was located in what is now Mexico and Central America.': NEU\n",
      "Predicted for 'The Maya also built large cities with tall pyramids.': NEU\n",
      "Progress: 40/68\n",
      "Predicted for 'Jack, I am going to have to ask you to leave the class if you continue this behavior.': REP\n",
      "Predicted for 'Now, let's move on to the Inca civilization.': NEU\n",
      "Predicted for 'The Inca were known for their architecture and road systems.': NEU\n",
      "Predicted for 'They built a large empire in what is now Peru.': NEU\n",
      "Predicted for 'Does anyone know what the Inca built high in the mountains?': OTR\n",
      "Predicted for 'Yes, they built the city of Machu Picchu high in the Andes mountains.': NEU\n",
      "Predicted for 'The Inca also developed a system of record-keeping using knots tied in strings called quipu.': NEU\n",
      "Predicted for 'Now, we have covered a lot today. Let's take a few minutes to review.': NEU\n",
      "Predicted for 'Can anyone tell me one thing the Sumerians invented?': OTR\n",
      "Predicted for 'Yes, they invented writing.': PRS\n",
      "Progress: 50/68\n",
      "Predicted for 'What about the ancient Egyptians? What is one thing they are known for?': OTR\n",
      "Predicted for 'Yes, they are known for building pyramids.': NEU\n",
      "Predicted for 'What is one thing the ancient Greeks are known for?': OTR\n",
      "Predicted for 'Yes, they are known for their philosophy.': NEU\n",
      "Predicted for 'What is one thing the ancient Romans are known for?': OTR\n",
      "Predicted for 'Yes, they are known for their engineering skills.': NEU\n",
      "Predicted for 'What is one thing the ancient Chinese are known for?': OTR\n",
      "Predicted for 'Yes, they are known for inventing paper money.': NEU\n",
      "Predicted for 'What is one thing the ancient Indians are known for?': OTR\n",
      "Predicted for 'Yes, they are known for developing a number system.': NEU\n",
      "Progress: 60/68\n",
      "Predicted for 'What is one thing the Maya are known for?': OTR\n",
      "Predicted for 'Yes, they are known for their advanced knowledge in astronomy.': NEU\n",
      "Predicted for 'What is one thing the Inca are known for?': OTR\n",
      "Predicted for 'Yes, they are known for their architecture.': NEU\n",
      "Predicted for 'Great job everyone! You all did very well today.': PRS\n",
      "Predicted for 'Please remember to read the chapter on ancient civilizations for homework.': NEU\n",
      "Predicted for 'And don't forget to answer the questions at the end of the chapter.': NEU\n",
      "Predicted for 'Jack, I need to speak with you after class.': REP\n",
      "Progress: 68/68\n"
     ]
    }
   ],
   "source": [
    "i = 0\n",
    "while i < len(unlabeled_data):\n",
    "    batch, actual_batch_size = process_batch(unlabeled_data, i, batch_size, batch_sizes)\n",
    "    labeled_data, correct_responses = get_user_labels(batch, assistant_manager, context)\n",
    "    all_labeled_data.extend(labeled_data)\n",
    "\n",
    "    accuracy = correct_responses / actual_batch_size  # Use actual_batch_size here\n",
    "    accuracy_scores.append(accuracy)\n",
    "\n",
    "    batch_size = increase_batch_size(batch_size, accuracy)\n",
    "    i += actual_batch_size\n",
    "    print(\"Progress: {}/{}\".format(i, len(unlabeled_data)))"
   ]
  },
  {
   "cell_type": "markdown",
   "metadata": {},
   "source": [
    "## Accuracy and Batch Size Summary\n",
    "\n",
    "This section will let us evaluate the accuracy of the model over each batch as well as the size of the batch during each run. Run the code below to see the values for each batch, as well as a visualization of these values over time."
   ]
  },
  {
   "cell_type": "code",
   "execution_count": null,
   "outputs": [],
   "source": [
    "display(accuracy_scores)\n",
    "display(batch_sizes)"
   ],
   "metadata": {
    "collapsed": false,
    "is_executing": true
   }
  },
  {
   "cell_type": "code",
   "execution_count": null,
   "metadata": {
    "is_executing": true
   },
   "outputs": [],
   "source": [
    "# Plot 1: Accuracy Scores Across Batches\n",
    "plt.plot(accuracy_scores, 'o-')\n",
    "plt.ylabel('Accuracy')\n",
    "plt.xlabel('Batch')\n",
    "plt.xticks(range(len(accuracy_scores)))\n",
    "plt.title('Prediction Accuracy Per Batch')\n",
    "plt.show()\n",
    "\n",
    "# Plot 2: Batch Size Across Batches (over time)\n",
    "plt.plot(batch_sizes)\n",
    "plt.ylabel('Batch Size')\n",
    "plt.xlabel('Batch Number')\n",
    "plt.xticks(range(len(batch_sizes)))\n",
    "plt.title('Batch Size Across Batches')\n",
    "plt.show()"
   ]
  },
  {
   "cell_type": "code",
   "execution_count": 29,
   "metadata": {},
   "outputs": [
    {
     "data": {
      "text/plain": [
       "[5, 10, 5, 10, 10, 10, 10, 8]"
      ]
     },
     "execution_count": 29,
     "metadata": {},
     "output_type": "execute_result"
    }
   ],
   "source": [
    "batch_sizes"
   ]
  },
  {
   "cell_type": "code",
   "execution_count": 30,
   "metadata": {},
   "outputs": [
    {
     "data": {
      "image/png": "[encoded data removed]",
      "text/plain": [
       "<Figure size 640x480 with 1 Axes>"
      ]
     },
     "metadata": {},
     "output_type": "display_data"
    }
   ],
   "source": [
    "# Plot Batch Size against Batch Number\n",
    "plt.plot(batch_sizes)\n",
    "plt.ylabel('Batch Size')\n",
    "plt.xlabel('Batch Number')\n",
    "plt.xticks(range(len(batch_sizes)))\n",
    "plt.title('Batch Size over time')\n",
    "plt.show()"
   ]
  },
  {
   "cell_type": "markdown",
   "metadata": {},
   "source": [
    "## Label Summary Statistics\n",
    "\n",
    "\n",
    "Run the code below to see the distribution of labels in the final dataset."
   ]
  },
  {
   "cell_type": "code",
   "execution_count": 31,
   "metadata": {},
   "outputs": [
    {
     "data": {
      "text/plain": [
       "Label\n",
       "NEU    44\n",
       "OTR    19\n",
       "PRS     5\n",
       "REP     5\n",
       "Name: count, dtype: int64"
      ]
     },
     "execution_count": 31,
     "metadata": {},
     "output_type": "execute_result"
    }
   ],
   "source": [
    "labeled_df = pd.DataFrame(all_labeled_data, columns=[\"Text\", \"Label\"])\n",
    "labeled_df[\"Label\"].value_counts()"
   ]
  },
  {
   "cell_type": "markdown",
   "metadata": {},
   "source": [
    "## Save labeled data as csv file\n",
    "\n",
    "Run the code below to save the labeled data as a csv file. If you would like to label another CSV file, please return to the top of the notebook and specify the new file path containing the new CSV. You may also change the number of manual labels you would like to start with, the initial batch size, and the maximum number of labels to create for further customization."
   ]
  },
  {
   "cell_type": "code",
   "execution_count": 32,
   "metadata": {},
   "outputs": [],
   "source": [
    "labeled_df.to_csv(\"test_labeled_data.csv\", index=False)"
   ]
  },
  {
   "cell_type": "markdown",
   "metadata": {},
   "source": [
    "<br>\n",
    "<br>\n",
    "<br>\n",
    "<br>\n",
    "<br>\n",
    "<br>\n",
    "<br>\n",
    "<br>\n",
    "<br>\n",
    "<br>\n",
    "<br>\n",
    "<br>\n",
    "<br>\n",
    "<br>\n",
    "<br>\n",
    "<br>\n",
    "<br>\n",
    "<br>\n",
    "<br>\n",
    "<br>\n",
    "<br>\n",
    "<br>\n",
    "<br>\n",
    "<br>\n",
    "<br>\n",
    "<br>\n",
    "<br>\n",
    "<br>\n",
    "<br>\n",
    "<br>"
   ]
  },
  {
   "cell_type": "markdown",
   "metadata": {},
   "source": [
    "## Appendix: Step by Step Workflow To Understand How it Works "
   ]
  },
  {
   "cell_type": "code",
   "execution_count": 14,
   "metadata": {
    "ExecuteTime": {
     "end_time": "2023-12-09T08:01:27.041289Z",
     "start_time": "2023-12-09T08:01:27.031582Z"
    }
   },
   "outputs": [],
   "source": [
    "# Read data\n",
    "lines = read_csv('data/009-1.csv')"
   ]
  },
  {
   "cell_type": "code",
   "execution_count": 17,
   "metadata": {},
   "outputs": [
    {
     "data": {
      "text/plain": [
       "Thread(id='thread_EP2OnI2OjhOgK0hNkRSzlBmv', created_at=1702257975, metadata={}, object='thread')"
      ]
     },
     "execution_count": 17,
     "metadata": {},
     "output_type": "execute_result"
    }
   ],
   "source": [
    "# Create a thread to 'host' the conversation\n",
    "assistant_manager.create_thread(\"\")"
   ]
  },
  {
   "cell_type": "code",
   "execution_count": 18,
   "metadata": {},
   "outputs": [
    {
     "data": {
      "text/plain": [
       "Run(id='run_J9mn5gwg3Gu5Fqk4AtlR0JvZ', assistant_id='asst_5PmNo4HYGKLTVlTUgzbte0IK', cancelled_at=None, completed_at=1702257978, created_at=1702257977, expires_at=None, failed_at=None, file_ids=[], instructions='You are the co-founder of an ed-tech startup training an automated teacher feedback tool to classify utterances made. I am going to provide several sentences. \\n                                            Please classify each sentence as one of the following: OTR (opportunity to respond), PRS (praise), REP (reprimand), or NEU (neutral)\\n        \\n                                            user: Can someone give me an example of a pronoun?\\n                                            assistant: OTR\\n                                            user: That\\'s right, \\'he\\' is a pronoun because it can take the place of a noun.\\n                                            assistant: PRS\\n                                            user: \"You need to keep quiet while someone else is reading.\"\\n                                            assistant: REP\\n                                            user: A pronoun is a word that can take the place of a noun.\\n                                            assistant: NEU\\n\\n                                            Only answer with the following labels: OTR, PRS, REP, NEU', last_error=None, metadata={}, model='gpt-4-1106-preview', object='thread.run', required_action=None, started_at=1702257978, status='completed', thread_id='thread_EP2OnI2OjhOgK0hNkRSzlBmv', tools=[])"
      ]
     },
     "execution_count": 18,
     "metadata": {},
     "output_type": "execute_result"
    }
   ],
   "source": [
    "assistant_manager.submit_message(lines[0]) # Submit the first message to the assistant\n",
    "response_page = assistant_manager.get_response() # Get the response from the assistant\n",
    "messages = [msg for msg in response_page] # Get the messages from the response page\n",
    "assistant_message = messages[-1].content[0].text.value # Get the assistant's message\n",
    "label = assistant_message.split()[-1] # Get the label from the assistant's message"
   ]
  },
  {
   "cell_type": "code",
   "execution_count": 22,
   "metadata": {},
   "outputs": [
    {
     "data": {
      "text/plain": [
       "[ThreadMessage(id='msg_UOBcifBcBqUNC09AnRkmZwFX', assistant_id=None, content=[MessageContentText(text=Text(annotations=[], value=''), type='text')], created_at=1702257975, file_ids=[], metadata={}, object='thread.message', role='user', run_id=None, thread_id='thread_EP2OnI2OjhOgK0hNkRSzlBmv'),\n",
       " ThreadMessage(id='msg_juR6FX501z4WJsMpoYKICF6Q', assistant_id=None, content=[MessageContentText(text=Text(annotations=[], value='Good morning class, today we are going to learn about nouns.'), type='text')], created_at=1702257977, file_ids=[], metadata={}, object='thread.message', role='user', run_id=None, thread_id='thread_EP2OnI2OjhOgK0hNkRSzlBmv'),\n",
       " ThreadMessage(id='msg_zm20h3opeV17gdNH5RZ79Piv', assistant_id='asst_5PmNo4HYGKLTVlTUgzbte0IK', content=[MessageContentText(text=Text(annotations=[], value='NEU'), type='text')], created_at=1702257978, file_ids=[], metadata={}, object='thread.message', role='assistant', run_id='run_J9mn5gwg3Gu5Fqk4AtlR0JvZ', thread_id='thread_EP2OnI2OjhOgK0hNkRSzlBmv')]"
      ]
     },
     "execution_count": 22,
     "metadata": {},
     "output_type": "execute_result"
    }
   ],
   "source": [
    "# this is the first message that the assistant sends\n",
    "messages "
   ]
  },
  {
   "cell_type": "code",
   "execution_count": 23,
   "metadata": {},
   "outputs": [
    {
     "data": {
      "text/plain": [
       "'NEU'"
      ]
     },
     "execution_count": 23,
     "metadata": {},
     "output_type": "execute_result"
    }
   ],
   "source": [
    "# this is text of the first message that the assistant sends\n",
    "messages[-1].content[0].text.value"
   ]
  },
  {
   "cell_type": "code",
   "execution_count": null,
   "metadata": {},
   "outputs": [],
   "source": [
    "# this is how we get the label from the assistant's message\n",
    "label = assistant_message.split()[-1]"
   ]
  },
  {
   "cell_type": "code",
   "execution_count": 29,
   "metadata": {},
   "outputs": [
    {
     "data": {
      "text/plain": [
       "[('Good morning class, today we are going to learn about nouns.', 'NEU'),\n",
       " ('A noun is a word that represents a person, place, thing, or idea.', 'NEU'),\n",
       " ('Can anyone give me an example of a noun?', 'NEU'),\n",
       " (\"That's right, 'dog' is a noun because it is a thing.\", 'NEU'),\n",
       " (\"Let's write down some nouns in our notebooks.\", 'NEU')]"
      ]
     },
     "execution_count": 29,
     "metadata": {},
     "output_type": "execute_result"
    }
   ],
   "source": [
    "# this is the core function called within get_user_labels inside the loop\n",
    "process_lines(lines[0:5], assistant_manager)"
   ]
  },
  {
   "cell_type": "code",
   "execution_count": 14,
   "metadata": {},
   "outputs": [],
   "source": [
    "# This is an example of using the correvtly labeled data to train a model and create a new thread with this expanded context to classify the next batch \n",
    "thread, completed_run = assistant_manager.create_thread_and_run(\"\"\" \n",
    "Great. Here are some more examples of how to classify utterances::\n",
    "\n",
    "user: Good morning class, today we are going to learn about nouns.\n",
    "assistant: NEU\n",
    "user: A noun is a word that represents a person, place, thing, or idea.\n",
    "assistant: NEU\n",
    "user: \"Can anyone give me an example of a noun?\"\n",
    "assistant: OTR\n",
    "user: That's right, 'dog' is a noun because it is a thing.\n",
    "assistant: PRS\n",
    "\n",
    "I am going to provide several more sentences. Only answer with the following three latter labels labels: OTR, PRS, REP, NEU\n",
    "\"\"\" )\n"
   ]
  },
  {
   "cell_type": "code",
   "execution_count": 15,
   "metadata": {},
   "outputs": [],
   "source": [
    "# Wait for the response and get it\n",
    "response_page_2 = assistant_manager.get_response()\n",
    "\n",
    "# Collect all messages from the response page\n",
    "messages2 = [msg for msg in response_page_2]"
   ]
  },
  {
   "cell_type": "code",
   "execution_count": 16,
   "metadata": {},
   "outputs": [],
   "source": [
    "assistant_message_2 = messages2[-1].content[0].text.value"
   ]
  },
  {
   "cell_type": "code",
   "execution_count": 17,
   "metadata": {},
   "outputs": [
    {
     "data": {
      "text/plain": [
       "'Understood, go ahead and provide the sentences.'"
      ]
     },
     "execution_count": 17,
     "metadata": {},
     "output_type": "execute_result"
    }
   ],
   "source": [
    "assistant_message_2"
   ]
  },
  {
   "cell_type": "code",
   "execution_count": 18,
   "metadata": {},
   "outputs": [],
   "source": [
    "messages_3 = process_lines(lines[5:10], assistant_manager)"
   ]
  },
  {
   "cell_type": "code",
   "execution_count": 19,
   "metadata": {},
   "outputs": [
    {
     "data": {
      "text/plain": [
       "[(\"Now, let's talk about verbs. Does anyone know what a verb is?\", 'OTR'),\n",
       " ('A verb is a word that describes an action, occurrence, or state of being.',\n",
       "  'NEU'),\n",
       " ('Can someone give me an example of a verb?', 'OTR'),\n",
       " (\"Great example, 'run' is a verb because it is an action.\", 'PRS'),\n",
       " (\"Now, let's write down some verbs in our notebooks.\", 'OTR')]"
      ]
     },
     "execution_count": 19,
     "metadata": {},
     "output_type": "execute_result"
    }
   ],
   "source": [
    "messages_3"
   ]
  },
  {
   "cell_type": "code",
   "execution_count": 20,
   "metadata": {},
   "outputs": [],
   "source": [
    "df3 = pd.DataFrame(messages_3, columns=[\"Text\", \"Label\"])"
   ]
  },
  {
   "cell_type": "code",
   "execution_count": 21,
   "metadata": {},
   "outputs": [
    {
     "data": {
      "text/html": [
       "<div>\n",
       "<style scoped>\n",
       "    .dataframe tbody tr th:only-of-type {\n",
       "        vertical-align: middle;\n",
       "    }\n",
       "\n",
       "    .dataframe tbody tr th {\n",
       "        vertical-align: top;\n",
       "    }\n",
       "\n",
       "    .dataframe thead th {\n",
       "        text-align: right;\n",
       "    }\n",
       "</style>\n",
       "<table border=\"1\" class=\"dataframe\">\n",
       "  <thead>\n",
       "    <tr style=\"text-align: right;\">\n",
       "      <th></th>\n",
       "      <th>Text</th>\n",
       "      <th>Label</th>\n",
       "    </tr>\n",
       "  </thead>\n",
       "  <tbody>\n",
       "    <tr>\n",
       "      <th>0</th>\n",
       "      <td>Now, let's talk about verbs. Does anyone know ...</td>\n",
       "      <td>OTR</td>\n",
       "    </tr>\n",
       "    <tr>\n",
       "      <th>1</th>\n",
       "      <td>A verb is a word that describes an action, occ...</td>\n",
       "      <td>NEU</td>\n",
       "    </tr>\n",
       "    <tr>\n",
       "      <th>2</th>\n",
       "      <td>Can someone give me an example of a verb?</td>\n",
       "      <td>OTR</td>\n",
       "    </tr>\n",
       "    <tr>\n",
       "      <th>3</th>\n",
       "      <td>Great example, 'run' is a verb because it is a...</td>\n",
       "      <td>PRS</td>\n",
       "    </tr>\n",
       "    <tr>\n",
       "      <th>4</th>\n",
       "      <td>Now, let's write down some verbs in our notebo...</td>\n",
       "      <td>OTR</td>\n",
       "    </tr>\n",
       "  </tbody>\n",
       "</table>\n",
       "</div>"
      ],
      "text/plain": [
       "                                                Text Label\n",
       "0  Now, let's talk about verbs. Does anyone know ...   OTR\n",
       "1  A verb is a word that describes an action, occ...   NEU\n",
       "2          Can someone give me an example of a verb?   OTR\n",
       "3  Great example, 'run' is a verb because it is a...   PRS\n",
       "4  Now, let's write down some verbs in our notebo...   OTR"
      ]
     },
     "execution_count": 21,
     "metadata": {},
     "output_type": "execute_result"
    }
   ],
   "source": [
    "df3"
   ]
  },
  {
   "cell_type": "code",
   "execution_count": 22,
   "metadata": {},
   "outputs": [],
   "source": [
    "thread, completed_run = assistant_manager.create_thread_and_run(\"\"\" \n",
    "Great. Here are some more examples of how to classify utterances:\n",
    "\n",
    "user: Can someone give me an example of a pronoun?\n",
    "assistant: OTR\n",
    "user: That's right, 'he' is a pronoun because it can take the place of a noun.\n",
    "assistant: PRS\n",
    "user: \"You need to keep quiet while someone else is reading.\"\n",
    "assistant: REP\n",
    "user: A pronoun is a word that can take the place of a noun.\n",
    "assistant: NEU\n",
    "user: I don't appreciate the talking while I am teaching; please show some respect.\n",
    "assistant: REP\n",
    "user: Good answer, cactus plants have adapted to survive in arid environments by storing water in their stems..\n",
    "assistant: PRS\n",
    "user: \"Before we end, does anyone have any questions?\"\n",
    "assistant: OTR\n",
    "user: Next class, we will discuss our observations from the experiment.\n",
    "assistant: NEU\n",
    "\n",
    "I am going to provide several more sentences. Only answer with the following three latter labels labels: OTR, PRS, REP, NEU\n",
    "\"\"\" )"
   ]
  },
  {
   "cell_type": "code",
   "execution_count": 23,
   "metadata": {},
   "outputs": [],
   "source": [
    "response_page_4 = assistant_manager.get_response()\n",
    "\n",
    "# Collect all messages from the response page\n",
    "messages4 = [msg for msg in response_page_4]"
   ]
  },
  {
   "cell_type": "code",
   "execution_count": 24,
   "metadata": {},
   "outputs": [
    {
     "data": {
      "text/plain": [
       "[ThreadMessage(id='msg_jvPaVvNZN4CKkPUgkKbM7sRk', assistant_id=None, content=[MessageContentText(text=Text(annotations=[], value=' \\nGreat. Here are some more examples of how to classify utterances:\\n\\nuser: Can someone give me an example of a pronoun?\\nassistant: OTR\\nuser: That\\'s right, \\'he\\' is a pronoun because it can take the place of a noun.\\nassistant: PRS\\nuser: \"You need to keep quiet while someone else is reading.\"\\nassistant: REP\\nuser: A pronoun is a word that can take the place of a noun.\\nassistant: NEU\\nuser: I don\\'t appreciate the talking while I am teaching; please show some respect.\\nassistant: REP\\nuser: Good answer, cactus plants have adapted to survive in arid environments by storing water in their stems..\\nassistant: PRS\\nuser: \"Before we end, does anyone have any questions?\"\\nassistant: OTR\\nuser: Next class, we will discuss our observations from the experiment.\\nassistant: NEU\\n\\nI am going to provide several more sentences. Only answer with the following three latter labels labels: OTR, PRS, REP, NEU\\n'), type='text')], created_at=1702250899, file_ids=[], metadata={}, object='thread.message', role='user', run_id=None, thread_id='thread_yRY3TWvlGDh3eIiRer5SROIj'),\n",
       " ThreadMessage(id='msg_gQuw7Ia48tQ8Ky9qhEXBxWft', assistant_id='asst_99wvdxQQlX04gbRF1rAkyIvE', content=[MessageContentText(text=Text(annotations=[], value='OTR\\nPRS\\nREP\\nNEU'), type='text')], created_at=1702250901, file_ids=[], metadata={}, object='thread.message', role='assistant', run_id='run_R27KbboAVuumypWfqGTT3pUg', thread_id='thread_yRY3TWvlGDh3eIiRer5SROIj')]"
      ]
     },
     "execution_count": 24,
     "metadata": {},
     "output_type": "execute_result"
    }
   ],
   "source": [
    "messages4"
   ]
  },
  {
   "cell_type": "code",
   "execution_count": 25,
   "metadata": {},
   "outputs": [],
   "source": [
    "messages_5 = process_lines(lines[11:20], assistant_manager)"
   ]
  },
  {
   "cell_type": "code",
   "execution_count": 26,
   "metadata": {},
   "outputs": [
    {
     "data": {
      "text/plain": [
       "[('An adjective is a word that describes a noun.', 'NEU'),\n",
       " ('Can someone give me an example of an adjective?', 'OTR'),\n",
       " (\"Exactly, 'beautiful' is an adjective because it describes a noun.\", 'PRS'),\n",
       " (\"Let's write down some adjectives in our notebooks.\", 'OTR'),\n",
       " ('Now we are going to form sentences using nouns, verbs, and adjectives.',\n",
       "  'OTR'),\n",
       " ('A sentence is a group of words that expresses a complete thought.', 'NEU'),\n",
       " (\"Let's build a sentence together. I'll start with a noun: 'The cat'.\",\n",
       "  'OTR'),\n",
       " ('Can someone add a verb to our sentence?', 'OTR'),\n",
       " (\"Great, now our sentence is: 'The cat runs'.\", 'NEU')]"
      ]
     },
     "execution_count": 26,
     "metadata": {},
     "output_type": "execute_result"
    }
   ],
   "source": [
    "messages_5"
   ]
  },
  {
   "cell_type": "code",
   "execution_count": 27,
   "metadata": {},
   "outputs": [],
   "source": [
    "df5 = pd.DataFrame(messages_5, columns=[\"Text\", \"Label\"])"
   ]
  },
  {
   "cell_type": "code",
   "execution_count": 28,
   "metadata": {},
   "outputs": [
    {
     "data": {
      "text/html": [
       "<div>\n",
       "<style scoped>\n",
       "    .dataframe tbody tr th:only-of-type {\n",
       "        vertical-align: middle;\n",
       "    }\n",
       "\n",
       "    .dataframe tbody tr th {\n",
       "        vertical-align: top;\n",
       "    }\n",
       "\n",
       "    .dataframe thead th {\n",
       "        text-align: right;\n",
       "    }\n",
       "</style>\n",
       "<table border=\"1\" class=\"dataframe\">\n",
       "  <thead>\n",
       "    <tr style=\"text-align: right;\">\n",
       "      <th></th>\n",
       "      <th>Text</th>\n",
       "      <th>Label</th>\n",
       "    </tr>\n",
       "  </thead>\n",
       "  <tbody>\n",
       "    <tr>\n",
       "      <th>0</th>\n",
       "      <td>An adjective is a word that describes a noun.</td>\n",
       "      <td>NEU</td>\n",
       "    </tr>\n",
       "    <tr>\n",
       "      <th>1</th>\n",
       "      <td>Can someone give me an example of an adjective?</td>\n",
       "      <td>OTR</td>\n",
       "    </tr>\n",
       "    <tr>\n",
       "      <th>2</th>\n",
       "      <td>Exactly, 'beautiful' is an adjective because i...</td>\n",
       "      <td>PRS</td>\n",
       "    </tr>\n",
       "    <tr>\n",
       "      <th>3</th>\n",
       "      <td>Let's write down some adjectives in our notebo...</td>\n",
       "      <td>OTR</td>\n",
       "    </tr>\n",
       "    <tr>\n",
       "      <th>4</th>\n",
       "      <td>Now we are going to form sentences using nouns...</td>\n",
       "      <td>OTR</td>\n",
       "    </tr>\n",
       "    <tr>\n",
       "      <th>5</th>\n",
       "      <td>A sentence is a group of words that expresses ...</td>\n",
       "      <td>NEU</td>\n",
       "    </tr>\n",
       "    <tr>\n",
       "      <th>6</th>\n",
       "      <td>Let's build a sentence together. I'll start wi...</td>\n",
       "      <td>OTR</td>\n",
       "    </tr>\n",
       "    <tr>\n",
       "      <th>7</th>\n",
       "      <td>Can someone add a verb to our sentence?</td>\n",
       "      <td>OTR</td>\n",
       "    </tr>\n",
       "    <tr>\n",
       "      <th>8</th>\n",
       "      <td>Great, now our sentence is: 'The cat runs'.</td>\n",
       "      <td>NEU</td>\n",
       "    </tr>\n",
       "  </tbody>\n",
       "</table>\n",
       "</div>"
      ],
      "text/plain": [
       "                                                Text Label\n",
       "0      An adjective is a word that describes a noun.   NEU\n",
       "1    Can someone give me an example of an adjective?   OTR\n",
       "2  Exactly, 'beautiful' is an adjective because i...   PRS\n",
       "3  Let's write down some adjectives in our notebo...   OTR\n",
       "4  Now we are going to form sentences using nouns...   OTR\n",
       "5  A sentence is a group of words that expresses ...   NEU\n",
       "6  Let's build a sentence together. I'll start wi...   OTR\n",
       "7            Can someone add a verb to our sentence?   OTR\n",
       "8        Great, now our sentence is: 'The cat runs'.   NEU"
      ]
     },
     "execution_count": 28,
     "metadata": {},
     "output_type": "execute_result"
    }
   ],
   "source": [
    "df5"
   ]
  }
 ],
 "metadata": {
  "kernelspec": {
   "display_name": "Python 3 (ipykernel)",
   "language": "python",
   "name": "python3"
  },
  "language_info": {
   "codemirror_mode": {
    "name": "ipython",
    "version": 3
   },
   "file_extension": ".py",
   "mimetype": "text/x-python",
   "name": "python",
   "nbconvert_exporter": "python",
   "pygments_lexer": "ipython3",
   "version": "3.10.12"
  }
 },
 "nbformat": 4,
 "nbformat_minor": 4
}
