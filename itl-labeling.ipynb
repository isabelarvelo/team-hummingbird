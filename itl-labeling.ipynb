{
 "cells": [
  {
   "cell_type": "markdown",
   "metadata": {},
   "source": [
    "# In the Loop Labeling"
   ]
  },
  {
   "cell_type": "markdown",
   "metadata": {},
   "source": [
    "In-the-loop AI Assisted Labeling: adds functionality for users to review and correct the initial AI’s labels – the user will review and correct the labels and these corrections will be collected and used as new training data\n",
    "\n",
    "New training data: used to re-train the initial model (to fine-tune the initial AI model, can be a basic retraining loop or a more complex ML)\n",
    "\n",
    "Iterative Improvement: for this part, we just repeat the process above of generating the labels, gathering the corrections as new training data, retraining the model on it, etc. and the model should become more accurate each time)\n",
    "\n",
    "Visualizations: we need to visualize the improvement in accuracy over each iteration, which we can save to a csv file when we collect the new training data – but we also need to tell the user the accuracy each time the model is used so we can generate the accuracy data and print it to user and simultaneously export it to csv file\n",
    "\n",
    "Export functionality: to allow users to export the newly labeled data back to csv"
   ]
  },
  {
   "cell_type": "markdown",
   "metadata": {},
   "source": [
    "# Import Statements"
   ]
  },
  {
   "cell_type": "code",
   "execution_count": 3,
   "metadata": {
    "ExecuteTime": {
     "end_time": "2023-12-09T08:01:11.150748Z",
     "start_time": "2023-12-09T08:01:11.145443Z"
    }
   },
   "outputs": [],
   "source": [
    "# Importing necessary libraries \n",
    "import os\n",
    "import getpass\n",
    "import pandas as pd\n",
    "from openai import OpenAI\n",
    "from IPython.display import display, clear_output"
   ]
  },
  {
   "cell_type": "code",
   "execution_count": 4,
   "metadata": {
    "ExecuteTime": {
     "end_time": "2023-12-09T08:01:17.531044Z",
     "start_time": "2023-12-09T08:01:11.499648Z"
    }
   },
   "outputs": [],
   "source": [
    "os.environ[\"OPENAI_API_KEY\"] = getpass.getpass(\"OpenAI API Key:\")"
   ]
  },
  {
   "cell_type": "code",
   "execution_count": 5,
   "metadata": {
    "ExecuteTime": {
     "end_time": "2023-12-09T08:01:18.333362Z",
     "start_time": "2023-12-09T08:01:18.328557Z"
    }
   },
   "outputs": [],
   "source": [
    "import time"
   ]
  },
  {
   "cell_type": "code",
   "execution_count": 6,
   "metadata": {
    "ExecuteTime": {
     "end_time": "2023-12-09T08:01:18.902895Z",
     "start_time": "2023-12-09T08:01:18.895650Z"
    }
   },
   "outputs": [],
   "source": [
    "from openai import OpenAI\n",
    "client = OpenAI()"
   ]
  },
  {
   "cell_type": "code",
   "execution_count": 7,
   "metadata": {
    "ExecuteTime": {
     "end_time": "2023-12-09T08:01:19.941303Z",
     "start_time": "2023-12-09T08:01:19.936482Z"
    }
   },
   "outputs": [],
   "source": [
    "from ai_assisted_coding_final import assistant"
   ]
  },
  {
   "cell_type": "code",
   "execution_count": 6,
   "metadata": {
    "ExecuteTime": {
     "end_time": "2023-12-09T08:01:22.143551Z",
     "start_time": "2023-12-09T08:01:21.912637Z"
    }
   },
   "outputs": [
    {
     "name": "stdout",
     "output_type": "stream",
     "text": [
      "asst_oxeOeqbSU6YSmkBdEzHuE1dU\n"
     ]
    },
    {
     "data": {
      "text/plain": [
       "Assistant(id='asst_oxeOeqbSU6YSmkBdEzHuE1dU', created_at=1702250636, description='A custom tool for classifying teacher utterances using gpt-3.5-turbo.', file_ids=[], instructions='You are the co-founder of an ed-tech startup training an automated teacher feedback tool to classify utterances made. I am going to provide several sentences. \\n                                            Please classify each sentence as one of the following: OTR (opportunity to respond), PRS (praise), REP (reprimand), or NEU (neutral)\\n                                            Only answer with the following labels: OTR, PRS, REP, NEU', metadata={}, model='gpt-3.5-turbo', name='Custom Teacher Utterances Classifier', object='assistant', tools=[])"
      ]
     },
     "execution_count": 6,
     "metadata": {},
     "output_type": "execute_result"
    }
   ],
   "source": [
    "#assistant_manager = assistant.OpenAIAssistantManager(client)\n",
    "\n",
    "# Create an assistant\n",
    "#assistant_manager.create_assistant()\n",
    "#assistant_manager.create_custom_assistant()"
   ]
  },
  {
   "cell_type": "markdown",
   "metadata": {},
   "source": [
    "# Instantiating Assistant"
   ]
  },
  {
   "cell_type": "code",
   "execution_count": 8,
   "metadata": {},
   "outputs": [
    {
     "name": "stdout",
     "output_type": "stream",
     "text": [
      "asst_7ULVlRDUjEffFHrn0Gr9CLqB\n"
     ]
    },
    {
     "data": {
      "text/plain": [
       "Assistant(id='asst_7ULVlRDUjEffFHrn0Gr9CLqB', created_at=1702261532, description='A tool for classifying teacher utterances into the categories OTR (opportunity to respond), PRS (praise), REP (reprimand), or NEU (neutral).', file_ids=[], instructions='You are the co-founder of an ed-tech startup training an automated teacher feedback tool to classify utterances made. I am going to provide several sentences. \\n                                            Please classify each sentence as one of the following: OTR (opportunity to respond), PRS (praise), REP (reprimand), or NEU (neutral)\\n        \\n                                            user: Can someone give me an example of a pronoun?\\n                                            assistant: OTR\\n                                            user: That\\'s right, \\'he\\' is a pronoun because it can take the place of a noun.\\n                                            assistant: PRS\\n                                            user: \"You need to keep quiet while someone else is reading.\"\\n                                            assistant: REP\\n                                            user: A pronoun is a word that can take the place of a noun.\\n                                            assistant: NEU\\n\\n                                            Only answer with the following labels: OTR, PRS, REP, NEU', metadata={}, model='gpt-4-1106-preview', name='Custom Teacher Utterances Classifier', object='assistant', tools=[ToolCodeInterpreter(type='code_interpreter')])"
      ]
     },
     "execution_count": 8,
     "metadata": {},
     "output_type": "execute_result"
    }
   ],
   "source": [
    "assistant_manager = assistant.OpenAIAssistantManager(client)\n",
    "assistant_manager.create_assistant()"
   ]
  },
  {
   "cell_type": "markdown",
   "metadata": {},
   "source": [
    "# Defining Functions"
   ]
  },
  {
   "cell_type": "code",
   "execution_count": 9,
   "metadata": {
    "ExecuteTime": {
     "end_time": "2023-12-09T08:01:24.702330Z",
     "start_time": "2023-12-09T08:01:24.697039Z"
    }
   },
   "outputs": [],
   "source": [
    "def read_csv(file_path):\n",
    "    df = pd.read_csv(file_path)\n",
    "    return df['Text'].tolist()\n"
   ]
  },
  {
   "cell_type": "code",
   "execution_count": 10,
   "metadata": {
    "ExecuteTime": {
     "end_time": "2023-12-09T08:01:25.679421Z",
     "start_time": "2023-12-09T08:01:25.669768Z"
    }
   },
   "outputs": [],
   "source": [
    "# def process_lines(lines, assistant_manager):\n",
    "#     data = []\n",
    "#     for line in lines:\n",
    "#         thread, completed_run = assistant_manager.create_thread_and_run(line)\n",
    "        \n",
    "#         # Wait for the response and get it\n",
    "#         response_page = assistant_manager.get_response()\n",
    "\n",
    "#         # Collect all messages from the response page\n",
    "#         messages = [msg for msg in response_page]  # Iterating over the response page to collect messages\n",
    "\n",
    "#         # Extract the user message and the assistant's label\n",
    "#         if messages:\n",
    "#             user_message = line\n",
    "#             # Assuming the last message is from the assistant and contains the label\n",
    "#             assistant_message = messages[-1].content[0].text.value\n",
    "#             label = assistant_message.split()[-1]  # Extract label\n",
    "#             data.append((user_message, label))\n",
    "\n",
    "#     return data\n"
   ]
  },
  {
   "cell_type": "code",
   "execution_count": 99,
   "metadata": {},
   "outputs": [],
   "source": [
    "# def process_lines(lines, assistant_manager, context = \"\"):\n",
    "#     data = []\n",
    "#     assistant_manager.create_thread(context)\n",
    "#     for line in lines:\n",
    "#         completed_run = assistant_manager.submit_message(line)\n",
    "#         response_page = assistant_manager.get_response()\n",
    "#         messages = [msg for msg in response_page] \n",
    "#         assistant_message = messages[-1].content[0].text.value\n",
    "#         label = assistant_message.split()[-1]\n",
    "\n",
    "#         data.append((line, label))\n",
    "\n",
    "#     return data"
   ]
  },
  {
   "cell_type": "code",
   "execution_count": 136,
   "metadata": {},
   "outputs": [],
   "source": [
    "# This one is WAY FASTER ! \n",
    "def process_lines(lines, assistant_manager, context = \"\"):\n",
    "    data = []\n",
    "    additional_context = \"Return a list of labels for each utterance separated by \\n\"\n",
    "    context += additional_context\n",
    "    assistant_manager.create_thread(context)\n",
    "\n",
    "    all_lines = \"\\n \".join(lines)\n",
    "\n",
    "    completed_run = assistant_manager.submit_message(all_lines)\n",
    "\n",
    "    response_page = assistant_manager.get_response()\n",
    "\n",
    "    messages = [msg for msg in response_page] \n",
    "\n",
    "    assistant_message = messages[-1].content[0].text.value\n",
    "\n",
    "    labels = assistant_message.split(\"\\n\")\n",
    "    # append tupe (line, label) to data using zip\n",
    "    data = list(zip(lines, labels))\n",
    "    \n",
    "    return(data) \n"
   ]
  },
  {
   "cell_type": "code",
   "execution_count": 137,
   "metadata": {},
   "outputs": [],
   "source": [
    "# def process_lines_in_batches(lines, assistant_manager, batch_size=10):\n",
    "#     batched_data = []\n",
    "#     for i in range(0, len(lines), batch_size):\n",
    "#         batch = lines[i:i + batch_size]\n",
    "#         batched_data.extend(process_lines(batch, assistant_manager))\n",
    "#     return batched_data"
   ]
  },
  {
   "cell_type": "code",
   "execution_count": 138,
   "metadata": {},
   "outputs": [],
   "source": [
    "def label_data(unlabeled_text):\n",
    "    \"\"\"\n",
    "    Prompts the user to label the given input.\n",
    "\n",
    "    Args:\n",
    "    unlabeled_text (str): The text data that needs labeling.\n",
    "\n",
    "    Returns:\n",
    "    str: The label provided by the user.\n",
    "    \"\"\"\n",
    "    #print(f\"Label the following line: {unlabeled_text}\")\n",
    "    label = input(\"Enter the correct label: \")\n",
    "    while label not in [\"NEU\", \"OTR\", \"PRS\", \"REP\"]:\n",
    "        print(\"Invalid label. Please enter a valid label.\")\n",
    "        label = input(\"Enter the correct label: \")\n",
    "\n",
    "    return label"
   ]
  },
  {
   "cell_type": "code",
   "execution_count": 16,
   "metadata": {},
   "outputs": [],
   "source": [
    "def create_df_from_list(text_list):\n",
    "    return pd.DataFrame(text_list, columns=[\"Text\"])"
   ]
  },
  {
   "cell_type": "code",
   "execution_count": 140,
   "metadata": {},
   "outputs": [],
   "source": [
    "def increase_batch_size(batch_size, accuracy):\n",
    "    if accuracy <= 0.90:\n",
    "        batch_size = 5\n",
    "    elif accuracy > 0.90:\n",
    "        batch_size = 10\n",
    "    return batch_size"
   ]
  },
  {
   "cell_type": "markdown",
   "metadata": {},
   "source": [
    "# Testing Functions"
   ]
  },
  {
   "cell_type": "code",
   "execution_count": 147,
   "metadata": {},
   "outputs": [],
   "source": [
    "# Read data\n",
    "lines = read_csv('data/231-3.csv')\n",
    "\n",
    "# Process initial batch for context\n",
    "initial_data = lines[:5]  # Adjust as needed\n",
    "unlabeled_data = lines[5:20]\n",
    "batch_size = 5 "
   ]
  },
  {
   "cell_type": "code",
   "execution_count": 148,
   "metadata": {},
   "outputs": [],
   "source": [
    "all_labeled_data = []\n",
    "context = \"\"\n",
    "accuracy_scores = []\n",
    "batch_sizes = []"
   ]
  },
  {
   "cell_type": "code",
   "execution_count": 149,
   "metadata": {},
   "outputs": [
    {
     "name": "stdout",
     "output_type": "stream",
     "text": [
      "Line to label: Good morning class, today we are going to learn about ancient civilizations.\n",
      "Line to label: Can anyone tell me what a civilization is?\n",
      "Line to label: Yes, that's right. A civilization is a complex society with its own government, religion, and economy.\n",
      "Line to label: Now, let's talk about the first civilization we know of, the Sumerians.\n",
      "Line to label: They lived in a region called Mesopotamia. Can anyone find Mesopotamia on the map?\n"
     ]
    }
   ],
   "source": [
    "# Display all lines first\n",
    "for data in initial_data:\n",
    "    print(f\"Line to label: {data}\")\n"
   ]
  },
  {
   "cell_type": "code",
   "execution_count": 150,
   "metadata": {},
   "outputs": [],
   "source": [
    "#process_lines(initial_data, assistant_manager, context)"
   ]
  },
  {
   "cell_type": "code",
   "execution_count": 151,
   "metadata": {},
   "outputs": [
    {
     "name": "stdout",
     "output_type": "stream",
     "text": [
      "Predicted for 'Good job, Sarah! Mesopotamia is between the Tigris and Euphrates rivers.': PRS\n",
      "Predicted for 'The Sumerians invented many things we still use today. Can anyone give me an example?': OTR\n",
      "Predicted for 'Excellent, they did invent the wheel!': PRS\n",
      "Predicted for 'They also invented writing. They wrote on clay tablets using a script called cuneiform.': NEU\n",
      "Predicted for 'Jack, please stop talking while I am teaching.': REP\n",
      "Predicted for 'The ancient Egyptians also invented paper using a plant called papyrus.': NEU\n",
      "Predicted for 'Now, let's talk about the ancient Greeks.': NEU\n",
      "Predicted for 'They are known for their philosophy, art, and mythology. Can anyone name a famous Greek philosopher?': OTR\n",
      "Predicted for 'Yes, Socrates is a very famous Greek philosopher.': PRS\n",
      "Predicted for 'The ancient Greeks also invented the Olympics. The first Olympic games were held in 776 BCE.': NEU\n",
      "Accuracy: 0.5\n"
     ]
    }
   ],
   "source": [
    "# Then collect labels for each line\n",
    "context = \"Here are more examples of how to classify utterances:\"\n",
    "all_labeled_data = []\n",
    "\n",
    "for data in initial_data:\n",
    "    label = label_data(data)\n",
    "    context += f\"\\nuser: '{data}'\\nassistant: '{label}'\"\n",
    "    all_labeled_data.append((data, label))\n",
    "context += \"\\nI am going to provide several more sentences. Only answer with the following three latter labels labels: OTR, PRS, REP, NEU\"\n",
    "\n",
    "#for i in range(0, len(unlabeled_data), batch_size):\n",
    "i = 0\n",
    "while i < len(unlabeled_data):   \n",
    "    if i >= len(unlabeled_data):\n",
    "        break\n",
    "    end_of_batch = min(i + batch_size, len(unlabeled_data))\n",
    "\n",
    "    batch = unlabeled_data[i:end_of_batch]\n",
    "    batch_sizes.append(batch_size)\n",
    "    predictions = process_lines(batch, assistant_manager, context = context)  # Get predictions\n",
    "    #print(predictions)\n",
    "\n",
    "    correct_responses = 0\n",
    "    for text, prediction in predictions:\n",
    "        print(f\"Predicted for '{text}': {prediction}\")\n",
    "        time.sleep(1) \n",
    "        user_decision = input(f\"Do you agree with this label? (Y/N): \")\n",
    "        if user_decision.lower() != 'y':\n",
    "            correct_label = label_data(text) \n",
    "        else:\n",
    "            correct_label = prediction\n",
    "\n",
    "        if correct_label == prediction:\n",
    "            correct_responses += 1\n",
    "        context += f\"\\nuser: '{text}'\\nassistant: '{correct_label}'\"\n",
    "        all_labeled_data.append((text, correct_label))\n",
    "    \n",
    "    accuracy = correct_responses / batch_size\n",
    "    accuracy_scores.append(accuracy)\n",
    "\n",
    "    # Increase batch size based on accuracy\n",
    "    batch_size = increase_batch_size(batch_size, accuracy)\n",
    "    i += batch_size\n",
    "\n",
    "print(f\"Accuracy: {accuracy}\")"
   ]
  },
  {
   "cell_type": "code",
   "execution_count": 153,
   "metadata": {},
   "outputs": [
    {
     "data": {
      "text/plain": [
       "[1.0, 0.5]"
      ]
     },
     "execution_count": 153,
     "metadata": {},
     "output_type": "execute_result"
    }
   ],
   "source": [
    "accuracy_scores"
   ]
  },
  {
   "cell_type": "code",
   "execution_count": 152,
   "metadata": {},
   "outputs": [
    {
     "data": {
      "image/png": "[encoded data removed]",
      "text/plain": [
       "<Figure size 640x480 with 1 Axes>"
      ]
     },
     "metadata": {},
     "output_type": "display_data"
    }
   ],
   "source": [
    "# plot accuracy scores\n",
    "import matplotlib.pyplot as plt\n",
    "plt.plot(accuracy_scores)\n",
    "plt.ylabel('Accuracy')\n",
    "plt.xlabel('Batch')\n",
    "plt.show()"
   ]
  },
  {
   "cell_type": "code",
   "execution_count": null,
   "metadata": {},
   "outputs": [],
   "source": [
    "df_test = pd.read_csv('data/009-1.csv')"
   ]
  },
  {
   "cell_type": "code",
   "execution_count": null,
   "metadata": {},
   "outputs": [],
   "source": [
    "df_test[0:5]"
   ]
  },
  {
   "cell_type": "code",
   "execution_count": null,
   "metadata": {},
   "outputs": [],
   "source": [
    "get_predictions(df_test[0:5], assistant_manager)"
   ]
  },
  {
   "cell_type": "markdown",
   "metadata": {},
   "source": [
    "# Test Workflow "
   ]
  },
  {
   "cell_type": "code",
   "execution_count": 14,
   "metadata": {
    "ExecuteTime": {
     "end_time": "2023-12-09T08:01:27.041289Z",
     "start_time": "2023-12-09T08:01:27.031582Z"
    }
   },
   "outputs": [],
   "source": [
    "# Assuming you have an instance of OpenAIAssistantManager as assistant_manager\n",
    "lines = read_csv('data/009-1.csv')"
   ]
  },
  {
   "cell_type": "code",
   "execution_count": 17,
   "metadata": {},
   "outputs": [
    {
     "data": {
      "text/plain": [
       "Thread(id='thread_EP2OnI2OjhOgK0hNkRSzlBmv', created_at=1702257975, metadata={}, object='thread')"
      ]
     },
     "execution_count": 17,
     "metadata": {},
     "output_type": "execute_result"
    }
   ],
   "source": [
    "assistant_manager.create_thread(\"\")"
   ]
  },
  {
   "cell_type": "code",
   "execution_count": 18,
   "metadata": {},
   "outputs": [
    {
     "data": {
      "text/plain": [
       "Run(id='run_J9mn5gwg3Gu5Fqk4AtlR0JvZ', assistant_id='asst_5PmNo4HYGKLTVlTUgzbte0IK', cancelled_at=None, completed_at=1702257978, created_at=1702257977, expires_at=None, failed_at=None, file_ids=[], instructions='You are the co-founder of an ed-tech startup training an automated teacher feedback tool to classify utterances made. I am going to provide several sentences. \\n                                            Please classify each sentence as one of the following: OTR (opportunity to respond), PRS (praise), REP (reprimand), or NEU (neutral)\\n        \\n                                            user: Can someone give me an example of a pronoun?\\n                                            assistant: OTR\\n                                            user: That\\'s right, \\'he\\' is a pronoun because it can take the place of a noun.\\n                                            assistant: PRS\\n                                            user: \"You need to keep quiet while someone else is reading.\"\\n                                            assistant: REP\\n                                            user: A pronoun is a word that can take the place of a noun.\\n                                            assistant: NEU\\n\\n                                            Only answer with the following labels: OTR, PRS, REP, NEU', last_error=None, metadata={}, model='gpt-4-1106-preview', object='thread.run', required_action=None, started_at=1702257978, status='completed', thread_id='thread_EP2OnI2OjhOgK0hNkRSzlBmv', tools=[])"
      ]
     },
     "execution_count": 18,
     "metadata": {},
     "output_type": "execute_result"
    }
   ],
   "source": [
    "assistant_manager.submit_message(lines[0])\n",
    "response_page = assistant_manager.get_response()\n",
    "messages = [msg for msg in response_page] \n",
    "assistant_message = messages[-1].content[0].text.value\n",
    "label = assistant_message.split()[-1]"
   ]
  },
  {
   "cell_type": "code",
   "execution_count": 20,
   "metadata": {},
   "outputs": [
    {
     "data": {
      "text/plain": [
       "SyncCursorPage[ThreadMessage](data=[ThreadMessage(id='msg_UOBcifBcBqUNC09AnRkmZwFX', assistant_id=None, content=[MessageContentText(text=Text(annotations=[], value=''), type='text')], created_at=1702257975, file_ids=[], metadata={}, object='thread.message', role='user', run_id=None, thread_id='thread_EP2OnI2OjhOgK0hNkRSzlBmv'), ThreadMessage(id='msg_juR6FX501z4WJsMpoYKICF6Q', assistant_id=None, content=[MessageContentText(text=Text(annotations=[], value='Good morning class, today we are going to learn about nouns.'), type='text')], created_at=1702257977, file_ids=[], metadata={}, object='thread.message', role='user', run_id=None, thread_id='thread_EP2OnI2OjhOgK0hNkRSzlBmv'), ThreadMessage(id='msg_zm20h3opeV17gdNH5RZ79Piv', assistant_id='asst_5PmNo4HYGKLTVlTUgzbte0IK', content=[MessageContentText(text=Text(annotations=[], value='NEU'), type='text')], created_at=1702257978, file_ids=[], metadata={}, object='thread.message', role='assistant', run_id='run_J9mn5gwg3Gu5Fqk4AtlR0JvZ', thread_id='thread_EP2OnI2OjhOgK0hNkRSzlBmv')], object='list', first_id='msg_UOBcifBcBqUNC09AnRkmZwFX', last_id='msg_zm20h3opeV17gdNH5RZ79Piv', has_more=False)"
      ]
     },
     "execution_count": 20,
     "metadata": {},
     "output_type": "execute_result"
    }
   ],
   "source": [
    "response_page"
   ]
  },
  {
   "cell_type": "code",
   "execution_count": 21,
   "metadata": {},
   "outputs": [],
   "source": []
  },
  {
   "cell_type": "code",
   "execution_count": 22,
   "metadata": {},
   "outputs": [
    {
     "data": {
      "text/plain": [
       "[ThreadMessage(id='msg_UOBcifBcBqUNC09AnRkmZwFX', assistant_id=None, content=[MessageContentText(text=Text(annotations=[], value=''), type='text')], created_at=1702257975, file_ids=[], metadata={}, object='thread.message', role='user', run_id=None, thread_id='thread_EP2OnI2OjhOgK0hNkRSzlBmv'),\n",
       " ThreadMessage(id='msg_juR6FX501z4WJsMpoYKICF6Q', assistant_id=None, content=[MessageContentText(text=Text(annotations=[], value='Good morning class, today we are going to learn about nouns.'), type='text')], created_at=1702257977, file_ids=[], metadata={}, object='thread.message', role='user', run_id=None, thread_id='thread_EP2OnI2OjhOgK0hNkRSzlBmv'),\n",
       " ThreadMessage(id='msg_zm20h3opeV17gdNH5RZ79Piv', assistant_id='asst_5PmNo4HYGKLTVlTUgzbte0IK', content=[MessageContentText(text=Text(annotations=[], value='NEU'), type='text')], created_at=1702257978, file_ids=[], metadata={}, object='thread.message', role='assistant', run_id='run_J9mn5gwg3Gu5Fqk4AtlR0JvZ', thread_id='thread_EP2OnI2OjhOgK0hNkRSzlBmv')]"
      ]
     },
     "execution_count": 22,
     "metadata": {},
     "output_type": "execute_result"
    }
   ],
   "source": [
    "messages "
   ]
  },
  {
   "cell_type": "code",
   "execution_count": 23,
   "metadata": {},
   "outputs": [
    {
     "data": {
      "text/plain": [
       "'NEU'"
      ]
     },
     "execution_count": 23,
     "metadata": {},
     "output_type": "execute_result"
    }
   ],
   "source": [
    "messages[-1].content[0].text.value"
   ]
  },
  {
   "cell_type": "code",
   "execution_count": null,
   "metadata": {},
   "outputs": [],
   "source": [
    "user_message = line\n",
    "# Assuming the last message is from the assistant and contains the label\n",
    "assistant_message = messages[-1].content[0].text.value\n",
    "label = assistant_message.split()[-1]"
   ]
  },
  {
   "cell_type": "code",
   "execution_count": 28,
   "metadata": {},
   "outputs": [],
   "source": [
    "def process_lines(lines, assistant_manager, context = \"\"):\n",
    "    data = []\n",
    "    assistant_manager.create_thread(context)\n",
    "    for line in lines:\n",
    "        completed_run = assistant_manager.submit_message(line)\n",
    "        \n",
    "        assistant_manager.submit_message(lines[0])\n",
    "        response_page = assistant_manager.get_response()\n",
    "        messages = [msg for msg in response_page] \n",
    "        assistant_message = messages[-1].content[0].text.value\n",
    "        label = assistant_message.split()[-1]\n",
    "\n",
    "        data.append((line, label))\n",
    "\n",
    "    return data\n"
   ]
  },
  {
   "cell_type": "code",
   "execution_count": 29,
   "metadata": {},
   "outputs": [
    {
     "data": {
      "text/plain": [
       "[('Good morning class, today we are going to learn about nouns.', 'NEU'),\n",
       " ('A noun is a word that represents a person, place, thing, or idea.', 'NEU'),\n",
       " ('Can anyone give me an example of a noun?', 'NEU'),\n",
       " (\"That's right, 'dog' is a noun because it is a thing.\", 'NEU'),\n",
       " (\"Let's write down some nouns in our notebooks.\", 'NEU')]"
      ]
     },
     "execution_count": 29,
     "metadata": {},
     "output_type": "execute_result"
    }
   ],
   "source": [
    "process_lines(lines[0:5], assistant_manager)"
   ]
  },
  {
   "cell_type": "code",
   "execution_count": 10,
   "metadata": {
    "ExecuteTime": {
     "end_time": "2023-12-09T08:01:58.066516Z",
     "start_time": "2023-12-09T08:01:29.730716Z"
    }
   },
   "outputs": [],
   "source": [
    "# need to make this a group and feed in x number of lines at a time increasing the beatch size along with the accuracy\n",
    "messages1 = process_lines(lines[0:5], assistant_manager)\n"
   ]
  },
  {
   "cell_type": "code",
   "execution_count": 11,
   "metadata": {},
   "outputs": [
    {
     "data": {
      "text/plain": [
       "[('Good morning class, today we are going to learn about nouns.', 'NEU'),\n",
       " ('A noun is a word that represents a person, place, thing, or idea.', 'NEU'),\n",
       " ('Can anyone give me an example of a noun?', 'OTR'),\n",
       " (\"That's right, 'dog' is a noun because it is a thing.\", 'PRS'),\n",
       " (\"Let's write down some nouns in our notebooks.\", 'OTR')]"
      ]
     },
     "execution_count": 11,
     "metadata": {},
     "output_type": "execute_result"
    }
   ],
   "source": [
    "messages1"
   ]
  },
  {
   "cell_type": "code",
   "execution_count": 12,
   "metadata": {
    "ExecuteTime": {
     "end_time": "2023-12-09T08:02:04.819313Z",
     "start_time": "2023-12-09T08:02:04.814861Z"
    }
   },
   "outputs": [],
   "source": [
    "df1 = pd.DataFrame(messages1, columns=[\"Text\", \"Label\"])"
   ]
  },
  {
   "cell_type": "code",
   "execution_count": 13,
   "metadata": {
    "ExecuteTime": {
     "end_time": "2023-12-09T08:02:07.910076Z",
     "start_time": "2023-12-09T08:02:07.898862Z"
    }
   },
   "outputs": [
    {
     "data": {
      "text/html": [
       "<div>\n",
       "<style scoped>\n",
       "    .dataframe tbody tr th:only-of-type {\n",
       "        vertical-align: middle;\n",
       "    }\n",
       "\n",
       "    .dataframe tbody tr th {\n",
       "        vertical-align: top;\n",
       "    }\n",
       "\n",
       "    .dataframe thead th {\n",
       "        text-align: right;\n",
       "    }\n",
       "</style>\n",
       "<table border=\"1\" class=\"dataframe\">\n",
       "  <thead>\n",
       "    <tr style=\"text-align: right;\">\n",
       "      <th></th>\n",
       "      <th>Text</th>\n",
       "      <th>Label</th>\n",
       "    </tr>\n",
       "  </thead>\n",
       "  <tbody>\n",
       "    <tr>\n",
       "      <th>0</th>\n",
       "      <td>Good morning class, today we are going to lear...</td>\n",
       "      <td>NEU</td>\n",
       "    </tr>\n",
       "    <tr>\n",
       "      <th>1</th>\n",
       "      <td>A noun is a word that represents a person, pla...</td>\n",
       "      <td>NEU</td>\n",
       "    </tr>\n",
       "    <tr>\n",
       "      <th>2</th>\n",
       "      <td>Can anyone give me an example of a noun?</td>\n",
       "      <td>OTR</td>\n",
       "    </tr>\n",
       "    <tr>\n",
       "      <th>3</th>\n",
       "      <td>That's right, 'dog' is a noun because it is a ...</td>\n",
       "      <td>PRS</td>\n",
       "    </tr>\n",
       "    <tr>\n",
       "      <th>4</th>\n",
       "      <td>Let's write down some nouns in our notebooks.</td>\n",
       "      <td>OTR</td>\n",
       "    </tr>\n",
       "  </tbody>\n",
       "</table>\n",
       "</div>"
      ],
      "text/plain": [
       "                                                Text Label\n",
       "0  Good morning class, today we are going to lear...   NEU\n",
       "1  A noun is a word that represents a person, pla...   NEU\n",
       "2           Can anyone give me an example of a noun?   OTR\n",
       "3  That's right, 'dog' is a noun because it is a ...   PRS\n",
       "4      Let's write down some nouns in our notebooks.   OTR"
      ]
     },
     "execution_count": 13,
     "metadata": {},
     "output_type": "execute_result"
    }
   ],
   "source": [
    "# need to make this interactive and feed in the label and then make it available for download as a csv\n",
    "df1"
   ]
  },
  {
   "cell_type": "code",
   "execution_count": 14,
   "metadata": {},
   "outputs": [],
   "source": [
    "thread, completed_run = assistant_manager.create_thread_and_run(\"\"\" \n",
    "Great. Here are some more examples of how to classify utterances::\n",
    "\n",
    "user: Good morning class, today we are going to learn about nouns.\n",
    "assistant: NEU\n",
    "user: A noun is a word that represents a person, place, thing, or idea.\n",
    "assistant: NEU\n",
    "user: \"Can anyone give me an example of a noun?\"\n",
    "assistant: OTR\n",
    "user: That's right, 'dog' is a noun because it is a thing.\n",
    "assistant: PRS\n",
    "\n",
    "I am going to provide several more sentences. Only answer with the following three latter labels labels: OTR, PRS, REP, NEU\n",
    "\"\"\" )\n"
   ]
  },
  {
   "cell_type": "code",
   "execution_count": 15,
   "metadata": {},
   "outputs": [],
   "source": [
    "# Wait for the response and get it\n",
    "response_page_2 = assistant_manager.get_response()\n",
    "\n",
    "# Collect all messages from the response page\n",
    "messages2 = [msg for msg in response_page_2]"
   ]
  },
  {
   "cell_type": "code",
   "execution_count": 16,
   "metadata": {},
   "outputs": [],
   "source": [
    "assistant_message_2 = messages2[-1].content[0].text.value"
   ]
  },
  {
   "cell_type": "code",
   "execution_count": 17,
   "metadata": {},
   "outputs": [
    {
     "data": {
      "text/plain": [
       "'Understood, go ahead and provide the sentences.'"
      ]
     },
     "execution_count": 17,
     "metadata": {},
     "output_type": "execute_result"
    }
   ],
   "source": [
    "assistant_message_2"
   ]
  },
  {
   "cell_type": "code",
   "execution_count": 18,
   "metadata": {},
   "outputs": [],
   "source": [
    "messages_3 = process_lines(lines[5:10], assistant_manager)"
   ]
  },
  {
   "cell_type": "code",
   "execution_count": 19,
   "metadata": {},
   "outputs": [
    {
     "data": {
      "text/plain": [
       "[(\"Now, let's talk about verbs. Does anyone know what a verb is?\", 'OTR'),\n",
       " ('A verb is a word that describes an action, occurrence, or state of being.',\n",
       "  'NEU'),\n",
       " ('Can someone give me an example of a verb?', 'OTR'),\n",
       " (\"Great example, 'run' is a verb because it is an action.\", 'PRS'),\n",
       " (\"Now, let's write down some verbs in our notebooks.\", 'OTR')]"
      ]
     },
     "execution_count": 19,
     "metadata": {},
     "output_type": "execute_result"
    }
   ],
   "source": [
    "messages_3"
   ]
  },
  {
   "cell_type": "code",
   "execution_count": 20,
   "metadata": {},
   "outputs": [],
   "source": [
    "df3 = pd.DataFrame(messages_3, columns=[\"Text\", \"Label\"])"
   ]
  },
  {
   "cell_type": "code",
   "execution_count": 21,
   "metadata": {},
   "outputs": [
    {
     "data": {
      "text/html": [
       "<div>\n",
       "<style scoped>\n",
       "    .dataframe tbody tr th:only-of-type {\n",
       "        vertical-align: middle;\n",
       "    }\n",
       "\n",
       "    .dataframe tbody tr th {\n",
       "        vertical-align: top;\n",
       "    }\n",
       "\n",
       "    .dataframe thead th {\n",
       "        text-align: right;\n",
       "    }\n",
       "</style>\n",
       "<table border=\"1\" class=\"dataframe\">\n",
       "  <thead>\n",
       "    <tr style=\"text-align: right;\">\n",
       "      <th></th>\n",
       "      <th>Text</th>\n",
       "      <th>Label</th>\n",
       "    </tr>\n",
       "  </thead>\n",
       "  <tbody>\n",
       "    <tr>\n",
       "      <th>0</th>\n",
       "      <td>Now, let's talk about verbs. Does anyone know ...</td>\n",
       "      <td>OTR</td>\n",
       "    </tr>\n",
       "    <tr>\n",
       "      <th>1</th>\n",
       "      <td>A verb is a word that describes an action, occ...</td>\n",
       "      <td>NEU</td>\n",
       "    </tr>\n",
       "    <tr>\n",
       "      <th>2</th>\n",
       "      <td>Can someone give me an example of a verb?</td>\n",
       "      <td>OTR</td>\n",
       "    </tr>\n",
       "    <tr>\n",
       "      <th>3</th>\n",
       "      <td>Great example, 'run' is a verb because it is a...</td>\n",
       "      <td>PRS</td>\n",
       "    </tr>\n",
       "    <tr>\n",
       "      <th>4</th>\n",
       "      <td>Now, let's write down some verbs in our notebo...</td>\n",
       "      <td>OTR</td>\n",
       "    </tr>\n",
       "  </tbody>\n",
       "</table>\n",
       "</div>"
      ],
      "text/plain": [
       "                                                Text Label\n",
       "0  Now, let's talk about verbs. Does anyone know ...   OTR\n",
       "1  A verb is a word that describes an action, occ...   NEU\n",
       "2          Can someone give me an example of a verb?   OTR\n",
       "3  Great example, 'run' is a verb because it is a...   PRS\n",
       "4  Now, let's write down some verbs in our notebo...   OTR"
      ]
     },
     "execution_count": 21,
     "metadata": {},
     "output_type": "execute_result"
    }
   ],
   "source": [
    "df3"
   ]
  },
  {
   "cell_type": "code",
   "execution_count": 22,
   "metadata": {},
   "outputs": [],
   "source": [
    "thread, completed_run = assistant_manager.create_thread_and_run(\"\"\" \n",
    "Great. Here are some more examples of how to classify utterances:\n",
    "\n",
    "user: Can someone give me an example of a pronoun?\n",
    "assistant: OTR\n",
    "user: That's right, 'he' is a pronoun because it can take the place of a noun.\n",
    "assistant: PRS\n",
    "user: \"You need to keep quiet while someone else is reading.\"\n",
    "assistant: REP\n",
    "user: A pronoun is a word that can take the place of a noun.\n",
    "assistant: NEU\n",
    "user: I don't appreciate the talking while I am teaching; please show some respect.\n",
    "assistant: REP\n",
    "user: Good answer, cactus plants have adapted to survive in arid environments by storing water in their stems..\n",
    "assistant: PRS\n",
    "user: \"Before we end, does anyone have any questions?\"\n",
    "assistant: OTR\n",
    "user: Next class, we will discuss our observations from the experiment.\n",
    "assistant: NEU\n",
    "\n",
    "I am going to provide several more sentences. Only answer with the following three latter labels labels: OTR, PRS, REP, NEU\n",
    "\"\"\" )"
   ]
  },
  {
   "cell_type": "code",
   "execution_count": 23,
   "metadata": {},
   "outputs": [],
   "source": [
    "response_page_4 = assistant_manager.get_response()\n",
    "\n",
    "# Collect all messages from the response page\n",
    "messages4 = [msg for msg in response_page_4]"
   ]
  },
  {
   "cell_type": "code",
   "execution_count": 24,
   "metadata": {},
   "outputs": [
    {
     "data": {
      "text/plain": [
       "[ThreadMessage(id='msg_jvPaVvNZN4CKkPUgkKbM7sRk', assistant_id=None, content=[MessageContentText(text=Text(annotations=[], value=' \\nGreat. Here are some more examples of how to classify utterances:\\n\\nuser: Can someone give me an example of a pronoun?\\nassistant: OTR\\nuser: That\\'s right, \\'he\\' is a pronoun because it can take the place of a noun.\\nassistant: PRS\\nuser: \"You need to keep quiet while someone else is reading.\"\\nassistant: REP\\nuser: A pronoun is a word that can take the place of a noun.\\nassistant: NEU\\nuser: I don\\'t appreciate the talking while I am teaching; please show some respect.\\nassistant: REP\\nuser: Good answer, cactus plants have adapted to survive in arid environments by storing water in their stems..\\nassistant: PRS\\nuser: \"Before we end, does anyone have any questions?\"\\nassistant: OTR\\nuser: Next class, we will discuss our observations from the experiment.\\nassistant: NEU\\n\\nI am going to provide several more sentences. Only answer with the following three latter labels labels: OTR, PRS, REP, NEU\\n'), type='text')], created_at=1702250899, file_ids=[], metadata={}, object='thread.message', role='user', run_id=None, thread_id='thread_yRY3TWvlGDh3eIiRer5SROIj'),\n",
       " ThreadMessage(id='msg_gQuw7Ia48tQ8Ky9qhEXBxWft', assistant_id='asst_99wvdxQQlX04gbRF1rAkyIvE', content=[MessageContentText(text=Text(annotations=[], value='OTR\\nPRS\\nREP\\nNEU'), type='text')], created_at=1702250901, file_ids=[], metadata={}, object='thread.message', role='assistant', run_id='run_R27KbboAVuumypWfqGTT3pUg', thread_id='thread_yRY3TWvlGDh3eIiRer5SROIj')]"
      ]
     },
     "execution_count": 24,
     "metadata": {},
     "output_type": "execute_result"
    }
   ],
   "source": [
    "messages4"
   ]
  },
  {
   "cell_type": "code",
   "execution_count": 25,
   "metadata": {},
   "outputs": [],
   "source": [
    "messages_5 = process_lines(lines[11:20], assistant_manager)"
   ]
  },
  {
   "cell_type": "code",
   "execution_count": 26,
   "metadata": {},
   "outputs": [
    {
     "data": {
      "text/plain": [
       "[('An adjective is a word that describes a noun.', 'NEU'),\n",
       " ('Can someone give me an example of an adjective?', 'OTR'),\n",
       " (\"Exactly, 'beautiful' is an adjective because it describes a noun.\", 'PRS'),\n",
       " (\"Let's write down some adjectives in our notebooks.\", 'OTR'),\n",
       " ('Now we are going to form sentences using nouns, verbs, and adjectives.',\n",
       "  'OTR'),\n",
       " ('A sentence is a group of words that expresses a complete thought.', 'NEU'),\n",
       " (\"Let's build a sentence together. I'll start with a noun: 'The cat'.\",\n",
       "  'OTR'),\n",
       " ('Can someone add a verb to our sentence?', 'OTR'),\n",
       " (\"Great, now our sentence is: 'The cat runs'.\", 'NEU')]"
      ]
     },
     "execution_count": 26,
     "metadata": {},
     "output_type": "execute_result"
    }
   ],
   "source": [
    "messages_5"
   ]
  },
  {
   "cell_type": "code",
   "execution_count": 27,
   "metadata": {},
   "outputs": [],
   "source": [
    "df5 = pd.DataFrame(messages_5, columns=[\"Text\", \"Label\"])"
   ]
  },
  {
   "cell_type": "code",
   "execution_count": 28,
   "metadata": {},
   "outputs": [
    {
     "data": {
      "text/html": [
       "<div>\n",
       "<style scoped>\n",
       "    .dataframe tbody tr th:only-of-type {\n",
       "        vertical-align: middle;\n",
       "    }\n",
       "\n",
       "    .dataframe tbody tr th {\n",
       "        vertical-align: top;\n",
       "    }\n",
       "\n",
       "    .dataframe thead th {\n",
       "        text-align: right;\n",
       "    }\n",
       "</style>\n",
       "<table border=\"1\" class=\"dataframe\">\n",
       "  <thead>\n",
       "    <tr style=\"text-align: right;\">\n",
       "      <th></th>\n",
       "      <th>Text</th>\n",
       "      <th>Label</th>\n",
       "    </tr>\n",
       "  </thead>\n",
       "  <tbody>\n",
       "    <tr>\n",
       "      <th>0</th>\n",
       "      <td>An adjective is a word that describes a noun.</td>\n",
       "      <td>NEU</td>\n",
       "    </tr>\n",
       "    <tr>\n",
       "      <th>1</th>\n",
       "      <td>Can someone give me an example of an adjective?</td>\n",
       "      <td>OTR</td>\n",
       "    </tr>\n",
       "    <tr>\n",
       "      <th>2</th>\n",
       "      <td>Exactly, 'beautiful' is an adjective because i...</td>\n",
       "      <td>PRS</td>\n",
       "    </tr>\n",
       "    <tr>\n",
       "      <th>3</th>\n",
       "      <td>Let's write down some adjectives in our notebo...</td>\n",
       "      <td>OTR</td>\n",
       "    </tr>\n",
       "    <tr>\n",
       "      <th>4</th>\n",
       "      <td>Now we are going to form sentences using nouns...</td>\n",
       "      <td>OTR</td>\n",
       "    </tr>\n",
       "    <tr>\n",
       "      <th>5</th>\n",
       "      <td>A sentence is a group of words that expresses ...</td>\n",
       "      <td>NEU</td>\n",
       "    </tr>\n",
       "    <tr>\n",
       "      <th>6</th>\n",
       "      <td>Let's build a sentence together. I'll start wi...</td>\n",
       "      <td>OTR</td>\n",
       "    </tr>\n",
       "    <tr>\n",
       "      <th>7</th>\n",
       "      <td>Can someone add a verb to our sentence?</td>\n",
       "      <td>OTR</td>\n",
       "    </tr>\n",
       "    <tr>\n",
       "      <th>8</th>\n",
       "      <td>Great, now our sentence is: 'The cat runs'.</td>\n",
       "      <td>NEU</td>\n",
       "    </tr>\n",
       "  </tbody>\n",
       "</table>\n",
       "</div>"
      ],
      "text/plain": [
       "                                                Text Label\n",
       "0      An adjective is a word that describes a noun.   NEU\n",
       "1    Can someone give me an example of an adjective?   OTR\n",
       "2  Exactly, 'beautiful' is an adjective because i...   PRS\n",
       "3  Let's write down some adjectives in our notebo...   OTR\n",
       "4  Now we are going to form sentences using nouns...   OTR\n",
       "5  A sentence is a group of words that expresses ...   NEU\n",
       "6  Let's build a sentence together. I'll start wi...   OTR\n",
       "7            Can someone add a verb to our sentence?   OTR\n",
       "8        Great, now our sentence is: 'The cat runs'.   NEU"
      ]
     },
     "execution_count": 28,
     "metadata": {},
     "output_type": "execute_result"
    }
   ],
   "source": [
    "df5"
   ]
  },
  {
   "cell_type": "markdown",
   "metadata": {},
   "source": [
    "# Testing Loop "
   ]
  },
  {
   "cell_type": "code",
   "execution_count": 46,
   "metadata": {},
   "outputs": [
    {
     "name": "stdout",
     "output_type": "stream",
     "text": [
      "Sending prompt: \n",
      "Good morning class, today we are going to learn about nouns.: Good morning class, today we are going to learn about nouns.\n",
      "A noun is a word that represents a person, place, thing, or idea.: A noun is a word that represents a person, place, thing, or idea.\n",
      "Can anyone give me an example of a noun?: Can anyone give me an example of a noun?\n",
      "That's right, 'dog' is a noun because it is a thing.: That's right, 'dog' is a noun because it is a thing.\n",
      "Let's write down some nouns in our notebooks.: Let's write down some nouns in our notebooks.\n",
      "\n",
      "Now, let's talk about verbs. Does anyone know what a verb is?\n",
      "Received messages: [ThreadMessage(id='msg_roCXG5mvZJ0ieezVnu0MC7Gc', assistant_id=None, content=[MessageContentText(text=Text(annotations=[], value=\"\\nGood morning class, today we are going to learn about nouns.: Good morning class, today we are going to learn about nouns.\\nA noun is a word that represents a person, place, thing, or idea.: A noun is a word that represents a person, place, thing, or idea.\\nCan anyone give me an example of a noun?: Can anyone give me an example of a noun?\\nThat's right, 'dog' is a noun because it is a thing.: That's right, 'dog' is a noun because it is a thing.\\nLet's write down some nouns in our notebooks.: Let's write down some nouns in our notebooks.\\n\\nNow, let's talk about verbs. Does anyone know what a verb is?\"), type='text')], created_at=1702253543, file_ids=[], metadata={}, object='thread.message', role='user', run_id=None, thread_id='thread_KDg8vxEYd68RdF1kC5B7Uv5R'), ThreadMessage(id='msg_CTB9SJelLX9q25WpRVBSfE7S', assistant_id='asst_JfdFyYCTWTBaIzgTK6guLYy2', content=[MessageContentText(text=Text(annotations=[], value='NEU\\nNEU\\nOTR\\nPRS\\nNEU'), type='text')], created_at=1702253545, file_ids=[], metadata={}, object='thread.message', role='assistant', run_id='run_IHxQZRiQJnD4ieLaIdQSs9Hy', thread_id='thread_KDg8vxEYd68RdF1kC5B7Uv5R')]\n",
      "Sending prompt: \n",
      "Good morning class, today we are going to learn about nouns.: Good morning class, today we are going to learn about nouns.\n",
      "A noun is a word that represents a person, place, thing, or idea.: A noun is a word that represents a person, place, thing, or idea.\n",
      "Can anyone give me an example of a noun?: Can anyone give me an example of a noun?\n",
      "That's right, 'dog' is a noun because it is a thing.: That's right, 'dog' is a noun because it is a thing.\n",
      "Let's write down some nouns in our notebooks.: Let's write down some nouns in our notebooks.\n",
      "\n",
      "A verb is a word that describes an action, occurrence, or state of being.\n",
      "Received messages: [ThreadMessage(id='msg_N83WEanW1NG0d6vVYu8Xd7Pf', assistant_id=None, content=[MessageContentText(text=Text(annotations=[], value=\"\\nGood morning class, today we are going to learn about nouns.: Good morning class, today we are going to learn about nouns.\\nA noun is a word that represents a person, place, thing, or idea.: A noun is a word that represents a person, place, thing, or idea.\\nCan anyone give me an example of a noun?: Can anyone give me an example of a noun?\\nThat's right, 'dog' is a noun because it is a thing.: That's right, 'dog' is a noun because it is a thing.\\nLet's write down some nouns in our notebooks.: Let's write down some nouns in our notebooks.\\n\\nA verb is a word that describes an action, occurrence, or state of being.\"), type='text')], created_at=1702253548, file_ids=[], metadata={}, object='thread.message', role='user', run_id=None, thread_id='thread_edSQmw1oZf1c36KousG9gr3e'), ThreadMessage(id='msg_5IFsHSwYW6nUGD2ckNSiY6hS', assistant_id='asst_JfdFyYCTWTBaIzgTK6guLYy2', content=[MessageContentText(text=Text(annotations=[], value='NEU\\nNEU\\nOTR\\nPRS\\nNEU'), type='text')], created_at=1702253549, file_ids=[], metadata={}, object='thread.message', role='assistant', run_id='run_WBiRwFwcOFesA5aL5IPGK9zN', thread_id='thread_edSQmw1oZf1c36KousG9gr3e')]\n",
      "Sending prompt: \n",
      "Good morning class, today we are going to learn about nouns.: Good morning class, today we are going to learn about nouns.\n",
      "A noun is a word that represents a person, place, thing, or idea.: A noun is a word that represents a person, place, thing, or idea.\n",
      "Can anyone give me an example of a noun?: Can anyone give me an example of a noun?\n",
      "That's right, 'dog' is a noun because it is a thing.: That's right, 'dog' is a noun because it is a thing.\n",
      "Let's write down some nouns in our notebooks.: Let's write down some nouns in our notebooks.\n",
      "\n",
      "Can someone give me an example of a verb?\n",
      "Received messages: [ThreadMessage(id='msg_lrZiyrBow7k6fedaXgg4KXBT', assistant_id=None, content=[MessageContentText(text=Text(annotations=[], value=\"\\nGood morning class, today we are going to learn about nouns.: Good morning class, today we are going to learn about nouns.\\nA noun is a word that represents a person, place, thing, or idea.: A noun is a word that represents a person, place, thing, or idea.\\nCan anyone give me an example of a noun?: Can anyone give me an example of a noun?\\nThat's right, 'dog' is a noun because it is a thing.: That's right, 'dog' is a noun because it is a thing.\\nLet's write down some nouns in our notebooks.: Let's write down some nouns in our notebooks.\\n\\nCan someone give me an example of a verb?\"), type='text')], created_at=1702253551, file_ids=[], metadata={}, object='thread.message', role='user', run_id=None, thread_id='thread_qqRtSebqTUE24QyExtyYuB1E'), ThreadMessage(id='msg_imO5YMQz0vR8I2xSmQxVv74v', assistant_id='asst_JfdFyYCTWTBaIzgTK6guLYy2', content=[MessageContentText(text=Text(annotations=[], value='NEU\\nNEU\\nOTR\\nPRS\\nNEU'), type='text')], created_at=1702253552, file_ids=[], metadata={}, object='thread.message', role='assistant', run_id='run_zI9wSHT4hp0NPqArS2xNprws', thread_id='thread_qqRtSebqTUE24QyExtyYuB1E')]\n",
      "Sending prompt: \n",
      "Good morning class, today we are going to learn about nouns.: Good morning class, today we are going to learn about nouns.\n",
      "A noun is a word that represents a person, place, thing, or idea.: A noun is a word that represents a person, place, thing, or idea.\n",
      "Can anyone give me an example of a noun?: Can anyone give me an example of a noun?\n",
      "That's right, 'dog' is a noun because it is a thing.: That's right, 'dog' is a noun because it is a thing.\n",
      "Let's write down some nouns in our notebooks.: Let's write down some nouns in our notebooks.\n",
      "\n",
      "Great example, 'run' is a verb because it is an action.\n",
      "Received messages: [ThreadMessage(id='msg_tXehOipU0I4CeO2DDmnLOlxu', assistant_id=None, content=[MessageContentText(text=Text(annotations=[], value=\"\\nGood morning class, today we are going to learn about nouns.: Good morning class, today we are going to learn about nouns.\\nA noun is a word that represents a person, place, thing, or idea.: A noun is a word that represents a person, place, thing, or idea.\\nCan anyone give me an example of a noun?: Can anyone give me an example of a noun?\\nThat's right, 'dog' is a noun because it is a thing.: That's right, 'dog' is a noun because it is a thing.\\nLet's write down some nouns in our notebooks.: Let's write down some nouns in our notebooks.\\n\\nGreat example, 'run' is a verb because it is an action.\"), type='text')], created_at=1702253554, file_ids=[], metadata={}, object='thread.message', role='user', run_id=None, thread_id='thread_4yQOkwGTkf7qKvUuroGcXttN'), ThreadMessage(id='msg_hihQOXTgeA9m2JNHbmGEd2nw', assistant_id='asst_JfdFyYCTWTBaIzgTK6guLYy2', content=[MessageContentText(text=Text(annotations=[], value='NEU\\nNEU\\nOTR\\nPRS\\nOTR\\nPRS'), type='text')], created_at=1702253556, file_ids=[], metadata={}, object='thread.message', role='assistant', run_id='run_nBzzAayq44BktzfkQfuYk6KA', thread_id='thread_4yQOkwGTkf7qKvUuroGcXttN')]\n",
      "Sending prompt: \n",
      "Good morning class, today we are going to learn about nouns.: Good morning class, today we are going to learn about nouns.\n",
      "A noun is a word that represents a person, place, thing, or idea.: A noun is a word that represents a person, place, thing, or idea.\n",
      "Can anyone give me an example of a noun?: Can anyone give me an example of a noun?\n",
      "That's right, 'dog' is a noun because it is a thing.: That's right, 'dog' is a noun because it is a thing.\n",
      "Let's write down some nouns in our notebooks.: Let's write down some nouns in our notebooks.\n",
      "\n",
      "Now, let's write down some verbs in our notebooks.\n",
      "Received messages: [ThreadMessage(id='msg_v8Q68NU0TL2QBwcYCr0uCCmp', assistant_id=None, content=[MessageContentText(text=Text(annotations=[], value=\"\\nGood morning class, today we are going to learn about nouns.: Good morning class, today we are going to learn about nouns.\\nA noun is a word that represents a person, place, thing, or idea.: A noun is a word that represents a person, place, thing, or idea.\\nCan anyone give me an example of a noun?: Can anyone give me an example of a noun?\\nThat's right, 'dog' is a noun because it is a thing.: That's right, 'dog' is a noun because it is a thing.\\nLet's write down some nouns in our notebooks.: Let's write down some nouns in our notebooks.\\n\\nNow, let's write down some verbs in our notebooks.\"), type='text')], created_at=1702253558, file_ids=[], metadata={}, object='thread.message', role='user', run_id=None, thread_id='thread_EZUsRVcHk9kbovXiYqEesuyl'), ThreadMessage(id='msg_MFRsyrtD9UOommNWrtC9h4On', assistant_id='asst_JfdFyYCTWTBaIzgTK6guLYy2', content=[MessageContentText(text=Text(annotations=[], value='NEU\\nNEU\\nOTR\\nPRS\\nNEU'), type='text')], created_at=1702253559, file_ids=[], metadata={}, object='thread.message', role='assistant', run_id='run_GdZucONWOKt8XDJwPFNGb2Nl', thread_id='thread_EZUsRVcHk9kbovXiYqEesuyl')]\n",
      "Predicted for 'Now, let's talk about verbs. Does anyone know what a verb is?': NEU\n",
      "Predicted for 'A verb is a word that describes an action, occurrence, or state of being.': NEU\n",
      "Predicted for 'Can someone give me an example of a verb?': NEU\n",
      "Predicted for 'Great example, 'run' is a verb because it is an action.': PRS\n",
      "Predicted for 'Now, let's write down some verbs in our notebooks.': NEU\n",
      "Sending prompt: \n",
      "Good morning class, today we are going to learn about nouns.: Good morning class, today we are going to learn about nouns.\n",
      "A noun is a word that represents a person, place, thing, or idea.: A noun is a word that represents a person, place, thing, or idea.\n",
      "Can anyone give me an example of a noun?: Can anyone give me an example of a noun?\n",
      "That's right, 'dog' is a noun because it is a thing.: That's right, 'dog' is a noun because it is a thing.\n",
      "Let's write down some nouns in our notebooks.: Let's write down some nouns in our notebooks.\n",
      "Now, let's talk about verbs. Does anyone know what a verb is?: Now, let's talk about verbs. Does anyone know what a verb is?\n",
      "A verb is a word that describes an action, occurrence, or state of being.: A verb is a word that describes an action, occurrence, or state of being.\n",
      "Can someone give me an example of a verb?: Can someone give me an example of a verb?\n",
      "Great example, 'run' is a verb because it is an action.: Great example, 'run' is a verb because it is an action.\n",
      "Now, let's write down some verbs in our notebooks.: Now, let's write down some verbs in our notebooks.\n",
      "\n",
      "Next, we are going to learn about adjectives.\n",
      "Received messages: [ThreadMessage(id='msg_gp2j9iKqL5AnNiLIsejDK4ev', assistant_id=None, content=[MessageContentText(text=Text(annotations=[], value=\"\\nGood morning class, today we are going to learn about nouns.: Good morning class, today we are going to learn about nouns.\\nA noun is a word that represents a person, place, thing, or idea.: A noun is a word that represents a person, place, thing, or idea.\\nCan anyone give me an example of a noun?: Can anyone give me an example of a noun?\\nThat's right, 'dog' is a noun because it is a thing.: That's right, 'dog' is a noun because it is a thing.\\nLet's write down some nouns in our notebooks.: Let's write down some nouns in our notebooks.\\nNow, let's talk about verbs. Does anyone know what a verb is?: Now, let's talk about verbs. Does anyone know what a verb is?\\nA verb is a word that describes an action, occurrence, or state of being.: A verb is a word that describes an action, occurrence, or state of being.\\nCan someone give me an example of a verb?: Can someone give me an example of a verb?\\nGreat example, 'run' is a verb because it is an action.: Great example, 'run' is a verb because it is an action.\\nNow, let's write down some verbs in our notebooks.: Now, let's write down some verbs in our notebooks.\\n\\nNext, we are going to learn about adjectives.\"), type='text')], created_at=1702253561, file_ids=[], metadata={}, object='thread.message', role='user', run_id=None, thread_id='thread_odGJtjr73jCy0B5HJhh40TCN'), ThreadMessage(id='msg_LdbbXZrgXkgj9IQMX20eTQuK', assistant_id='asst_JfdFyYCTWTBaIzgTK6guLYy2', content=[MessageContentText(text=Text(annotations=[], value='NEU\\nNEU\\nOTR\\nPRS\\nNEU\\nOTR\\nNEU\\nOTR\\nPRS\\nNEU'), type='text')], created_at=1702253564, file_ids=[], metadata={}, object='thread.message', role='assistant', run_id='run_FMxPiKBKJKT6RrbJvKz1OEEz', thread_id='thread_odGJtjr73jCy0B5HJhh40TCN')]\n",
      "Sending prompt: \n",
      "Good morning class, today we are going to learn about nouns.: Good morning class, today we are going to learn about nouns.\n",
      "A noun is a word that represents a person, place, thing, or idea.: A noun is a word that represents a person, place, thing, or idea.\n",
      "Can anyone give me an example of a noun?: Can anyone give me an example of a noun?\n",
      "That's right, 'dog' is a noun because it is a thing.: That's right, 'dog' is a noun because it is a thing.\n",
      "Let's write down some nouns in our notebooks.: Let's write down some nouns in our notebooks.\n",
      "Now, let's talk about verbs. Does anyone know what a verb is?: Now, let's talk about verbs. Does anyone know what a verb is?\n",
      "A verb is a word that describes an action, occurrence, or state of being.: A verb is a word that describes an action, occurrence, or state of being.\n",
      "Can someone give me an example of a verb?: Can someone give me an example of a verb?\n",
      "Great example, 'run' is a verb because it is an action.: Great example, 'run' is a verb because it is an action.\n",
      "Now, let's write down some verbs in our notebooks.: Now, let's write down some verbs in our notebooks.\n",
      "\n",
      "An adjective is a word that describes a noun.\n",
      "Received messages: [ThreadMessage(id='msg_i5m22A4c4vDtFBtqBXv9ZhHR', assistant_id=None, content=[MessageContentText(text=Text(annotations=[], value=\"\\nGood morning class, today we are going to learn about nouns.: Good morning class, today we are going to learn about nouns.\\nA noun is a word that represents a person, place, thing, or idea.: A noun is a word that represents a person, place, thing, or idea.\\nCan anyone give me an example of a noun?: Can anyone give me an example of a noun?\\nThat's right, 'dog' is a noun because it is a thing.: That's right, 'dog' is a noun because it is a thing.\\nLet's write down some nouns in our notebooks.: Let's write down some nouns in our notebooks.\\nNow, let's talk about verbs. Does anyone know what a verb is?: Now, let's talk about verbs. Does anyone know what a verb is?\\nA verb is a word that describes an action, occurrence, or state of being.: A verb is a word that describes an action, occurrence, or state of being.\\nCan someone give me an example of a verb?: Can someone give me an example of a verb?\\nGreat example, 'run' is a verb because it is an action.: Great example, 'run' is a verb because it is an action.\\nNow, let's write down some verbs in our notebooks.: Now, let's write down some verbs in our notebooks.\\n\\nAn adjective is a word that describes a noun.\"), type='text')], created_at=1702253567, file_ids=[], metadata={}, object='thread.message', role='user', run_id=None, thread_id='thread_mUSxRTgn1Sj2wUP9eOHk8JPP'), ThreadMessage(id='msg_Q5rRSd1zbn77QmjrB38afJn1', assistant_id='asst_JfdFyYCTWTBaIzgTK6guLYy2', content=[MessageContentText(text=Text(annotations=[], value='NEU\\nNEU\\nOTR\\nPRS\\nNEU\\nOTR\\nNEU\\nOTR\\nPRS\\nNEU\\nNEU'), type='text')], created_at=1702253568, file_ids=[], metadata={}, object='thread.message', role='assistant', run_id='run_VsAe0vL8CYVEESocEUvAByua', thread_id='thread_mUSxRTgn1Sj2wUP9eOHk8JPP')]\n",
      "Sending prompt: \n",
      "Good morning class, today we are going to learn about nouns.: Good morning class, today we are going to learn about nouns.\n",
      "A noun is a word that represents a person, place, thing, or idea.: A noun is a word that represents a person, place, thing, or idea.\n",
      "Can anyone give me an example of a noun?: Can anyone give me an example of a noun?\n",
      "That's right, 'dog' is a noun because it is a thing.: That's right, 'dog' is a noun because it is a thing.\n",
      "Let's write down some nouns in our notebooks.: Let's write down some nouns in our notebooks.\n",
      "Now, let's talk about verbs. Does anyone know what a verb is?: Now, let's talk about verbs. Does anyone know what a verb is?\n",
      "A verb is a word that describes an action, occurrence, or state of being.: A verb is a word that describes an action, occurrence, or state of being.\n",
      "Can someone give me an example of a verb?: Can someone give me an example of a verb?\n",
      "Great example, 'run' is a verb because it is an action.: Great example, 'run' is a verb because it is an action.\n",
      "Now, let's write down some verbs in our notebooks.: Now, let's write down some verbs in our notebooks.\n",
      "\n",
      "Can someone give me an example of an adjective?\n",
      "Received messages: [ThreadMessage(id='msg_gsYTEXW93lz6ytVywyc3jW8I', assistant_id=None, content=[MessageContentText(text=Text(annotations=[], value=\"\\nGood morning class, today we are going to learn about nouns.: Good morning class, today we are going to learn about nouns.\\nA noun is a word that represents a person, place, thing, or idea.: A noun is a word that represents a person, place, thing, or idea.\\nCan anyone give me an example of a noun?: Can anyone give me an example of a noun?\\nThat's right, 'dog' is a noun because it is a thing.: That's right, 'dog' is a noun because it is a thing.\\nLet's write down some nouns in our notebooks.: Let's write down some nouns in our notebooks.\\nNow, let's talk about verbs. Does anyone know what a verb is?: Now, let's talk about verbs. Does anyone know what a verb is?\\nA verb is a word that describes an action, occurrence, or state of being.: A verb is a word that describes an action, occurrence, or state of being.\\nCan someone give me an example of a verb?: Can someone give me an example of a verb?\\nGreat example, 'run' is a verb because it is an action.: Great example, 'run' is a verb because it is an action.\\nNow, let's write down some verbs in our notebooks.: Now, let's write down some verbs in our notebooks.\\n\\nCan someone give me an example of an adjective?\"), type='text')], created_at=1702253570, file_ids=[], metadata={}, object='thread.message', role='user', run_id=None, thread_id='thread_4u9H0wO3JXIG5tn5qFM0PC62'), ThreadMessage(id='msg_rIf3vi1nd6LpzqddfO8PM9ED', assistant_id='asst_JfdFyYCTWTBaIzgTK6guLYy2', content=[MessageContentText(text=Text(annotations=[], value='NEU\\nNEU\\nOTR\\nPRS\\nNEU\\nOTR\\nNEU\\nOTR\\nPRS\\nNEU\\nOTR'), type='text')], created_at=1702253572, file_ids=[], metadata={}, object='thread.message', role='assistant', run_id='run_1Ij5Stg9lpl2tHVrPLW5TGY5', thread_id='thread_4u9H0wO3JXIG5tn5qFM0PC62')]\n",
      "Sending prompt: \n",
      "Good morning class, today we are going to learn about nouns.: Good morning class, today we are going to learn about nouns.\n",
      "A noun is a word that represents a person, place, thing, or idea.: A noun is a word that represents a person, place, thing, or idea.\n",
      "Can anyone give me an example of a noun?: Can anyone give me an example of a noun?\n",
      "That's right, 'dog' is a noun because it is a thing.: That's right, 'dog' is a noun because it is a thing.\n",
      "Let's write down some nouns in our notebooks.: Let's write down some nouns in our notebooks.\n",
      "Now, let's talk about verbs. Does anyone know what a verb is?: Now, let's talk about verbs. Does anyone know what a verb is?\n",
      "A verb is a word that describes an action, occurrence, or state of being.: A verb is a word that describes an action, occurrence, or state of being.\n",
      "Can someone give me an example of a verb?: Can someone give me an example of a verb?\n",
      "Great example, 'run' is a verb because it is an action.: Great example, 'run' is a verb because it is an action.\n",
      "Now, let's write down some verbs in our notebooks.: Now, let's write down some verbs in our notebooks.\n",
      "\n",
      "Exactly, 'beautiful' is an adjective because it describes a noun.\n",
      "Received messages: [ThreadMessage(id='msg_YoHrsNT2EHNfq3LkvUyNiwyi', assistant_id=None, content=[MessageContentText(text=Text(annotations=[], value=\"\\nGood morning class, today we are going to learn about nouns.: Good morning class, today we are going to learn about nouns.\\nA noun is a word that represents a person, place, thing, or idea.: A noun is a word that represents a person, place, thing, or idea.\\nCan anyone give me an example of a noun?: Can anyone give me an example of a noun?\\nThat's right, 'dog' is a noun because it is a thing.: That's right, 'dog' is a noun because it is a thing.\\nLet's write down some nouns in our notebooks.: Let's write down some nouns in our notebooks.\\nNow, let's talk about verbs. Does anyone know what a verb is?: Now, let's talk about verbs. Does anyone know what a verb is?\\nA verb is a word that describes an action, occurrence, or state of being.: A verb is a word that describes an action, occurrence, or state of being.\\nCan someone give me an example of a verb?: Can someone give me an example of a verb?\\nGreat example, 'run' is a verb because it is an action.: Great example, 'run' is a verb because it is an action.\\nNow, let's write down some verbs in our notebooks.: Now, let's write down some verbs in our notebooks.\\n\\nExactly, 'beautiful' is an adjective because it describes a noun.\"), type='text')], created_at=1702253574, file_ids=[], metadata={}, object='thread.message', role='user', run_id=None, thread_id='thread_cfjhXOgmuUyT7QNQpNF8yIRr'), ThreadMessage(id='msg_JwgRqH8ukMnrkmFEbvc4IGNq', assistant_id='asst_JfdFyYCTWTBaIzgTK6guLYy2', content=[MessageContentText(text=Text(annotations=[], value='NEU\\nNEU\\nOTR\\nPRS\\nNEU\\nOTR\\nNEU\\nOTR\\nPRS\\nNEU\\nPRS'), type='text')], created_at=1702253575, file_ids=[], metadata={}, object='thread.message', role='assistant', run_id='run_h3Q305p9tTXJIJwLFULBkGiu', thread_id='thread_cfjhXOgmuUyT7QNQpNF8yIRr')]\n",
      "Sending prompt: \n",
      "Good morning class, today we are going to learn about nouns.: Good morning class, today we are going to learn about nouns.\n",
      "A noun is a word that represents a person, place, thing, or idea.: A noun is a word that represents a person, place, thing, or idea.\n",
      "Can anyone give me an example of a noun?: Can anyone give me an example of a noun?\n",
      "That's right, 'dog' is a noun because it is a thing.: That's right, 'dog' is a noun because it is a thing.\n",
      "Let's write down some nouns in our notebooks.: Let's write down some nouns in our notebooks.\n",
      "Now, let's talk about verbs. Does anyone know what a verb is?: Now, let's talk about verbs. Does anyone know what a verb is?\n",
      "A verb is a word that describes an action, occurrence, or state of being.: A verb is a word that describes an action, occurrence, or state of being.\n",
      "Can someone give me an example of a verb?: Can someone give me an example of a verb?\n",
      "Great example, 'run' is a verb because it is an action.: Great example, 'run' is a verb because it is an action.\n",
      "Now, let's write down some verbs in our notebooks.: Now, let's write down some verbs in our notebooks.\n",
      "\n",
      "Let's write down some adjectives in our notebooks.\n",
      "Received messages: [ThreadMessage(id='msg_tl0yGD7JgWLCPgGKDOcHIEcj', assistant_id=None, content=[MessageContentText(text=Text(annotations=[], value=\"\\nGood morning class, today we are going to learn about nouns.: Good morning class, today we are going to learn about nouns.\\nA noun is a word that represents a person, place, thing, or idea.: A noun is a word that represents a person, place, thing, or idea.\\nCan anyone give me an example of a noun?: Can anyone give me an example of a noun?\\nThat's right, 'dog' is a noun because it is a thing.: That's right, 'dog' is a noun because it is a thing.\\nLet's write down some nouns in our notebooks.: Let's write down some nouns in our notebooks.\\nNow, let's talk about verbs. Does anyone know what a verb is?: Now, let's talk about verbs. Does anyone know what a verb is?\\nA verb is a word that describes an action, occurrence, or state of being.: A verb is a word that describes an action, occurrence, or state of being.\\nCan someone give me an example of a verb?: Can someone give me an example of a verb?\\nGreat example, 'run' is a verb because it is an action.: Great example, 'run' is a verb because it is an action.\\nNow, let's write down some verbs in our notebooks.: Now, let's write down some verbs in our notebooks.\\n\\nLet's write down some adjectives in our notebooks.\"), type='text')], created_at=1702253578, file_ids=[], metadata={}, object='thread.message', role='user', run_id=None, thread_id='thread_o0nK9QdTjcYvhGTeFmbGqEFM'), ThreadMessage(id='msg_x5wef5Furfj38X7qdOixfAC3', assistant_id='asst_JfdFyYCTWTBaIzgTK6guLYy2', content=[MessageContentText(text=Text(annotations=[], value='NEU\\nNEU\\nOTR\\nPRS\\nNEU\\nOTR\\nNEU\\nOTR\\nPRS\\nNEU\\nNEU'), type='text')], created_at=1702253579, file_ids=[], metadata={}, object='thread.message', role='assistant', run_id='run_yKgLls7LrrEq2aYq9yingnEn', thread_id='thread_o0nK9QdTjcYvhGTeFmbGqEFM')]\n",
      "Predicted for 'Next, we are going to learn about adjectives.': NEU\n",
      "Predicted for 'An adjective is a word that describes a noun.': NEU\n",
      "Predicted for 'Can someone give me an example of an adjective?': OTR\n",
      "Predicted for 'Exactly, 'beautiful' is an adjective because it describes a noun.': PRS\n",
      "Predicted for 'Let's write down some adjectives in our notebooks.': NEU\n",
      "Sending prompt: \n",
      "Good morning class, today we are going to learn about nouns.: Good morning class, today we are going to learn about nouns.\n",
      "A noun is a word that represents a person, place, thing, or idea.: A noun is a word that represents a person, place, thing, or idea.\n",
      "Can anyone give me an example of a noun?: Can anyone give me an example of a noun?\n",
      "That's right, 'dog' is a noun because it is a thing.: That's right, 'dog' is a noun because it is a thing.\n",
      "Let's write down some nouns in our notebooks.: Let's write down some nouns in our notebooks.\n",
      "Now, let's talk about verbs. Does anyone know what a verb is?: Now, let's talk about verbs. Does anyone know what a verb is?\n",
      "A verb is a word that describes an action, occurrence, or state of being.: A verb is a word that describes an action, occurrence, or state of being.\n",
      "Can someone give me an example of a verb?: Can someone give me an example of a verb?\n",
      "Great example, 'run' is a verb because it is an action.: Great example, 'run' is a verb because it is an action.\n",
      "Now, let's write down some verbs in our notebooks.: Now, let's write down some verbs in our notebooks.\n",
      "Next, we are going to learn about adjectives.: Next, we are going to learn about adjectives.\n",
      "An adjective is a word that describes a noun.: An adjective is a word that describes a noun.\n",
      "Can someone give me an example of an adjective?: Can someone give me an example of an adjective?\n",
      "Exactly, 'beautiful' is an adjective because it describes a noun.: Exactly, 'beautiful' is an adjective because it describes a noun.\n",
      "Let's write down some adjectives in our notebooks.: Let's write down some adjectives in our notebooks.\n",
      "\n",
      "Now we are going to form sentences using nouns, verbs, and adjectives.\n",
      "Received messages: [ThreadMessage(id='msg_NXLjgwLswaWKxOIoFXJiJblE', assistant_id=None, content=[MessageContentText(text=Text(annotations=[], value=\"\\nGood morning class, today we are going to learn about nouns.: Good morning class, today we are going to learn about nouns.\\nA noun is a word that represents a person, place, thing, or idea.: A noun is a word that represents a person, place, thing, or idea.\\nCan anyone give me an example of a noun?: Can anyone give me an example of a noun?\\nThat's right, 'dog' is a noun because it is a thing.: That's right, 'dog' is a noun because it is a thing.\\nLet's write down some nouns in our notebooks.: Let's write down some nouns in our notebooks.\\nNow, let's talk about verbs. Does anyone know what a verb is?: Now, let's talk about verbs. Does anyone know what a verb is?\\nA verb is a word that describes an action, occurrence, or state of being.: A verb is a word that describes an action, occurrence, or state of being.\\nCan someone give me an example of a verb?: Can someone give me an example of a verb?\\nGreat example, 'run' is a verb because it is an action.: Great example, 'run' is a verb because it is an action.\\nNow, let's write down some verbs in our notebooks.: Now, let's write down some verbs in our notebooks.\\nNext, we are going to learn about adjectives.: Next, we are going to learn about adjectives.\\nAn adjective is a word that describes a noun.: An adjective is a word that describes a noun.\\nCan someone give me an example of an adjective?: Can someone give me an example of an adjective?\\nExactly, 'beautiful' is an adjective because it describes a noun.: Exactly, 'beautiful' is an adjective because it describes a noun.\\nLet's write down some adjectives in our notebooks.: Let's write down some adjectives in our notebooks.\\n\\nNow we are going to form sentences using nouns, verbs, and adjectives.\"), type='text')], created_at=1702253582, file_ids=[], metadata={}, object='thread.message', role='user', run_id=None, thread_id='thread_Yp9uUHeOU2lkhDFI5yIryJRn'), ThreadMessage(id='msg_LrklEVy7OmU1nzlizNHZDiBy', assistant_id='asst_JfdFyYCTWTBaIzgTK6guLYy2', content=[MessageContentText(text=Text(annotations=[], value='NEU\\nNEU\\nOTR\\nPRS\\nNEU\\nOTR\\nNEU\\nOTR\\nPRS\\nNEU\\nNEU\\nNEU\\nOTR\\nPRS\\nNEU'), type='text')], created_at=1702253583, file_ids=[], metadata={}, object='thread.message', role='assistant', run_id='run_uRcGAxEl1t7SSDPWUFEntIpr', thread_id='thread_Yp9uUHeOU2lkhDFI5yIryJRn')]\n",
      "Sending prompt: \n",
      "Good morning class, today we are going to learn about nouns.: Good morning class, today we are going to learn about nouns.\n",
      "A noun is a word that represents a person, place, thing, or idea.: A noun is a word that represents a person, place, thing, or idea.\n",
      "Can anyone give me an example of a noun?: Can anyone give me an example of a noun?\n",
      "That's right, 'dog' is a noun because it is a thing.: That's right, 'dog' is a noun because it is a thing.\n",
      "Let's write down some nouns in our notebooks.: Let's write down some nouns in our notebooks.\n",
      "Now, let's talk about verbs. Does anyone know what a verb is?: Now, let's talk about verbs. Does anyone know what a verb is?\n",
      "A verb is a word that describes an action, occurrence, or state of being.: A verb is a word that describes an action, occurrence, or state of being.\n",
      "Can someone give me an example of a verb?: Can someone give me an example of a verb?\n",
      "Great example, 'run' is a verb because it is an action.: Great example, 'run' is a verb because it is an action.\n",
      "Now, let's write down some verbs in our notebooks.: Now, let's write down some verbs in our notebooks.\n",
      "Next, we are going to learn about adjectives.: Next, we are going to learn about adjectives.\n",
      "An adjective is a word that describes a noun.: An adjective is a word that describes a noun.\n",
      "Can someone give me an example of an adjective?: Can someone give me an example of an adjective?\n",
      "Exactly, 'beautiful' is an adjective because it describes a noun.: Exactly, 'beautiful' is an adjective because it describes a noun.\n",
      "Let's write down some adjectives in our notebooks.: Let's write down some adjectives in our notebooks.\n",
      "\n",
      "A sentence is a group of words that expresses a complete thought.\n",
      "Received messages: [ThreadMessage(id='msg_KxliLAI8DagpKkTqbKO5cB5V', assistant_id=None, content=[MessageContentText(text=Text(annotations=[], value=\"\\nGood morning class, today we are going to learn about nouns.: Good morning class, today we are going to learn about nouns.\\nA noun is a word that represents a person, place, thing, or idea.: A noun is a word that represents a person, place, thing, or idea.\\nCan anyone give me an example of a noun?: Can anyone give me an example of a noun?\\nThat's right, 'dog' is a noun because it is a thing.: That's right, 'dog' is a noun because it is a thing.\\nLet's write down some nouns in our notebooks.: Let's write down some nouns in our notebooks.\\nNow, let's talk about verbs. Does anyone know what a verb is?: Now, let's talk about verbs. Does anyone know what a verb is?\\nA verb is a word that describes an action, occurrence, or state of being.: A verb is a word that describes an action, occurrence, or state of being.\\nCan someone give me an example of a verb?: Can someone give me an example of a verb?\\nGreat example, 'run' is a verb because it is an action.: Great example, 'run' is a verb because it is an action.\\nNow, let's write down some verbs in our notebooks.: Now, let's write down some verbs in our notebooks.\\nNext, we are going to learn about adjectives.: Next, we are going to learn about adjectives.\\nAn adjective is a word that describes a noun.: An adjective is a word that describes a noun.\\nCan someone give me an example of an adjective?: Can someone give me an example of an adjective?\\nExactly, 'beautiful' is an adjective because it describes a noun.: Exactly, 'beautiful' is an adjective because it describes a noun.\\nLet's write down some adjectives in our notebooks.: Let's write down some adjectives in our notebooks.\\n\\nA sentence is a group of words that expresses a complete thought.\"), type='text')], created_at=1702253588, file_ids=[], metadata={}, object='thread.message', role='user', run_id=None, thread_id='thread_Z3yMbPr6XoN5rTCyQOXZ1dcK'), ThreadMessage(id='msg_uLWKpJB3QntZcm5L8lYcTbp0', assistant_id='asst_JfdFyYCTWTBaIzgTK6guLYy2', content=[MessageContentText(text=Text(annotations=[], value='NEU\\nNEU\\nOTR\\nPRS\\nNEU\\nOTR\\nNEU\\nOTR\\nPRS\\nNEU\\nNEU\\nNEU\\nOTR\\nPRS\\nNEU\\nNEU'), type='text')], created_at=1702253590, file_ids=[], metadata={}, object='thread.message', role='assistant', run_id='run_OQQkG6TT8DfOWSxpexSxXro1', thread_id='thread_Z3yMbPr6XoN5rTCyQOXZ1dcK')]\n",
      "Sending prompt: \n",
      "Good morning class, today we are going to learn about nouns.: Good morning class, today we are going to learn about nouns.\n",
      "A noun is a word that represents a person, place, thing, or idea.: A noun is a word that represents a person, place, thing, or idea.\n",
      "Can anyone give me an example of a noun?: Can anyone give me an example of a noun?\n",
      "That's right, 'dog' is a noun because it is a thing.: That's right, 'dog' is a noun because it is a thing.\n",
      "Let's write down some nouns in our notebooks.: Let's write down some nouns in our notebooks.\n",
      "Now, let's talk about verbs. Does anyone know what a verb is?: Now, let's talk about verbs. Does anyone know what a verb is?\n",
      "A verb is a word that describes an action, occurrence, or state of being.: A verb is a word that describes an action, occurrence, or state of being.\n",
      "Can someone give me an example of a verb?: Can someone give me an example of a verb?\n",
      "Great example, 'run' is a verb because it is an action.: Great example, 'run' is a verb because it is an action.\n",
      "Now, let's write down some verbs in our notebooks.: Now, let's write down some verbs in our notebooks.\n",
      "Next, we are going to learn about adjectives.: Next, we are going to learn about adjectives.\n",
      "An adjective is a word that describes a noun.: An adjective is a word that describes a noun.\n",
      "Can someone give me an example of an adjective?: Can someone give me an example of an adjective?\n",
      "Exactly, 'beautiful' is an adjective because it describes a noun.: Exactly, 'beautiful' is an adjective because it describes a noun.\n",
      "Let's write down some adjectives in our notebooks.: Let's write down some adjectives in our notebooks.\n",
      "\n",
      "Let's build a sentence together. I'll start with a noun: 'The cat'.\n",
      "Received messages: [ThreadMessage(id='msg_iwqcVDzq2F9uBFpatM4HuKp5', assistant_id=None, content=[MessageContentText(text=Text(annotations=[], value=\"\\nGood morning class, today we are going to learn about nouns.: Good morning class, today we are going to learn about nouns.\\nA noun is a word that represents a person, place, thing, or idea.: A noun is a word that represents a person, place, thing, or idea.\\nCan anyone give me an example of a noun?: Can anyone give me an example of a noun?\\nThat's right, 'dog' is a noun because it is a thing.: That's right, 'dog' is a noun because it is a thing.\\nLet's write down some nouns in our notebooks.: Let's write down some nouns in our notebooks.\\nNow, let's talk about verbs. Does anyone know what a verb is?: Now, let's talk about verbs. Does anyone know what a verb is?\\nA verb is a word that describes an action, occurrence, or state of being.: A verb is a word that describes an action, occurrence, or state of being.\\nCan someone give me an example of a verb?: Can someone give me an example of a verb?\\nGreat example, 'run' is a verb because it is an action.: Great example, 'run' is a verb because it is an action.\\nNow, let's write down some verbs in our notebooks.: Now, let's write down some verbs in our notebooks.\\nNext, we are going to learn about adjectives.: Next, we are going to learn about adjectives.\\nAn adjective is a word that describes a noun.: An adjective is a word that describes a noun.\\nCan someone give me an example of an adjective?: Can someone give me an example of an adjective?\\nExactly, 'beautiful' is an adjective because it describes a noun.: Exactly, 'beautiful' is an adjective because it describes a noun.\\nLet's write down some adjectives in our notebooks.: Let's write down some adjectives in our notebooks.\\n\\nLet's build a sentence together. I'll start with a noun: 'The cat'.\"), type='text')], created_at=1702253593, file_ids=[], metadata={}, object='thread.message', role='user', run_id=None, thread_id='thread_KLWNeqIOijwTJ3D2NHBeYE0k'), ThreadMessage(id='msg_gUr7m5wZ5JonJFWVyA7M9fr6', assistant_id='asst_JfdFyYCTWTBaIzgTK6guLYy2', content=[MessageContentText(text=Text(annotations=[], value='NEU\\nNEU\\nOTR\\nPRS\\nNEU\\nOTR\\nNEU\\nOTR\\nPRS\\nNEU\\nNEU\\nNEU\\nOTR\\nPRS\\nNEU'), type='text')], created_at=1702253594, file_ids=[], metadata={}, object='thread.message', role='assistant', run_id='run_RCX5qYLreRRtMSxRSwpnyEGq', thread_id='thread_KLWNeqIOijwTJ3D2NHBeYE0k')]\n",
      "Sending prompt: \n",
      "Good morning class, today we are going to learn about nouns.: Good morning class, today we are going to learn about nouns.\n",
      "A noun is a word that represents a person, place, thing, or idea.: A noun is a word that represents a person, place, thing, or idea.\n",
      "Can anyone give me an example of a noun?: Can anyone give me an example of a noun?\n",
      "That's right, 'dog' is a noun because it is a thing.: That's right, 'dog' is a noun because it is a thing.\n",
      "Let's write down some nouns in our notebooks.: Let's write down some nouns in our notebooks.\n",
      "Now, let's talk about verbs. Does anyone know what a verb is?: Now, let's talk about verbs. Does anyone know what a verb is?\n",
      "A verb is a word that describes an action, occurrence, or state of being.: A verb is a word that describes an action, occurrence, or state of being.\n",
      "Can someone give me an example of a verb?: Can someone give me an example of a verb?\n",
      "Great example, 'run' is a verb because it is an action.: Great example, 'run' is a verb because it is an action.\n",
      "Now, let's write down some verbs in our notebooks.: Now, let's write down some verbs in our notebooks.\n",
      "Next, we are going to learn about adjectives.: Next, we are going to learn about adjectives.\n",
      "An adjective is a word that describes a noun.: An adjective is a word that describes a noun.\n",
      "Can someone give me an example of an adjective?: Can someone give me an example of an adjective?\n",
      "Exactly, 'beautiful' is an adjective because it describes a noun.: Exactly, 'beautiful' is an adjective because it describes a noun.\n",
      "Let's write down some adjectives in our notebooks.: Let's write down some adjectives in our notebooks.\n",
      "\n",
      "Can someone add a verb to our sentence?\n",
      "Received messages: [ThreadMessage(id='msg_0UDfYL1oIOOmw80apobZSBPI', assistant_id=None, content=[MessageContentText(text=Text(annotations=[], value=\"\\nGood morning class, today we are going to learn about nouns.: Good morning class, today we are going to learn about nouns.\\nA noun is a word that represents a person, place, thing, or idea.: A noun is a word that represents a person, place, thing, or idea.\\nCan anyone give me an example of a noun?: Can anyone give me an example of a noun?\\nThat's right, 'dog' is a noun because it is a thing.: That's right, 'dog' is a noun because it is a thing.\\nLet's write down some nouns in our notebooks.: Let's write down some nouns in our notebooks.\\nNow, let's talk about verbs. Does anyone know what a verb is?: Now, let's talk about verbs. Does anyone know what a verb is?\\nA verb is a word that describes an action, occurrence, or state of being.: A verb is a word that describes an action, occurrence, or state of being.\\nCan someone give me an example of a verb?: Can someone give me an example of a verb?\\nGreat example, 'run' is a verb because it is an action.: Great example, 'run' is a verb because it is an action.\\nNow, let's write down some verbs in our notebooks.: Now, let's write down some verbs in our notebooks.\\nNext, we are going to learn about adjectives.: Next, we are going to learn about adjectives.\\nAn adjective is a word that describes a noun.: An adjective is a word that describes a noun.\\nCan someone give me an example of an adjective?: Can someone give me an example of an adjective?\\nExactly, 'beautiful' is an adjective because it describes a noun.: Exactly, 'beautiful' is an adjective because it describes a noun.\\nLet's write down some adjectives in our notebooks.: Let's write down some adjectives in our notebooks.\\n\\nCan someone add a verb to our sentence?\"), type='text')], created_at=1702253598, file_ids=[], metadata={}, object='thread.message', role='user', run_id=None, thread_id='thread_5ZlW61YOVgyN3kCEYAOIRWYn'), ThreadMessage(id='msg_N81zgsvFBoND2FAWDTci0iYd', assistant_id='asst_JfdFyYCTWTBaIzgTK6guLYy2', content=[MessageContentText(text=Text(annotations=[], value='NEU\\nNEU\\nOTR\\nPRS\\nNEU\\nOTR\\nNEU\\nOTR\\nPRS\\nNEU\\nNEU\\nNEU\\nOTR\\nPRS\\nNEU\\nOTR'), type='text')], created_at=1702253599, file_ids=[], metadata={}, object='thread.message', role='assistant', run_id='run_Vx9q0qeZz7yzFUnAUDsj1yQJ', thread_id='thread_5ZlW61YOVgyN3kCEYAOIRWYn')]\n",
      "Sending prompt: \n",
      "Good morning class, today we are going to learn about nouns.: Good morning class, today we are going to learn about nouns.\n",
      "A noun is a word that represents a person, place, thing, or idea.: A noun is a word that represents a person, place, thing, or idea.\n",
      "Can anyone give me an example of a noun?: Can anyone give me an example of a noun?\n",
      "That's right, 'dog' is a noun because it is a thing.: That's right, 'dog' is a noun because it is a thing.\n",
      "Let's write down some nouns in our notebooks.: Let's write down some nouns in our notebooks.\n",
      "Now, let's talk about verbs. Does anyone know what a verb is?: Now, let's talk about verbs. Does anyone know what a verb is?\n",
      "A verb is a word that describes an action, occurrence, or state of being.: A verb is a word that describes an action, occurrence, or state of being.\n",
      "Can someone give me an example of a verb?: Can someone give me an example of a verb?\n",
      "Great example, 'run' is a verb because it is an action.: Great example, 'run' is a verb because it is an action.\n",
      "Now, let's write down some verbs in our notebooks.: Now, let's write down some verbs in our notebooks.\n",
      "Next, we are going to learn about adjectives.: Next, we are going to learn about adjectives.\n",
      "An adjective is a word that describes a noun.: An adjective is a word that describes a noun.\n",
      "Can someone give me an example of an adjective?: Can someone give me an example of an adjective?\n",
      "Exactly, 'beautiful' is an adjective because it describes a noun.: Exactly, 'beautiful' is an adjective because it describes a noun.\n",
      "Let's write down some adjectives in our notebooks.: Let's write down some adjectives in our notebooks.\n",
      "\n",
      "Great, now our sentence is: 'The cat runs'.\n",
      "Received messages: [ThreadMessage(id='msg_Brli02MilTWGSwbDx4RQtZik', assistant_id=None, content=[MessageContentText(text=Text(annotations=[], value=\"\\nGood morning class, today we are going to learn about nouns.: Good morning class, today we are going to learn about nouns.\\nA noun is a word that represents a person, place, thing, or idea.: A noun is a word that represents a person, place, thing, or idea.\\nCan anyone give me an example of a noun?: Can anyone give me an example of a noun?\\nThat's right, 'dog' is a noun because it is a thing.: That's right, 'dog' is a noun because it is a thing.\\nLet's write down some nouns in our notebooks.: Let's write down some nouns in our notebooks.\\nNow, let's talk about verbs. Does anyone know what a verb is?: Now, let's talk about verbs. Does anyone know what a verb is?\\nA verb is a word that describes an action, occurrence, or state of being.: A verb is a word that describes an action, occurrence, or state of being.\\nCan someone give me an example of a verb?: Can someone give me an example of a verb?\\nGreat example, 'run' is a verb because it is an action.: Great example, 'run' is a verb because it is an action.\\nNow, let's write down some verbs in our notebooks.: Now, let's write down some verbs in our notebooks.\\nNext, we are going to learn about adjectives.: Next, we are going to learn about adjectives.\\nAn adjective is a word that describes a noun.: An adjective is a word that describes a noun.\\nCan someone give me an example of an adjective?: Can someone give me an example of an adjective?\\nExactly, 'beautiful' is an adjective because it describes a noun.: Exactly, 'beautiful' is an adjective because it describes a noun.\\nLet's write down some adjectives in our notebooks.: Let's write down some adjectives in our notebooks.\\n\\nGreat, now our sentence is: 'The cat runs'.\"), type='text')], created_at=1702253603, file_ids=[], metadata={}, object='thread.message', role='user', run_id=None, thread_id='thread_Ow5ckWMTuyS7ls3iauLdFwFn'), ThreadMessage(id='msg_3kZe42MW6fisqvSPo8BNER6d', assistant_id='asst_JfdFyYCTWTBaIzgTK6guLYy2', content=[MessageContentText(text=Text(annotations=[], value='NEU\\nNEU\\nOTR\\nPRS\\nNEU\\nOTR\\nNEU\\nOTR\\nPRS\\nNEU\\nNEU\\nNEU\\nOTR\\nPRS\\nNEU\\nNEU'), type='text')], created_at=1702253604, file_ids=[], metadata={}, object='thread.message', role='assistant', run_id='run_LEvF6HRhqaMOdmJy8vJaISQY', thread_id='thread_Ow5ckWMTuyS7ls3iauLdFwFn')]\n",
      "Predicted for 'Now we are going to form sentences using nouns, verbs, and adjectives.': NEU\n",
      "Predicted for 'A sentence is a group of words that expresses a complete thought.': NEU\n",
      "Predicted for 'Let's build a sentence together. I'll start with a noun: 'The cat'.': NEU\n",
      "Predicted for 'Can someone add a verb to our sentence?': OTR\n",
      "Predicted for 'Great, now our sentence is: 'The cat runs'.': NEU\n",
      "Sending prompt: \n",
      "Good morning class, today we are going to learn about nouns.: Good morning class, today we are going to learn about nouns.\n",
      "A noun is a word that represents a person, place, thing, or idea.: A noun is a word that represents a person, place, thing, or idea.\n",
      "Can anyone give me an example of a noun?: Can anyone give me an example of a noun?\n",
      "That's right, 'dog' is a noun because it is a thing.: That's right, 'dog' is a noun because it is a thing.\n",
      "Let's write down some nouns in our notebooks.: Let's write down some nouns in our notebooks.\n",
      "Now, let's talk about verbs. Does anyone know what a verb is?: Now, let's talk about verbs. Does anyone know what a verb is?\n",
      "A verb is a word that describes an action, occurrence, or state of being.: A verb is a word that describes an action, occurrence, or state of being.\n",
      "Can someone give me an example of a verb?: Can someone give me an example of a verb?\n",
      "Great example, 'run' is a verb because it is an action.: Great example, 'run' is a verb because it is an action.\n",
      "Now, let's write down some verbs in our notebooks.: Now, let's write down some verbs in our notebooks.\n",
      "Next, we are going to learn about adjectives.: Next, we are going to learn about adjectives.\n",
      "An adjective is a word that describes a noun.: An adjective is a word that describes a noun.\n",
      "Can someone give me an example of an adjective?: Can someone give me an example of an adjective?\n",
      "Exactly, 'beautiful' is an adjective because it describes a noun.: Exactly, 'beautiful' is an adjective because it describes a noun.\n",
      "Let's write down some adjectives in our notebooks.: Let's write down some adjectives in our notebooks.\n",
      "Now we are going to form sentences using nouns, verbs, and adjectives.: Now we are going to form sentences using nouns, verbs, and adjectives.\n",
      "A sentence is a group of words that expresses a complete thought.: A sentence is a group of words that expresses a complete thought.\n",
      "Let's build a sentence together. I'll start with a noun: 'The cat'.: Let's build a sentence together. I'll start with a noun: 'The cat'.\n",
      "Can someone add a verb to our sentence?: Can someone add a verb to our sentence?\n",
      "Great, now our sentence is: 'The cat runs'.: Great, now our sentence is: 'The cat runs'.\n",
      "\n",
      "Can someone add an adjective to our sentence?\n",
      "Received messages: [ThreadMessage(id='msg_suRvIGctAAnVBhGMe76qH0yw', assistant_id=None, content=[MessageContentText(text=Text(annotations=[], value=\"\\nGood morning class, today we are going to learn about nouns.: Good morning class, today we are going to learn about nouns.\\nA noun is a word that represents a person, place, thing, or idea.: A noun is a word that represents a person, place, thing, or idea.\\nCan anyone give me an example of a noun?: Can anyone give me an example of a noun?\\nThat's right, 'dog' is a noun because it is a thing.: That's right, 'dog' is a noun because it is a thing.\\nLet's write down some nouns in our notebooks.: Let's write down some nouns in our notebooks.\\nNow, let's talk about verbs. Does anyone know what a verb is?: Now, let's talk about verbs. Does anyone know what a verb is?\\nA verb is a word that describes an action, occurrence, or state of being.: A verb is a word that describes an action, occurrence, or state of being.\\nCan someone give me an example of a verb?: Can someone give me an example of a verb?\\nGreat example, 'run' is a verb because it is an action.: Great example, 'run' is a verb because it is an action.\\nNow, let's write down some verbs in our notebooks.: Now, let's write down some verbs in our notebooks.\\nNext, we are going to learn about adjectives.: Next, we are going to learn about adjectives.\\nAn adjective is a word that describes a noun.: An adjective is a word that describes a noun.\\nCan someone give me an example of an adjective?: Can someone give me an example of an adjective?\\nExactly, 'beautiful' is an adjective because it describes a noun.: Exactly, 'beautiful' is an adjective because it describes a noun.\\nLet's write down some adjectives in our notebooks.: Let's write down some adjectives in our notebooks.\\nNow we are going to form sentences using nouns, verbs, and adjectives.: Now we are going to form sentences using nouns, verbs, and adjectives.\\nA sentence is a group of words that expresses a complete thought.: A sentence is a group of words that expresses a complete thought.\\nLet's build a sentence together. I'll start with a noun: 'The cat'.: Let's build a sentence together. I'll start with a noun: 'The cat'.\\nCan someone add a verb to our sentence?: Can someone add a verb to our sentence?\\nGreat, now our sentence is: 'The cat runs'.: Great, now our sentence is: 'The cat runs'.\\n\\nCan someone add an adjective to our sentence?\"), type='text')], created_at=1702253608, file_ids=[], metadata={}, object='thread.message', role='user', run_id=None, thread_id='thread_LbGDhjriZtwkKjhvDEkChAhS'), ThreadMessage(id='msg_UFkUwI1SjJ6NWIcFClq5x0Qx', assistant_id='asst_JfdFyYCTWTBaIzgTK6guLYy2', content=[MessageContentText(text=Text(annotations=[], value='OTR'), type='text')], created_at=1702253609, file_ids=[], metadata={}, object='thread.message', role='assistant', run_id='run_syQ3JfPBRkpS3XJ8KbtwQXT3', thread_id='thread_LbGDhjriZtwkKjhvDEkChAhS')]\n",
      "Sending prompt: \n",
      "Good morning class, today we are going to learn about nouns.: Good morning class, today we are going to learn about nouns.\n",
      "A noun is a word that represents a person, place, thing, or idea.: A noun is a word that represents a person, place, thing, or idea.\n",
      "Can anyone give me an example of a noun?: Can anyone give me an example of a noun?\n",
      "That's right, 'dog' is a noun because it is a thing.: That's right, 'dog' is a noun because it is a thing.\n",
      "Let's write down some nouns in our notebooks.: Let's write down some nouns in our notebooks.\n",
      "Now, let's talk about verbs. Does anyone know what a verb is?: Now, let's talk about verbs. Does anyone know what a verb is?\n",
      "A verb is a word that describes an action, occurrence, or state of being.: A verb is a word that describes an action, occurrence, or state of being.\n",
      "Can someone give me an example of a verb?: Can someone give me an example of a verb?\n",
      "Great example, 'run' is a verb because it is an action.: Great example, 'run' is a verb because it is an action.\n",
      "Now, let's write down some verbs in our notebooks.: Now, let's write down some verbs in our notebooks.\n",
      "Next, we are going to learn about adjectives.: Next, we are going to learn about adjectives.\n",
      "An adjective is a word that describes a noun.: An adjective is a word that describes a noun.\n",
      "Can someone give me an example of an adjective?: Can someone give me an example of an adjective?\n",
      "Exactly, 'beautiful' is an adjective because it describes a noun.: Exactly, 'beautiful' is an adjective because it describes a noun.\n",
      "Let's write down some adjectives in our notebooks.: Let's write down some adjectives in our notebooks.\n",
      "Now we are going to form sentences using nouns, verbs, and adjectives.: Now we are going to form sentences using nouns, verbs, and adjectives.\n",
      "A sentence is a group of words that expresses a complete thought.: A sentence is a group of words that expresses a complete thought.\n",
      "Let's build a sentence together. I'll start with a noun: 'The cat'.: Let's build a sentence together. I'll start with a noun: 'The cat'.\n",
      "Can someone add a verb to our sentence?: Can someone add a verb to our sentence?\n",
      "Great, now our sentence is: 'The cat runs'.: Great, now our sentence is: 'The cat runs'.\n",
      "\n",
      "Wonderful, our sentence is now: 'The fast cat runs'.\n",
      "Received messages: [ThreadMessage(id='msg_4iSvWndmxbWgnFD2mxSLiQOY', assistant_id=None, content=[MessageContentText(text=Text(annotations=[], value=\"\\nGood morning class, today we are going to learn about nouns.: Good morning class, today we are going to learn about nouns.\\nA noun is a word that represents a person, place, thing, or idea.: A noun is a word that represents a person, place, thing, or idea.\\nCan anyone give me an example of a noun?: Can anyone give me an example of a noun?\\nThat's right, 'dog' is a noun because it is a thing.: That's right, 'dog' is a noun because it is a thing.\\nLet's write down some nouns in our notebooks.: Let's write down some nouns in our notebooks.\\nNow, let's talk about verbs. Does anyone know what a verb is?: Now, let's talk about verbs. Does anyone know what a verb is?\\nA verb is a word that describes an action, occurrence, or state of being.: A verb is a word that describes an action, occurrence, or state of being.\\nCan someone give me an example of a verb?: Can someone give me an example of a verb?\\nGreat example, 'run' is a verb because it is an action.: Great example, 'run' is a verb because it is an action.\\nNow, let's write down some verbs in our notebooks.: Now, let's write down some verbs in our notebooks.\\nNext, we are going to learn about adjectives.: Next, we are going to learn about adjectives.\\nAn adjective is a word that describes a noun.: An adjective is a word that describes a noun.\\nCan someone give me an example of an adjective?: Can someone give me an example of an adjective?\\nExactly, 'beautiful' is an adjective because it describes a noun.: Exactly, 'beautiful' is an adjective because it describes a noun.\\nLet's write down some adjectives in our notebooks.: Let's write down some adjectives in our notebooks.\\nNow we are going to form sentences using nouns, verbs, and adjectives.: Now we are going to form sentences using nouns, verbs, and adjectives.\\nA sentence is a group of words that expresses a complete thought.: A sentence is a group of words that expresses a complete thought.\\nLet's build a sentence together. I'll start with a noun: 'The cat'.: Let's build a sentence together. I'll start with a noun: 'The cat'.\\nCan someone add a verb to our sentence?: Can someone add a verb to our sentence?\\nGreat, now our sentence is: 'The cat runs'.: Great, now our sentence is: 'The cat runs'.\\n\\nWonderful, our sentence is now: 'The fast cat runs'.\"), type='text')], created_at=1702253611, file_ids=[], metadata={}, object='thread.message', role='user', run_id=None, thread_id='thread_VnScSd2cEjvee8k55yDrVL28'), ThreadMessage(id='msg_oGAgabqDwAKe4UGoArUAJ2uW', assistant_id='asst_JfdFyYCTWTBaIzgTK6guLYy2', content=[MessageContentText(text=Text(annotations=[], value='NEU\\nNEU\\nOTR\\nPRS\\nNEU\\nOTR\\nNEU\\nOTR\\nPRS\\nNEU\\nNEU\\nNEU\\nOTR\\nPRS\\nNEU\\nNEU\\nNEU\\nNEU\\nOTR\\nPRS\\nPRS'), type='text')], created_at=1702253613, file_ids=[], metadata={}, object='thread.message', role='assistant', run_id='run_Qj77phifuJWuPgrciV0kfuAU', thread_id='thread_VnScSd2cEjvee8k55yDrVL28')]\n",
      "Sending prompt: \n",
      "Good morning class, today we are going to learn about nouns.: Good morning class, today we are going to learn about nouns.\n",
      "A noun is a word that represents a person, place, thing, or idea.: A noun is a word that represents a person, place, thing, or idea.\n",
      "Can anyone give me an example of a noun?: Can anyone give me an example of a noun?\n",
      "That's right, 'dog' is a noun because it is a thing.: That's right, 'dog' is a noun because it is a thing.\n",
      "Let's write down some nouns in our notebooks.: Let's write down some nouns in our notebooks.\n",
      "Now, let's talk about verbs. Does anyone know what a verb is?: Now, let's talk about verbs. Does anyone know what a verb is?\n",
      "A verb is a word that describes an action, occurrence, or state of being.: A verb is a word that describes an action, occurrence, or state of being.\n",
      "Can someone give me an example of a verb?: Can someone give me an example of a verb?\n",
      "Great example, 'run' is a verb because it is an action.: Great example, 'run' is a verb because it is an action.\n",
      "Now, let's write down some verbs in our notebooks.: Now, let's write down some verbs in our notebooks.\n",
      "Next, we are going to learn about adjectives.: Next, we are going to learn about adjectives.\n",
      "An adjective is a word that describes a noun.: An adjective is a word that describes a noun.\n",
      "Can someone give me an example of an adjective?: Can someone give me an example of an adjective?\n",
      "Exactly, 'beautiful' is an adjective because it describes a noun.: Exactly, 'beautiful' is an adjective because it describes a noun.\n",
      "Let's write down some adjectives in our notebooks.: Let's write down some adjectives in our notebooks.\n",
      "Now we are going to form sentences using nouns, verbs, and adjectives.: Now we are going to form sentences using nouns, verbs, and adjectives.\n",
      "A sentence is a group of words that expresses a complete thought.: A sentence is a group of words that expresses a complete thought.\n",
      "Let's build a sentence together. I'll start with a noun: 'The cat'.: Let's build a sentence together. I'll start with a noun: 'The cat'.\n",
      "Can someone add a verb to our sentence?: Can someone add a verb to our sentence?\n",
      "Great, now our sentence is: 'The cat runs'.: Great, now our sentence is: 'The cat runs'.\n",
      "\n",
      "Let's write down some of our own sentences in our notebooks.\n",
      "Received messages: [ThreadMessage(id='msg_NAtkEof9DMPn8ecunTCw7ONh', assistant_id=None, content=[MessageContentText(text=Text(annotations=[], value=\"\\nGood morning class, today we are going to learn about nouns.: Good morning class, today we are going to learn about nouns.\\nA noun is a word that represents a person, place, thing, or idea.: A noun is a word that represents a person, place, thing, or idea.\\nCan anyone give me an example of a noun?: Can anyone give me an example of a noun?\\nThat's right, 'dog' is a noun because it is a thing.: That's right, 'dog' is a noun because it is a thing.\\nLet's write down some nouns in our notebooks.: Let's write down some nouns in our notebooks.\\nNow, let's talk about verbs. Does anyone know what a verb is?: Now, let's talk about verbs. Does anyone know what a verb is?\\nA verb is a word that describes an action, occurrence, or state of being.: A verb is a word that describes an action, occurrence, or state of being.\\nCan someone give me an example of a verb?: Can someone give me an example of a verb?\\nGreat example, 'run' is a verb because it is an action.: Great example, 'run' is a verb because it is an action.\\nNow, let's write down some verbs in our notebooks.: Now, let's write down some verbs in our notebooks.\\nNext, we are going to learn about adjectives.: Next, we are going to learn about adjectives.\\nAn adjective is a word that describes a noun.: An adjective is a word that describes a noun.\\nCan someone give me an example of an adjective?: Can someone give me an example of an adjective?\\nExactly, 'beautiful' is an adjective because it describes a noun.: Exactly, 'beautiful' is an adjective because it describes a noun.\\nLet's write down some adjectives in our notebooks.: Let's write down some adjectives in our notebooks.\\nNow we are going to form sentences using nouns, verbs, and adjectives.: Now we are going to form sentences using nouns, verbs, and adjectives.\\nA sentence is a group of words that expresses a complete thought.: A sentence is a group of words that expresses a complete thought.\\nLet's build a sentence together. I'll start with a noun: 'The cat'.: Let's build a sentence together. I'll start with a noun: 'The cat'.\\nCan someone add a verb to our sentence?: Can someone add a verb to our sentence?\\nGreat, now our sentence is: 'The cat runs'.: Great, now our sentence is: 'The cat runs'.\\n\\nLet's write down some of our own sentences in our notebooks.\"), type='text')], created_at=1702253617, file_ids=[], metadata={}, object='thread.message', role='user', run_id=None, thread_id='thread_PjVsrDV3brft4F33AWGNAEtj'), ThreadMessage(id='msg_3PqgIl3RgnxtPaFB43kwOCKE', assistant_id='asst_JfdFyYCTWTBaIzgTK6guLYy2', content=[MessageContentText(text=Text(annotations=[], value='NEU\\nNEU\\nOTR\\nPRS\\nNEU\\nOTR\\nNEU\\nOTR\\nPRS\\nNEU\\nNEU\\nNEU\\nOTR\\nPRS\\nNEU\\nNEU\\nNEU\\nOTR\\nPRS\\nNEU'), type='text')], created_at=1702253618, file_ids=[], metadata={}, object='thread.message', role='assistant', run_id='run_BZqm90124PpYSGEiPqRnqpNM', thread_id='thread_PjVsrDV3brft4F33AWGNAEtj')]\n",
      "Sending prompt: \n",
      "Good morning class, today we are going to learn about nouns.: Good morning class, today we are going to learn about nouns.\n",
      "A noun is a word that represents a person, place, thing, or idea.: A noun is a word that represents a person, place, thing, or idea.\n",
      "Can anyone give me an example of a noun?: Can anyone give me an example of a noun?\n",
      "That's right, 'dog' is a noun because it is a thing.: That's right, 'dog' is a noun because it is a thing.\n",
      "Let's write down some nouns in our notebooks.: Let's write down some nouns in our notebooks.\n",
      "Now, let's talk about verbs. Does anyone know what a verb is?: Now, let's talk about verbs. Does anyone know what a verb is?\n",
      "A verb is a word that describes an action, occurrence, or state of being.: A verb is a word that describes an action, occurrence, or state of being.\n",
      "Can someone give me an example of a verb?: Can someone give me an example of a verb?\n",
      "Great example, 'run' is a verb because it is an action.: Great example, 'run' is a verb because it is an action.\n",
      "Now, let's write down some verbs in our notebooks.: Now, let's write down some verbs in our notebooks.\n",
      "Next, we are going to learn about adjectives.: Next, we are going to learn about adjectives.\n",
      "An adjective is a word that describes a noun.: An adjective is a word that describes a noun.\n",
      "Can someone give me an example of an adjective?: Can someone give me an example of an adjective?\n",
      "Exactly, 'beautiful' is an adjective because it describes a noun.: Exactly, 'beautiful' is an adjective because it describes a noun.\n",
      "Let's write down some adjectives in our notebooks.: Let's write down some adjectives in our notebooks.\n",
      "Now we are going to form sentences using nouns, verbs, and adjectives.: Now we are going to form sentences using nouns, verbs, and adjectives.\n",
      "A sentence is a group of words that expresses a complete thought.: A sentence is a group of words that expresses a complete thought.\n",
      "Let's build a sentence together. I'll start with a noun: 'The cat'.: Let's build a sentence together. I'll start with a noun: 'The cat'.\n",
      "Can someone add a verb to our sentence?: Can someone add a verb to our sentence?\n",
      "Great, now our sentence is: 'The cat runs'.: Great, now our sentence is: 'The cat runs'.\n",
      "\n",
      "Now we are going to learn about punctuation.\n",
      "Received messages: [ThreadMessage(id='msg_KjI3ivPYACuKljrhJMaPX4fd', assistant_id=None, content=[MessageContentText(text=Text(annotations=[], value=\"\\nGood morning class, today we are going to learn about nouns.: Good morning class, today we are going to learn about nouns.\\nA noun is a word that represents a person, place, thing, or idea.: A noun is a word that represents a person, place, thing, or idea.\\nCan anyone give me an example of a noun?: Can anyone give me an example of a noun?\\nThat's right, 'dog' is a noun because it is a thing.: That's right, 'dog' is a noun because it is a thing.\\nLet's write down some nouns in our notebooks.: Let's write down some nouns in our notebooks.\\nNow, let's talk about verbs. Does anyone know what a verb is?: Now, let's talk about verbs. Does anyone know what a verb is?\\nA verb is a word that describes an action, occurrence, or state of being.: A verb is a word that describes an action, occurrence, or state of being.\\nCan someone give me an example of a verb?: Can someone give me an example of a verb?\\nGreat example, 'run' is a verb because it is an action.: Great example, 'run' is a verb because it is an action.\\nNow, let's write down some verbs in our notebooks.: Now, let's write down some verbs in our notebooks.\\nNext, we are going to learn about adjectives.: Next, we are going to learn about adjectives.\\nAn adjective is a word that describes a noun.: An adjective is a word that describes a noun.\\nCan someone give me an example of an adjective?: Can someone give me an example of an adjective?\\nExactly, 'beautiful' is an adjective because it describes a noun.: Exactly, 'beautiful' is an adjective because it describes a noun.\\nLet's write down some adjectives in our notebooks.: Let's write down some adjectives in our notebooks.\\nNow we are going to form sentences using nouns, verbs, and adjectives.: Now we are going to form sentences using nouns, verbs, and adjectives.\\nA sentence is a group of words that expresses a complete thought.: A sentence is a group of words that expresses a complete thought.\\nLet's build a sentence together. I'll start with a noun: 'The cat'.: Let's build a sentence together. I'll start with a noun: 'The cat'.\\nCan someone add a verb to our sentence?: Can someone add a verb to our sentence?\\nGreat, now our sentence is: 'The cat runs'.: Great, now our sentence is: 'The cat runs'.\\n\\nNow we are going to learn about punctuation.\"), type='text')], created_at=1702253621, file_ids=[], metadata={}, object='thread.message', role='user', run_id=None, thread_id='thread_8wqr3ns6989aD6j5RwcqKngy'), ThreadMessage(id='msg_siMJUrkq94tq9Y3L2gAPcyDY', assistant_id='asst_JfdFyYCTWTBaIzgTK6guLYy2', content=[MessageContentText(text=Text(annotations=[], value='NEU\\nNEU\\nOTR\\nPRS\\nNEU\\nOTR\\nNEU\\nOTR\\nPRS\\nNEU\\nNEU\\nNEU\\nOTR\\nPRS\\nNEU\\nNEU\\nNEU\\nOTR\\nOTR\\nPRS\\nNEU'), type='text')], created_at=1702253622, file_ids=[], metadata={}, object='thread.message', role='assistant', run_id='run_d4RFqrH4WFxhvN9M7nvu8kHD', thread_id='thread_8wqr3ns6989aD6j5RwcqKngy')]\n",
      "Sending prompt: \n",
      "Good morning class, today we are going to learn about nouns.: Good morning class, today we are going to learn about nouns.\n",
      "A noun is a word that represents a person, place, thing, or idea.: A noun is a word that represents a person, place, thing, or idea.\n",
      "Can anyone give me an example of a noun?: Can anyone give me an example of a noun?\n",
      "That's right, 'dog' is a noun because it is a thing.: That's right, 'dog' is a noun because it is a thing.\n",
      "Let's write down some nouns in our notebooks.: Let's write down some nouns in our notebooks.\n",
      "Now, let's talk about verbs. Does anyone know what a verb is?: Now, let's talk about verbs. Does anyone know what a verb is?\n",
      "A verb is a word that describes an action, occurrence, or state of being.: A verb is a word that describes an action, occurrence, or state of being.\n",
      "Can someone give me an example of a verb?: Can someone give me an example of a verb?\n",
      "Great example, 'run' is a verb because it is an action.: Great example, 'run' is a verb because it is an action.\n",
      "Now, let's write down some verbs in our notebooks.: Now, let's write down some verbs in our notebooks.\n",
      "Next, we are going to learn about adjectives.: Next, we are going to learn about adjectives.\n",
      "An adjective is a word that describes a noun.: An adjective is a word that describes a noun.\n",
      "Can someone give me an example of an adjective?: Can someone give me an example of an adjective?\n",
      "Exactly, 'beautiful' is an adjective because it describes a noun.: Exactly, 'beautiful' is an adjective because it describes a noun.\n",
      "Let's write down some adjectives in our notebooks.: Let's write down some adjectives in our notebooks.\n",
      "Now we are going to form sentences using nouns, verbs, and adjectives.: Now we are going to form sentences using nouns, verbs, and adjectives.\n",
      "A sentence is a group of words that expresses a complete thought.: A sentence is a group of words that expresses a complete thought.\n",
      "Let's build a sentence together. I'll start with a noun: 'The cat'.: Let's build a sentence together. I'll start with a noun: 'The cat'.\n",
      "Can someone add a verb to our sentence?: Can someone add a verb to our sentence?\n",
      "Great, now our sentence is: 'The cat runs'.: Great, now our sentence is: 'The cat runs'.\n",
      "\n",
      "Punctuation marks are symbols that help us to organize and structure sentences.\n",
      "Received messages: [ThreadMessage(id='msg_vlHT5CAQGEdGUFhmQjrO8Fa6', assistant_id=None, content=[MessageContentText(text=Text(annotations=[], value=\"\\nGood morning class, today we are going to learn about nouns.: Good morning class, today we are going to learn about nouns.\\nA noun is a word that represents a person, place, thing, or idea.: A noun is a word that represents a person, place, thing, or idea.\\nCan anyone give me an example of a noun?: Can anyone give me an example of a noun?\\nThat's right, 'dog' is a noun because it is a thing.: That's right, 'dog' is a noun because it is a thing.\\nLet's write down some nouns in our notebooks.: Let's write down some nouns in our notebooks.\\nNow, let's talk about verbs. Does anyone know what a verb is?: Now, let's talk about verbs. Does anyone know what a verb is?\\nA verb is a word that describes an action, occurrence, or state of being.: A verb is a word that describes an action, occurrence, or state of being.\\nCan someone give me an example of a verb?: Can someone give me an example of a verb?\\nGreat example, 'run' is a verb because it is an action.: Great example, 'run' is a verb because it is an action.\\nNow, let's write down some verbs in our notebooks.: Now, let's write down some verbs in our notebooks.\\nNext, we are going to learn about adjectives.: Next, we are going to learn about adjectives.\\nAn adjective is a word that describes a noun.: An adjective is a word that describes a noun.\\nCan someone give me an example of an adjective?: Can someone give me an example of an adjective?\\nExactly, 'beautiful' is an adjective because it describes a noun.: Exactly, 'beautiful' is an adjective because it describes a noun.\\nLet's write down some adjectives in our notebooks.: Let's write down some adjectives in our notebooks.\\nNow we are going to form sentences using nouns, verbs, and adjectives.: Now we are going to form sentences using nouns, verbs, and adjectives.\\nA sentence is a group of words that expresses a complete thought.: A sentence is a group of words that expresses a complete thought.\\nLet's build a sentence together. I'll start with a noun: 'The cat'.: Let's build a sentence together. I'll start with a noun: 'The cat'.\\nCan someone add a verb to our sentence?: Can someone add a verb to our sentence?\\nGreat, now our sentence is: 'The cat runs'.: Great, now our sentence is: 'The cat runs'.\\n\\nPunctuation marks are symbols that help us to organize and structure sentences.\"), type='text')], created_at=1702253627, file_ids=[], metadata={}, object='thread.message', role='user', run_id=None, thread_id='thread_yiKc63DI0JE8zaNjvRekr4KS'), ThreadMessage(id='msg_Xp10IApoGleUB3fV19SJEKPf', assistant_id='asst_JfdFyYCTWTBaIzgTK6guLYy2', content=[MessageContentText(text=Text(annotations=[], value='NEU\\nNEU\\nOTR\\nPRS\\nNEU\\nOTR\\nNEU\\nOTR\\nPRS\\nNEU\\nNEU\\nNEU\\nOTR\\nPRS\\nNEU\\nNEU\\nNEU\\nNEU\\nOTR\\nPRS\\nNEU'), type='text')], created_at=1702253628, file_ids=[], metadata={}, object='thread.message', role='assistant', run_id='run_SlR5EkmZdgkxZCzTQmozGcKQ', thread_id='thread_yiKc63DI0JE8zaNjvRekr4KS')]\n",
      "Predicted for 'Can someone add an adjective to our sentence?': OTR\n",
      "Predicted for 'Wonderful, our sentence is now: 'The fast cat runs'.': PRS\n",
      "Predicted for 'Let's write down some of our own sentences in our notebooks.': NEU\n",
      "Predicted for 'Now we are going to learn about punctuation.': NEU\n",
      "Predicted for 'Punctuation marks are symbols that help us to organize and structure sentences.': NEU\n",
      "Sending prompt: \n",
      "Good morning class, today we are going to learn about nouns.: Good morning class, today we are going to learn about nouns.\n",
      "A noun is a word that represents a person, place, thing, or idea.: A noun is a word that represents a person, place, thing, or idea.\n",
      "Can anyone give me an example of a noun?: Can anyone give me an example of a noun?\n",
      "That's right, 'dog' is a noun because it is a thing.: That's right, 'dog' is a noun because it is a thing.\n",
      "Let's write down some nouns in our notebooks.: Let's write down some nouns in our notebooks.\n",
      "Now, let's talk about verbs. Does anyone know what a verb is?: Now, let's talk about verbs. Does anyone know what a verb is?\n",
      "A verb is a word that describes an action, occurrence, or state of being.: A verb is a word that describes an action, occurrence, or state of being.\n",
      "Can someone give me an example of a verb?: Can someone give me an example of a verb?\n",
      "Great example, 'run' is a verb because it is an action.: Great example, 'run' is a verb because it is an action.\n",
      "Now, let's write down some verbs in our notebooks.: Now, let's write down some verbs in our notebooks.\n",
      "Next, we are going to learn about adjectives.: Next, we are going to learn about adjectives.\n",
      "An adjective is a word that describes a noun.: An adjective is a word that describes a noun.\n",
      "Can someone give me an example of an adjective?: Can someone give me an example of an adjective?\n",
      "Exactly, 'beautiful' is an adjective because it describes a noun.: Exactly, 'beautiful' is an adjective because it describes a noun.\n",
      "Let's write down some adjectives in our notebooks.: Let's write down some adjectives in our notebooks.\n",
      "Now we are going to form sentences using nouns, verbs, and adjectives.: Now we are going to form sentences using nouns, verbs, and adjectives.\n",
      "A sentence is a group of words that expresses a complete thought.: A sentence is a group of words that expresses a complete thought.\n",
      "Let's build a sentence together. I'll start with a noun: 'The cat'.: Let's build a sentence together. I'll start with a noun: 'The cat'.\n",
      "Can someone add a verb to our sentence?: Can someone add a verb to our sentence?\n",
      "Great, now our sentence is: 'The cat runs'.: Great, now our sentence is: 'The cat runs'.\n",
      "Can someone add an adjective to our sentence?: Can someone add an adjective to our sentence?\n",
      "Wonderful, our sentence is now: 'The fast cat runs'.: Wonderful, our sentence is now: 'The fast cat runs'.\n",
      "Let's write down some of our own sentences in our notebooks.: Let's write down some of our own sentences in our notebooks.\n",
      "Now we are going to learn about punctuation.: Now we are going to learn about punctuation.\n",
      "Punctuation marks are symbols that help us to organize and structure sentences.: Punctuation marks are symbols that help us to organize and structure sentences.\n",
      "\n",
      "The period is a punctuation mark used to end a sentence.\n",
      "Received messages: [ThreadMessage(id='msg_yJYs4uD5DAPfkhaNuV4mzWAe', assistant_id=None, content=[MessageContentText(text=Text(annotations=[], value=\"\\nGood morning class, today we are going to learn about nouns.: Good morning class, today we are going to learn about nouns.\\nA noun is a word that represents a person, place, thing, or idea.: A noun is a word that represents a person, place, thing, or idea.\\nCan anyone give me an example of a noun?: Can anyone give me an example of a noun?\\nThat's right, 'dog' is a noun because it is a thing.: That's right, 'dog' is a noun because it is a thing.\\nLet's write down some nouns in our notebooks.: Let's write down some nouns in our notebooks.\\nNow, let's talk about verbs. Does anyone know what a verb is?: Now, let's talk about verbs. Does anyone know what a verb is?\\nA verb is a word that describes an action, occurrence, or state of being.: A verb is a word that describes an action, occurrence, or state of being.\\nCan someone give me an example of a verb?: Can someone give me an example of a verb?\\nGreat example, 'run' is a verb because it is an action.: Great example, 'run' is a verb because it is an action.\\nNow, let's write down some verbs in our notebooks.: Now, let's write down some verbs in our notebooks.\\nNext, we are going to learn about adjectives.: Next, we are going to learn about adjectives.\\nAn adjective is a word that describes a noun.: An adjective is a word that describes a noun.\\nCan someone give me an example of an adjective?: Can someone give me an example of an adjective?\\nExactly, 'beautiful' is an adjective because it describes a noun.: Exactly, 'beautiful' is an adjective because it describes a noun.\\nLet's write down some adjectives in our notebooks.: Let's write down some adjectives in our notebooks.\\nNow we are going to form sentences using nouns, verbs, and adjectives.: Now we are going to form sentences using nouns, verbs, and adjectives.\\nA sentence is a group of words that expresses a complete thought.: A sentence is a group of words that expresses a complete thought.\\nLet's build a sentence together. I'll start with a noun: 'The cat'.: Let's build a sentence together. I'll start with a noun: 'The cat'.\\nCan someone add a verb to our sentence?: Can someone add a verb to our sentence?\\nGreat, now our sentence is: 'The cat runs'.: Great, now our sentence is: 'The cat runs'.\\nCan someone add an adjective to our sentence?: Can someone add an adjective to our sentence?\\nWonderful, our sentence is now: 'The fast cat runs'.: Wonderful, our sentence is now: 'The fast cat runs'.\\nLet's write down some of our own sentences in our notebooks.: Let's write down some of our own sentences in our notebooks.\\nNow we are going to learn about punctuation.: Now we are going to learn about punctuation.\\nPunctuation marks are symbols that help us to organize and structure sentences.: Punctuation marks are symbols that help us to organize and structure sentences.\\n\\nThe period is a punctuation mark used to end a sentence.\"), type='text')], created_at=1702253635, file_ids=[], metadata={}, object='thread.message', role='user', run_id=None, thread_id='thread_0BY5sIOZ7sdapHJ7fCmnDfEx'), ThreadMessage(id='msg_5N0QoubL1Ap8OO7I1SRiqyt3', assistant_id='asst_JfdFyYCTWTBaIzgTK6guLYy2', content=[MessageContentText(text=Text(annotations=[], value='NEU\\nNEU\\nOTR\\nPRS\\nNEU\\nOTR\\nNEU\\nOTR\\nPRS\\nNEU\\nNEU\\nNEU\\nOTR\\nPRS\\nNEU\\nNEU\\nNEU\\nOTR\\nPRS\\nOTR\\nPRS\\nNEU\\nNEU'), type='text')], created_at=1702253637, file_ids=[], metadata={}, object='thread.message', role='assistant', run_id='run_AaUTyZiBuH9cD071VAQ2yUro', thread_id='thread_0BY5sIOZ7sdapHJ7fCmnDfEx')]\n",
      "Sending prompt: \n",
      "Good morning class, today we are going to learn about nouns.: Good morning class, today we are going to learn about nouns.\n",
      "A noun is a word that represents a person, place, thing, or idea.: A noun is a word that represents a person, place, thing, or idea.\n",
      "Can anyone give me an example of a noun?: Can anyone give me an example of a noun?\n",
      "That's right, 'dog' is a noun because it is a thing.: That's right, 'dog' is a noun because it is a thing.\n",
      "Let's write down some nouns in our notebooks.: Let's write down some nouns in our notebooks.\n",
      "Now, let's talk about verbs. Does anyone know what a verb is?: Now, let's talk about verbs. Does anyone know what a verb is?\n",
      "A verb is a word that describes an action, occurrence, or state of being.: A verb is a word that describes an action, occurrence, or state of being.\n",
      "Can someone give me an example of a verb?: Can someone give me an example of a verb?\n",
      "Great example, 'run' is a verb because it is an action.: Great example, 'run' is a verb because it is an action.\n",
      "Now, let's write down some verbs in our notebooks.: Now, let's write down some verbs in our notebooks.\n",
      "Next, we are going to learn about adjectives.: Next, we are going to learn about adjectives.\n",
      "An adjective is a word that describes a noun.: An adjective is a word that describes a noun.\n",
      "Can someone give me an example of an adjective?: Can someone give me an example of an adjective?\n",
      "Exactly, 'beautiful' is an adjective because it describes a noun.: Exactly, 'beautiful' is an adjective because it describes a noun.\n",
      "Let's write down some adjectives in our notebooks.: Let's write down some adjectives in our notebooks.\n",
      "Now we are going to form sentences using nouns, verbs, and adjectives.: Now we are going to form sentences using nouns, verbs, and adjectives.\n",
      "A sentence is a group of words that expresses a complete thought.: A sentence is a group of words that expresses a complete thought.\n",
      "Let's build a sentence together. I'll start with a noun: 'The cat'.: Let's build a sentence together. I'll start with a noun: 'The cat'.\n",
      "Can someone add a verb to our sentence?: Can someone add a verb to our sentence?\n",
      "Great, now our sentence is: 'The cat runs'.: Great, now our sentence is: 'The cat runs'.\n",
      "Can someone add an adjective to our sentence?: Can someone add an adjective to our sentence?\n",
      "Wonderful, our sentence is now: 'The fast cat runs'.: Wonderful, our sentence is now: 'The fast cat runs'.\n",
      "Let's write down some of our own sentences in our notebooks.: Let's write down some of our own sentences in our notebooks.\n",
      "Now we are going to learn about punctuation.: Now we are going to learn about punctuation.\n",
      "Punctuation marks are symbols that help us to organize and structure sentences.: Punctuation marks are symbols that help us to organize and structure sentences.\n",
      "\n",
      "The question mark is used at the end of a question.\n",
      "Received messages: [ThreadMessage(id='msg_yqxrolu9Xj21pUkELDk4Oelt', assistant_id=None, content=[MessageContentText(text=Text(annotations=[], value=\"\\nGood morning class, today we are going to learn about nouns.: Good morning class, today we are going to learn about nouns.\\nA noun is a word that represents a person, place, thing, or idea.: A noun is a word that represents a person, place, thing, or idea.\\nCan anyone give me an example of a noun?: Can anyone give me an example of a noun?\\nThat's right, 'dog' is a noun because it is a thing.: That's right, 'dog' is a noun because it is a thing.\\nLet's write down some nouns in our notebooks.: Let's write down some nouns in our notebooks.\\nNow, let's talk about verbs. Does anyone know what a verb is?: Now, let's talk about verbs. Does anyone know what a verb is?\\nA verb is a word that describes an action, occurrence, or state of being.: A verb is a word that describes an action, occurrence, or state of being.\\nCan someone give me an example of a verb?: Can someone give me an example of a verb?\\nGreat example, 'run' is a verb because it is an action.: Great example, 'run' is a verb because it is an action.\\nNow, let's write down some verbs in our notebooks.: Now, let's write down some verbs in our notebooks.\\nNext, we are going to learn about adjectives.: Next, we are going to learn about adjectives.\\nAn adjective is a word that describes a noun.: An adjective is a word that describes a noun.\\nCan someone give me an example of an adjective?: Can someone give me an example of an adjective?\\nExactly, 'beautiful' is an adjective because it describes a noun.: Exactly, 'beautiful' is an adjective because it describes a noun.\\nLet's write down some adjectives in our notebooks.: Let's write down some adjectives in our notebooks.\\nNow we are going to form sentences using nouns, verbs, and adjectives.: Now we are going to form sentences using nouns, verbs, and adjectives.\\nA sentence is a group of words that expresses a complete thought.: A sentence is a group of words that expresses a complete thought.\\nLet's build a sentence together. I'll start with a noun: 'The cat'.: Let's build a sentence together. I'll start with a noun: 'The cat'.\\nCan someone add a verb to our sentence?: Can someone add a verb to our sentence?\\nGreat, now our sentence is: 'The cat runs'.: Great, now our sentence is: 'The cat runs'.\\nCan someone add an adjective to our sentence?: Can someone add an adjective to our sentence?\\nWonderful, our sentence is now: 'The fast cat runs'.: Wonderful, our sentence is now: 'The fast cat runs'.\\nLet's write down some of our own sentences in our notebooks.: Let's write down some of our own sentences in our notebooks.\\nNow we are going to learn about punctuation.: Now we are going to learn about punctuation.\\nPunctuation marks are symbols that help us to organize and structure sentences.: Punctuation marks are symbols that help us to organize and structure sentences.\\n\\nThe question mark is used at the end of a question.\"), type='text')], created_at=1702253642, file_ids=[], metadata={}, object='thread.message', role='user', run_id=None, thread_id='thread_0mhZqNfBeuF3xvPmqSTYco91'), ThreadMessage(id='msg_Yg707KXs0mDZfdG6LMRVVlHT', assistant_id='asst_JfdFyYCTWTBaIzgTK6guLYy2', content=[MessageContentText(text=Text(annotations=[], value='NEU\\nNEU\\nOTR\\nPRS\\nNEU\\nOTR\\nNEU\\nOTR\\nPRS\\nNEU\\nNEU\\nNEU\\nOTR\\nPRS\\nNEU\\nNEU\\nNEU\\nNEU\\nOTR\\nPRS\\nOTR\\nPRS\\nNEU\\nNEU'), type='text')], created_at=1702253643, file_ids=[], metadata={}, object='thread.message', role='assistant', run_id='run_UHAMkNfZW1TnEeChVPaPQckM', thread_id='thread_0mhZqNfBeuF3xvPmqSTYco91')]\n",
      "Sending prompt: \n",
      "Good morning class, today we are going to learn about nouns.: Good morning class, today we are going to learn about nouns.\n",
      "A noun is a word that represents a person, place, thing, or idea.: A noun is a word that represents a person, place, thing, or idea.\n",
      "Can anyone give me an example of a noun?: Can anyone give me an example of a noun?\n",
      "That's right, 'dog' is a noun because it is a thing.: That's right, 'dog' is a noun because it is a thing.\n",
      "Let's write down some nouns in our notebooks.: Let's write down some nouns in our notebooks.\n",
      "Now, let's talk about verbs. Does anyone know what a verb is?: Now, let's talk about verbs. Does anyone know what a verb is?\n",
      "A verb is a word that describes an action, occurrence, or state of being.: A verb is a word that describes an action, occurrence, or state of being.\n",
      "Can someone give me an example of a verb?: Can someone give me an example of a verb?\n",
      "Great example, 'run' is a verb because it is an action.: Great example, 'run' is a verb because it is an action.\n",
      "Now, let's write down some verbs in our notebooks.: Now, let's write down some verbs in our notebooks.\n",
      "Next, we are going to learn about adjectives.: Next, we are going to learn about adjectives.\n",
      "An adjective is a word that describes a noun.: An adjective is a word that describes a noun.\n",
      "Can someone give me an example of an adjective?: Can someone give me an example of an adjective?\n",
      "Exactly, 'beautiful' is an adjective because it describes a noun.: Exactly, 'beautiful' is an adjective because it describes a noun.\n",
      "Let's write down some adjectives in our notebooks.: Let's write down some adjectives in our notebooks.\n",
      "Now we are going to form sentences using nouns, verbs, and adjectives.: Now we are going to form sentences using nouns, verbs, and adjectives.\n",
      "A sentence is a group of words that expresses a complete thought.: A sentence is a group of words that expresses a complete thought.\n",
      "Let's build a sentence together. I'll start with a noun: 'The cat'.: Let's build a sentence together. I'll start with a noun: 'The cat'.\n",
      "Can someone add a verb to our sentence?: Can someone add a verb to our sentence?\n",
      "Great, now our sentence is: 'The cat runs'.: Great, now our sentence is: 'The cat runs'.\n",
      "Can someone add an adjective to our sentence?: Can someone add an adjective to our sentence?\n",
      "Wonderful, our sentence is now: 'The fast cat runs'.: Wonderful, our sentence is now: 'The fast cat runs'.\n",
      "Let's write down some of our own sentences in our notebooks.: Let's write down some of our own sentences in our notebooks.\n",
      "Now we are going to learn about punctuation.: Now we are going to learn about punctuation.\n",
      "Punctuation marks are symbols that help us to organize and structure sentences.: Punctuation marks are symbols that help us to organize and structure sentences.\n",
      "\n",
      "The exclamation mark is used to express excitement or emphasis.\n",
      "Received messages: [ThreadMessage(id='msg_9ufPLQZfO9BnYq0RAbepfyvu', assistant_id=None, content=[MessageContentText(text=Text(annotations=[], value=\"\\nGood morning class, today we are going to learn about nouns.: Good morning class, today we are going to learn about nouns.\\nA noun is a word that represents a person, place, thing, or idea.: A noun is a word that represents a person, place, thing, or idea.\\nCan anyone give me an example of a noun?: Can anyone give me an example of a noun?\\nThat's right, 'dog' is a noun because it is a thing.: That's right, 'dog' is a noun because it is a thing.\\nLet's write down some nouns in our notebooks.: Let's write down some nouns in our notebooks.\\nNow, let's talk about verbs. Does anyone know what a verb is?: Now, let's talk about verbs. Does anyone know what a verb is?\\nA verb is a word that describes an action, occurrence, or state of being.: A verb is a word that describes an action, occurrence, or state of being.\\nCan someone give me an example of a verb?: Can someone give me an example of a verb?\\nGreat example, 'run' is a verb because it is an action.: Great example, 'run' is a verb because it is an action.\\nNow, let's write down some verbs in our notebooks.: Now, let's write down some verbs in our notebooks.\\nNext, we are going to learn about adjectives.: Next, we are going to learn about adjectives.\\nAn adjective is a word that describes a noun.: An adjective is a word that describes a noun.\\nCan someone give me an example of an adjective?: Can someone give me an example of an adjective?\\nExactly, 'beautiful' is an adjective because it describes a noun.: Exactly, 'beautiful' is an adjective because it describes a noun.\\nLet's write down some adjectives in our notebooks.: Let's write down some adjectives in our notebooks.\\nNow we are going to form sentences using nouns, verbs, and adjectives.: Now we are going to form sentences using nouns, verbs, and adjectives.\\nA sentence is a group of words that expresses a complete thought.: A sentence is a group of words that expresses a complete thought.\\nLet's build a sentence together. I'll start with a noun: 'The cat'.: Let's build a sentence together. I'll start with a noun: 'The cat'.\\nCan someone add a verb to our sentence?: Can someone add a verb to our sentence?\\nGreat, now our sentence is: 'The cat runs'.: Great, now our sentence is: 'The cat runs'.\\nCan someone add an adjective to our sentence?: Can someone add an adjective to our sentence?\\nWonderful, our sentence is now: 'The fast cat runs'.: Wonderful, our sentence is now: 'The fast cat runs'.\\nLet's write down some of our own sentences in our notebooks.: Let's write down some of our own sentences in our notebooks.\\nNow we are going to learn about punctuation.: Now we are going to learn about punctuation.\\nPunctuation marks are symbols that help us to organize and structure sentences.: Punctuation marks are symbols that help us to organize and structure sentences.\\n\\nThe exclamation mark is used to express excitement or emphasis.\"), type='text')], created_at=1702253647, file_ids=[], metadata={}, object='thread.message', role='user', run_id=None, thread_id='thread_jqXZx1UA2TrD7QATyB8FNH8l'), ThreadMessage(id='msg_AbP8aowk4IPyjBYAE0x7qtz6', assistant_id='asst_JfdFyYCTWTBaIzgTK6guLYy2', content=[MessageContentText(text=Text(annotations=[], value='NEU\\nNEU\\nOTR\\nPRS\\nNEU\\nOTR\\nNEU\\nOTR\\nPRS\\nNEU\\nNEU\\nNEU\\nOTR\\nPRS\\nNEU\\nNEU\\nNEU\\nOTR\\nPRS\\nOTR\\nPRS\\nNEU\\nNEU\\nNEU'), type='text')], created_at=1702253649, file_ids=[], metadata={}, object='thread.message', role='assistant', run_id='run_dMvxoQcrSHIIxfhUGk9cmDOQ', thread_id='thread_jqXZx1UA2TrD7QATyB8FNH8l')]\n",
      "Sending prompt: \n",
      "Good morning class, today we are going to learn about nouns.: Good morning class, today we are going to learn about nouns.\n",
      "A noun is a word that represents a person, place, thing, or idea.: A noun is a word that represents a person, place, thing, or idea.\n",
      "Can anyone give me an example of a noun?: Can anyone give me an example of a noun?\n",
      "That's right, 'dog' is a noun because it is a thing.: That's right, 'dog' is a noun because it is a thing.\n",
      "Let's write down some nouns in our notebooks.: Let's write down some nouns in our notebooks.\n",
      "Now, let's talk about verbs. Does anyone know what a verb is?: Now, let's talk about verbs. Does anyone know what a verb is?\n",
      "A verb is a word that describes an action, occurrence, or state of being.: A verb is a word that describes an action, occurrence, or state of being.\n",
      "Can someone give me an example of a verb?: Can someone give me an example of a verb?\n",
      "Great example, 'run' is a verb because it is an action.: Great example, 'run' is a verb because it is an action.\n",
      "Now, let's write down some verbs in our notebooks.: Now, let's write down some verbs in our notebooks.\n",
      "Next, we are going to learn about adjectives.: Next, we are going to learn about adjectives.\n",
      "An adjective is a word that describes a noun.: An adjective is a word that describes a noun.\n",
      "Can someone give me an example of an adjective?: Can someone give me an example of an adjective?\n",
      "Exactly, 'beautiful' is an adjective because it describes a noun.: Exactly, 'beautiful' is an adjective because it describes a noun.\n",
      "Let's write down some adjectives in our notebooks.: Let's write down some adjectives in our notebooks.\n",
      "Now we are going to form sentences using nouns, verbs, and adjectives.: Now we are going to form sentences using nouns, verbs, and adjectives.\n",
      "A sentence is a group of words that expresses a complete thought.: A sentence is a group of words that expresses a complete thought.\n",
      "Let's build a sentence together. I'll start with a noun: 'The cat'.: Let's build a sentence together. I'll start with a noun: 'The cat'.\n",
      "Can someone add a verb to our sentence?: Can someone add a verb to our sentence?\n",
      "Great, now our sentence is: 'The cat runs'.: Great, now our sentence is: 'The cat runs'.\n",
      "Can someone add an adjective to our sentence?: Can someone add an adjective to our sentence?\n",
      "Wonderful, our sentence is now: 'The fast cat runs'.: Wonderful, our sentence is now: 'The fast cat runs'.\n",
      "Let's write down some of our own sentences in our notebooks.: Let's write down some of our own sentences in our notebooks.\n",
      "Now we are going to learn about punctuation.: Now we are going to learn about punctuation.\n",
      "Punctuation marks are symbols that help us to organize and structure sentences.: Punctuation marks are symbols that help us to organize and structure sentences.\n",
      "\n",
      "Can someone give me a sentence with an exclamation mark?\n",
      "Received messages: [ThreadMessage(id='msg_JgaS58XafJnWkngeR4lsvSBn', assistant_id=None, content=[MessageContentText(text=Text(annotations=[], value=\"\\nGood morning class, today we are going to learn about nouns.: Good morning class, today we are going to learn about nouns.\\nA noun is a word that represents a person, place, thing, or idea.: A noun is a word that represents a person, place, thing, or idea.\\nCan anyone give me an example of a noun?: Can anyone give me an example of a noun?\\nThat's right, 'dog' is a noun because it is a thing.: That's right, 'dog' is a noun because it is a thing.\\nLet's write down some nouns in our notebooks.: Let's write down some nouns in our notebooks.\\nNow, let's talk about verbs. Does anyone know what a verb is?: Now, let's talk about verbs. Does anyone know what a verb is?\\nA verb is a word that describes an action, occurrence, or state of being.: A verb is a word that describes an action, occurrence, or state of being.\\nCan someone give me an example of a verb?: Can someone give me an example of a verb?\\nGreat example, 'run' is a verb because it is an action.: Great example, 'run' is a verb because it is an action.\\nNow, let's write down some verbs in our notebooks.: Now, let's write down some verbs in our notebooks.\\nNext, we are going to learn about adjectives.: Next, we are going to learn about adjectives.\\nAn adjective is a word that describes a noun.: An adjective is a word that describes a noun.\\nCan someone give me an example of an adjective?: Can someone give me an example of an adjective?\\nExactly, 'beautiful' is an adjective because it describes a noun.: Exactly, 'beautiful' is an adjective because it describes a noun.\\nLet's write down some adjectives in our notebooks.: Let's write down some adjectives in our notebooks.\\nNow we are going to form sentences using nouns, verbs, and adjectives.: Now we are going to form sentences using nouns, verbs, and adjectives.\\nA sentence is a group of words that expresses a complete thought.: A sentence is a group of words that expresses a complete thought.\\nLet's build a sentence together. I'll start with a noun: 'The cat'.: Let's build a sentence together. I'll start with a noun: 'The cat'.\\nCan someone add a verb to our sentence?: Can someone add a verb to our sentence?\\nGreat, now our sentence is: 'The cat runs'.: Great, now our sentence is: 'The cat runs'.\\nCan someone add an adjective to our sentence?: Can someone add an adjective to our sentence?\\nWonderful, our sentence is now: 'The fast cat runs'.: Wonderful, our sentence is now: 'The fast cat runs'.\\nLet's write down some of our own sentences in our notebooks.: Let's write down some of our own sentences in our notebooks.\\nNow we are going to learn about punctuation.: Now we are going to learn about punctuation.\\nPunctuation marks are symbols that help us to organize and structure sentences.: Punctuation marks are symbols that help us to organize and structure sentences.\\n\\nCan someone give me a sentence with an exclamation mark?\"), type='text')], created_at=1702253653, file_ids=[], metadata={}, object='thread.message', role='user', run_id=None, thread_id='thread_kVJ03fz9YipcYFbaKv9emMb1'), ThreadMessage(id='msg_vrJa91N65MkAB9wVpkdHdesk', assistant_id='asst_JfdFyYCTWTBaIzgTK6guLYy2', content=[MessageContentText(text=Text(annotations=[], value='OTR'), type='text')], created_at=1702253654, file_ids=[], metadata={}, object='thread.message', role='assistant', run_id='run_CqchDbtXachy8h8SVK6NiLSg', thread_id='thread_kVJ03fz9YipcYFbaKv9emMb1')]\n",
      "Sending prompt: \n",
      "Good morning class, today we are going to learn about nouns.: Good morning class, today we are going to learn about nouns.\n",
      "A noun is a word that represents a person, place, thing, or idea.: A noun is a word that represents a person, place, thing, or idea.\n",
      "Can anyone give me an example of a noun?: Can anyone give me an example of a noun?\n",
      "That's right, 'dog' is a noun because it is a thing.: That's right, 'dog' is a noun because it is a thing.\n",
      "Let's write down some nouns in our notebooks.: Let's write down some nouns in our notebooks.\n",
      "Now, let's talk about verbs. Does anyone know what a verb is?: Now, let's talk about verbs. Does anyone know what a verb is?\n",
      "A verb is a word that describes an action, occurrence, or state of being.: A verb is a word that describes an action, occurrence, or state of being.\n",
      "Can someone give me an example of a verb?: Can someone give me an example of a verb?\n",
      "Great example, 'run' is a verb because it is an action.: Great example, 'run' is a verb because it is an action.\n",
      "Now, let's write down some verbs in our notebooks.: Now, let's write down some verbs in our notebooks.\n",
      "Next, we are going to learn about adjectives.: Next, we are going to learn about adjectives.\n",
      "An adjective is a word that describes a noun.: An adjective is a word that describes a noun.\n",
      "Can someone give me an example of an adjective?: Can someone give me an example of an adjective?\n",
      "Exactly, 'beautiful' is an adjective because it describes a noun.: Exactly, 'beautiful' is an adjective because it describes a noun.\n",
      "Let's write down some adjectives in our notebooks.: Let's write down some adjectives in our notebooks.\n",
      "Now we are going to form sentences using nouns, verbs, and adjectives.: Now we are going to form sentences using nouns, verbs, and adjectives.\n",
      "A sentence is a group of words that expresses a complete thought.: A sentence is a group of words that expresses a complete thought.\n",
      "Let's build a sentence together. I'll start with a noun: 'The cat'.: Let's build a sentence together. I'll start with a noun: 'The cat'.\n",
      "Can someone add a verb to our sentence?: Can someone add a verb to our sentence?\n",
      "Great, now our sentence is: 'The cat runs'.: Great, now our sentence is: 'The cat runs'.\n",
      "Can someone add an adjective to our sentence?: Can someone add an adjective to our sentence?\n",
      "Wonderful, our sentence is now: 'The fast cat runs'.: Wonderful, our sentence is now: 'The fast cat runs'.\n",
      "Let's write down some of our own sentences in our notebooks.: Let's write down some of our own sentences in our notebooks.\n",
      "Now we are going to learn about punctuation.: Now we are going to learn about punctuation.\n",
      "Punctuation marks are symbols that help us to organize and structure sentences.: Punctuation marks are symbols that help us to organize and structure sentences.\n",
      "\n",
      "Great job, that sentence definitely needed an exclamation mark!\n",
      "Received messages: [ThreadMessage(id='msg_A7BQIicFfGOAsZShEPOPaVd9', assistant_id=None, content=[MessageContentText(text=Text(annotations=[], value=\"\\nGood morning class, today we are going to learn about nouns.: Good morning class, today we are going to learn about nouns.\\nA noun is a word that represents a person, place, thing, or idea.: A noun is a word that represents a person, place, thing, or idea.\\nCan anyone give me an example of a noun?: Can anyone give me an example of a noun?\\nThat's right, 'dog' is a noun because it is a thing.: That's right, 'dog' is a noun because it is a thing.\\nLet's write down some nouns in our notebooks.: Let's write down some nouns in our notebooks.\\nNow, let's talk about verbs. Does anyone know what a verb is?: Now, let's talk about verbs. Does anyone know what a verb is?\\nA verb is a word that describes an action, occurrence, or state of being.: A verb is a word that describes an action, occurrence, or state of being.\\nCan someone give me an example of a verb?: Can someone give me an example of a verb?\\nGreat example, 'run' is a verb because it is an action.: Great example, 'run' is a verb because it is an action.\\nNow, let's write down some verbs in our notebooks.: Now, let's write down some verbs in our notebooks.\\nNext, we are going to learn about adjectives.: Next, we are going to learn about adjectives.\\nAn adjective is a word that describes a noun.: An adjective is a word that describes a noun.\\nCan someone give me an example of an adjective?: Can someone give me an example of an adjective?\\nExactly, 'beautiful' is an adjective because it describes a noun.: Exactly, 'beautiful' is an adjective because it describes a noun.\\nLet's write down some adjectives in our notebooks.: Let's write down some adjectives in our notebooks.\\nNow we are going to form sentences using nouns, verbs, and adjectives.: Now we are going to form sentences using nouns, verbs, and adjectives.\\nA sentence is a group of words that expresses a complete thought.: A sentence is a group of words that expresses a complete thought.\\nLet's build a sentence together. I'll start with a noun: 'The cat'.: Let's build a sentence together. I'll start with a noun: 'The cat'.\\nCan someone add a verb to our sentence?: Can someone add a verb to our sentence?\\nGreat, now our sentence is: 'The cat runs'.: Great, now our sentence is: 'The cat runs'.\\nCan someone add an adjective to our sentence?: Can someone add an adjective to our sentence?\\nWonderful, our sentence is now: 'The fast cat runs'.: Wonderful, our sentence is now: 'The fast cat runs'.\\nLet's write down some of our own sentences in our notebooks.: Let's write down some of our own sentences in our notebooks.\\nNow we are going to learn about punctuation.: Now we are going to learn about punctuation.\\nPunctuation marks are symbols that help us to organize and structure sentences.: Punctuation marks are symbols that help us to organize and structure sentences.\\n\\nGreat job, that sentence definitely needed an exclamation mark!\"), type='text')], created_at=1702253656, file_ids=[], metadata={}, object='thread.message', role='user', run_id=None, thread_id='thread_MPO7evMictqWqtBOcsCoRF3z'), ThreadMessage(id='msg_aaeOxX9evVhqbqymcILjDlB0', assistant_id='asst_JfdFyYCTWTBaIzgTK6guLYy2', content=[MessageContentText(text=Text(annotations=[], value='NEU\\nNEU\\nOTR\\nPRS\\nNEU\\nOTR\\nNEU\\nOTR\\nPRS\\nNEU\\nNEU\\nNEU\\nOTR\\nPRS\\nNEU\\nNEU\\nNEU\\nNEU\\nOTR\\nPRS\\nOTR\\nPRS\\nNEU\\nNEU\\nNEU\\nPRS'), type='text')], created_at=1702253658, file_ids=[], metadata={}, object='thread.message', role='assistant', run_id='run_6aXKT0HHmizlicicTYIDoNyl', thread_id='thread_MPO7evMictqWqtBOcsCoRF3z')]\n",
      "Predicted for 'The period is a punctuation mark used to end a sentence.': NEU\n",
      "Predicted for 'The question mark is used at the end of a question.': NEU\n",
      "Predicted for 'The exclamation mark is used to express excitement or emphasis.': NEU\n",
      "Predicted for 'Can someone give me a sentence with an exclamation mark?': OTR\n",
      "Predicted for 'Great job, that sentence definitely needed an exclamation mark!': PRS\n",
      "Sending prompt: \n",
      "Good morning class, today we are going to learn about nouns.: Good morning class, today we are going to learn about nouns.\n",
      "A noun is a word that represents a person, place, thing, or idea.: A noun is a word that represents a person, place, thing, or idea.\n",
      "Can anyone give me an example of a noun?: Can anyone give me an example of a noun?\n",
      "That's right, 'dog' is a noun because it is a thing.: That's right, 'dog' is a noun because it is a thing.\n",
      "Let's write down some nouns in our notebooks.: Let's write down some nouns in our notebooks.\n",
      "Now, let's talk about verbs. Does anyone know what a verb is?: Now, let's talk about verbs. Does anyone know what a verb is?\n",
      "A verb is a word that describes an action, occurrence, or state of being.: A verb is a word that describes an action, occurrence, or state of being.\n",
      "Can someone give me an example of a verb?: Can someone give me an example of a verb?\n",
      "Great example, 'run' is a verb because it is an action.: Great example, 'run' is a verb because it is an action.\n",
      "Now, let's write down some verbs in our notebooks.: Now, let's write down some verbs in our notebooks.\n",
      "Next, we are going to learn about adjectives.: Next, we are going to learn about adjectives.\n",
      "An adjective is a word that describes a noun.: An adjective is a word that describes a noun.\n",
      "Can someone give me an example of an adjective?: Can someone give me an example of an adjective?\n",
      "Exactly, 'beautiful' is an adjective because it describes a noun.: Exactly, 'beautiful' is an adjective because it describes a noun.\n",
      "Let's write down some adjectives in our notebooks.: Let's write down some adjectives in our notebooks.\n",
      "Now we are going to form sentences using nouns, verbs, and adjectives.: Now we are going to form sentences using nouns, verbs, and adjectives.\n",
      "A sentence is a group of words that expresses a complete thought.: A sentence is a group of words that expresses a complete thought.\n",
      "Let's build a sentence together. I'll start with a noun: 'The cat'.: Let's build a sentence together. I'll start with a noun: 'The cat'.\n",
      "Can someone add a verb to our sentence?: Can someone add a verb to our sentence?\n",
      "Great, now our sentence is: 'The cat runs'.: Great, now our sentence is: 'The cat runs'.\n",
      "Can someone add an adjective to our sentence?: Can someone add an adjective to our sentence?\n",
      "Wonderful, our sentence is now: 'The fast cat runs'.: Wonderful, our sentence is now: 'The fast cat runs'.\n",
      "Let's write down some of our own sentences in our notebooks.: Let's write down some of our own sentences in our notebooks.\n",
      "Now we are going to learn about punctuation.: Now we are going to learn about punctuation.\n",
      "Punctuation marks are symbols that help us to organize and structure sentences.: Punctuation marks are symbols that help us to organize and structure sentences.\n",
      "The period is a punctuation mark used to end a sentence.: The period is a punctuation mark used to end a sentence.\n",
      "The question mark is used at the end of a question.: The question mark is used at the end of a question.\n",
      "The exclamation mark is used to express excitement or emphasis.: The exclamation mark is used to express excitement or emphasis.\n",
      "Can someone give me a sentence with an exclamation mark?: Can someone give me a sentence with an exclamation mark?\n",
      "Great job, that sentence definitely needed an exclamation mark!: Great job, that sentence definitely needed an exclamation mark!\n",
      "\n",
      "Let's write down some sentences with different punctuation marks in our notebooks.\n",
      "Received messages: [ThreadMessage(id='msg_CO2a7cADJbZhrvB7BGum8q6N', assistant_id=None, content=[MessageContentText(text=Text(annotations=[], value=\"\\nGood morning class, today we are going to learn about nouns.: Good morning class, today we are going to learn about nouns.\\nA noun is a word that represents a person, place, thing, or idea.: A noun is a word that represents a person, place, thing, or idea.\\nCan anyone give me an example of a noun?: Can anyone give me an example of a noun?\\nThat's right, 'dog' is a noun because it is a thing.: That's right, 'dog' is a noun because it is a thing.\\nLet's write down some nouns in our notebooks.: Let's write down some nouns in our notebooks.\\nNow, let's talk about verbs. Does anyone know what a verb is?: Now, let's talk about verbs. Does anyone know what a verb is?\\nA verb is a word that describes an action, occurrence, or state of being.: A verb is a word that describes an action, occurrence, or state of being.\\nCan someone give me an example of a verb?: Can someone give me an example of a verb?\\nGreat example, 'run' is a verb because it is an action.: Great example, 'run' is a verb because it is an action.\\nNow, let's write down some verbs in our notebooks.: Now, let's write down some verbs in our notebooks.\\nNext, we are going to learn about adjectives.: Next, we are going to learn about adjectives.\\nAn adjective is a word that describes a noun.: An adjective is a word that describes a noun.\\nCan someone give me an example of an adjective?: Can someone give me an example of an adjective?\\nExactly, 'beautiful' is an adjective because it describes a noun.: Exactly, 'beautiful' is an adjective because it describes a noun.\\nLet's write down some adjectives in our notebooks.: Let's write down some adjectives in our notebooks.\\nNow we are going to form sentences using nouns, verbs, and adjectives.: Now we are going to form sentences using nouns, verbs, and adjectives.\\nA sentence is a group of words that expresses a complete thought.: A sentence is a group of words that expresses a complete thought.\\nLet's build a sentence together. I'll start with a noun: 'The cat'.: Let's build a sentence together. I'll start with a noun: 'The cat'.\\nCan someone add a verb to our sentence?: Can someone add a verb to our sentence?\\nGreat, now our sentence is: 'The cat runs'.: Great, now our sentence is: 'The cat runs'.\\nCan someone add an adjective to our sentence?: Can someone add an adjective to our sentence?\\nWonderful, our sentence is now: 'The fast cat runs'.: Wonderful, our sentence is now: 'The fast cat runs'.\\nLet's write down some of our own sentences in our notebooks.: Let's write down some of our own sentences in our notebooks.\\nNow we are going to learn about punctuation.: Now we are going to learn about punctuation.\\nPunctuation marks are symbols that help us to organize and structure sentences.: Punctuation marks are symbols that help us to organize and structure sentences.\\nThe period is a punctuation mark used to end a sentence.: The period is a punctuation mark used to end a sentence.\\nThe question mark is used at the end of a question.: The question mark is used at the end of a question.\\nThe exclamation mark is used to express excitement or emphasis.: The exclamation mark is used to express excitement or emphasis.\\nCan someone give me a sentence with an exclamation mark?: Can someone give me a sentence with an exclamation mark?\\nGreat job, that sentence definitely needed an exclamation mark!: Great job, that sentence definitely needed an exclamation mark!\\n\\nLet's write down some sentences with different punctuation marks in our notebooks.\"), type='text')], created_at=1702253663, file_ids=[], metadata={}, object='thread.message', role='user', run_id=None, thread_id='thread_pz6XiGDATGDHlYGD0Sn5DHM8'), ThreadMessage(id='msg_cnYnsGHx0mf9WUPZL4fRl4AU', assistant_id='asst_JfdFyYCTWTBaIzgTK6guLYy2', content=[MessageContentText(text=Text(annotations=[], value='NEU\\nNEU\\nOTR\\nPRS\\nNEU\\nOTR\\nNEU\\nOTR\\nPRS\\nNEU\\nNEU\\nNEU\\nOTR\\nPRS\\nNEU\\nNEU\\nNEU\\nOTR\\nPRS\\nOTR\\nPRS\\nNEU\\nNEU\\nNEU\\nNEU\\nNEU\\nOTR\\nPRS\\nNEU'), type='text')], created_at=1702253665, file_ids=[], metadata={}, object='thread.message', role='assistant', run_id='run_ctiT0OlWVFnwiRXLZNlnJfGB', thread_id='thread_pz6XiGDATGDHlYGD0Sn5DHM8')]\n",
      "Sending prompt: \n",
      "Good morning class, today we are going to learn about nouns.: Good morning class, today we are going to learn about nouns.\n",
      "A noun is a word that represents a person, place, thing, or idea.: A noun is a word that represents a person, place, thing, or idea.\n",
      "Can anyone give me an example of a noun?: Can anyone give me an example of a noun?\n",
      "That's right, 'dog' is a noun because it is a thing.: That's right, 'dog' is a noun because it is a thing.\n",
      "Let's write down some nouns in our notebooks.: Let's write down some nouns in our notebooks.\n",
      "Now, let's talk about verbs. Does anyone know what a verb is?: Now, let's talk about verbs. Does anyone know what a verb is?\n",
      "A verb is a word that describes an action, occurrence, or state of being.: A verb is a word that describes an action, occurrence, or state of being.\n",
      "Can someone give me an example of a verb?: Can someone give me an example of a verb?\n",
      "Great example, 'run' is a verb because it is an action.: Great example, 'run' is a verb because it is an action.\n",
      "Now, let's write down some verbs in our notebooks.: Now, let's write down some verbs in our notebooks.\n",
      "Next, we are going to learn about adjectives.: Next, we are going to learn about adjectives.\n",
      "An adjective is a word that describes a noun.: An adjective is a word that describes a noun.\n",
      "Can someone give me an example of an adjective?: Can someone give me an example of an adjective?\n",
      "Exactly, 'beautiful' is an adjective because it describes a noun.: Exactly, 'beautiful' is an adjective because it describes a noun.\n",
      "Let's write down some adjectives in our notebooks.: Let's write down some adjectives in our notebooks.\n",
      "Now we are going to form sentences using nouns, verbs, and adjectives.: Now we are going to form sentences using nouns, verbs, and adjectives.\n",
      "A sentence is a group of words that expresses a complete thought.: A sentence is a group of words that expresses a complete thought.\n",
      "Let's build a sentence together. I'll start with a noun: 'The cat'.: Let's build a sentence together. I'll start with a noun: 'The cat'.\n",
      "Can someone add a verb to our sentence?: Can someone add a verb to our sentence?\n",
      "Great, now our sentence is: 'The cat runs'.: Great, now our sentence is: 'The cat runs'.\n",
      "Can someone add an adjective to our sentence?: Can someone add an adjective to our sentence?\n",
      "Wonderful, our sentence is now: 'The fast cat runs'.: Wonderful, our sentence is now: 'The fast cat runs'.\n",
      "Let's write down some of our own sentences in our notebooks.: Let's write down some of our own sentences in our notebooks.\n",
      "Now we are going to learn about punctuation.: Now we are going to learn about punctuation.\n",
      "Punctuation marks are symbols that help us to organize and structure sentences.: Punctuation marks are symbols that help us to organize and structure sentences.\n",
      "The period is a punctuation mark used to end a sentence.: The period is a punctuation mark used to end a sentence.\n",
      "The question mark is used at the end of a question.: The question mark is used at the end of a question.\n",
      "The exclamation mark is used to express excitement or emphasis.: The exclamation mark is used to express excitement or emphasis.\n",
      "Can someone give me a sentence with an exclamation mark?: Can someone give me a sentence with an exclamation mark?\n",
      "Great job, that sentence definitely needed an exclamation mark!: Great job, that sentence definitely needed an exclamation mark!\n",
      "\n",
      "Next, we are going to learn about pronouns.\n",
      "Received messages: [ThreadMessage(id='msg_x3nWwkyRV8oMgYV4GEKxVkjC', assistant_id=None, content=[MessageContentText(text=Text(annotations=[], value=\"\\nGood morning class, today we are going to learn about nouns.: Good morning class, today we are going to learn about nouns.\\nA noun is a word that represents a person, place, thing, or idea.: A noun is a word that represents a person, place, thing, or idea.\\nCan anyone give me an example of a noun?: Can anyone give me an example of a noun?\\nThat's right, 'dog' is a noun because it is a thing.: That's right, 'dog' is a noun because it is a thing.\\nLet's write down some nouns in our notebooks.: Let's write down some nouns in our notebooks.\\nNow, let's talk about verbs. Does anyone know what a verb is?: Now, let's talk about verbs. Does anyone know what a verb is?\\nA verb is a word that describes an action, occurrence, or state of being.: A verb is a word that describes an action, occurrence, or state of being.\\nCan someone give me an example of a verb?: Can someone give me an example of a verb?\\nGreat example, 'run' is a verb because it is an action.: Great example, 'run' is a verb because it is an action.\\nNow, let's write down some verbs in our notebooks.: Now, let's write down some verbs in our notebooks.\\nNext, we are going to learn about adjectives.: Next, we are going to learn about adjectives.\\nAn adjective is a word that describes a noun.: An adjective is a word that describes a noun.\\nCan someone give me an example of an adjective?: Can someone give me an example of an adjective?\\nExactly, 'beautiful' is an adjective because it describes a noun.: Exactly, 'beautiful' is an adjective because it describes a noun.\\nLet's write down some adjectives in our notebooks.: Let's write down some adjectives in our notebooks.\\nNow we are going to form sentences using nouns, verbs, and adjectives.: Now we are going to form sentences using nouns, verbs, and adjectives.\\nA sentence is a group of words that expresses a complete thought.: A sentence is a group of words that expresses a complete thought.\\nLet's build a sentence together. I'll start with a noun: 'The cat'.: Let's build a sentence together. I'll start with a noun: 'The cat'.\\nCan someone add a verb to our sentence?: Can someone add a verb to our sentence?\\nGreat, now our sentence is: 'The cat runs'.: Great, now our sentence is: 'The cat runs'.\\nCan someone add an adjective to our sentence?: Can someone add an adjective to our sentence?\\nWonderful, our sentence is now: 'The fast cat runs'.: Wonderful, our sentence is now: 'The fast cat runs'.\\nLet's write down some of our own sentences in our notebooks.: Let's write down some of our own sentences in our notebooks.\\nNow we are going to learn about punctuation.: Now we are going to learn about punctuation.\\nPunctuation marks are symbols that help us to organize and structure sentences.: Punctuation marks are symbols that help us to organize and structure sentences.\\nThe period is a punctuation mark used to end a sentence.: The period is a punctuation mark used to end a sentence.\\nThe question mark is used at the end of a question.: The question mark is used at the end of a question.\\nThe exclamation mark is used to express excitement or emphasis.: The exclamation mark is used to express excitement or emphasis.\\nCan someone give me a sentence with an exclamation mark?: Can someone give me a sentence with an exclamation mark?\\nGreat job, that sentence definitely needed an exclamation mark!: Great job, that sentence definitely needed an exclamation mark!\\n\\nNext, we are going to learn about pronouns.\"), type='text')], created_at=1702253670, file_ids=[], metadata={}, object='thread.message', role='user', run_id=None, thread_id='thread_VoXjaIcPtOWpYwXu9iLuKxHn'), ThreadMessage(id='msg_caHkjauGYP8XxQirkOU44Bhi', assistant_id='asst_JfdFyYCTWTBaIzgTK6guLYy2', content=[MessageContentText(text=Text(annotations=[], value='NEU\\nNEU\\nOTR\\nPRS\\nNEU\\nOTR\\nNEU\\nOTR\\nPRS\\nNEU\\nNEU\\nNEU\\nOTR\\nPRS\\nNEU\\nNEU\\nNEU\\nOTR\\nPRS\\nOTR\\nPRS\\nNEU\\nNEU\\nNEU\\nNEU\\nNEU\\nOTR\\nPRS'), type='text')], created_at=1702253671, file_ids=[], metadata={}, object='thread.message', role='assistant', run_id='run_Yutw00GONGoO3PLoy2Ir0UFZ', thread_id='thread_VoXjaIcPtOWpYwXu9iLuKxHn')]\n",
      "Sending prompt: \n",
      "Good morning class, today we are going to learn about nouns.: Good morning class, today we are going to learn about nouns.\n",
      "A noun is a word that represents a person, place, thing, or idea.: A noun is a word that represents a person, place, thing, or idea.\n",
      "Can anyone give me an example of a noun?: Can anyone give me an example of a noun?\n",
      "That's right, 'dog' is a noun because it is a thing.: That's right, 'dog' is a noun because it is a thing.\n",
      "Let's write down some nouns in our notebooks.: Let's write down some nouns in our notebooks.\n",
      "Now, let's talk about verbs. Does anyone know what a verb is?: Now, let's talk about verbs. Does anyone know what a verb is?\n",
      "A verb is a word that describes an action, occurrence, or state of being.: A verb is a word that describes an action, occurrence, or state of being.\n",
      "Can someone give me an example of a verb?: Can someone give me an example of a verb?\n",
      "Great example, 'run' is a verb because it is an action.: Great example, 'run' is a verb because it is an action.\n",
      "Now, let's write down some verbs in our notebooks.: Now, let's write down some verbs in our notebooks.\n",
      "Next, we are going to learn about adjectives.: Next, we are going to learn about adjectives.\n",
      "An adjective is a word that describes a noun.: An adjective is a word that describes a noun.\n",
      "Can someone give me an example of an adjective?: Can someone give me an example of an adjective?\n",
      "Exactly, 'beautiful' is an adjective because it describes a noun.: Exactly, 'beautiful' is an adjective because it describes a noun.\n",
      "Let's write down some adjectives in our notebooks.: Let's write down some adjectives in our notebooks.\n",
      "Now we are going to form sentences using nouns, verbs, and adjectives.: Now we are going to form sentences using nouns, verbs, and adjectives.\n",
      "A sentence is a group of words that expresses a complete thought.: A sentence is a group of words that expresses a complete thought.\n",
      "Let's build a sentence together. I'll start with a noun: 'The cat'.: Let's build a sentence together. I'll start with a noun: 'The cat'.\n",
      "Can someone add a verb to our sentence?: Can someone add a verb to our sentence?\n",
      "Great, now our sentence is: 'The cat runs'.: Great, now our sentence is: 'The cat runs'.\n",
      "Can someone add an adjective to our sentence?: Can someone add an adjective to our sentence?\n",
      "Wonderful, our sentence is now: 'The fast cat runs'.: Wonderful, our sentence is now: 'The fast cat runs'.\n",
      "Let's write down some of our own sentences in our notebooks.: Let's write down some of our own sentences in our notebooks.\n",
      "Now we are going to learn about punctuation.: Now we are going to learn about punctuation.\n",
      "Punctuation marks are symbols that help us to organize and structure sentences.: Punctuation marks are symbols that help us to organize and structure sentences.\n",
      "The period is a punctuation mark used to end a sentence.: The period is a punctuation mark used to end a sentence.\n",
      "The question mark is used at the end of a question.: The question mark is used at the end of a question.\n",
      "The exclamation mark is used to express excitement or emphasis.: The exclamation mark is used to express excitement or emphasis.\n",
      "Can someone give me a sentence with an exclamation mark?: Can someone give me a sentence with an exclamation mark?\n",
      "Great job, that sentence definitely needed an exclamation mark!: Great job, that sentence definitely needed an exclamation mark!\n",
      "\n",
      "A pronoun is a word that can take the place of a noun.\n"
     ]
    },
    {
     "ename": "KeyboardInterrupt",
     "evalue": "",
     "output_type": "error",
     "traceback": [
      "\u001b[0;31m---------------------------------------------------------------------------\u001b[0m",
      "\u001b[0;31mKeyboardInterrupt\u001b[0m                         Traceback (most recent call last)",
      "Cell \u001b[0;32mIn[46], line 6\u001b[0m\n\u001b[1;32m      4\u001b[0m \u001b[38;5;66;03m# Process initial batch for context\u001b[39;00m\n\u001b[1;32m      5\u001b[0m initial_data \u001b[38;5;241m=\u001b[39m lines[:\u001b[38;5;241m5\u001b[39m]  \u001b[38;5;66;03m# Adjust as needed\u001b[39;00m\n\u001b[0;32m----> 6\u001b[0m all_labeled_data \u001b[38;5;241m=\u001b[39m \u001b[43minteractive_labeling_loop\u001b[49m\u001b[43m(\u001b[49m\u001b[43minitial_data\u001b[49m\u001b[43m,\u001b[49m\u001b[43m \u001b[49m\u001b[43mlines\u001b[49m\u001b[43m[\u001b[49m\u001b[38;5;241;43m5\u001b[39;49m\u001b[43m:\u001b[49m\u001b[43m]\u001b[49m\u001b[43m,\u001b[49m\u001b[43m \u001b[49m\u001b[43massistant_manager\u001b[49m\u001b[43m)\u001b[49m\n\u001b[1;32m      8\u001b[0m \u001b[38;5;66;03m# Display results\u001b[39;00m\n\u001b[1;32m      9\u001b[0m \u001b[38;5;28mprint\u001b[39m(all_labeled_data[:\u001b[38;5;241m5\u001b[39m])\n",
      "Cell \u001b[0;32mIn[43], line 15\u001b[0m, in \u001b[0;36minteractive_labeling_loop\u001b[0;34m(initial_data, unlabeled_data, assistant_manager)\u001b[0m\n\u001b[1;32m     13\u001b[0m \u001b[38;5;28;01mfor\u001b[39;00m i \u001b[38;5;129;01min\u001b[39;00m \u001b[38;5;28mrange\u001b[39m(\u001b[38;5;241m0\u001b[39m, \u001b[38;5;28mlen\u001b[39m(unlabeled_data), batch_size):\n\u001b[1;32m     14\u001b[0m     batch \u001b[38;5;241m=\u001b[39m unlabeled_data[i:i \u001b[38;5;241m+\u001b[39m batch_size]\n\u001b[0;32m---> 15\u001b[0m     predictions \u001b[38;5;241m=\u001b[39m \u001b[43mget_predictions_with_context\u001b[49m\u001b[43m(\u001b[49m\u001b[43mcontext\u001b[49m\u001b[43m,\u001b[49m\u001b[43m \u001b[49m\u001b[43mbatch\u001b[49m\u001b[43m,\u001b[49m\u001b[43m \u001b[49m\u001b[43massistant_manager\u001b[49m\u001b[43m)\u001b[49m\n\u001b[1;32m     17\u001b[0m     \u001b[38;5;66;03m# User reviews and corrects predictions\u001b[39;00m\n\u001b[1;32m     18\u001b[0m     \u001b[38;5;28;01mfor\u001b[39;00m data, prediction \u001b[38;5;129;01min\u001b[39;00m \u001b[38;5;28mzip\u001b[39m(batch, predictions):\n",
      "Cell \u001b[0;32mIn[42], line 11\u001b[0m, in \u001b[0;36mget_predictions_with_context\u001b[0;34m(context, new_data, assistant_manager)\u001b[0m\n\u001b[1;32m      9\u001b[0m prompt \u001b[38;5;241m=\u001b[39m context \u001b[38;5;241m+\u001b[39m \u001b[38;5;124mf\u001b[39m\u001b[38;5;124m\"\u001b[39m\u001b[38;5;130;01m\\n\u001b[39;00m\u001b[38;5;130;01m\\n\u001b[39;00m\u001b[38;5;132;01m{\u001b[39;00mdata\u001b[38;5;132;01m}\u001b[39;00m\u001b[38;5;124m\"\u001b[39m\n\u001b[1;32m     10\u001b[0m \u001b[38;5;28mprint\u001b[39m(\u001b[38;5;124mf\u001b[39m\u001b[38;5;124m\"\u001b[39m\u001b[38;5;124mSending prompt: \u001b[39m\u001b[38;5;132;01m{\u001b[39;00mprompt\u001b[38;5;132;01m}\u001b[39;00m\u001b[38;5;124m\"\u001b[39m)  \u001b[38;5;66;03m# Debugging line\u001b[39;00m\n\u001b[0;32m---> 11\u001b[0m thread, completed_run \u001b[38;5;241m=\u001b[39m \u001b[43massistant_manager\u001b[49m\u001b[38;5;241;43m.\u001b[39;49m\u001b[43mcreate_thread_and_run\u001b[49m\u001b[43m(\u001b[49m\u001b[43mprompt\u001b[49m\u001b[43m)\u001b[49m\n\u001b[1;32m     12\u001b[0m response_page \u001b[38;5;241m=\u001b[39m assistant_manager\u001b[38;5;241m.\u001b[39mget_response()\n\u001b[1;32m     13\u001b[0m messages \u001b[38;5;241m=\u001b[39m [msg \u001b[38;5;28;01mfor\u001b[39;00m msg \u001b[38;5;129;01min\u001b[39;00m response_page]\n",
      "File \u001b[0;32m/workspaces/ai-assisted-coding-final/ai_assisted_coding_final/assistant.py:131\u001b[0m, in \u001b[0;36mOpenAIAssistantManager.create_thread_and_run\u001b[0;34m(self, user_input)\u001b[0m\n\u001b[1;32m    128\u001b[0m \u001b[38;5;28mself\u001b[39m\u001b[38;5;241m.\u001b[39mcurrent_thread \u001b[38;5;241m=\u001b[39m \u001b[38;5;28mself\u001b[39m\u001b[38;5;241m.\u001b[39mclient\u001b[38;5;241m.\u001b[39mbeta\u001b[38;5;241m.\u001b[39mthreads\u001b[38;5;241m.\u001b[39mcreate()\n\u001b[1;32m    130\u001b[0m \u001b[38;5;66;03m# Submit the message and wait for the run to complete\u001b[39;00m\n\u001b[0;32m--> 131\u001b[0m run \u001b[38;5;241m=\u001b[39m \u001b[38;5;28;43mself\u001b[39;49m\u001b[38;5;241;43m.\u001b[39;49m\u001b[43msubmit_message\u001b[49m\u001b[43m(\u001b[49m\u001b[43muser_input\u001b[49m\u001b[43m)\u001b[49m\n\u001b[1;32m    132\u001b[0m completed_run \u001b[38;5;241m=\u001b[39m \u001b[38;5;28mself\u001b[39m\u001b[38;5;241m.\u001b[39mwait_on_run(run)\n\u001b[1;32m    134\u001b[0m \u001b[38;5;28;01mreturn\u001b[39;00m \u001b[38;5;28mself\u001b[39m\u001b[38;5;241m.\u001b[39mcurrent_thread, completed_run\n",
      "File \u001b[0;32m/workspaces/ai-assisted-coding-final/ai_assisted_coding_final/assistant.py:123\u001b[0m, in \u001b[0;36mOpenAIAssistantManager.submit_message\u001b[0;34m(self, user_message)\u001b[0m\n\u001b[1;32m    117\u001b[0m run \u001b[38;5;241m=\u001b[39m \u001b[38;5;28mself\u001b[39m\u001b[38;5;241m.\u001b[39mclient\u001b[38;5;241m.\u001b[39mbeta\u001b[38;5;241m.\u001b[39mthreads\u001b[38;5;241m.\u001b[39mruns\u001b[38;5;241m.\u001b[39mcreate(\n\u001b[1;32m    118\u001b[0m     thread_id\u001b[38;5;241m=\u001b[39m\u001b[38;5;28mself\u001b[39m\u001b[38;5;241m.\u001b[39mcurrent_thread\u001b[38;5;241m.\u001b[39mid,\n\u001b[1;32m    119\u001b[0m     assistant_id\u001b[38;5;241m=\u001b[39m\u001b[38;5;28mself\u001b[39m\u001b[38;5;241m.\u001b[39mcurrent_assistant\u001b[38;5;241m.\u001b[39mid,\n\u001b[1;32m    120\u001b[0m )\n\u001b[1;32m    122\u001b[0m \u001b[38;5;66;03m# Wait for the run to complete before returning\u001b[39;00m\n\u001b[0;32m--> 123\u001b[0m \u001b[38;5;28;01mreturn\u001b[39;00m \u001b[38;5;28;43mself\u001b[39;49m\u001b[38;5;241;43m.\u001b[39;49m\u001b[43mwait_on_run\u001b[49m\u001b[43m(\u001b[49m\u001b[43mrun\u001b[49m\u001b[43m)\u001b[49m\n",
      "File \u001b[0;32m/workspaces/ai-assisted-coding-final/ai_assisted_coding_final/assistant.py:144\u001b[0m, in \u001b[0;36mOpenAIAssistantManager.wait_on_run\u001b[0;34m(self, run)\u001b[0m\n\u001b[1;32m    139\u001b[0m \u001b[38;5;28;01mwhile\u001b[39;00m run\u001b[38;5;241m.\u001b[39mstatus \u001b[38;5;241m==\u001b[39m \u001b[38;5;124m\"\u001b[39m\u001b[38;5;124mqueued\u001b[39m\u001b[38;5;124m\"\u001b[39m \u001b[38;5;129;01mor\u001b[39;00m run\u001b[38;5;241m.\u001b[39mstatus \u001b[38;5;241m==\u001b[39m \u001b[38;5;124m\"\u001b[39m\u001b[38;5;124min_progress\u001b[39m\u001b[38;5;124m\"\u001b[39m:\n\u001b[1;32m    140\u001b[0m     run \u001b[38;5;241m=\u001b[39m \u001b[38;5;28mself\u001b[39m\u001b[38;5;241m.\u001b[39mclient\u001b[38;5;241m.\u001b[39mbeta\u001b[38;5;241m.\u001b[39mthreads\u001b[38;5;241m.\u001b[39mruns\u001b[38;5;241m.\u001b[39mretrieve(\n\u001b[1;32m    141\u001b[0m         thread_id\u001b[38;5;241m=\u001b[39m\u001b[38;5;28mself\u001b[39m\u001b[38;5;241m.\u001b[39mcurrent_thread\u001b[38;5;241m.\u001b[39mid,\n\u001b[1;32m    142\u001b[0m         run_id\u001b[38;5;241m=\u001b[39mrun\u001b[38;5;241m.\u001b[39mid,\n\u001b[1;32m    143\u001b[0m     )\n\u001b[0;32m--> 144\u001b[0m     \u001b[43mtime\u001b[49m\u001b[38;5;241;43m.\u001b[39;49m\u001b[43msleep\u001b[49m\u001b[43m(\u001b[49m\u001b[38;5;241;43m0.5\u001b[39;49m\u001b[43m)\u001b[49m\n\u001b[1;32m    145\u001b[0m \u001b[38;5;28;01mreturn\u001b[39;00m run\n",
      "\u001b[0;31mKeyboardInterrupt\u001b[0m: "
     ]
    }
   ],
   "source": [
    "# Read data\n",
    "lines = read_csv('data/009-1.csv')\n",
    "\n",
    "# Process initial batch for context\n",
    "initial_data = lines[:5]  # Adjust as needed\n",
    "all_labeled_data = interactive_labeling_loop(initial_data, lines[5:], assistant_manager)\n",
    "\n",
    "# Display results\n",
    "print(all_labeled_data[:5])"
   ]
  },
  {
   "cell_type": "code",
   "execution_count": null,
   "metadata": {},
   "outputs": [],
   "source": []
  },
  {
   "cell_type": "code",
   "execution_count": 28,
   "metadata": {},
   "outputs": [
    {
     "data": {
      "text/plain": [
       "['An adjective is a word that describes a noun.',\n",
       " 'Can someone give me an example of an adjective?',\n",
       " \"Exactly, 'beautiful' is an adjective because it describes a noun.\",\n",
       " \"Let's write down some adjectives in our notebooks.\",\n",
       " 'Now we are going to form sentences using nouns, verbs, and adjectives.',\n",
       " 'A sentence is a group of words that expresses a complete thought.',\n",
       " \"Let's build a sentence together. I'll start with a noun: 'The cat'.\",\n",
       " 'Can someone add a verb to our sentence?',\n",
       " \"Great, now our sentence is: 'The cat runs'.\"]"
      ]
     },
     "execution_count": 28,
     "metadata": {},
     "output_type": "execute_result"
    }
   ],
   "source": [
    "lines[11:20]"
   ]
  },
  {
   "cell_type": "code",
   "execution_count": null,
   "metadata": {},
   "outputs": [],
   "source": [
    "assistant_manager.retrieve_message()"
   ]
  },
  {
   "cell_type": "code",
   "execution_count": null,
   "metadata": {},
   "outputs": [],
   "source": []
  },
  {
   "cell_type": "code",
   "execution_count": 21,
   "metadata": {
    "ExecuteTime": {
     "end_time": "2023-12-09T08:02:08.924625Z",
     "start_time": "2023-12-09T08:02:08.916258Z"
    }
   },
   "outputs": [
    {
     "data": {
      "text/plain": [
       "' \\nGreat. Here are some more examples of how to classify utterances::\\n\\nuser: Can someone give me an example of a pronoun?\\nassistant: OTR\\nuser: That\\'s right, \\'he\\' is a pronoun because it can take the place of a noun.\\nassistant: PRS\\nuser: \"You need to keep quiet while someone else is reading.\"\\nassistant: REP\\nuser: A pronoun is a word that can take the place of a noun.\\nassistant: NEU\\n\\nI am going to provide several more sentences. Only answer with the following labels: OTR, PRS, REP, NEU\\n'"
      ]
     },
     "execution_count": 21,
     "metadata": {},
     "output_type": "execute_result"
    }
   ],
   "source": [
    "# after labels are fed in send message like this WITH THE new labels \n",
    "\n",
    "\"\"\" \n",
    "Great. Here are some more examples of how to classify utterances::\n",
    "\n",
    "user: Can someone give me an example of a pronoun?\n",
    "assistant: OTR\n",
    "user: That's right, 'he' is a pronoun because it can take the place of a noun.\n",
    "assistant: PRS\n",
    "user: \"You need to keep quiet while someone else is reading.\"\n",
    "assistant: REP\n",
    "user: A pronoun is a word that can take the place of a noun.\n",
    "assistant: NEU\n",
    "\n",
    "I am going to provide several more sentences. Only answer with the following labels: OTR, PRS, REP, NEU\n",
    "\"\"\"\n",
    "\n",
    "# feed in next batch of labels and iterate "
   ]
  },
  {
   "cell_type": "code",
   "execution_count": 44,
   "metadata": {
    "ExecuteTime": {
     "end_time": "2023-12-09T08:08:30.485755Z",
     "start_time": "2023-12-09T08:02:10.463704Z"
    },
    "collapsed": false
   },
   "outputs": [],
   "source": [
    "# function to process the data in batches\n",
    "def process_lines_in_batches(lines, assistant_manager, batch_size=10):\n",
    "    batched_data = []\n",
    "    for i in range(0, len(lines), batch_size):\n",
    "        batch = lines[i:i + batch_size]\n",
    "        batched_data.extend(process_lines(batch, assistant_manager))\n",
    "    return batched_data\n",
    "\n",
    "# lines = read_csv('data/009-1.csv')\n",
    "# batched_messages = process_lines_in_batches(lines, assistant_manager, batch_size=10)\n",
    "# print(batched_messages[:20])"
   ]
  },
  {
   "cell_type": "code",
   "execution_count": null,
   "metadata": {
    "collapsed": false
   },
   "outputs": [],
   "source": []
  },
  {
   "cell_type": "code",
   "execution_count": 28,
   "metadata": {
    "ExecuteTime": {
     "end_time": "2023-12-09T08:43:37.488413Z",
     "start_time": "2023-12-09T08:36:45.690441Z"
    },
    "collapsed": false
   },
   "outputs": [
    {
     "name": "stdout",
     "output_type": "stream",
     "text": [
      "[('Good morning class, today we are going to learn about nouns.', 'nouns.'), ('A noun is a word that represents a person, place, thing, or idea.', 'idea.'), ('Can anyone give me an example of a noun?', 'noun?'), (\"That's right, 'dog' is a noun because it is a thing.\", 'thing.'), (\"Let's write down some nouns in our notebooks.\", 'notebooks.')]\n"
     ]
    }
   ],
   "source": [
    "# file path test file\n",
    "csv_file_path = 'data/009-1.csv'\n",
    "\n",
    "# reading in data\n",
    "lines = read_csv(csv_file_path)\n",
    "\n",
    "# process data in batches of size 10\n",
    "batched_messages = process_lines_in_batches(lines, assistant_manager, batch_size=10)\n",
    "\n",
    "# Display the first few results for testing\n",
    "print(batched_messages[:5])  # Adjust as needed to check the results\n",
    "\n",
    "# function to export the data to csv\n",
    "#def export_to_csv(data, output_file_path):\n",
    "   # data.to_csv(output_file_path, index=False)\n"
   ]
  },
  {
   "cell_type": "code",
   "execution_count": 42,
   "metadata": {
    "ExecuteTime": {
     "end_time": "2023-12-09T08:36:20.354393Z",
     "start_time": "2023-12-09T08:36:20.352347Z"
    },
    "collapsed": false
   },
   "outputs": [],
   "source": [
    "def label_data(user_input):\n",
    "    # This function should take user input and return the labeled data\n",
    "    # For simplicity, assume the user inputs the correct label directly\n",
    "    return user_input\n",
    "\n",
    "def get_predictions_with_context(context, new_data, assistant_manager):\n",
    "    predictions = []\n",
    "    for data in new_data:\n",
    "        prompt = context + f\"\\n\\n{data}\"\n",
    "        print(f\"Sending prompt: {prompt}\")  # Debugging line\n",
    "        thread, completed_run = assistant_manager.create_thread_and_run(prompt)\n",
    "        response_page = assistant_manager.get_response()\n",
    "        messages = [msg for msg in response_page]\n",
    "        print(f\"Received messages: {messages}\")  # Debugging line\n",
    "        if messages:\n",
    "            prediction = messages[-1].content[0].text.value.split()[-1]\n",
    "            predictions.append(prediction)\n",
    "    return predictions\n",
    "\n",
    "\n",
    "def interactive_labeling_loop(initial_data, unlabeled_data, assistant_manager):\n",
    "    context = \"\"\n",
    "    batch_size = 5  # Start with 5\n",
    "    all_labeled_data = []\n",
    "\n",
    "    # Start with initial data for context\n",
    "    for data in initial_data:\n",
    "        label = label_data(data)\n",
    "        context += f\"\\n{data}: {label}\"\n",
    "        all_labeled_data.append((data, label))\n",
    "\n",
    "    # Loop through unlabeled data in batches\n",
    "    for i in range(0, len(unlabeled_data), batch_size):\n",
    "        batch = unlabeled_data[i:i + batch_size]\n",
    "        predictions = get_predictions_with_context(context, batch, assistant_manager)\n",
    "\n",
    "        # User reviews and corrects predictions\n",
    "        for data, prediction in zip(batch, predictions):\n",
    "            print(f\"Predicted for '{data}': {prediction}\")\n",
    "            correct_label = label_data(data)\n",
    "            context += f\"\\n{data}: {correct_label}\"\n",
    "            all_labeled_data.append((data, correct_label))\n",
    "\n",
    "        # function to increase batch size based on accuracy or other criteria\n",
    "        # def increase_batch_size(batch_size, accuracy):\n",
    "        # if accuracy > 0.9:\n",
    "        # batch_size += 5\n",
    "        # if accuracy > 0.95:\n",
    "        # batch_size += 5\n",
    "        # return batch_size\n",
    "\n",
    "        # Increase batch size based on accuracy\n",
    "        # batch_size = increase_batch_size(batch_size, accuracy)\n",
    "\n",
    "        # Re-train the model\n",
    "        # ...\n",
    "\n",
    "        # Get the accuracy\n",
    "        # accuracy = get_accuracy()\n",
    "        # print(f\"Accuracy: {accuracy}\")\n",
    "\n",
    "        # Export the labeled data\n",
    "        # export_to_csv(all_labeled_data, \"labeled_data.csv\")\n",
    "        # ...\n",
    "\n",
    "    return all_labeled_data\n",
    "\n",
    "# Example usage\n",
    "# initial_data = [...]  # Your initial 5 sentences\n",
    "# unlabeled_data = [...]  # The rest of your data\n",
    "# all_labeled_data = interactive_labeling_loop(initial_data, unlabeled_data, assistant_manager)\n"
   ]
  },
  {
   "cell_type": "code",
   "execution_count": 45,
   "metadata": {
    "collapsed": false
   },
   "outputs": [
    {
     "ename": "KeyboardInterrupt",
     "evalue": "",
     "output_type": "error",
     "traceback": [
      "\u001b[0;31m---------------------------------------------------------------------------\u001b[0m",
      "\u001b[0;31mKeyboardInterrupt\u001b[0m                         Traceback (most recent call last)",
      "Cell \u001b[0;32mIn[45], line 8\u001b[0m\n\u001b[1;32m      5\u001b[0m lines \u001b[38;5;241m=\u001b[39m read_csv(csv_file_path)\n\u001b[1;32m      7\u001b[0m \u001b[38;5;66;03m# process data in batches of size 10\u001b[39;00m\n\u001b[0;32m----> 8\u001b[0m batched_messages \u001b[38;5;241m=\u001b[39m \u001b[43mprocess_lines_in_batches\u001b[49m\u001b[43m(\u001b[49m\u001b[43mlines\u001b[49m\u001b[43m,\u001b[49m\u001b[43m \u001b[49m\u001b[43massistant_manager\u001b[49m\u001b[43m,\u001b[49m\u001b[43m \u001b[49m\u001b[43mbatch_size\u001b[49m\u001b[38;5;241;43m=\u001b[39;49m\u001b[38;5;241;43m10\u001b[39;49m\u001b[43m)\u001b[49m\n\u001b[1;32m     10\u001b[0m \u001b[38;5;66;03m# Display the first few results for testing\u001b[39;00m\n\u001b[1;32m     11\u001b[0m \u001b[38;5;28mprint\u001b[39m(batched_messages[:\u001b[38;5;241m5\u001b[39m])  \u001b[38;5;66;03m# Adjust as needed to check the results\u001b[39;00m\n",
      "Cell \u001b[0;32mIn[44], line 6\u001b[0m, in \u001b[0;36mprocess_lines_in_batches\u001b[0;34m(lines, assistant_manager, batch_size)\u001b[0m\n\u001b[1;32m      4\u001b[0m \u001b[38;5;28;01mfor\u001b[39;00m i \u001b[38;5;129;01min\u001b[39;00m \u001b[38;5;28mrange\u001b[39m(\u001b[38;5;241m0\u001b[39m, \u001b[38;5;28mlen\u001b[39m(lines), batch_size):\n\u001b[1;32m      5\u001b[0m     batch \u001b[38;5;241m=\u001b[39m lines[i:i \u001b[38;5;241m+\u001b[39m batch_size]\n\u001b[0;32m----> 6\u001b[0m     batched_data\u001b[38;5;241m.\u001b[39mextend(\u001b[43mprocess_lines\u001b[49m\u001b[43m(\u001b[49m\u001b[43mbatch\u001b[49m\u001b[43m,\u001b[49m\u001b[43m \u001b[49m\u001b[43massistant_manager\u001b[49m\u001b[43m)\u001b[49m)\n\u001b[1;32m      7\u001b[0m \u001b[38;5;28;01mreturn\u001b[39;00m batched_data\n",
      "Cell \u001b[0;32mIn[31], line 4\u001b[0m, in \u001b[0;36mprocess_lines\u001b[0;34m(lines, assistant_manager)\u001b[0m\n\u001b[1;32m      2\u001b[0m data \u001b[38;5;241m=\u001b[39m []\n\u001b[1;32m      3\u001b[0m \u001b[38;5;28;01mfor\u001b[39;00m line \u001b[38;5;129;01min\u001b[39;00m lines:\n\u001b[0;32m----> 4\u001b[0m     thread, completed_run \u001b[38;5;241m=\u001b[39m \u001b[43massistant_manager\u001b[49m\u001b[38;5;241;43m.\u001b[39;49m\u001b[43mcreate_thread_and_run\u001b[49m\u001b[43m(\u001b[49m\u001b[43mline\u001b[49m\u001b[43m)\u001b[49m\n\u001b[1;32m      6\u001b[0m     \u001b[38;5;66;03m# Wait for the response and get it\u001b[39;00m\n\u001b[1;32m      7\u001b[0m     response_page \u001b[38;5;241m=\u001b[39m assistant_manager\u001b[38;5;241m.\u001b[39mget_response()\n",
      "File \u001b[0;32m/workspaces/ai-assisted-coding-final/ai_assisted_coding_final/assistant.py:131\u001b[0m, in \u001b[0;36mOpenAIAssistantManager.create_thread_and_run\u001b[0;34m(self, user_input)\u001b[0m\n\u001b[1;32m    128\u001b[0m \u001b[38;5;28mself\u001b[39m\u001b[38;5;241m.\u001b[39mcurrent_thread \u001b[38;5;241m=\u001b[39m \u001b[38;5;28mself\u001b[39m\u001b[38;5;241m.\u001b[39mclient\u001b[38;5;241m.\u001b[39mbeta\u001b[38;5;241m.\u001b[39mthreads\u001b[38;5;241m.\u001b[39mcreate()\n\u001b[1;32m    130\u001b[0m \u001b[38;5;66;03m# Submit the message and wait for the run to complete\u001b[39;00m\n\u001b[0;32m--> 131\u001b[0m run \u001b[38;5;241m=\u001b[39m \u001b[38;5;28;43mself\u001b[39;49m\u001b[38;5;241;43m.\u001b[39;49m\u001b[43msubmit_message\u001b[49m\u001b[43m(\u001b[49m\u001b[43muser_input\u001b[49m\u001b[43m)\u001b[49m\n\u001b[1;32m    132\u001b[0m completed_run \u001b[38;5;241m=\u001b[39m \u001b[38;5;28mself\u001b[39m\u001b[38;5;241m.\u001b[39mwait_on_run(run)\n\u001b[1;32m    134\u001b[0m \u001b[38;5;28;01mreturn\u001b[39;00m \u001b[38;5;28mself\u001b[39m\u001b[38;5;241m.\u001b[39mcurrent_thread, completed_run\n",
      "File \u001b[0;32m/workspaces/ai-assisted-coding-final/ai_assisted_coding_final/assistant.py:112\u001b[0m, in \u001b[0;36mOpenAIAssistantManager.submit_message\u001b[0;34m(self, user_message)\u001b[0m\n\u001b[1;32m    109\u001b[0m \u001b[38;5;28;01mif\u001b[39;00m \u001b[38;5;28mself\u001b[39m\u001b[38;5;241m.\u001b[39mcurrent_thread \u001b[38;5;129;01mis\u001b[39;00m \u001b[38;5;28;01mNone\u001b[39;00m \u001b[38;5;129;01mor\u001b[39;00m \u001b[38;5;28mself\u001b[39m\u001b[38;5;241m.\u001b[39mcurrent_assistant \u001b[38;5;129;01mis\u001b[39;00m \u001b[38;5;28;01mNone\u001b[39;00m:\n\u001b[1;32m    110\u001b[0m     \u001b[38;5;28;01mraise\u001b[39;00m \u001b[38;5;167;01mException\u001b[39;00m(\u001b[38;5;124m\"\u001b[39m\u001b[38;5;124mAssistant and Thread must be initialized before submitting a message.\u001b[39m\u001b[38;5;124m\"\u001b[39m)\n\u001b[0;32m--> 112\u001b[0m \u001b[38;5;28;43mself\u001b[39;49m\u001b[38;5;241;43m.\u001b[39;49m\u001b[43mclient\u001b[49m\u001b[38;5;241;43m.\u001b[39;49m\u001b[43mbeta\u001b[49m\u001b[38;5;241;43m.\u001b[39;49m\u001b[43mthreads\u001b[49m\u001b[38;5;241;43m.\u001b[39;49m\u001b[43mmessages\u001b[49m\u001b[38;5;241;43m.\u001b[39;49m\u001b[43mcreate\u001b[49m\u001b[43m(\u001b[49m\n\u001b[1;32m    113\u001b[0m \u001b[43m    \u001b[49m\u001b[43mthread_id\u001b[49m\u001b[38;5;241;43m=\u001b[39;49m\u001b[38;5;28;43mself\u001b[39;49m\u001b[38;5;241;43m.\u001b[39;49m\u001b[43mcurrent_thread\u001b[49m\u001b[38;5;241;43m.\u001b[39;49m\u001b[43mid\u001b[49m\u001b[43m,\u001b[49m\u001b[43m \u001b[49m\n\u001b[1;32m    114\u001b[0m \u001b[43m    \u001b[49m\u001b[43mrole\u001b[49m\u001b[38;5;241;43m=\u001b[39;49m\u001b[38;5;124;43m\"\u001b[39;49m\u001b[38;5;124;43muser\u001b[39;49m\u001b[38;5;124;43m\"\u001b[39;49m\u001b[43m,\u001b[49m\u001b[43m \u001b[49m\n\u001b[1;32m    115\u001b[0m \u001b[43m    \u001b[49m\u001b[43mcontent\u001b[49m\u001b[38;5;241;43m=\u001b[39;49m\u001b[43muser_message\u001b[49m\n\u001b[1;32m    116\u001b[0m \u001b[43m\u001b[49m\u001b[43m)\u001b[49m\n\u001b[1;32m    117\u001b[0m run \u001b[38;5;241m=\u001b[39m \u001b[38;5;28mself\u001b[39m\u001b[38;5;241m.\u001b[39mclient\u001b[38;5;241m.\u001b[39mbeta\u001b[38;5;241m.\u001b[39mthreads\u001b[38;5;241m.\u001b[39mruns\u001b[38;5;241m.\u001b[39mcreate(\n\u001b[1;32m    118\u001b[0m     thread_id\u001b[38;5;241m=\u001b[39m\u001b[38;5;28mself\u001b[39m\u001b[38;5;241m.\u001b[39mcurrent_thread\u001b[38;5;241m.\u001b[39mid,\n\u001b[1;32m    119\u001b[0m     assistant_id\u001b[38;5;241m=\u001b[39m\u001b[38;5;28mself\u001b[39m\u001b[38;5;241m.\u001b[39mcurrent_assistant\u001b[38;5;241m.\u001b[39mid,\n\u001b[1;32m    120\u001b[0m )\n\u001b[1;32m    122\u001b[0m \u001b[38;5;66;03m# Wait for the run to complete before returning\u001b[39;00m\n",
      "File \u001b[0;32m/usr/local/lib/python3.10/dist-packages/openai/resources/beta/threads/messages/messages.py:82\u001b[0m, in \u001b[0;36mMessages.create\u001b[0;34m(self, thread_id, content, role, file_ids, metadata, extra_headers, extra_query, extra_body, timeout)\u001b[0m\n\u001b[1;32m     54\u001b[0m \u001b[38;5;250m\u001b[39m\u001b[38;5;124;03m\"\"\"\u001b[39;00m\n\u001b[1;32m     55\u001b[0m \u001b[38;5;124;03mCreate a message.\u001b[39;00m\n\u001b[1;32m     56\u001b[0m \n\u001b[0;32m   (...)\u001b[0m\n\u001b[1;32m     79\u001b[0m \u001b[38;5;124;03m  timeout: Override the client-level default timeout for this request, in seconds\u001b[39;00m\n\u001b[1;32m     80\u001b[0m \u001b[38;5;124;03m\"\"\"\u001b[39;00m\n\u001b[1;32m     81\u001b[0m extra_headers \u001b[38;5;241m=\u001b[39m {\u001b[38;5;124m\"\u001b[39m\u001b[38;5;124mOpenAI-Beta\u001b[39m\u001b[38;5;124m\"\u001b[39m: \u001b[38;5;124m\"\u001b[39m\u001b[38;5;124massistants=v1\u001b[39m\u001b[38;5;124m\"\u001b[39m, \u001b[38;5;241m*\u001b[39m\u001b[38;5;241m*\u001b[39m(extra_headers \u001b[38;5;129;01mor\u001b[39;00m {})}\n\u001b[0;32m---> 82\u001b[0m \u001b[38;5;28;01mreturn\u001b[39;00m \u001b[38;5;28;43mself\u001b[39;49m\u001b[38;5;241;43m.\u001b[39;49m\u001b[43m_post\u001b[49m\u001b[43m(\u001b[49m\n\u001b[1;32m     83\u001b[0m \u001b[43m    \u001b[49m\u001b[38;5;124;43mf\u001b[39;49m\u001b[38;5;124;43m\"\u001b[39;49m\u001b[38;5;124;43m/threads/\u001b[39;49m\u001b[38;5;132;43;01m{\u001b[39;49;00m\u001b[43mthread_id\u001b[49m\u001b[38;5;132;43;01m}\u001b[39;49;00m\u001b[38;5;124;43m/messages\u001b[39;49m\u001b[38;5;124;43m\"\u001b[39;49m\u001b[43m,\u001b[49m\n\u001b[1;32m     84\u001b[0m \u001b[43m    \u001b[49m\u001b[43mbody\u001b[49m\u001b[38;5;241;43m=\u001b[39;49m\u001b[43mmaybe_transform\u001b[49m\u001b[43m(\u001b[49m\n\u001b[1;32m     85\u001b[0m \u001b[43m        \u001b[49m\u001b[43m{\u001b[49m\n\u001b[1;32m     86\u001b[0m \u001b[43m            \u001b[49m\u001b[38;5;124;43m\"\u001b[39;49m\u001b[38;5;124;43mcontent\u001b[39;49m\u001b[38;5;124;43m\"\u001b[39;49m\u001b[43m:\u001b[49m\u001b[43m \u001b[49m\u001b[43mcontent\u001b[49m\u001b[43m,\u001b[49m\n\u001b[1;32m     87\u001b[0m \u001b[43m            \u001b[49m\u001b[38;5;124;43m\"\u001b[39;49m\u001b[38;5;124;43mrole\u001b[39;49m\u001b[38;5;124;43m\"\u001b[39;49m\u001b[43m:\u001b[49m\u001b[43m \u001b[49m\u001b[43mrole\u001b[49m\u001b[43m,\u001b[49m\n\u001b[1;32m     88\u001b[0m \u001b[43m            \u001b[49m\u001b[38;5;124;43m\"\u001b[39;49m\u001b[38;5;124;43mfile_ids\u001b[39;49m\u001b[38;5;124;43m\"\u001b[39;49m\u001b[43m:\u001b[49m\u001b[43m \u001b[49m\u001b[43mfile_ids\u001b[49m\u001b[43m,\u001b[49m\n\u001b[1;32m     89\u001b[0m \u001b[43m            \u001b[49m\u001b[38;5;124;43m\"\u001b[39;49m\u001b[38;5;124;43mmetadata\u001b[39;49m\u001b[38;5;124;43m\"\u001b[39;49m\u001b[43m:\u001b[49m\u001b[43m \u001b[49m\u001b[43mmetadata\u001b[49m\u001b[43m,\u001b[49m\n\u001b[1;32m     90\u001b[0m \u001b[43m        \u001b[49m\u001b[43m}\u001b[49m\u001b[43m,\u001b[49m\n\u001b[1;32m     91\u001b[0m \u001b[43m        \u001b[49m\u001b[43mmessage_create_params\u001b[49m\u001b[38;5;241;43m.\u001b[39;49m\u001b[43mMessageCreateParams\u001b[49m\u001b[43m,\u001b[49m\n\u001b[1;32m     92\u001b[0m \u001b[43m    \u001b[49m\u001b[43m)\u001b[49m\u001b[43m,\u001b[49m\n\u001b[1;32m     93\u001b[0m \u001b[43m    \u001b[49m\u001b[43moptions\u001b[49m\u001b[38;5;241;43m=\u001b[39;49m\u001b[43mmake_request_options\u001b[49m\u001b[43m(\u001b[49m\n\u001b[1;32m     94\u001b[0m \u001b[43m        \u001b[49m\u001b[43mextra_headers\u001b[49m\u001b[38;5;241;43m=\u001b[39;49m\u001b[43mextra_headers\u001b[49m\u001b[43m,\u001b[49m\u001b[43m \u001b[49m\u001b[43mextra_query\u001b[49m\u001b[38;5;241;43m=\u001b[39;49m\u001b[43mextra_query\u001b[49m\u001b[43m,\u001b[49m\u001b[43m \u001b[49m\u001b[43mextra_body\u001b[49m\u001b[38;5;241;43m=\u001b[39;49m\u001b[43mextra_body\u001b[49m\u001b[43m,\u001b[49m\u001b[43m \u001b[49m\u001b[43mtimeout\u001b[49m\u001b[38;5;241;43m=\u001b[39;49m\u001b[43mtimeout\u001b[49m\n\u001b[1;32m     95\u001b[0m \u001b[43m    \u001b[49m\u001b[43m)\u001b[49m\u001b[43m,\u001b[49m\n\u001b[1;32m     96\u001b[0m \u001b[43m    \u001b[49m\u001b[43mcast_to\u001b[49m\u001b[38;5;241;43m=\u001b[39;49m\u001b[43mThreadMessage\u001b[49m\u001b[43m,\u001b[49m\n\u001b[1;32m     97\u001b[0m \u001b[43m\u001b[49m\u001b[43m)\u001b[49m\n",
      "File \u001b[0;32m/usr/local/lib/python3.10/dist-packages/openai/_base_client.py:1096\u001b[0m, in \u001b[0;36mSyncAPIClient.post\u001b[0;34m(self, path, cast_to, body, options, files, stream, stream_cls)\u001b[0m\n\u001b[1;32m   1082\u001b[0m \u001b[38;5;28;01mdef\u001b[39;00m \u001b[38;5;21mpost\u001b[39m(\n\u001b[1;32m   1083\u001b[0m     \u001b[38;5;28mself\u001b[39m,\n\u001b[1;32m   1084\u001b[0m     path: \u001b[38;5;28mstr\u001b[39m,\n\u001b[0;32m   (...)\u001b[0m\n\u001b[1;32m   1091\u001b[0m     stream_cls: \u001b[38;5;28mtype\u001b[39m[_StreamT] \u001b[38;5;241m|\u001b[39m \u001b[38;5;28;01mNone\u001b[39;00m \u001b[38;5;241m=\u001b[39m \u001b[38;5;28;01mNone\u001b[39;00m,\n\u001b[1;32m   1092\u001b[0m ) \u001b[38;5;241m-\u001b[39m\u001b[38;5;241m>\u001b[39m ResponseT \u001b[38;5;241m|\u001b[39m _StreamT:\n\u001b[1;32m   1093\u001b[0m     opts \u001b[38;5;241m=\u001b[39m FinalRequestOptions\u001b[38;5;241m.\u001b[39mconstruct(\n\u001b[1;32m   1094\u001b[0m         method\u001b[38;5;241m=\u001b[39m\u001b[38;5;124m\"\u001b[39m\u001b[38;5;124mpost\u001b[39m\u001b[38;5;124m\"\u001b[39m, url\u001b[38;5;241m=\u001b[39mpath, json_data\u001b[38;5;241m=\u001b[39mbody, files\u001b[38;5;241m=\u001b[39mto_httpx_files(files), \u001b[38;5;241m*\u001b[39m\u001b[38;5;241m*\u001b[39moptions\n\u001b[1;32m   1095\u001b[0m     )\n\u001b[0;32m-> 1096\u001b[0m     \u001b[38;5;28;01mreturn\u001b[39;00m cast(ResponseT, \u001b[38;5;28;43mself\u001b[39;49m\u001b[38;5;241;43m.\u001b[39;49m\u001b[43mrequest\u001b[49m\u001b[43m(\u001b[49m\u001b[43mcast_to\u001b[49m\u001b[43m,\u001b[49m\u001b[43m \u001b[49m\u001b[43mopts\u001b[49m\u001b[43m,\u001b[49m\u001b[43m \u001b[49m\u001b[43mstream\u001b[49m\u001b[38;5;241;43m=\u001b[39;49m\u001b[43mstream\u001b[49m\u001b[43m,\u001b[49m\u001b[43m \u001b[49m\u001b[43mstream_cls\u001b[49m\u001b[38;5;241;43m=\u001b[39;49m\u001b[43mstream_cls\u001b[49m\u001b[43m)\u001b[49m)\n",
      "File \u001b[0;32m/usr/local/lib/python3.10/dist-packages/openai/_base_client.py:856\u001b[0m, in \u001b[0;36mSyncAPIClient.request\u001b[0;34m(self, cast_to, options, remaining_retries, stream, stream_cls)\u001b[0m\n\u001b[1;32m    847\u001b[0m \u001b[38;5;28;01mdef\u001b[39;00m \u001b[38;5;21mrequest\u001b[39m(\n\u001b[1;32m    848\u001b[0m     \u001b[38;5;28mself\u001b[39m,\n\u001b[1;32m    849\u001b[0m     cast_to: Type[ResponseT],\n\u001b[0;32m   (...)\u001b[0m\n\u001b[1;32m    854\u001b[0m     stream_cls: \u001b[38;5;28mtype\u001b[39m[_StreamT] \u001b[38;5;241m|\u001b[39m \u001b[38;5;28;01mNone\u001b[39;00m \u001b[38;5;241m=\u001b[39m \u001b[38;5;28;01mNone\u001b[39;00m,\n\u001b[1;32m    855\u001b[0m ) \u001b[38;5;241m-\u001b[39m\u001b[38;5;241m>\u001b[39m ResponseT \u001b[38;5;241m|\u001b[39m _StreamT:\n\u001b[0;32m--> 856\u001b[0m     \u001b[38;5;28;01mreturn\u001b[39;00m \u001b[38;5;28;43mself\u001b[39;49m\u001b[38;5;241;43m.\u001b[39;49m\u001b[43m_request\u001b[49m\u001b[43m(\u001b[49m\n\u001b[1;32m    857\u001b[0m \u001b[43m        \u001b[49m\u001b[43mcast_to\u001b[49m\u001b[38;5;241;43m=\u001b[39;49m\u001b[43mcast_to\u001b[49m\u001b[43m,\u001b[49m\n\u001b[1;32m    858\u001b[0m \u001b[43m        \u001b[49m\u001b[43moptions\u001b[49m\u001b[38;5;241;43m=\u001b[39;49m\u001b[43moptions\u001b[49m\u001b[43m,\u001b[49m\n\u001b[1;32m    859\u001b[0m \u001b[43m        \u001b[49m\u001b[43mstream\u001b[49m\u001b[38;5;241;43m=\u001b[39;49m\u001b[43mstream\u001b[49m\u001b[43m,\u001b[49m\n\u001b[1;32m    860\u001b[0m \u001b[43m        \u001b[49m\u001b[43mstream_cls\u001b[49m\u001b[38;5;241;43m=\u001b[39;49m\u001b[43mstream_cls\u001b[49m\u001b[43m,\u001b[49m\n\u001b[1;32m    861\u001b[0m \u001b[43m        \u001b[49m\u001b[43mremaining_retries\u001b[49m\u001b[38;5;241;43m=\u001b[39;49m\u001b[43mremaining_retries\u001b[49m\u001b[43m,\u001b[49m\n\u001b[1;32m    862\u001b[0m \u001b[43m    \u001b[49m\u001b[43m)\u001b[49m\n",
      "File \u001b[0;32m/usr/local/lib/python3.10/dist-packages/openai/_base_client.py:882\u001b[0m, in \u001b[0;36mSyncAPIClient._request\u001b[0;34m(self, cast_to, options, remaining_retries, stream, stream_cls)\u001b[0m\n\u001b[1;32m    879\u001b[0m response \u001b[38;5;241m=\u001b[39m \u001b[38;5;28;01mNone\u001b[39;00m\n\u001b[1;32m    881\u001b[0m \u001b[38;5;28;01mtry\u001b[39;00m:\n\u001b[0;32m--> 882\u001b[0m     response \u001b[38;5;241m=\u001b[39m \u001b[38;5;28;43mself\u001b[39;49m\u001b[38;5;241;43m.\u001b[39;49m\u001b[43m_client\u001b[49m\u001b[38;5;241;43m.\u001b[39;49m\u001b[43msend\u001b[49m\u001b[43m(\u001b[49m\n\u001b[1;32m    883\u001b[0m \u001b[43m        \u001b[49m\u001b[43mrequest\u001b[49m\u001b[43m,\u001b[49m\n\u001b[1;32m    884\u001b[0m \u001b[43m        \u001b[49m\u001b[43mauth\u001b[49m\u001b[38;5;241;43m=\u001b[39;49m\u001b[38;5;28;43mself\u001b[39;49m\u001b[38;5;241;43m.\u001b[39;49m\u001b[43mcustom_auth\u001b[49m\u001b[43m,\u001b[49m\n\u001b[1;32m    885\u001b[0m \u001b[43m        \u001b[49m\u001b[43mstream\u001b[49m\u001b[38;5;241;43m=\u001b[39;49m\u001b[43mstream\u001b[49m\u001b[43m \u001b[49m\u001b[38;5;129;43;01mor\u001b[39;49;00m\u001b[43m \u001b[49m\u001b[38;5;28;43mself\u001b[39;49m\u001b[38;5;241;43m.\u001b[39;49m\u001b[43m_should_stream_response_body\u001b[49m\u001b[43m(\u001b[49m\u001b[43mrequest\u001b[49m\u001b[38;5;241;43m=\u001b[39;49m\u001b[43mrequest\u001b[49m\u001b[43m)\u001b[49m\u001b[43m,\u001b[49m\n\u001b[1;32m    886\u001b[0m \u001b[43m    \u001b[49m\u001b[43m)\u001b[49m\n\u001b[1;32m    887\u001b[0m     log\u001b[38;5;241m.\u001b[39mdebug(\n\u001b[1;32m    888\u001b[0m         \u001b[38;5;124m'\u001b[39m\u001b[38;5;124mHTTP Request: \u001b[39m\u001b[38;5;132;01m%s\u001b[39;00m\u001b[38;5;124m \u001b[39m\u001b[38;5;132;01m%s\u001b[39;00m\u001b[38;5;124m \u001b[39m\u001b[38;5;124m\"\u001b[39m\u001b[38;5;132;01m%i\u001b[39;00m\u001b[38;5;124m \u001b[39m\u001b[38;5;132;01m%s\u001b[39;00m\u001b[38;5;124m\"\u001b[39m\u001b[38;5;124m'\u001b[39m, request\u001b[38;5;241m.\u001b[39mmethod, request\u001b[38;5;241m.\u001b[39murl, response\u001b[38;5;241m.\u001b[39mstatus_code, response\u001b[38;5;241m.\u001b[39mreason_phrase\n\u001b[1;32m    889\u001b[0m     )\n\u001b[1;32m    890\u001b[0m     response\u001b[38;5;241m.\u001b[39mraise_for_status()\n",
      "File \u001b[0;32m/usr/local/lib/python3.10/dist-packages/httpx/_client.py:901\u001b[0m, in \u001b[0;36mClient.send\u001b[0;34m(self, request, stream, auth, follow_redirects)\u001b[0m\n\u001b[1;32m    893\u001b[0m follow_redirects \u001b[38;5;241m=\u001b[39m (\n\u001b[1;32m    894\u001b[0m     \u001b[38;5;28mself\u001b[39m\u001b[38;5;241m.\u001b[39mfollow_redirects\n\u001b[1;32m    895\u001b[0m     \u001b[38;5;28;01mif\u001b[39;00m \u001b[38;5;28misinstance\u001b[39m(follow_redirects, UseClientDefault)\n\u001b[1;32m    896\u001b[0m     \u001b[38;5;28;01melse\u001b[39;00m follow_redirects\n\u001b[1;32m    897\u001b[0m )\n\u001b[1;32m    899\u001b[0m auth \u001b[38;5;241m=\u001b[39m \u001b[38;5;28mself\u001b[39m\u001b[38;5;241m.\u001b[39m_build_request_auth(request, auth)\n\u001b[0;32m--> 901\u001b[0m response \u001b[38;5;241m=\u001b[39m \u001b[38;5;28;43mself\u001b[39;49m\u001b[38;5;241;43m.\u001b[39;49m\u001b[43m_send_handling_auth\u001b[49m\u001b[43m(\u001b[49m\n\u001b[1;32m    902\u001b[0m \u001b[43m    \u001b[49m\u001b[43mrequest\u001b[49m\u001b[43m,\u001b[49m\n\u001b[1;32m    903\u001b[0m \u001b[43m    \u001b[49m\u001b[43mauth\u001b[49m\u001b[38;5;241;43m=\u001b[39;49m\u001b[43mauth\u001b[49m\u001b[43m,\u001b[49m\n\u001b[1;32m    904\u001b[0m \u001b[43m    \u001b[49m\u001b[43mfollow_redirects\u001b[49m\u001b[38;5;241;43m=\u001b[39;49m\u001b[43mfollow_redirects\u001b[49m\u001b[43m,\u001b[49m\n\u001b[1;32m    905\u001b[0m \u001b[43m    \u001b[49m\u001b[43mhistory\u001b[49m\u001b[38;5;241;43m=\u001b[39;49m\u001b[43m[\u001b[49m\u001b[43m]\u001b[49m\u001b[43m,\u001b[49m\n\u001b[1;32m    906\u001b[0m \u001b[43m\u001b[49m\u001b[43m)\u001b[49m\n\u001b[1;32m    907\u001b[0m \u001b[38;5;28;01mtry\u001b[39;00m:\n\u001b[1;32m    908\u001b[0m     \u001b[38;5;28;01mif\u001b[39;00m \u001b[38;5;129;01mnot\u001b[39;00m stream:\n",
      "File \u001b[0;32m/usr/local/lib/python3.10/dist-packages/httpx/_client.py:929\u001b[0m, in \u001b[0;36mClient._send_handling_auth\u001b[0;34m(self, request, auth, follow_redirects, history)\u001b[0m\n\u001b[1;32m    926\u001b[0m request \u001b[38;5;241m=\u001b[39m \u001b[38;5;28mnext\u001b[39m(auth_flow)\n\u001b[1;32m    928\u001b[0m \u001b[38;5;28;01mwhile\u001b[39;00m \u001b[38;5;28;01mTrue\u001b[39;00m:\n\u001b[0;32m--> 929\u001b[0m     response \u001b[38;5;241m=\u001b[39m \u001b[38;5;28;43mself\u001b[39;49m\u001b[38;5;241;43m.\u001b[39;49m\u001b[43m_send_handling_redirects\u001b[49m\u001b[43m(\u001b[49m\n\u001b[1;32m    930\u001b[0m \u001b[43m        \u001b[49m\u001b[43mrequest\u001b[49m\u001b[43m,\u001b[49m\n\u001b[1;32m    931\u001b[0m \u001b[43m        \u001b[49m\u001b[43mfollow_redirects\u001b[49m\u001b[38;5;241;43m=\u001b[39;49m\u001b[43mfollow_redirects\u001b[49m\u001b[43m,\u001b[49m\n\u001b[1;32m    932\u001b[0m \u001b[43m        \u001b[49m\u001b[43mhistory\u001b[49m\u001b[38;5;241;43m=\u001b[39;49m\u001b[43mhistory\u001b[49m\u001b[43m,\u001b[49m\n\u001b[1;32m    933\u001b[0m \u001b[43m    \u001b[49m\u001b[43m)\u001b[49m\n\u001b[1;32m    934\u001b[0m     \u001b[38;5;28;01mtry\u001b[39;00m:\n\u001b[1;32m    935\u001b[0m         \u001b[38;5;28;01mtry\u001b[39;00m:\n",
      "File \u001b[0;32m/usr/local/lib/python3.10/dist-packages/httpx/_client.py:966\u001b[0m, in \u001b[0;36mClient._send_handling_redirects\u001b[0;34m(self, request, follow_redirects, history)\u001b[0m\n\u001b[1;32m    963\u001b[0m \u001b[38;5;28;01mfor\u001b[39;00m hook \u001b[38;5;129;01min\u001b[39;00m \u001b[38;5;28mself\u001b[39m\u001b[38;5;241m.\u001b[39m_event_hooks[\u001b[38;5;124m\"\u001b[39m\u001b[38;5;124mrequest\u001b[39m\u001b[38;5;124m\"\u001b[39m]:\n\u001b[1;32m    964\u001b[0m     hook(request)\n\u001b[0;32m--> 966\u001b[0m response \u001b[38;5;241m=\u001b[39m \u001b[38;5;28;43mself\u001b[39;49m\u001b[38;5;241;43m.\u001b[39;49m\u001b[43m_send_single_request\u001b[49m\u001b[43m(\u001b[49m\u001b[43mrequest\u001b[49m\u001b[43m)\u001b[49m\n\u001b[1;32m    967\u001b[0m \u001b[38;5;28;01mtry\u001b[39;00m:\n\u001b[1;32m    968\u001b[0m     \u001b[38;5;28;01mfor\u001b[39;00m hook \u001b[38;5;129;01min\u001b[39;00m \u001b[38;5;28mself\u001b[39m\u001b[38;5;241m.\u001b[39m_event_hooks[\u001b[38;5;124m\"\u001b[39m\u001b[38;5;124mresponse\u001b[39m\u001b[38;5;124m\"\u001b[39m]:\n",
      "File \u001b[0;32m/usr/local/lib/python3.10/dist-packages/httpx/_client.py:1002\u001b[0m, in \u001b[0;36mClient._send_single_request\u001b[0;34m(self, request)\u001b[0m\n\u001b[1;32m    997\u001b[0m     \u001b[38;5;28;01mraise\u001b[39;00m \u001b[38;5;167;01mRuntimeError\u001b[39;00m(\n\u001b[1;32m    998\u001b[0m         \u001b[38;5;124m\"\u001b[39m\u001b[38;5;124mAttempted to send an async request with a sync Client instance.\u001b[39m\u001b[38;5;124m\"\u001b[39m\n\u001b[1;32m    999\u001b[0m     )\n\u001b[1;32m   1001\u001b[0m \u001b[38;5;28;01mwith\u001b[39;00m request_context(request\u001b[38;5;241m=\u001b[39mrequest):\n\u001b[0;32m-> 1002\u001b[0m     response \u001b[38;5;241m=\u001b[39m \u001b[43mtransport\u001b[49m\u001b[38;5;241;43m.\u001b[39;49m\u001b[43mhandle_request\u001b[49m\u001b[43m(\u001b[49m\u001b[43mrequest\u001b[49m\u001b[43m)\u001b[49m\n\u001b[1;32m   1004\u001b[0m \u001b[38;5;28;01massert\u001b[39;00m \u001b[38;5;28misinstance\u001b[39m(response\u001b[38;5;241m.\u001b[39mstream, SyncByteStream)\n\u001b[1;32m   1006\u001b[0m response\u001b[38;5;241m.\u001b[39mrequest \u001b[38;5;241m=\u001b[39m request\n",
      "File \u001b[0;32m/usr/local/lib/python3.10/dist-packages/httpx/_transports/default.py:228\u001b[0m, in \u001b[0;36mHTTPTransport.handle_request\u001b[0;34m(self, request)\u001b[0m\n\u001b[1;32m    215\u001b[0m req \u001b[38;5;241m=\u001b[39m httpcore\u001b[38;5;241m.\u001b[39mRequest(\n\u001b[1;32m    216\u001b[0m     method\u001b[38;5;241m=\u001b[39mrequest\u001b[38;5;241m.\u001b[39mmethod,\n\u001b[1;32m    217\u001b[0m     url\u001b[38;5;241m=\u001b[39mhttpcore\u001b[38;5;241m.\u001b[39mURL(\n\u001b[0;32m   (...)\u001b[0m\n\u001b[1;32m    225\u001b[0m     extensions\u001b[38;5;241m=\u001b[39mrequest\u001b[38;5;241m.\u001b[39mextensions,\n\u001b[1;32m    226\u001b[0m )\n\u001b[1;32m    227\u001b[0m \u001b[38;5;28;01mwith\u001b[39;00m map_httpcore_exceptions():\n\u001b[0;32m--> 228\u001b[0m     resp \u001b[38;5;241m=\u001b[39m \u001b[38;5;28;43mself\u001b[39;49m\u001b[38;5;241;43m.\u001b[39;49m\u001b[43m_pool\u001b[49m\u001b[38;5;241;43m.\u001b[39;49m\u001b[43mhandle_request\u001b[49m\u001b[43m(\u001b[49m\u001b[43mreq\u001b[49m\u001b[43m)\u001b[49m\n\u001b[1;32m    230\u001b[0m \u001b[38;5;28;01massert\u001b[39;00m \u001b[38;5;28misinstance\u001b[39m(resp\u001b[38;5;241m.\u001b[39mstream, typing\u001b[38;5;241m.\u001b[39mIterable)\n\u001b[1;32m    232\u001b[0m \u001b[38;5;28;01mreturn\u001b[39;00m Response(\n\u001b[1;32m    233\u001b[0m     status_code\u001b[38;5;241m=\u001b[39mresp\u001b[38;5;241m.\u001b[39mstatus,\n\u001b[1;32m    234\u001b[0m     headers\u001b[38;5;241m=\u001b[39mresp\u001b[38;5;241m.\u001b[39mheaders,\n\u001b[1;32m    235\u001b[0m     stream\u001b[38;5;241m=\u001b[39mResponseStream(resp\u001b[38;5;241m.\u001b[39mstream),\n\u001b[1;32m    236\u001b[0m     extensions\u001b[38;5;241m=\u001b[39mresp\u001b[38;5;241m.\u001b[39mextensions,\n\u001b[1;32m    237\u001b[0m )\n",
      "File \u001b[0;32m/usr/local/lib/python3.10/dist-packages/httpcore/_sync/connection_pool.py:268\u001b[0m, in \u001b[0;36mConnectionPool.handle_request\u001b[0;34m(self, request)\u001b[0m\n\u001b[1;32m    266\u001b[0m     \u001b[38;5;28;01mwith\u001b[39;00m ShieldCancellation():\n\u001b[1;32m    267\u001b[0m         \u001b[38;5;28mself\u001b[39m\u001b[38;5;241m.\u001b[39mresponse_closed(status)\n\u001b[0;32m--> 268\u001b[0m     \u001b[38;5;28;01mraise\u001b[39;00m exc\n\u001b[1;32m    269\u001b[0m \u001b[38;5;28;01melse\u001b[39;00m:\n\u001b[1;32m    270\u001b[0m     \u001b[38;5;28;01mbreak\u001b[39;00m\n",
      "File \u001b[0;32m/usr/local/lib/python3.10/dist-packages/httpcore/_sync/connection_pool.py:251\u001b[0m, in \u001b[0;36mConnectionPool.handle_request\u001b[0;34m(self, request)\u001b[0m\n\u001b[1;32m    248\u001b[0m         \u001b[38;5;28;01mraise\u001b[39;00m exc\n\u001b[1;32m    250\u001b[0m \u001b[38;5;28;01mtry\u001b[39;00m:\n\u001b[0;32m--> 251\u001b[0m     response \u001b[38;5;241m=\u001b[39m \u001b[43mconnection\u001b[49m\u001b[38;5;241;43m.\u001b[39;49m\u001b[43mhandle_request\u001b[49m\u001b[43m(\u001b[49m\u001b[43mrequest\u001b[49m\u001b[43m)\u001b[49m\n\u001b[1;32m    252\u001b[0m \u001b[38;5;28;01mexcept\u001b[39;00m ConnectionNotAvailable:\n\u001b[1;32m    253\u001b[0m     \u001b[38;5;66;03m# The ConnectionNotAvailable exception is a special case, that\u001b[39;00m\n\u001b[1;32m    254\u001b[0m     \u001b[38;5;66;03m# indicates we need to retry the request on a new connection.\u001b[39;00m\n\u001b[0;32m   (...)\u001b[0m\n\u001b[1;32m    258\u001b[0m     \u001b[38;5;66;03m# might end up as an HTTP/2 connection, but which actually ends\u001b[39;00m\n\u001b[1;32m    259\u001b[0m     \u001b[38;5;66;03m# up as HTTP/1.1.\u001b[39;00m\n\u001b[1;32m    260\u001b[0m     \u001b[38;5;28;01mwith\u001b[39;00m \u001b[38;5;28mself\u001b[39m\u001b[38;5;241m.\u001b[39m_pool_lock:\n\u001b[1;32m    261\u001b[0m         \u001b[38;5;66;03m# Maintain our position in the request queue, but reset the\u001b[39;00m\n\u001b[1;32m    262\u001b[0m         \u001b[38;5;66;03m# status so that the request becomes queued again.\u001b[39;00m\n",
      "File \u001b[0;32m/usr/local/lib/python3.10/dist-packages/httpcore/_sync/connection.py:103\u001b[0m, in \u001b[0;36mHTTPConnection.handle_request\u001b[0;34m(self, request)\u001b[0m\n\u001b[1;32m    100\u001b[0m     \u001b[38;5;28;01melif\u001b[39;00m \u001b[38;5;129;01mnot\u001b[39;00m \u001b[38;5;28mself\u001b[39m\u001b[38;5;241m.\u001b[39m_connection\u001b[38;5;241m.\u001b[39mis_available():\n\u001b[1;32m    101\u001b[0m         \u001b[38;5;28;01mraise\u001b[39;00m ConnectionNotAvailable()\n\u001b[0;32m--> 103\u001b[0m \u001b[38;5;28;01mreturn\u001b[39;00m \u001b[38;5;28;43mself\u001b[39;49m\u001b[38;5;241;43m.\u001b[39;49m\u001b[43m_connection\u001b[49m\u001b[38;5;241;43m.\u001b[39;49m\u001b[43mhandle_request\u001b[49m\u001b[43m(\u001b[49m\u001b[43mrequest\u001b[49m\u001b[43m)\u001b[49m\n",
      "File \u001b[0;32m/usr/local/lib/python3.10/dist-packages/httpcore/_sync/http11.py:133\u001b[0m, in \u001b[0;36mHTTP11Connection.handle_request\u001b[0;34m(self, request)\u001b[0m\n\u001b[1;32m    131\u001b[0m     \u001b[38;5;28;01mwith\u001b[39;00m Trace(\u001b[38;5;124m\"\u001b[39m\u001b[38;5;124mresponse_closed\u001b[39m\u001b[38;5;124m\"\u001b[39m, logger, request) \u001b[38;5;28;01mas\u001b[39;00m trace:\n\u001b[1;32m    132\u001b[0m         \u001b[38;5;28mself\u001b[39m\u001b[38;5;241m.\u001b[39m_response_closed()\n\u001b[0;32m--> 133\u001b[0m \u001b[38;5;28;01mraise\u001b[39;00m exc\n",
      "File \u001b[0;32m/usr/local/lib/python3.10/dist-packages/httpcore/_sync/http11.py:111\u001b[0m, in \u001b[0;36mHTTP11Connection.handle_request\u001b[0;34m(self, request)\u001b[0m\n\u001b[1;32m    101\u001b[0m     \u001b[38;5;28;01mpass\u001b[39;00m\n\u001b[1;32m    103\u001b[0m \u001b[38;5;28;01mwith\u001b[39;00m Trace(\n\u001b[1;32m    104\u001b[0m     \u001b[38;5;124m\"\u001b[39m\u001b[38;5;124mreceive_response_headers\u001b[39m\u001b[38;5;124m\"\u001b[39m, logger, request, kwargs\n\u001b[1;32m    105\u001b[0m ) \u001b[38;5;28;01mas\u001b[39;00m trace:\n\u001b[1;32m    106\u001b[0m     (\n\u001b[1;32m    107\u001b[0m         http_version,\n\u001b[1;32m    108\u001b[0m         status,\n\u001b[1;32m    109\u001b[0m         reason_phrase,\n\u001b[1;32m    110\u001b[0m         headers,\n\u001b[0;32m--> 111\u001b[0m     ) \u001b[38;5;241m=\u001b[39m \u001b[38;5;28;43mself\u001b[39;49m\u001b[38;5;241;43m.\u001b[39;49m\u001b[43m_receive_response_headers\u001b[49m\u001b[43m(\u001b[49m\u001b[38;5;241;43m*\u001b[39;49m\u001b[38;5;241;43m*\u001b[39;49m\u001b[43mkwargs\u001b[49m\u001b[43m)\u001b[49m\n\u001b[1;32m    112\u001b[0m     trace\u001b[38;5;241m.\u001b[39mreturn_value \u001b[38;5;241m=\u001b[39m (\n\u001b[1;32m    113\u001b[0m         http_version,\n\u001b[1;32m    114\u001b[0m         status,\n\u001b[1;32m    115\u001b[0m         reason_phrase,\n\u001b[1;32m    116\u001b[0m         headers,\n\u001b[1;32m    117\u001b[0m     )\n\u001b[1;32m    119\u001b[0m \u001b[38;5;28;01mreturn\u001b[39;00m Response(\n\u001b[1;32m    120\u001b[0m     status\u001b[38;5;241m=\u001b[39mstatus,\n\u001b[1;32m    121\u001b[0m     headers\u001b[38;5;241m=\u001b[39mheaders,\n\u001b[0;32m   (...)\u001b[0m\n\u001b[1;32m    127\u001b[0m     },\n\u001b[1;32m    128\u001b[0m )\n",
      "File \u001b[0;32m/usr/local/lib/python3.10/dist-packages/httpcore/_sync/http11.py:176\u001b[0m, in \u001b[0;36mHTTP11Connection._receive_response_headers\u001b[0;34m(self, request)\u001b[0m\n\u001b[1;32m    173\u001b[0m timeout \u001b[38;5;241m=\u001b[39m timeouts\u001b[38;5;241m.\u001b[39mget(\u001b[38;5;124m\"\u001b[39m\u001b[38;5;124mread\u001b[39m\u001b[38;5;124m\"\u001b[39m, \u001b[38;5;28;01mNone\u001b[39;00m)\n\u001b[1;32m    175\u001b[0m \u001b[38;5;28;01mwhile\u001b[39;00m \u001b[38;5;28;01mTrue\u001b[39;00m:\n\u001b[0;32m--> 176\u001b[0m     event \u001b[38;5;241m=\u001b[39m \u001b[38;5;28;43mself\u001b[39;49m\u001b[38;5;241;43m.\u001b[39;49m\u001b[43m_receive_event\u001b[49m\u001b[43m(\u001b[49m\u001b[43mtimeout\u001b[49m\u001b[38;5;241;43m=\u001b[39;49m\u001b[43mtimeout\u001b[49m\u001b[43m)\u001b[49m\n\u001b[1;32m    177\u001b[0m     \u001b[38;5;28;01mif\u001b[39;00m \u001b[38;5;28misinstance\u001b[39m(event, h11\u001b[38;5;241m.\u001b[39mResponse):\n\u001b[1;32m    178\u001b[0m         \u001b[38;5;28;01mbreak\u001b[39;00m\n",
      "File \u001b[0;32m/usr/local/lib/python3.10/dist-packages/httpcore/_sync/http11.py:212\u001b[0m, in \u001b[0;36mHTTP11Connection._receive_event\u001b[0;34m(self, timeout)\u001b[0m\n\u001b[1;32m    209\u001b[0m     event \u001b[38;5;241m=\u001b[39m \u001b[38;5;28mself\u001b[39m\u001b[38;5;241m.\u001b[39m_h11_state\u001b[38;5;241m.\u001b[39mnext_event()\n\u001b[1;32m    211\u001b[0m \u001b[38;5;28;01mif\u001b[39;00m event \u001b[38;5;129;01mis\u001b[39;00m h11\u001b[38;5;241m.\u001b[39mNEED_DATA:\n\u001b[0;32m--> 212\u001b[0m     data \u001b[38;5;241m=\u001b[39m \u001b[38;5;28;43mself\u001b[39;49m\u001b[38;5;241;43m.\u001b[39;49m\u001b[43m_network_stream\u001b[49m\u001b[38;5;241;43m.\u001b[39;49m\u001b[43mread\u001b[49m\u001b[43m(\u001b[49m\n\u001b[1;32m    213\u001b[0m \u001b[43m        \u001b[49m\u001b[38;5;28;43mself\u001b[39;49m\u001b[38;5;241;43m.\u001b[39;49m\u001b[43mREAD_NUM_BYTES\u001b[49m\u001b[43m,\u001b[49m\u001b[43m \u001b[49m\u001b[43mtimeout\u001b[49m\u001b[38;5;241;43m=\u001b[39;49m\u001b[43mtimeout\u001b[49m\n\u001b[1;32m    214\u001b[0m \u001b[43m    \u001b[49m\u001b[43m)\u001b[49m\n\u001b[1;32m    216\u001b[0m     \u001b[38;5;66;03m# If we feed this case through h11 we'll raise an exception like:\u001b[39;00m\n\u001b[1;32m    217\u001b[0m     \u001b[38;5;66;03m#\u001b[39;00m\n\u001b[1;32m    218\u001b[0m     \u001b[38;5;66;03m#     httpcore.RemoteProtocolError: can't handle event type\u001b[39;00m\n\u001b[0;32m   (...)\u001b[0m\n\u001b[1;32m    222\u001b[0m     \u001b[38;5;66;03m# perspective. Instead we handle this case distinctly and treat\u001b[39;00m\n\u001b[1;32m    223\u001b[0m     \u001b[38;5;66;03m# it as a ConnectError.\u001b[39;00m\n\u001b[1;32m    224\u001b[0m     \u001b[38;5;28;01mif\u001b[39;00m data \u001b[38;5;241m==\u001b[39m \u001b[38;5;124mb\u001b[39m\u001b[38;5;124m\"\u001b[39m\u001b[38;5;124m\"\u001b[39m \u001b[38;5;129;01mand\u001b[39;00m \u001b[38;5;28mself\u001b[39m\u001b[38;5;241m.\u001b[39m_h11_state\u001b[38;5;241m.\u001b[39mtheir_state \u001b[38;5;241m==\u001b[39m h11\u001b[38;5;241m.\u001b[39mSEND_RESPONSE:\n",
      "File \u001b[0;32m/usr/local/lib/python3.10/dist-packages/httpcore/_backends/sync.py:126\u001b[0m, in \u001b[0;36mSyncStream.read\u001b[0;34m(self, max_bytes, timeout)\u001b[0m\n\u001b[1;32m    124\u001b[0m \u001b[38;5;28;01mwith\u001b[39;00m map_exceptions(exc_map):\n\u001b[1;32m    125\u001b[0m     \u001b[38;5;28mself\u001b[39m\u001b[38;5;241m.\u001b[39m_sock\u001b[38;5;241m.\u001b[39msettimeout(timeout)\n\u001b[0;32m--> 126\u001b[0m     \u001b[38;5;28;01mreturn\u001b[39;00m \u001b[38;5;28;43mself\u001b[39;49m\u001b[38;5;241;43m.\u001b[39;49m\u001b[43m_sock\u001b[49m\u001b[38;5;241;43m.\u001b[39;49m\u001b[43mrecv\u001b[49m\u001b[43m(\u001b[49m\u001b[43mmax_bytes\u001b[49m\u001b[43m)\u001b[49m\n",
      "File \u001b[0;32m/usr/lib/python3.10/ssl.py:1259\u001b[0m, in \u001b[0;36mSSLSocket.recv\u001b[0;34m(self, buflen, flags)\u001b[0m\n\u001b[1;32m   1255\u001b[0m     \u001b[38;5;28;01mif\u001b[39;00m flags \u001b[38;5;241m!=\u001b[39m \u001b[38;5;241m0\u001b[39m:\n\u001b[1;32m   1256\u001b[0m         \u001b[38;5;28;01mraise\u001b[39;00m \u001b[38;5;167;01mValueError\u001b[39;00m(\n\u001b[1;32m   1257\u001b[0m             \u001b[38;5;124m\"\u001b[39m\u001b[38;5;124mnon-zero flags not allowed in calls to recv() on \u001b[39m\u001b[38;5;132;01m%s\u001b[39;00m\u001b[38;5;124m\"\u001b[39m \u001b[38;5;241m%\u001b[39m\n\u001b[1;32m   1258\u001b[0m             \u001b[38;5;28mself\u001b[39m\u001b[38;5;241m.\u001b[39m\u001b[38;5;18m__class__\u001b[39m)\n\u001b[0;32m-> 1259\u001b[0m     \u001b[38;5;28;01mreturn\u001b[39;00m \u001b[38;5;28;43mself\u001b[39;49m\u001b[38;5;241;43m.\u001b[39;49m\u001b[43mread\u001b[49m\u001b[43m(\u001b[49m\u001b[43mbuflen\u001b[49m\u001b[43m)\u001b[49m\n\u001b[1;32m   1260\u001b[0m \u001b[38;5;28;01melse\u001b[39;00m:\n\u001b[1;32m   1261\u001b[0m     \u001b[38;5;28;01mreturn\u001b[39;00m \u001b[38;5;28msuper\u001b[39m()\u001b[38;5;241m.\u001b[39mrecv(buflen, flags)\n",
      "File \u001b[0;32m/usr/lib/python3.10/ssl.py:1132\u001b[0m, in \u001b[0;36mSSLSocket.read\u001b[0;34m(self, len, buffer)\u001b[0m\n\u001b[1;32m   1130\u001b[0m         \u001b[38;5;28;01mreturn\u001b[39;00m \u001b[38;5;28mself\u001b[39m\u001b[38;5;241m.\u001b[39m_sslobj\u001b[38;5;241m.\u001b[39mread(\u001b[38;5;28mlen\u001b[39m, buffer)\n\u001b[1;32m   1131\u001b[0m     \u001b[38;5;28;01melse\u001b[39;00m:\n\u001b[0;32m-> 1132\u001b[0m         \u001b[38;5;28;01mreturn\u001b[39;00m \u001b[38;5;28;43mself\u001b[39;49m\u001b[38;5;241;43m.\u001b[39;49m\u001b[43m_sslobj\u001b[49m\u001b[38;5;241;43m.\u001b[39;49m\u001b[43mread\u001b[49m\u001b[43m(\u001b[49m\u001b[38;5;28;43mlen\u001b[39;49m\u001b[43m)\u001b[49m\n\u001b[1;32m   1133\u001b[0m \u001b[38;5;28;01mexcept\u001b[39;00m SSLError \u001b[38;5;28;01mas\u001b[39;00m x:\n\u001b[1;32m   1134\u001b[0m     \u001b[38;5;28;01mif\u001b[39;00m x\u001b[38;5;241m.\u001b[39margs[\u001b[38;5;241m0\u001b[39m] \u001b[38;5;241m==\u001b[39m SSL_ERROR_EOF \u001b[38;5;129;01mand\u001b[39;00m \u001b[38;5;28mself\u001b[39m\u001b[38;5;241m.\u001b[39msuppress_ragged_eofs:\n",
      "\u001b[0;31mKeyboardInterrupt\u001b[0m: "
     ]
    }
   ],
   "source": [
    "# file path test file\n",
    "csv_file_path = 'data/009-1.csv'\n",
    "\n",
    "# reading in data\n",
    "lines = read_csv(csv_file_path)\n",
    "\n",
    "# process data in batches of size 10\n",
    "batched_messages = process_lines_in_batches(lines, assistant_manager, batch_size=10)\n",
    "\n",
    "# Display the first few results for testing\n",
    "print(batched_messages[:5])  # Adjust as needed to check the results\n",
    "\n",
    "# function to export the data to csv\n",
    "#def export_to_csv(data, output_file_path):\n",
    "# data.to_csv(output_file_path, index=False)\n"
   ]
  },
  {
   "cell_type": "markdown",
   "metadata": {},
   "source": []
  }
 ],
 "metadata": {
  "kernelspec": {
   "display_name": "Python 3 (ipykernel)",
   "language": "python",
   "name": "python3"
  },
  "language_info": {
   "codemirror_mode": {
    "name": "ipython",
    "version": 3
   },
   "file_extension": ".py",
   "mimetype": "text/x-python",
   "name": "python",
   "nbconvert_exporter": "python",
   "pygments_lexer": "ipython3",
   "version": "3.10.12"
  }
 },
 "nbformat": 4,
 "nbformat_minor": 4
}
