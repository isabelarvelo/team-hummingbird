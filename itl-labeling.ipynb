{
 "cells": [
  {
   "cell_type": "markdown",
   "metadata": {},
   "source": [
    "# In the Loop Labeling"
   ]
  },
  {
   "cell_type": "markdown",
   "metadata": {},
   "source": [
    "In-the-loop AI Assisted Labeling: adds functionality for users to review and correct the initial AI’s labels – the user will review and correct the labels and these corrections will be collected and used as new training data\n",
    "\n",
    "New training data: used to re-train the initial model (to fine-tune the initial AI model, can be a basic retraining loop or a more complex ML)\n",
    "\n",
    "Iterative Improvement: for this part, we just repeat the process above of generating the labels, gathering the corrections as new training data, retraining the model on it, etc. and the model should become more accurate each time)\n",
    "\n",
    "Visualizations: we need to visualize the improvement in accuracy over each iteration, which we can save to a csv file when we collect the new training data – but we also need to tell the user the accuracy each time the model is used so we can generate the accuracy data and print it to user and simultaneously export it to csv file\n",
    "\n",
    "Export functionality: to allow users to export the newly labeled data back to csv"
   ]
  },
  {
   "cell_type": "code",
   "execution_count": 21,
   "metadata": {},
   "outputs": [],
   "source": [
    "# Importing necessary libraries \n",
    "import os\n",
    "import getpass\n",
    "import pandas as pd\n",
    "from openai import OpenAI"
   ]
  },
  {
   "cell_type": "code",
   "execution_count": 22,
   "metadata": {},
   "outputs": [],
   "source": [
    "os.environ[\"OPENAI_API_KEY\"] = getpass.getpass(\"OpenAI API Key:\")"
   ]
  },
  {
   "cell_type": "code",
   "execution_count": 23,
   "metadata": {},
   "outputs": [],
   "source": [
    "import time"
   ]
  },
  {
   "cell_type": "code",
   "execution_count": 24,
   "metadata": {},
   "outputs": [],
   "source": [
    "from openai import OpenAI\n",
    "client = OpenAI()"
   ]
  },
  {
   "cell_type": "code",
   "execution_count": 25,
   "metadata": {},
   "outputs": [],
   "source": [
    "from ai_assisted_coding_final import assistant"
   ]
  },
  {
   "cell_type": "code",
   "execution_count": 26,
   "metadata": {},
   "outputs": [
    {
     "name": "stdout",
     "output_type": "stream",
     "text": [
      "asst_X3eHMR3axI9V8LIxFaax63gu\n"
     ]
    },
    {
     "data": {
      "text/plain": [
       "Assistant(id='asst_X3eHMR3axI9V8LIxFaax63gu', created_at=1702038098, description='A tool for classifying teacher utterances into categories like OTR, PRS, REP, NEU.', file_ids=[], instructions='You are the co-founder of an ed-tech startup training an automated teacher feedback tool to classify utterances made. I am going to provide several sentences. \\n                                            Please classify each sentence as one of the following: OTR (opportunity to respond), PRS (praise), REP (reprimand), or NEU (neutral)\\n        \\n                                            user: Can someone give me an example of a pronoun?\\n                                            assistant: OTR\\n                                            user: That\\'s right, \\'he\\' is a pronoun because it can take the place of a noun.\\n                                            assistant: PRS\\n                                            user: \"You need to keep quiet while someone else is reading.\"\\n                                            assistant: REP\\n                                            user: A pronoun is a word that can take the place of a noun.\\n                                            assistant: NEU\\n\\n                                            Only answer with the following labels: OTR, PRS, REP, NEU', metadata={}, model='gpt-4-1106-preview', name='Classify Teacher Utterances', object='assistant', tools=[])"
      ]
     },
     "execution_count": 26,
     "metadata": {},
     "output_type": "execute_result"
    }
   ],
   "source": [
    "assistant_manager = assistant.OpenAIAssistantManager(client)\n",
    "\n",
    "# Create an assistant\n",
    "assistant_manager.create_assistant()"
   ]
  },
  {
   "cell_type": "code",
   "execution_count": 27,
   "metadata": {},
   "outputs": [],
   "source": [
    "def read_csv(file_path):\n",
    "    df = pd.read_csv(file_path)\n",
    "    return df['Text'].tolist()\n"
   ]
  },
  {
   "cell_type": "code",
   "execution_count": 28,
   "metadata": {},
   "outputs": [],
   "source": [
    "def process_lines(lines, assistant_manager):\n",
    "    data = []\n",
    "    for line in lines:\n",
    "        thread, completed_run = assistant_manager.create_thread_and_run(line)\n",
    "        \n",
    "        # Wait for the response and get it\n",
    "        response_page = assistant_manager.get_response()\n",
    "\n",
    "        # Collect all messages from the response page\n",
    "        messages = [msg for msg in response_page]  # Iterating over the response page to collect messages\n",
    "\n",
    "        # Extract the user message and the assistant's label\n",
    "        if messages:\n",
    "            user_message = line\n",
    "            # Assuming the last message is from the assistant and contains the label\n",
    "            assistant_message = messages[-1].content[0].text.value\n",
    "            label = assistant_message.split()[-1]  # Extract label\n",
    "            data.append((user_message, label))\n",
    "\n",
    "    return data\n",
    "\n",
    "\n"
   ]
  },
  {
   "cell_type": "code",
   "execution_count": 29,
   "metadata": {},
   "outputs": [],
   "source": [
    "# Assuming you have an instance of OpenAIAssistantManager as assistant_manager\n",
    "lines = read_csv('data/009-1.csv')"
   ]
  },
  {
   "cell_type": "code",
   "execution_count": 30,
   "metadata": {},
   "outputs": [
    {
     "data": {
      "text/plain": [
       "['Good morning class, today we are going to learn about nouns.',\n",
       " 'A noun is a word that represents a person, place, thing, or idea.',\n",
       " 'Can anyone give me an example of a noun?',\n",
       " \"That's right, 'dog' is a noun because it is a thing.\",\n",
       " \"Let's write down some nouns in our notebooks.\",\n",
       " \"Now, let's talk about verbs. Does anyone know what a verb is?\",\n",
       " 'A verb is a word that describes an action, occurrence, or state of being.',\n",
       " 'Can someone give me an example of a verb?',\n",
       " \"Great example, 'run' is a verb because it is an action.\",\n",
       " \"Now, let's write down some verbs in our notebooks.\",\n",
       " 'Next, we are going to learn about adjectives.',\n",
       " 'An adjective is a word that describes a noun.',\n",
       " 'Can someone give me an example of an adjective?',\n",
       " \"Exactly, 'beautiful' is an adjective because it describes a noun.\",\n",
       " \"Let's write down some adjectives in our notebooks.\",\n",
       " 'Now we are going to form sentences using nouns, verbs, and adjectives.',\n",
       " 'A sentence is a group of words that expresses a complete thought.',\n",
       " \"Let's build a sentence together. I'll start with a noun: 'The cat'.\",\n",
       " 'Can someone add a verb to our sentence?',\n",
       " \"Great, now our sentence is: 'The cat runs'.\",\n",
       " 'Can someone add an adjective to our sentence?',\n",
       " \"Wonderful, our sentence is now: 'The fast cat runs'.\",\n",
       " \"Let's write down some of our own sentences in our notebooks.\",\n",
       " 'Now we are going to learn about punctuation.',\n",
       " 'Punctuation marks are symbols that help us to organize and structure sentences.',\n",
       " 'The period is a punctuation mark used to end a sentence.',\n",
       " 'The question mark is used at the end of a question.',\n",
       " 'The exclamation mark is used to express excitement or emphasis.',\n",
       " 'Can someone give me a sentence with an exclamation mark?',\n",
       " 'Great job, that sentence definitely needed an exclamation mark!',\n",
       " \"Let's write down some sentences with different punctuation marks in our notebooks.\",\n",
       " 'Next, we are going to learn about pronouns.',\n",
       " 'A pronoun is a word that can take the place of a noun.',\n",
       " 'Can someone give me an example of a pronoun?',\n",
       " \"That's right, 'he' is a pronoun because it can take the place of a noun.\",\n",
       " \"Let's write down some pronouns in our notebooks.\",\n",
       " 'Now, we are going to practice using pronouns in sentences.',\n",
       " \"Let's build a sentence together. I'll start with a noun: 'The girl'.\",\n",
       " 'Can someone replace the noun with a pronoun?',\n",
       " \"Great, now our sentence is: 'She reads a book'.\",\n",
       " \"Let's write down some of our own sentences using pronouns in our notebooks.\",\n",
       " 'Next, we are going to learn about adverbs.',\n",
       " 'An adverb is a word that describes a verb, an adjective, or another adverb.',\n",
       " 'Can someone give me an example of an adverb?',\n",
       " \"Exactly, 'quickly' is an adverb because it describes how an action is done.\",\n",
       " \"Let's write down some adverbs in our notebooks.\",\n",
       " 'Now we are going to use adverbs in sentences.',\n",
       " \"Let's build a sentence together. I'll start with a verb: 'runs'.\",\n",
       " 'Can someone add an adverb to our sentence?',\n",
       " \"Great, now our sentence is: 'She runs quickly'.\",\n",
       " \"Let's write down some of our own sentences using adverbs in our notebooks.\",\n",
       " 'Well done, everyone! You have learned a lot today.',\n",
       " 'Remember to practice using these new words in your writing.',\n",
       " 'For homework, please write a short story using the words we learned today.',\n",
       " 'Make sure to include nouns, verbs, adjectives, and adverbs in your story.',\n",
       " \"Don't forget to use correct punctuation in your sentences.\",\n",
       " 'I am looking forward to reading your stories.',\n",
       " 'Have a great day, and remember to keep practicing your English!']"
      ]
     },
     "execution_count": 30,
     "metadata": {},
     "output_type": "execute_result"
    }
   ],
   "source": [
    "lines"
   ]
  },
  {
   "cell_type": "code",
   "execution_count": 31,
   "metadata": {},
   "outputs": [],
   "source": [
    "# need to make this a group and feed in x number of lines at a time increasing the beatch size along with the accuracy\n",
    "messages = process_lines(lines[0:4], assistant_manager)\n"
   ]
  },
  {
   "cell_type": "code",
   "execution_count": 32,
   "metadata": {},
   "outputs": [
    {
     "data": {
      "text/plain": [
       "[('Good morning class, today we are going to learn about nouns.', 'NEU'),\n",
       " ('A noun is a word that represents a person, place, thing, or idea.', 'NEU'),\n",
       " ('Can anyone give me an example of a noun?', 'OTR'),\n",
       " (\"That's right, 'dog' is a noun because it is a thing.\", 'PRS')]"
      ]
     },
     "execution_count": 32,
     "metadata": {},
     "output_type": "execute_result"
    }
   ],
   "source": [
    "messages"
   ]
  },
  {
   "cell_type": "code",
   "execution_count": 33,
   "metadata": {},
   "outputs": [],
   "source": [
    "df = pd.DataFrame(messages, columns=[\"Text\", \"Label\"])"
   ]
  },
  {
   "cell_type": "code",
   "execution_count": 34,
   "metadata": {},
   "outputs": [
    {
     "data": {
      "text/html": [
       "<div>\n",
       "<style scoped>\n",
       "    .dataframe tbody tr th:only-of-type {\n",
       "        vertical-align: middle;\n",
       "    }\n",
       "\n",
       "    .dataframe tbody tr th {\n",
       "        vertical-align: top;\n",
       "    }\n",
       "\n",
       "    .dataframe thead th {\n",
       "        text-align: right;\n",
       "    }\n",
       "</style>\n",
       "<table border=\"1\" class=\"dataframe\">\n",
       "  <thead>\n",
       "    <tr style=\"text-align: right;\">\n",
       "      <th></th>\n",
       "      <th>Text</th>\n",
       "      <th>Label</th>\n",
       "    </tr>\n",
       "  </thead>\n",
       "  <tbody>\n",
       "    <tr>\n",
       "      <th>0</th>\n",
       "      <td>Good morning class, today we are going to lear...</td>\n",
       "      <td>NEU</td>\n",
       "    </tr>\n",
       "    <tr>\n",
       "      <th>1</th>\n",
       "      <td>A noun is a word that represents a person, pla...</td>\n",
       "      <td>NEU</td>\n",
       "    </tr>\n",
       "    <tr>\n",
       "      <th>2</th>\n",
       "      <td>Can anyone give me an example of a noun?</td>\n",
       "      <td>OTR</td>\n",
       "    </tr>\n",
       "    <tr>\n",
       "      <th>3</th>\n",
       "      <td>That's right, 'dog' is a noun because it is a ...</td>\n",
       "      <td>PRS</td>\n",
       "    </tr>\n",
       "  </tbody>\n",
       "</table>\n",
       "</div>"
      ],
      "text/plain": [
       "                                                Text Label\n",
       "0  Good morning class, today we are going to lear...   NEU\n",
       "1  A noun is a word that represents a person, pla...   NEU\n",
       "2           Can anyone give me an example of a noun?   OTR\n",
       "3  That's right, 'dog' is a noun because it is a ...   PRS"
      ]
     },
     "execution_count": 34,
     "metadata": {},
     "output_type": "execute_result"
    }
   ],
   "source": [
    "# need to make this interactive and feed in the label and then make it available for download as a csv\n",
    "df"
   ]
  },
  {
   "cell_type": "code",
   "execution_count": null,
   "metadata": {},
   "outputs": [],
   "source": [
    "# after labels are fed in send message like this WITH THE new labels \n",
    "\n",
    "\"\"\" \n",
    "Great. Here are some more examples of how to classify utterances::\n",
    "\n",
    "user: Can someone give me an example of a pronoun?\n",
    "assistant: OTR\n",
    "user: That's right, 'he' is a pronoun because it can take the place of a noun.\n",
    "assistant: PRS\n",
    "user: \"You need to keep quiet while someone else is reading.\"\n",
    "assistant: REP\n",
    "user: A pronoun is a word that can take the place of a noun.\n",
    "assistant: NEU\n",
    "\n",
    "I am going to provide several more sentences. Only answer with the following labels: OTR, PRS, REP, NEU\n",
    "\"\"\"\n",
    "\n",
    "# feed in next batch of labels and iterate "
   ]
  },
  {
   "cell_type": "markdown",
   "metadata": {},
   "source": []
  }
 ],
 "metadata": {
  "kernelspec": {
   "display_name": "Python 3",
   "language": "python",
   "name": "python3"
  },
  "language_info": {
   "codemirror_mode": {
    "name": "ipython",
    "version": 3
   },
   "file_extension": ".py",
   "mimetype": "text/x-python",
   "name": "python",
   "nbconvert_exporter": "python",
   "pygments_lexer": "ipython3",
   "version": "3.10.12"
  }
 },
 "nbformat": 4,
 "nbformat_minor": 2
}
