{
 "cells": [
  {
   "cell_type": "markdown",
   "metadata": {},
   "source": [
    "# Enhanced Interactive Labeling and Model Training Using AI Assistance"
   ]
  },
  {
   "cell_type": "markdown",
   "metadata": {},
   "source": [
    "This notebook introduces an advanced approach to interactive data labeling, leveraging AI assistance to augment the manual labeling process. The core idea is to iteratively refine a model's understanding and predictive accuracy by incorporating real-time user feedback. As you engage in labeling your dataset, the model learns from your inputs, enhancing its ability to make more accurate predictions over time. Key functionalities developed in this notebook, using a CSV file and integrated AI APIs, include:\n",
    "\n",
    "1. Selective Transcript Retrieval: Implement a feature to extract a specific number of consecutive lines from a transcript, along with their corresponding labels. This selective retrieval allows for focused and efficient data processing.\n",
    "\n",
    "2. Mislabeled Data Correction and Accuracy Assessment: Introduce a mechanism to identify and correct mislabeled instances in the dataset. This component not only corrects errors but also calculates the accuracy of the model's predictions, providing valuable insights into its performance.\n",
    "\n",
    "3. Incremental Model Training: Develop a system that utilizes the corrected labels as additional training data. This process enables the model to learn from its mistakes and apply this new knowledge to future predictions, progressively improving its accuracy.\n",
    "\n",
    "4. Dynamic Batch Sizing: Design an adaptive approach to determine the size of data batches for processing. This method conditions the batch sizes on the accuracy of the model's recent predictions, optimizing the balance between efficiency and the need for user intervention.\n",
    "\n",
    "Overall, this notebook serves as a comprehensive guide to building a sophisticated, AI-assisted labeling workflow that not only aids in the manual labeling process but also evolves the model's capabilities through continuous learning and adaptation."
   ]
  },
  {
   "cell_type": "code",
   "execution_count": 1,
   "metadata": {
    "ExecuteTime": {
     "end_time": "2023-12-09T08:01:11.150748Z",
     "start_time": "2023-12-09T08:01:11.145443Z"
    }
   },
   "outputs": [],
   "source": [
    "# Importing necessary libraries \n",
    "import os\n",
    "import getpass\n",
    "import pandas as pd\n",
    "from openai import OpenAI\n",
    "from IPython.display import display, clear_output\n",
    "import time\n",
    "import matplotlib.pyplot as plt\n",
    "from ai_assisted_coding_final import assistant\n",
    "from ai_assisted_coding_final.interactive_labeling import *"
   ]
  },
  {
   "cell_type": "markdown",
   "metadata": {},
   "source": [
    "The next block of code will ask you to input your API Key. If you do not have one, please go to [make an account](https://platform.openai.com/docs/quickstart?context=python) and then set up an API key [here](https://platform.openai.com/api-keys). This functionality does cost money so you will need to pay for usage before proceeding."
   ]
  },
  {
   "cell_type": "code",
   "execution_count": 2,
   "metadata": {
    "ExecuteTime": {
     "end_time": "2023-12-09T08:01:17.531044Z",
     "start_time": "2023-12-09T08:01:11.499648Z"
    }
   },
   "outputs": [],
   "source": [
    "os.environ[\"OPENAI_API_KEY\"] = getpass.getpass(\"OpenAI API Key:\")"
   ]
  },
  {
   "cell_type": "code",
   "execution_count": 3,
   "metadata": {
    "ExecuteTime": {
     "end_time": "2023-12-09T08:01:18.902895Z",
     "start_time": "2023-12-09T08:01:18.895650Z"
    }
   },
   "outputs": [],
   "source": [
    "from openai import OpenAI\n",
    "client = OpenAI()"
   ]
  },
  {
   "cell_type": "markdown",
   "metadata": {},
   "source": [
    "## Instantiating Assistant"
   ]
  },
  {
   "cell_type": "code",
   "execution_count": 4,
   "metadata": {},
   "outputs": [],
   "source": [
    "assistant_manager = assistant.OpenAIAssistantManager(client)"
   ]
  },
  {
   "cell_type": "markdown",
   "metadata": {},
   "source": [
    "The code block below will create a Custom Teacher Utterances Classifier Assistant that will leverage Generative AI to aid you in labeling. You have to options:\n",
    "\n",
    "1. Running the first code block will run your assistant using the GPT-4 Turbo with vision model, which costs costs $0.01/1k prompt tokens\n",
    "2. Running the second, will run your assistant using GPT-3.5 Turbo, which costs 0.003/1K input \n",
    "\n",
    "If you get an erroe saying that 'gpt-4-1106-preview' is not available, please use option 2. "
   ]
  },
  {
   "cell_type": "code",
   "execution_count": 5,
   "metadata": {},
   "outputs": [
    {
     "name": "stdout",
     "output_type": "stream",
     "text": [
      "asst_84GjzBJ39lnRZh4pFoH55ZGg\n"
     ]
    },
    {
     "data": {
      "text/plain": [
       "Assistant(id='asst_84GjzBJ39lnRZh4pFoH55ZGg', created_at=1702323990, description='A tool for classifying teacher utterances into the categories OTR (opportunity to respond), PRS (praise), REP (reprimand), or NEU (neutral).', file_ids=[], instructions=\"You are the co-founder of an ed-tech startup training an automated teacher feedback tool to classify utterances made. I am going to provide several sentences. \\n                                            Please classify each sentence as one of the following: OTR (opportunity to respond), PRS (praise), REP (reprimand), or NEU (neutral)\\n        \\n                                            user: Can someone give me an example of a pronoun?\\n                                            assistant: OTR\\n                                            user: That's right, 'he' is a pronoun because it can take the place of a noun.\\n                                            assistant: PRS\\n                                            user: You need to keep quiet while someone else is reading.\\n                                            assistant: REP\\n                                            user: A pronoun is a word that can take the place of a noun.\\n                                            assistant: NEU\\n\\n                                            Only answer with the following labels: OTR, PRS, REP, NEU\", metadata={}, model='gpt-4-1106-preview', name='Custom Teacher Utterances Classifier', object='assistant', tools=[ToolCodeInterpreter(type='code_interpreter')])"
      ]
     },
     "execution_count": 5,
     "metadata": {},
     "output_type": "execute_result"
    }
   ],
   "source": [
    "#assistant_manager.create_assistant()"
   ]
  },
  {
   "cell_type": "code",
   "execution_count": 161,
   "metadata": {
    "ExecuteTime": {
     "end_time": "2023-12-09T08:01:22.143551Z",
     "start_time": "2023-12-09T08:01:21.912637Z"
    }
   },
   "outputs": [],
   "source": [
    "#assistant_manager.create_custom_assistant()"
   ]
  },
  {
   "cell_type": "markdown",
   "metadata": {},
   "source": [
    "When you create an assistant it will print its assistant id. Please save this and run the code below to retrieve your assistant once you restart the kernel or come back to this notebook. This will allow you to use the same assistant, instead of creating a new one every single time you want to access the functionality in this notebook. "
   ]
  },
  {
   "cell_type": "code",
   "execution_count": 5,
   "metadata": {},
   "outputs": [
    {
     "data": {
      "text/plain": [
       "Assistant(id='asst_84GjzBJ39lnRZh4pFoH55ZGg', created_at=1702323990, description='A tool for classifying teacher utterances into the categories OTR (opportunity to respond), PRS (praise), REP (reprimand), or NEU (neutral).', file_ids=[], instructions=\"You are the co-founder of an ed-tech startup training an automated teacher feedback tool to classify utterances made. I am going to provide several sentences. \\n                                            Please classify each sentence as one of the following: OTR (opportunity to respond), PRS (praise), REP (reprimand), or NEU (neutral)\\n        \\n                                            user: Can someone give me an example of a pronoun?\\n                                            assistant: OTR\\n                                            user: That's right, 'he' is a pronoun because it can take the place of a noun.\\n                                            assistant: PRS\\n                                            user: You need to keep quiet while someone else is reading.\\n                                            assistant: REP\\n                                            user: A pronoun is a word that can take the place of a noun.\\n                                            assistant: NEU\\n\\n                                            Only answer with the following labels: OTR, PRS, REP, NEU\", metadata={}, model='gpt-4-1106-preview', name='Custom Teacher Utterances Classifier', object='assistant', tools=[ToolCodeInterpreter(type='code_interpreter')])"
      ]
     },
     "execution_count": 5,
     "metadata": {},
     "output_type": "execute_result"
    }
   ],
   "source": [
    "assistant_manager.retrieve_assistant(\"asst_84GjzBJ39lnRZh4pFoH55ZGg\")"
   ]
  },
  {
   "cell_type": "markdown",
   "metadata": {},
   "source": [
    "## User Inputs "
   ]
  },
  {
   "cell_type": "code",
   "execution_count": 17,
   "metadata": {},
   "outputs": [],
   "source": [
    "file_path = \"data/231-3.csv\"  # This is the path to the file you want to label\n",
    "num_manual_labels = 5 # This is the number of manual labels you want to start with\n",
    "initial_batch_size = 5 # This is the number of examples you want to start with"
   ]
  },
  {
   "cell_type": "code",
   "execution_count": 12,
   "metadata": {},
   "outputs": [],
   "source": [
    "# Read data\n",
    "lines = read_csv(file_path)\n",
    "initial_data = lines[:num_manual_labels]  # Adjust as needed\n",
    "unlabeled_data = lines[num_manual_labels:]"
   ]
  },
  {
   "cell_type": "code",
   "execution_count": 18,
   "metadata": {},
   "outputs": [],
   "source": [
    "all_labeled_data = []\n",
    "context = \"\"\n",
    "accuracy_scores = []\n",
    "batch_sizes = []\n",
    "batch_size = initial_batch_size"
   ]
  },
  {
   "cell_type": "markdown",
   "metadata": {},
   "source": [
    "## Initial Labeling\n",
    "\n",
    "The block below will print out 5 labels that you need to manually label. "
   ]
  },
  {
   "cell_type": "code",
   "execution_count": 14,
   "metadata": {},
   "outputs": [
    {
     "name": "stdout",
     "output_type": "stream",
     "text": [
      "Line to label: Good morning class, today we are going to learn about ancient civilizations.\n",
      "Line to label: Can anyone tell me what a civilization is?\n",
      "Line to label: Yes, that's right. A civilization is a complex society with its own government, religion, and economy.\n",
      "Line to label: Now, let's talk about the first civilization we know of, the Sumerians.\n",
      "Line to label: They lived in a region called Mesopotamia. Can anyone find Mesopotamia on the map?\n"
     ]
    }
   ],
   "source": [
    "# Display all lines first\n",
    "for data in initial_data:\n",
    "    print(f\"Line to label: {data}\")"
   ]
  },
  {
   "cell_type": "markdown",
   "metadata": {},
   "source": [
    "Now you will be given the option to label these five initial utterances. When you run the next code block you will be asked to input the correct label for each label in order. Depending on your integrated development environment, the input box may appear in different locations. In VSCode, you will see a box appear at the top of the screen. Please the labels one at a time, in the order they appear above. "
   ]
  },
  {
   "cell_type": "code",
   "execution_count": 15,
   "metadata": {},
   "outputs": [],
   "source": [
    "# Then collect labels for each line\n",
    "context = \"Here are more examples of how to classify utterances:\"\n",
    "all_labeled_data = []\n",
    "\n",
    "for data in initial_data:\n",
    "    label = label_data(data)\n",
    "    context += f\"\\nuser: '{data}'\\nassistant: '{label}'\"\n",
    "    all_labeled_data.append((data, label))\n",
    "context += \"\\nI am going to provide several more sentences. Only answer with the following three latter labels labels: OTR, PRS, REP, NEU\"\n"
   ]
  },
  {
   "cell_type": "markdown",
   "metadata": {},
   "source": [
    "Now that you have manually inputted 5 labels, we can provide these examples to our Custom Teacher Utterances Classifier Assistant as context. The code block below is used for batch processing unlabeled data. It processes each batch, gets predictions, allows user input for verification or correction, and calculates batch accuracy."
   ]
  },
  {
   "cell_type": "markdown",
   "metadata": {},
   "source": [
    "## In the Loop Labeling"
   ]
  },
  {
   "cell_type": "code",
   "execution_count": 19,
   "metadata": {},
   "outputs": [
    {
     "name": "stdout",
     "output_type": "stream",
     "text": [
      "Predicted for 'Good job, Sarah! Mesopotamia is between the Tigris and Euphrates rivers.': PRS\n",
      "Predicted for 'The Sumerians invented many things we still use today. Can anyone give me an example?': OTR\n",
      "Predicted for 'Excellent, they did invent the wheel!': PRS\n",
      "Predicted for 'They also invented writing. They wrote on clay tablets using a script called cuneiform.': NEU\n",
      "Predicted for 'Jack, please stop talking while I am teaching.': REP\n",
      "Predicted for 'Let's move on to the ancient Egyptians.': NEU\n",
      "Predicted for 'They built incredible structures called pyramids. Does anyone know why they built these?': OTR\n",
      "Predicted for 'That's correct, they built them as tombs for their pharaohs.': PRS\n",
      "Predicted for 'Can anyone tell me about a famous pharaoh?': OTR\n",
      "Predicted for 'Yes, King Tutankhamun is a very famous pharaoh.': PRS\n",
      "Predicted for 'The ancient Egyptians also invented paper using a plant called papyrus.': NEU\n",
      "Predicted for 'Now, let's talk about the ancient Greeks.': NEU\n",
      "Predicted for 'They are known for their philosophy, art, and mythology. Can anyone name a famous Greek philosopher?': OTR\n",
      "Predicted for 'Yes, Socrates is a very famous Greek philosopher.': PRS\n",
      "Predicted for 'The ancient Greeks also invented the Olympics. The first Olympic games were held in 776 BCE.': NEU\n",
      "Predicted for 'Jack, I need you to focus on the lesson.': REP\n",
      "Predicted for 'Let's move on to the ancient Romans.': NEU\n",
      "Predicted for 'The Romans built a large empire and they were known for their engineering skills.': NEU\n",
      "Predicted for 'They built roads, bridges, and huge buildings called colosseums.': NEU\n",
      "Predicted for 'Does anyone know what the colosseums were used for?': OTR\n",
      "Predicted for 'Yes, they were used for various events including gladiator fights.': NEU\n",
      "Predicted for 'The Romans also developed a system of law that has influenced the legal systems of many countries.': NEU\n",
      "Predicted for 'Now, let's talk about the ancient Chinese civilization.': NEU\n",
      "Predicted for 'They invented gunpowder, paper money, and the compass.': NEU\n",
      "Predicted for 'Can anyone tell me about a famous Chinese philosopher?': OTR\n",
      "Predicted for 'Yes, Confucius is a very famous Chinese philosopher.': PRS\n",
      "Predicted for 'The ancient Chinese also built the Great Wall of China to protect themselves from invasions.': NEU\n",
      "Predicted for 'Jack, this is your last warning. Please stop disrupting the class.': REP\n",
      "Predicted for 'Now, let's move on to the ancient Indian civilization.': NEU\n",
      "Predicted for 'They developed a number system that is the precursor to the one we use today.': NEU\n",
      "Predicted for 'They also practiced yoga and meditation.': NEU\n",
      "Predicted for 'Does anyone know what religion originated in ancient India?': OTR\n",
      "Predicted for 'Yes, Hinduism originated in ancient India.': PRS\n",
      "Predicted for 'Buddhism also originated in ancient India and it was founded by Siddhartha Gautama.': NEU\n",
      "Predicted for 'Let's move on to the Maya civilization.': NEU\n",
      "Predicted for 'The Maya were known for their advanced knowledge in astronomy and mathematics.': NEU\n",
      "Predicted for 'They developed a calendar that is more accurate than the one we use today.': NEU\n",
      "Predicted for 'Does anyone know where the Maya civilization was located?': OTR\n",
      "Predicted for 'Yes, it was located in what is now Mexico and Central America.': NEU\n",
      "Predicted for 'The Maya also built large cities with tall pyramids.': NEU\n",
      "Predicted for 'Jack, I am going to have to ask you to leave the class if you continue this behavior.': REP\n",
      "Predicted for 'Now, let's move on to the Inca civilization.': NEU\n",
      "Predicted for 'The Inca were known for their architecture and road systems.': NEU\n",
      "Predicted for 'They built a large empire in what is now Peru.': NEU\n",
      "Predicted for 'Does anyone know what the Inca built high in the mountains?': OTR\n",
      "Predicted for 'Yes, they built the city of Machu Picchu high in the Andes mountains.': NEU\n",
      "Predicted for 'The Inca also developed a system of record-keeping using knots tied in strings called quipu.': NEU\n",
      "Predicted for 'Now, we have covered a lot today. Let's take a few minutes to review.': NEU\n",
      "Predicted for 'Can anyone tell me one thing the Sumerians invented?': OTR\n",
      "Predicted for 'Yes, they invented writing.': PRS\n",
      "Predicted for 'What about the ancient Egyptians? What is one thing they are known for?': OTR\n",
      "Predicted for 'Yes, they are known for building pyramids.': PRS\n",
      "Predicted for 'What is one thing the ancient Greeks are known for?': OTR\n",
      "Predicted for 'Yes, they are known for their engineering skills.': NEU\n",
      "Predicted for 'What is one thing the ancient Chinese are known for?': OTR\n",
      "Predicted for 'Yes, they are known for inventing paper money.': NEU\n",
      "Predicted for 'What is one thing the ancient Indians are known for?': OTR\n",
      "Predicted for 'Yes, they are known for developing a number system.': NEU\n",
      "Predicted for 'What is one thing the Maya are known for?': OTR\n",
      "Predicted for 'Yes, they are known for their advanced knowledge in astronomy.': PRS\n",
      "Predicted for 'What is one thing the Inca are known for?': OTR\n",
      "Predicted for 'Yes, they are known for their architecture.': PRS\n",
      "Predicted for 'Great job everyone! You all did very well today.': NEU\n",
      "Predicted for 'Please remember to read the chapter on ancient civilizations for homework.': NEU\n",
      "Predicted for 'And don't forget to answer the questions at the end of the chapter.': REP\n"
     ]
    }
   ],
   "source": [
    "i = 0\n",
    "while i < len(unlabeled_data):\n",
    "    batch, actual_batch_size = process_batch(unlabeled_data, i, batch_size, batch_sizes)\n",
    "    labeled_data, correct_responses = get_user_labels(batch, assistant_manager, context)\n",
    "    all_labeled_data.extend(labeled_data)\n",
    "\n",
    "    accuracy = correct_responses / actual_batch_size  # Use actual_batch_size here\n",
    "    accuracy_scores.append(accuracy)\n",
    "\n",
    "    batch_size = increase_batch_size(batch_size, accuracy)\n",
    "    i += actual_batch_size"
   ]
  },
  {
   "cell_type": "markdown",
   "metadata": {},
   "source": [
    "## Accuracy and Batch Size Summary"
   ]
  },
  {
   "cell_type": "code",
   "execution_count": 20,
   "metadata": {},
   "outputs": [
    {
     "data": {
      "text/plain": [
       "[1.0, 0.7, 1.0, 0.9, 1.0, 1.0, 0.7, 1.0, 0.625]"
      ]
     },
     "execution_count": 20,
     "metadata": {},
     "output_type": "execute_result"
    }
   ],
   "source": [
    "accuracy_scores"
   ]
  },
  {
   "cell_type": "code",
   "execution_count": 22,
   "metadata": {},
   "outputs": [
    {
     "data": {
      "text/plain": [
       "[1.0, 0.7, 1.0, 0.9, 1.0, 1.0, 0.7, 1.0, 0.625]"
      ]
     },
     "execution_count": 22,
     "metadata": {},
     "output_type": "execute_result"
    }
   ],
   "source": [
    "accuracy_scores"
   ]
  },
  {
   "cell_type": "code",
   "execution_count": 23,
   "metadata": {},
   "outputs": [
    {
     "data": {
      "text/plain": [
       "[5, 10, 5, 10, 5, 10, 10, 5, 8]"
      ]
     },
     "execution_count": 23,
     "metadata": {},
     "output_type": "execute_result"
    }
   ],
   "source": [
    "batch_sizes"
   ]
  },
  {
   "cell_type": "code",
   "execution_count": 24,
   "metadata": {},
   "outputs": [
    {
     "data": {
      "image/png": "[encoded data removed]",
      "text/plain": [
       "<Figure size 640x480 with 1 Axes>"
      ]
     },
     "metadata": {},
     "output_type": "display_data"
    }
   ],
   "source": [
    "# plot accuracy scores against batch number (i.e index)\n",
    "# make it a point at each value and then lines connecting them\n",
    "plt.plot(accuracy_scores, 'o-')\n",
    "plt.ylabel('Accuracy')\n",
    "plt.xlabel('Batch')\n",
    "plt.xticks(range(len(accuracy_scores)))\n",
    "plt.show()"
   ]
  },
  {
   "cell_type": "code",
   "execution_count": 25,
   "metadata": {},
   "outputs": [
    {
     "data": {
      "text/plain": [
       "[5, 10, 5, 10, 5, 10, 10, 5, 8]"
      ]
     },
     "execution_count": 25,
     "metadata": {},
     "output_type": "execute_result"
    }
   ],
   "source": [
    "batch_sizes"
   ]
  },
  {
   "cell_type": "code",
   "execution_count": 26,
   "metadata": {},
   "outputs": [
    {
     "data": {
      "image/png": "[encoded data removed]",
      "text/plain": [
       "<Figure size 640x480 with 1 Axes>"
      ]
     },
     "metadata": {},
     "output_type": "display_data"
    }
   ],
   "source": [
    "# Plot Batch Size against Batch Number\n",
    "plt.plot(batch_sizes)\n",
    "plt.ylabel('Batch Size')\n",
    "plt.xlabel('Batch Number')\n",
    "plt.show()"
   ]
  },
  {
   "cell_type": "markdown",
   "metadata": {},
   "source": [
    "## Label Summary Statistics"
   ]
  },
  {
   "cell_type": "code",
   "execution_count": 37,
   "metadata": {},
   "outputs": [
    {
     "data": {
      "text/plain": [
       "Label\n",
       "NEU    38\n",
       "OTR    16\n",
       "PRS     7\n",
       "REP     4\n",
       "Name: count, dtype: int64"
      ]
     },
     "execution_count": 37,
     "metadata": {},
     "output_type": "execute_result"
    }
   ],
   "source": [
    "labeled_df = pd.DataFrame(all_labeled_data, columns=[\"Text\", \"Label\"])\n",
    "labeled_df[\"Label\"].value_counts()"
   ]
  },
  {
   "cell_type": "markdown",
   "metadata": {},
   "source": [
    "## Save labeled data as csv file"
   ]
  },
  {
   "cell_type": "code",
   "execution_count": null,
   "metadata": {},
   "outputs": [],
   "source": [
    "labeled_df.to_csv(\"labeled_data.csv\", index=False)"
   ]
  },
  {
   "cell_type": "markdown",
   "metadata": {},
   "source": [
    "<br>\n",
    "<br>\n",
    "<br>\n",
    "<br>\n",
    "<br>\n",
    "<br>\n",
    "<br>\n",
    "<br>\n",
    "<br>\n",
    "<br>\n",
    "<br>\n",
    "<br>\n",
    "<br>\n",
    "<br>\n",
    "<br>\n",
    "<br>\n",
    "<br>\n",
    "<br>\n",
    "<br>\n",
    "<br>\n",
    "<br>\n",
    "<br>\n",
    "<br>\n",
    "<br>\n",
    "<br>\n",
    "<br>\n",
    "<br>\n",
    "<br>\n",
    "<br>\n",
    "<br>"
   ]
  },
  {
   "cell_type": "markdown",
   "metadata": {},
   "source": [
    "## Appendix: Step by Step Workflow To Understand How it Works "
   ]
  },
  {
   "cell_type": "code",
   "execution_count": 14,
   "metadata": {
    "ExecuteTime": {
     "end_time": "2023-12-09T08:01:27.041289Z",
     "start_time": "2023-12-09T08:01:27.031582Z"
    }
   },
   "outputs": [],
   "source": [
    "# Assuming you have an instance of OpenAIAssistantManager as assistant_manager\n",
    "lines = read_csv('data/009-1.csv')"
   ]
  },
  {
   "cell_type": "code",
   "execution_count": 17,
   "metadata": {},
   "outputs": [
    {
     "data": {
      "text/plain": [
       "Thread(id='thread_EP2OnI2OjhOgK0hNkRSzlBmv', created_at=1702257975, metadata={}, object='thread')"
      ]
     },
     "execution_count": 17,
     "metadata": {},
     "output_type": "execute_result"
    }
   ],
   "source": [
    "assistant_manager.create_thread(\"\")"
   ]
  },
  {
   "cell_type": "code",
   "execution_count": 18,
   "metadata": {},
   "outputs": [
    {
     "data": {
      "text/plain": [
       "Run(id='run_J9mn5gwg3Gu5Fqk4AtlR0JvZ', assistant_id='asst_5PmNo4HYGKLTVlTUgzbte0IK', cancelled_at=None, completed_at=1702257978, created_at=1702257977, expires_at=None, failed_at=None, file_ids=[], instructions='You are the co-founder of an ed-tech startup training an automated teacher feedback tool to classify utterances made. I am going to provide several sentences. \\n                                            Please classify each sentence as one of the following: OTR (opportunity to respond), PRS (praise), REP (reprimand), or NEU (neutral)\\n        \\n                                            user: Can someone give me an example of a pronoun?\\n                                            assistant: OTR\\n                                            user: That\\'s right, \\'he\\' is a pronoun because it can take the place of a noun.\\n                                            assistant: PRS\\n                                            user: \"You need to keep quiet while someone else is reading.\"\\n                                            assistant: REP\\n                                            user: A pronoun is a word that can take the place of a noun.\\n                                            assistant: NEU\\n\\n                                            Only answer with the following labels: OTR, PRS, REP, NEU', last_error=None, metadata={}, model='gpt-4-1106-preview', object='thread.run', required_action=None, started_at=1702257978, status='completed', thread_id='thread_EP2OnI2OjhOgK0hNkRSzlBmv', tools=[])"
      ]
     },
     "execution_count": 18,
     "metadata": {},
     "output_type": "execute_result"
    }
   ],
   "source": [
    "assistant_manager.submit_message(lines[0])\n",
    "response_page = assistant_manager.get_response()\n",
    "messages = [msg for msg in response_page] \n",
    "assistant_message = messages[-1].content[0].text.value\n",
    "label = assistant_message.split()[-1]"
   ]
  },
  {
   "cell_type": "code",
   "execution_count": 20,
   "metadata": {},
   "outputs": [
    {
     "data": {
      "text/plain": [
       "SyncCursorPage[ThreadMessage](data=[ThreadMessage(id='msg_UOBcifBcBqUNC09AnRkmZwFX', assistant_id=None, content=[MessageContentText(text=Text(annotations=[], value=''), type='text')], created_at=1702257975, file_ids=[], metadata={}, object='thread.message', role='user', run_id=None, thread_id='thread_EP2OnI2OjhOgK0hNkRSzlBmv'), ThreadMessage(id='msg_juR6FX501z4WJsMpoYKICF6Q', assistant_id=None, content=[MessageContentText(text=Text(annotations=[], value='Good morning class, today we are going to learn about nouns.'), type='text')], created_at=1702257977, file_ids=[], metadata={}, object='thread.message', role='user', run_id=None, thread_id='thread_EP2OnI2OjhOgK0hNkRSzlBmv'), ThreadMessage(id='msg_zm20h3opeV17gdNH5RZ79Piv', assistant_id='asst_5PmNo4HYGKLTVlTUgzbte0IK', content=[MessageContentText(text=Text(annotations=[], value='NEU'), type='text')], created_at=1702257978, file_ids=[], metadata={}, object='thread.message', role='assistant', run_id='run_J9mn5gwg3Gu5Fqk4AtlR0JvZ', thread_id='thread_EP2OnI2OjhOgK0hNkRSzlBmv')], object='list', first_id='msg_UOBcifBcBqUNC09AnRkmZwFX', last_id='msg_zm20h3opeV17gdNH5RZ79Piv', has_more=False)"
      ]
     },
     "execution_count": 20,
     "metadata": {},
     "output_type": "execute_result"
    }
   ],
   "source": [
    "response_page"
   ]
  },
  {
   "cell_type": "code",
   "execution_count": 22,
   "metadata": {},
   "outputs": [
    {
     "data": {
      "text/plain": [
       "[ThreadMessage(id='msg_UOBcifBcBqUNC09AnRkmZwFX', assistant_id=None, content=[MessageContentText(text=Text(annotations=[], value=''), type='text')], created_at=1702257975, file_ids=[], metadata={}, object='thread.message', role='user', run_id=None, thread_id='thread_EP2OnI2OjhOgK0hNkRSzlBmv'),\n",
       " ThreadMessage(id='msg_juR6FX501z4WJsMpoYKICF6Q', assistant_id=None, content=[MessageContentText(text=Text(annotations=[], value='Good morning class, today we are going to learn about nouns.'), type='text')], created_at=1702257977, file_ids=[], metadata={}, object='thread.message', role='user', run_id=None, thread_id='thread_EP2OnI2OjhOgK0hNkRSzlBmv'),\n",
       " ThreadMessage(id='msg_zm20h3opeV17gdNH5RZ79Piv', assistant_id='asst_5PmNo4HYGKLTVlTUgzbte0IK', content=[MessageContentText(text=Text(annotations=[], value='NEU'), type='text')], created_at=1702257978, file_ids=[], metadata={}, object='thread.message', role='assistant', run_id='run_J9mn5gwg3Gu5Fqk4AtlR0JvZ', thread_id='thread_EP2OnI2OjhOgK0hNkRSzlBmv')]"
      ]
     },
     "execution_count": 22,
     "metadata": {},
     "output_type": "execute_result"
    }
   ],
   "source": [
    "messages "
   ]
  },
  {
   "cell_type": "code",
   "execution_count": 23,
   "metadata": {},
   "outputs": [
    {
     "data": {
      "text/plain": [
       "'NEU'"
      ]
     },
     "execution_count": 23,
     "metadata": {},
     "output_type": "execute_result"
    }
   ],
   "source": [
    "messages[-1].content[0].text.value"
   ]
  },
  {
   "cell_type": "code",
   "execution_count": null,
   "metadata": {},
   "outputs": [],
   "source": [
    "user_message = line\n",
    "# Assuming the last message is from the assistant and contains the label\n",
    "assistant_message = messages[-1].content[0].text.value\n",
    "label = assistant_message.split()[-1]"
   ]
  },
  {
   "cell_type": "code",
   "execution_count": 29,
   "metadata": {},
   "outputs": [
    {
     "data": {
      "text/plain": [
       "[('Good morning class, today we are going to learn about nouns.', 'NEU'),\n",
       " ('A noun is a word that represents a person, place, thing, or idea.', 'NEU'),\n",
       " ('Can anyone give me an example of a noun?', 'NEU'),\n",
       " (\"That's right, 'dog' is a noun because it is a thing.\", 'NEU'),\n",
       " (\"Let's write down some nouns in our notebooks.\", 'NEU')]"
      ]
     },
     "execution_count": 29,
     "metadata": {},
     "output_type": "execute_result"
    }
   ],
   "source": [
    "process_lines(lines[0:5], assistant_manager)"
   ]
  },
  {
   "cell_type": "code",
   "execution_count": 10,
   "metadata": {
    "ExecuteTime": {
     "end_time": "2023-12-09T08:01:58.066516Z",
     "start_time": "2023-12-09T08:01:29.730716Z"
    }
   },
   "outputs": [],
   "source": [
    "# need to make this a group and feed in x number of lines at a time increasing the beatch size along with the accuracy\n",
    "messages1 = process_lines(lines[0:5], assistant_manager)\n"
   ]
  },
  {
   "cell_type": "code",
   "execution_count": 11,
   "metadata": {},
   "outputs": [
    {
     "data": {
      "text/plain": [
       "[('Good morning class, today we are going to learn about nouns.', 'NEU'),\n",
       " ('A noun is a word that represents a person, place, thing, or idea.', 'NEU'),\n",
       " ('Can anyone give me an example of a noun?', 'OTR'),\n",
       " (\"That's right, 'dog' is a noun because it is a thing.\", 'PRS'),\n",
       " (\"Let's write down some nouns in our notebooks.\", 'OTR')]"
      ]
     },
     "execution_count": 11,
     "metadata": {},
     "output_type": "execute_result"
    }
   ],
   "source": [
    "messages1"
   ]
  },
  {
   "cell_type": "code",
   "execution_count": 12,
   "metadata": {
    "ExecuteTime": {
     "end_time": "2023-12-09T08:02:04.819313Z",
     "start_time": "2023-12-09T08:02:04.814861Z"
    }
   },
   "outputs": [],
   "source": [
    "df1 = pd.DataFrame(messages1, columns=[\"Text\", \"Label\"])"
   ]
  },
  {
   "cell_type": "code",
   "execution_count": 13,
   "metadata": {
    "ExecuteTime": {
     "end_time": "2023-12-09T08:02:07.910076Z",
     "start_time": "2023-12-09T08:02:07.898862Z"
    }
   },
   "outputs": [
    {
     "data": {
      "text/html": [
       "<div>\n",
       "<style scoped>\n",
       "    .dataframe tbody tr th:only-of-type {\n",
       "        vertical-align: middle;\n",
       "    }\n",
       "\n",
       "    .dataframe tbody tr th {\n",
       "        vertical-align: top;\n",
       "    }\n",
       "\n",
       "    .dataframe thead th {\n",
       "        text-align: right;\n",
       "    }\n",
       "</style>\n",
       "<table border=\"1\" class=\"dataframe\">\n",
       "  <thead>\n",
       "    <tr style=\"text-align: right;\">\n",
       "      <th></th>\n",
       "      <th>Text</th>\n",
       "      <th>Label</th>\n",
       "    </tr>\n",
       "  </thead>\n",
       "  <tbody>\n",
       "    <tr>\n",
       "      <th>0</th>\n",
       "      <td>Good morning class, today we are going to lear...</td>\n",
       "      <td>NEU</td>\n",
       "    </tr>\n",
       "    <tr>\n",
       "      <th>1</th>\n",
       "      <td>A noun is a word that represents a person, pla...</td>\n",
       "      <td>NEU</td>\n",
       "    </tr>\n",
       "    <tr>\n",
       "      <th>2</th>\n",
       "      <td>Can anyone give me an example of a noun?</td>\n",
       "      <td>OTR</td>\n",
       "    </tr>\n",
       "    <tr>\n",
       "      <th>3</th>\n",
       "      <td>That's right, 'dog' is a noun because it is a ...</td>\n",
       "      <td>PRS</td>\n",
       "    </tr>\n",
       "    <tr>\n",
       "      <th>4</th>\n",
       "      <td>Let's write down some nouns in our notebooks.</td>\n",
       "      <td>OTR</td>\n",
       "    </tr>\n",
       "  </tbody>\n",
       "</table>\n",
       "</div>"
      ],
      "text/plain": [
       "                                                Text Label\n",
       "0  Good morning class, today we are going to lear...   NEU\n",
       "1  A noun is a word that represents a person, pla...   NEU\n",
       "2           Can anyone give me an example of a noun?   OTR\n",
       "3  That's right, 'dog' is a noun because it is a ...   PRS\n",
       "4      Let's write down some nouns in our notebooks.   OTR"
      ]
     },
     "execution_count": 13,
     "metadata": {},
     "output_type": "execute_result"
    }
   ],
   "source": [
    "# need to make this interactive and feed in the label and then make it available for download as a csv\n",
    "df1"
   ]
  },
  {
   "cell_type": "code",
   "execution_count": 14,
   "metadata": {},
   "outputs": [],
   "source": [
    "thread, completed_run = assistant_manager.create_thread_and_run(\"\"\" \n",
    "Great. Here are some more examples of how to classify utterances::\n",
    "\n",
    "user: Good morning class, today we are going to learn about nouns.\n",
    "assistant: NEU\n",
    "user: A noun is a word that represents a person, place, thing, or idea.\n",
    "assistant: NEU\n",
    "user: \"Can anyone give me an example of a noun?\"\n",
    "assistant: OTR\n",
    "user: That's right, 'dog' is a noun because it is a thing.\n",
    "assistant: PRS\n",
    "\n",
    "I am going to provide several more sentences. Only answer with the following three latter labels labels: OTR, PRS, REP, NEU\n",
    "\"\"\" )\n"
   ]
  },
  {
   "cell_type": "code",
   "execution_count": 15,
   "metadata": {},
   "outputs": [],
   "source": [
    "# Wait for the response and get it\n",
    "response_page_2 = assistant_manager.get_response()\n",
    "\n",
    "# Collect all messages from the response page\n",
    "messages2 = [msg for msg in response_page_2]"
   ]
  },
  {
   "cell_type": "code",
   "execution_count": 16,
   "metadata": {},
   "outputs": [],
   "source": [
    "assistant_message_2 = messages2[-1].content[0].text.value"
   ]
  },
  {
   "cell_type": "code",
   "execution_count": 17,
   "metadata": {},
   "outputs": [
    {
     "data": {
      "text/plain": [
       "'Understood, go ahead and provide the sentences.'"
      ]
     },
     "execution_count": 17,
     "metadata": {},
     "output_type": "execute_result"
    }
   ],
   "source": [
    "assistant_message_2"
   ]
  },
  {
   "cell_type": "code",
   "execution_count": 18,
   "metadata": {},
   "outputs": [],
   "source": [
    "messages_3 = process_lines(lines[5:10], assistant_manager)"
   ]
  },
  {
   "cell_type": "code",
   "execution_count": 19,
   "metadata": {},
   "outputs": [
    {
     "data": {
      "text/plain": [
       "[(\"Now, let's talk about verbs. Does anyone know what a verb is?\", 'OTR'),\n",
       " ('A verb is a word that describes an action, occurrence, or state of being.',\n",
       "  'NEU'),\n",
       " ('Can someone give me an example of a verb?', 'OTR'),\n",
       " (\"Great example, 'run' is a verb because it is an action.\", 'PRS'),\n",
       " (\"Now, let's write down some verbs in our notebooks.\", 'OTR')]"
      ]
     },
     "execution_count": 19,
     "metadata": {},
     "output_type": "execute_result"
    }
   ],
   "source": [
    "messages_3"
   ]
  },
  {
   "cell_type": "code",
   "execution_count": 20,
   "metadata": {},
   "outputs": [],
   "source": [
    "df3 = pd.DataFrame(messages_3, columns=[\"Text\", \"Label\"])"
   ]
  },
  {
   "cell_type": "code",
   "execution_count": 21,
   "metadata": {},
   "outputs": [
    {
     "data": {
      "text/html": [
       "<div>\n",
       "<style scoped>\n",
       "    .dataframe tbody tr th:only-of-type {\n",
       "        vertical-align: middle;\n",
       "    }\n",
       "\n",
       "    .dataframe tbody tr th {\n",
       "        vertical-align: top;\n",
       "    }\n",
       "\n",
       "    .dataframe thead th {\n",
       "        text-align: right;\n",
       "    }\n",
       "</style>\n",
       "<table border=\"1\" class=\"dataframe\">\n",
       "  <thead>\n",
       "    <tr style=\"text-align: right;\">\n",
       "      <th></th>\n",
       "      <th>Text</th>\n",
       "      <th>Label</th>\n",
       "    </tr>\n",
       "  </thead>\n",
       "  <tbody>\n",
       "    <tr>\n",
       "      <th>0</th>\n",
       "      <td>Now, let's talk about verbs. Does anyone know ...</td>\n",
       "      <td>OTR</td>\n",
       "    </tr>\n",
       "    <tr>\n",
       "      <th>1</th>\n",
       "      <td>A verb is a word that describes an action, occ...</td>\n",
       "      <td>NEU</td>\n",
       "    </tr>\n",
       "    <tr>\n",
       "      <th>2</th>\n",
       "      <td>Can someone give me an example of a verb?</td>\n",
       "      <td>OTR</td>\n",
       "    </tr>\n",
       "    <tr>\n",
       "      <th>3</th>\n",
       "      <td>Great example, 'run' is a verb because it is a...</td>\n",
       "      <td>PRS</td>\n",
       "    </tr>\n",
       "    <tr>\n",
       "      <th>4</th>\n",
       "      <td>Now, let's write down some verbs in our notebo...</td>\n",
       "      <td>OTR</td>\n",
       "    </tr>\n",
       "  </tbody>\n",
       "</table>\n",
       "</div>"
      ],
      "text/plain": [
       "                                                Text Label\n",
       "0  Now, let's talk about verbs. Does anyone know ...   OTR\n",
       "1  A verb is a word that describes an action, occ...   NEU\n",
       "2          Can someone give me an example of a verb?   OTR\n",
       "3  Great example, 'run' is a verb because it is a...   PRS\n",
       "4  Now, let's write down some verbs in our notebo...   OTR"
      ]
     },
     "execution_count": 21,
     "metadata": {},
     "output_type": "execute_result"
    }
   ],
   "source": [
    "df3"
   ]
  },
  {
   "cell_type": "code",
   "execution_count": 22,
   "metadata": {},
   "outputs": [],
   "source": [
    "thread, completed_run = assistant_manager.create_thread_and_run(\"\"\" \n",
    "Great. Here are some more examples of how to classify utterances:\n",
    "\n",
    "user: Can someone give me an example of a pronoun?\n",
    "assistant: OTR\n",
    "user: That's right, 'he' is a pronoun because it can take the place of a noun.\n",
    "assistant: PRS\n",
    "user: \"You need to keep quiet while someone else is reading.\"\n",
    "assistant: REP\n",
    "user: A pronoun is a word that can take the place of a noun.\n",
    "assistant: NEU\n",
    "user: I don't appreciate the talking while I am teaching; please show some respect.\n",
    "assistant: REP\n",
    "user: Good answer, cactus plants have adapted to survive in arid environments by storing water in their stems..\n",
    "assistant: PRS\n",
    "user: \"Before we end, does anyone have any questions?\"\n",
    "assistant: OTR\n",
    "user: Next class, we will discuss our observations from the experiment.\n",
    "assistant: NEU\n",
    "\n",
    "I am going to provide several more sentences. Only answer with the following three latter labels labels: OTR, PRS, REP, NEU\n",
    "\"\"\" )"
   ]
  },
  {
   "cell_type": "code",
   "execution_count": 23,
   "metadata": {},
   "outputs": [],
   "source": [
    "response_page_4 = assistant_manager.get_response()\n",
    "\n",
    "# Collect all messages from the response page\n",
    "messages4 = [msg for msg in response_page_4]"
   ]
  },
  {
   "cell_type": "code",
   "execution_count": 24,
   "metadata": {},
   "outputs": [
    {
     "data": {
      "text/plain": [
       "[ThreadMessage(id='msg_jvPaVvNZN4CKkPUgkKbM7sRk', assistant_id=None, content=[MessageContentText(text=Text(annotations=[], value=' \\nGreat. Here are some more examples of how to classify utterances:\\n\\nuser: Can someone give me an example of a pronoun?\\nassistant: OTR\\nuser: That\\'s right, \\'he\\' is a pronoun because it can take the place of a noun.\\nassistant: PRS\\nuser: \"You need to keep quiet while someone else is reading.\"\\nassistant: REP\\nuser: A pronoun is a word that can take the place of a noun.\\nassistant: NEU\\nuser: I don\\'t appreciate the talking while I am teaching; please show some respect.\\nassistant: REP\\nuser: Good answer, cactus plants have adapted to survive in arid environments by storing water in their stems..\\nassistant: PRS\\nuser: \"Before we end, does anyone have any questions?\"\\nassistant: OTR\\nuser: Next class, we will discuss our observations from the experiment.\\nassistant: NEU\\n\\nI am going to provide several more sentences. Only answer with the following three latter labels labels: OTR, PRS, REP, NEU\\n'), type='text')], created_at=1702250899, file_ids=[], metadata={}, object='thread.message', role='user', run_id=None, thread_id='thread_yRY3TWvlGDh3eIiRer5SROIj'),\n",
       " ThreadMessage(id='msg_gQuw7Ia48tQ8Ky9qhEXBxWft', assistant_id='asst_99wvdxQQlX04gbRF1rAkyIvE', content=[MessageContentText(text=Text(annotations=[], value='OTR\\nPRS\\nREP\\nNEU'), type='text')], created_at=1702250901, file_ids=[], metadata={}, object='thread.message', role='assistant', run_id='run_R27KbboAVuumypWfqGTT3pUg', thread_id='thread_yRY3TWvlGDh3eIiRer5SROIj')]"
      ]
     },
     "execution_count": 24,
     "metadata": {},
     "output_type": "execute_result"
    }
   ],
   "source": [
    "messages4"
   ]
  },
  {
   "cell_type": "code",
   "execution_count": 25,
   "metadata": {},
   "outputs": [],
   "source": [
    "messages_5 = process_lines(lines[11:20], assistant_manager)"
   ]
  },
  {
   "cell_type": "code",
   "execution_count": 26,
   "metadata": {},
   "outputs": [
    {
     "data": {
      "text/plain": [
       "[('An adjective is a word that describes a noun.', 'NEU'),\n",
       " ('Can someone give me an example of an adjective?', 'OTR'),\n",
       " (\"Exactly, 'beautiful' is an adjective because it describes a noun.\", 'PRS'),\n",
       " (\"Let's write down some adjectives in our notebooks.\", 'OTR'),\n",
       " ('Now we are going to form sentences using nouns, verbs, and adjectives.',\n",
       "  'OTR'),\n",
       " ('A sentence is a group of words that expresses a complete thought.', 'NEU'),\n",
       " (\"Let's build a sentence together. I'll start with a noun: 'The cat'.\",\n",
       "  'OTR'),\n",
       " ('Can someone add a verb to our sentence?', 'OTR'),\n",
       " (\"Great, now our sentence is: 'The cat runs'.\", 'NEU')]"
      ]
     },
     "execution_count": 26,
     "metadata": {},
     "output_type": "execute_result"
    }
   ],
   "source": [
    "messages_5"
   ]
  },
  {
   "cell_type": "code",
   "execution_count": 27,
   "metadata": {},
   "outputs": [],
   "source": [
    "df5 = pd.DataFrame(messages_5, columns=[\"Text\", \"Label\"])"
   ]
  },
  {
   "cell_type": "code",
   "execution_count": 28,
   "metadata": {},
   "outputs": [
    {
     "data": {
      "text/html": [
       "<div>\n",
       "<style scoped>\n",
       "    .dataframe tbody tr th:only-of-type {\n",
       "        vertical-align: middle;\n",
       "    }\n",
       "\n",
       "    .dataframe tbody tr th {\n",
       "        vertical-align: top;\n",
       "    }\n",
       "\n",
       "    .dataframe thead th {\n",
       "        text-align: right;\n",
       "    }\n",
       "</style>\n",
       "<table border=\"1\" class=\"dataframe\">\n",
       "  <thead>\n",
       "    <tr style=\"text-align: right;\">\n",
       "      <th></th>\n",
       "      <th>Text</th>\n",
       "      <th>Label</th>\n",
       "    </tr>\n",
       "  </thead>\n",
       "  <tbody>\n",
       "    <tr>\n",
       "      <th>0</th>\n",
       "      <td>An adjective is a word that describes a noun.</td>\n",
       "      <td>NEU</td>\n",
       "    </tr>\n",
       "    <tr>\n",
       "      <th>1</th>\n",
       "      <td>Can someone give me an example of an adjective?</td>\n",
       "      <td>OTR</td>\n",
       "    </tr>\n",
       "    <tr>\n",
       "      <th>2</th>\n",
       "      <td>Exactly, 'beautiful' is an adjective because i...</td>\n",
       "      <td>PRS</td>\n",
       "    </tr>\n",
       "    <tr>\n",
       "      <th>3</th>\n",
       "      <td>Let's write down some adjectives in our notebo...</td>\n",
       "      <td>OTR</td>\n",
       "    </tr>\n",
       "    <tr>\n",
       "      <th>4</th>\n",
       "      <td>Now we are going to form sentences using nouns...</td>\n",
       "      <td>OTR</td>\n",
       "    </tr>\n",
       "    <tr>\n",
       "      <th>5</th>\n",
       "      <td>A sentence is a group of words that expresses ...</td>\n",
       "      <td>NEU</td>\n",
       "    </tr>\n",
       "    <tr>\n",
       "      <th>6</th>\n",
       "      <td>Let's build a sentence together. I'll start wi...</td>\n",
       "      <td>OTR</td>\n",
       "    </tr>\n",
       "    <tr>\n",
       "      <th>7</th>\n",
       "      <td>Can someone add a verb to our sentence?</td>\n",
       "      <td>OTR</td>\n",
       "    </tr>\n",
       "    <tr>\n",
       "      <th>8</th>\n",
       "      <td>Great, now our sentence is: 'The cat runs'.</td>\n",
       "      <td>NEU</td>\n",
       "    </tr>\n",
       "  </tbody>\n",
       "</table>\n",
       "</div>"
      ],
      "text/plain": [
       "                                                Text Label\n",
       "0      An adjective is a word that describes a noun.   NEU\n",
       "1    Can someone give me an example of an adjective?   OTR\n",
       "2  Exactly, 'beautiful' is an adjective because i...   PRS\n",
       "3  Let's write down some adjectives in our notebo...   OTR\n",
       "4  Now we are going to form sentences using nouns...   OTR\n",
       "5  A sentence is a group of words that expresses ...   NEU\n",
       "6  Let's build a sentence together. I'll start wi...   OTR\n",
       "7            Can someone add a verb to our sentence?   OTR\n",
       "8        Great, now our sentence is: 'The cat runs'.   NEU"
      ]
     },
     "execution_count": 28,
     "metadata": {},
     "output_type": "execute_result"
    }
   ],
   "source": [
    "df5"
   ]
  },
  {
   "cell_type": "markdown",
   "metadata": {},
   "source": [
    "**Old Functions - keeping until we submit this just in case we need to refer back to them** "
   ]
  },
  {
   "cell_type": "code",
   "execution_count": null,
   "metadata": {},
   "outputs": [],
   "source": [
    "# def process_lines(lines, assistant_manager):\n",
    "#     data = []\n",
    "#     for line in lines:\n",
    "#         thread, completed_run = assistant_manager.create_thread_and_run(line)\n",
    "        \n",
    "#         # Wait for the response and get it\n",
    "#         response_page = assistant_manager.get_response()\n",
    "\n",
    "#         # Collect all messages from the response page\n",
    "#         messages = [msg for msg in response_page]  # Iterating over the response page to collect messages\n",
    "\n",
    "#         # Extract the user message and the assistant's label\n",
    "#         if messages:\n",
    "#             user_message = line\n",
    "#             # Assuming the last message is from the assistant and contains the label\n",
    "#             assistant_message = messages[-1].content[0].text.value\n",
    "#             label = assistant_message.split()[-1]  # Extract label\n",
    "#             data.append((user_message, label))\n",
    "\n",
    "#     return data\n",
    "\n",
    "# def process_lines(lines, assistant_manager, context = \"\"):\n",
    "#     data = []\n",
    "#     assistant_manager.create_thread(context)\n",
    "#     for line in lines:\n",
    "#         completed_run = assistant_manager.submit_message(line)\n",
    "#         response_page = assistant_manager.get_response()\n",
    "#         messages = [msg for msg in response_page] \n",
    "#         assistant_message = messages[-1].content[0].text.value\n",
    "#         label = assistant_message.split()[-1]\n",
    "\n",
    "#         data.append((line, label))\n",
    "\n",
    "#     return data\n",
    "# def process_lines_in_batches(lines, assistant_manager, batch_size=10):\n",
    "#     batched_data = []\n",
    "#     for i in range(0, len(lines), batch_size):\n",
    "#         batch = lines[i:i + batch_size]\n",
    "#         batched_data.extend(process_lines(batch, assistant_manager))\n",
    "#     return batched_data\n",
    "\n",
    "# def process_lines(lines, assistant_manager, context = \"\"):\n",
    "#     data = []\n",
    "#     assistant_manager.create_thread(context)\n",
    "#     for line in lines:\n",
    "#         completed_run = assistant_manager.submit_message(line)\n",
    "        \n",
    "#         assistant_manager.submit_message(lines[0])\n",
    "#         response_page = assistant_manager.get_response()\n",
    "#         messages = [msg for msg in response_page] \n",
    "#         assistant_message = messages[-1].content[0].text.value\n",
    "#         label = assistant_message.split()[-1]\n",
    "\n",
    "#         data.append((line, label))\n",
    "\n",
    "#     return data\n"
   ]
  },
  {
   "cell_type": "code",
   "execution_count": null,
   "metadata": {},
   "outputs": [],
   "source": [
    "# def label_data(user_input):\n",
    "#     # This function should take user input and return the labeled data\n",
    "#     # For simplicity, assume the user inputs the correct label directly\n",
    "#     return user_input\n",
    "\n",
    "# def get_predictions_with_context(context, new_data, assistant_manager):\n",
    "#     predictions = []\n",
    "#     for data in new_data:\n",
    "#         prompt = context + f\"\\n\\n{data}\"\n",
    "#         print(f\"Sending prompt: {prompt}\")  # Debugging line\n",
    "#         thread, completed_run = assistant_manager.create_thread_and_run(prompt)\n",
    "#         response_page = assistant_manager.get_response()\n",
    "#         messages = [msg for msg in response_page]\n",
    "#         print(f\"Received messages: {messages}\")  # Debugging line\n",
    "#         if messages:\n",
    "#             prediction = messages[-1].content[0].text.value.split()[-1]\n",
    "#             predictions.append(prediction)\n",
    "#     return predictions\n",
    "\n",
    "\n",
    "# def interactive_labeling_loop(initial_data, unlabeled_data, assistant_manager):\n",
    "#     context = \"\"\n",
    "#     batch_size = 5  # Start with 5\n",
    "#     all_labeled_data = []\n",
    "\n",
    "#     # Start with initial data for context\n",
    "#     for data in initial_data:\n",
    "#         label = label_data(data)\n",
    "#         context += f\"\\n{data}: {label}\"\n",
    "#         all_labeled_data.append((data, label))\n",
    "\n",
    "#     # Loop through unlabeled data in batches\n",
    "#     for i in range(0, len(unlabeled_data), batch_size):\n",
    "#         batch = unlabeled_data[i:i + batch_size]\n",
    "#         predictions = get_predictions_with_context(context, batch, assistant_manager)\n",
    "\n",
    "#         # User reviews and corrects predictions\n",
    "#         for data, prediction in zip(batch, predictions):\n",
    "#             print(f\"Predicted for '{data}': {prediction}\")\n",
    "#             correct_label = label_data(data)\n",
    "#             context += f\"\\n{data}: {correct_label}\"\n",
    "#             all_labeled_data.append((data, correct_label))\n",
    "\n",
    "#         # function to increase batch size based on accuracy or other criteria\n",
    "#         # def increase_batch_size(batch_size, accuracy):\n",
    "#         # if accuracy > 0.9:\n",
    "#         # batch_size += 5\n",
    "#         # if accuracy > 0.95:\n",
    "#         # batch_size += 5\n",
    "#         # return batch_size\n",
    "\n",
    "#         # Increase batch size based on accuracy\n",
    "#         # batch_size = increase_batch_size(batch_size, accuracy)\n",
    "\n",
    "#         # Re-train the model\n",
    "#         # ...\n",
    "\n",
    "#         # Get the accuracy\n",
    "#         # accuracy = get_accuracy()\n",
    "#         # print(f\"Accuracy: {accuracy}\")\n",
    "\n",
    "#         # Export the labeled data\n",
    "#         # export_to_csv(all_labeled_data, \"labeled_data.csv\")\n",
    "#         # ...\n",
    "\n",
    "#     return all_labeled_data\n",
    "\n",
    "# # Example usage\n",
    "# # initial_data = [...]  # Your initial 5 sentences\n",
    "# # unlabeled_data = [...]  # The rest of your data\n",
    "# # all_labeled_data = interactive_labeling_loop(initial_data, unlabeled_data, assistant_manager)\n",
    "\n",
    "# # function to process the data in batches\n",
    "# def process_lines_in_batches(lines, assistant_manager, batch_size=10):\n",
    "#     batched_data = []\n",
    "#     for i in range(0, len(lines), batch_size):\n",
    "#         batch = lines[i:i + batch_size]\n",
    "#         batched_data.extend(process_lines(batch, assistant_manager))\n",
    "#     return batched_data"
   ]
  },
  {
   "cell_type": "code",
   "execution_count": null,
   "metadata": {},
   "outputs": [],
   "source": [
    "# #for i in range(0, len(unlabeled_data), batch_size):\n",
    "# i = 0\n",
    "\n",
    "# # The while loop iterates through the unlabeled_data array in batches. The loop continues until all items in unlabeled_data have been processed.\n",
    "\n",
    "# while i < len(unlabeled_data):   \n",
    "#     if i >= len(unlabeled_data):\n",
    "#         break\n",
    "\n",
    "#     # Determine the end index for the current batch\n",
    "#     end_of_batch = min(i + batch_size, len(unlabeled_data)) \n",
    "\n",
    "#     # Extracts a subset from unlabeled_data as the current batch\n",
    "#     batch = unlabeled_data[i:end_of_batch]\n",
    "#     batch_sizes.append(batch_size)\n",
    "\n",
    "#     #Generates predictions for each line in the batch\n",
    "#     predictions = process_lines(batch, assistant_manager, context = context)  # Get predictions\n",
    "#     correct_responses = 0\n",
    "\n",
    "#     # For each prediction, the user is asked to verify or correct the label.\n",
    "#     for text, prediction in predictions:\n",
    "#         print(f\"Predicted for '{text}': {prediction}\")\n",
    "#         time.sleep(1) \n",
    "#         user_decision = input(f\"Do you agree with this label? (Y/N): \")\n",
    "\n",
    "#         #If the user disagrees with the prediction, they are prompted to provide the correct label\n",
    "#         if user_decision.lower() != 'y':\n",
    "#             correct_label = label_data(text) \n",
    "#         else:\n",
    "#             # Updates the count of correct responses if the prediction matches the user-provided label\n",
    "#             correct_label = prediction\n",
    "\n",
    "#         if correct_label == prediction:\n",
    "#             correct_responses += 1\n",
    "\n",
    "#         # Context is updated with the user's input and the correct label. This helps in maintaining a conversation history for context-aware processing in subsequent batches.\n",
    "#         context += f\"\\nuser: '{text}'\\nassistant: '{correct_label}'\"\n",
    "#         all_labeled_data.append((text, correct_label))\n",
    "    \n",
    "#     accuracy = correct_responses / batch_size\n",
    "#     accuracy_scores.append(accuracy)\n",
    "\n",
    "#     # Optionally adjusts the batch size based on the accuracy of the current batch\n",
    "#     batch_size = increase_batch_size(batch_size, accuracy)\n",
    "\n",
    "#     # Moves the index to the next batch.\n",
    "#     i += batch_size\n",
    "\n",
    "# print(f\"Accuracy: {accuracy}\")"
   ]
  },
  {
   "cell_type": "markdown",
   "metadata": {},
   "source": []
  }
 ],
 "metadata": {
  "kernelspec": {
   "display_name": "Python 3 (ipykernel)",
   "language": "python",
   "name": "python3"
  },
  "language_info": {
   "codemirror_mode": {
    "name": "ipython",
    "version": 3
   },
   "file_extension": ".py",
   "mimetype": "text/x-python",
   "name": "python",
   "nbconvert_exporter": "python",
   "pygments_lexer": "ipython3",
   "version": "3.10.12"
  }
 },
 "nbformat": 4,
 "nbformat_minor": 4
}
