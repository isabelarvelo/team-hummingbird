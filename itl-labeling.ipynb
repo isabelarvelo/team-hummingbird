{
 "cells": [
  {
   "cell_type": "markdown",
   "metadata": {},
   "source": [
    "# In the Loop Labeling"
   ]
  },
  {
   "cell_type": "markdown",
   "metadata": {},
   "source": [
    "In-the-loop AI Assisted Labeling: adds functionality for users to review and correct the initial AI’s labels – the user will review and correct the labels and these corrections will be collected and used as new training data\n",
    "\n",
    "New training data: used to re-train the initial model (to fine-tune the initial AI model, can be a basic retraining loop or a more complex ML)\n",
    "\n",
    "Iterative Improvement: for this part, we just repeat the process above of generating the labels, gathering the corrections as new training data, retraining the model on it, etc. and the model should become more accurate each time)\n",
    "\n",
    "Visualizations: we need to visualize the improvement in accuracy over each iteration, which we can save to a csv file when we collect the new training data – but we also need to tell the user the accuracy each time the model is used so we can generate the accuracy data and print it to user and simultaneously export it to csv file\n",
    "\n",
    "Export functionality: to allow users to export the newly labeled data back to csv"
   ]
  },
  {
   "cell_type": "code",
   "execution_count": 7,
   "metadata": {
    "ExecuteTime": {
     "end_time": "2023-12-09T08:01:11.150748Z",
     "start_time": "2023-12-09T08:01:11.145443Z"
    }
   },
   "outputs": [],
   "source": [
    "# Importing necessary libraries \n",
    "import os\n",
    "import getpass\n",
    "import pandas as pd\n",
    "from openai import OpenAI"
   ]
  },
  {
   "cell_type": "code",
   "execution_count": 8,
   "metadata": {
    "ExecuteTime": {
     "end_time": "2023-12-09T08:01:17.531044Z",
     "start_time": "2023-12-09T08:01:11.499648Z"
    }
   },
   "outputs": [],
   "source": [
    "os.environ[\"OPENAI_API_KEY\"] = getpass.getpass(\"OpenAI API Key:\")"
   ]
  },
  {
   "cell_type": "code",
   "execution_count": 9,
   "metadata": {
    "ExecuteTime": {
     "end_time": "2023-12-09T08:01:18.333362Z",
     "start_time": "2023-12-09T08:01:18.328557Z"
    }
   },
   "outputs": [],
   "source": [
    "import time"
   ]
  },
  {
   "cell_type": "code",
   "execution_count": 10,
   "metadata": {
    "ExecuteTime": {
     "end_time": "2023-12-09T08:01:18.902895Z",
     "start_time": "2023-12-09T08:01:18.895650Z"
    }
   },
   "outputs": [],
   "source": [
    "from openai import OpenAI\n",
    "client = OpenAI()"
   ]
  },
  {
   "cell_type": "code",
   "execution_count": 11,
   "metadata": {
    "ExecuteTime": {
     "end_time": "2023-12-09T08:01:19.941303Z",
     "start_time": "2023-12-09T08:01:19.936482Z"
    }
   },
   "outputs": [],
   "source": [
    "from ai_assisted_coding_final import assistant"
   ]
  },
  {
   "cell_type": "code",
   "execution_count": 12,
   "metadata": {
    "ExecuteTime": {
     "end_time": "2023-12-09T08:01:22.143551Z",
     "start_time": "2023-12-09T08:01:21.912637Z"
    }
   },
   "outputs": [
    {
     "name": "stdout",
     "output_type": "stream",
     "text": [
      "asst_Y0SLlsCDqyv2TTqVMKPYo4sA\n"
     ]
    },
    {
     "data": {
      "text/plain": "Assistant(id='asst_Y0SLlsCDqyv2TTqVMKPYo4sA', created_at=1702108882, description='A custom tool for classifying teacher utterances using gpt-3.5-turbo.', file_ids=[], instructions='You are the co-founder of an ed-tech startup training an automated teacher feedback tool to classify utterances made. I am going to provide several sentences. \\n                                            Please classify each sentence as one of the following: OTR (opportunity to respond), PRS (praise), REP (reprimand), or NEU (neutral)\\n                                            Only answer with the following labels: OTR, PRS, REP, NEU', metadata={}, model='gpt-3.5-turbo', name='Custom Teacher Utterances Classifier', object='assistant', tools=[])"
     },
     "execution_count": 12,
     "metadata": {},
     "output_type": "execute_result"
    }
   ],
   "source": [
    "assistant_manager = assistant.OpenAIAssistantManager(client)\n",
    "\n",
    "# Create an assistant\n",
    "#assistant_manager.create_assistant()\n",
    "assistant_manager.create_custom_assistant()"
   ]
  },
  {
   "cell_type": "code",
   "execution_count": 13,
   "metadata": {
    "ExecuteTime": {
     "end_time": "2023-12-09T08:01:24.702330Z",
     "start_time": "2023-12-09T08:01:24.697039Z"
    }
   },
   "outputs": [],
   "source": [
    "def read_csv(file_path):\n",
    "    df = pd.read_csv(file_path)\n",
    "    return df['Text'].tolist()\n"
   ]
  },
  {
   "cell_type": "code",
   "execution_count": 14,
   "metadata": {
    "ExecuteTime": {
     "end_time": "2023-12-09T08:01:25.679421Z",
     "start_time": "2023-12-09T08:01:25.669768Z"
    }
   },
   "outputs": [],
   "source": [
    "def process_lines(lines, assistant_manager):\n",
    "    data = []\n",
    "    for line in lines:\n",
    "        thread, completed_run = assistant_manager.create_thread_and_run(line)\n",
    "        \n",
    "        # Wait for the response and get it\n",
    "        response_page = assistant_manager.get_response()\n",
    "\n",
    "        # Collect all messages from the response page\n",
    "        messages = [msg for msg in response_page]  # Iterating over the response page to collect messages\n",
    "\n",
    "        # Extract the user message and the assistant's label\n",
    "        if messages:\n",
    "            user_message = line\n",
    "            # Assuming the last message is from the assistant and contains the label\n",
    "            assistant_message = messages[-1].content[0].text.value\n",
    "            label = assistant_message.split()[-1]  # Extract label\n",
    "            data.append((user_message, label))\n",
    "\n",
    "    return data\n",
    "\n",
    "\n"
   ]
  },
  {
   "cell_type": "code",
   "execution_count": 15,
   "metadata": {
    "ExecuteTime": {
     "end_time": "2023-12-09T08:01:27.041289Z",
     "start_time": "2023-12-09T08:01:27.031582Z"
    }
   },
   "outputs": [],
   "source": [
    "# Assuming you have an instance of OpenAIAssistantManager as assistant_manager\n",
    "lines = read_csv('data/009-1.csv')"
   ]
  },
  {
   "cell_type": "code",
   "execution_count": 29,
   "metadata": {
    "ExecuteTime": {
     "end_time": "2023-12-09T08:43:37.496875Z",
     "start_time": "2023-12-09T08:43:37.493011Z"
    }
   },
   "outputs": [
    {
     "data": {
      "text/plain": "['Good morning class, today we are going to learn about nouns.',\n 'A noun is a word that represents a person, place, thing, or idea.',\n 'Can anyone give me an example of a noun?',\n \"That's right, 'dog' is a noun because it is a thing.\",\n \"Let's write down some nouns in our notebooks.\",\n \"Now, let's talk about verbs. Does anyone know what a verb is?\",\n 'A verb is a word that describes an action, occurrence, or state of being.',\n 'Can someone give me an example of a verb?',\n \"Great example, 'run' is a verb because it is an action.\",\n \"Now, let's write down some verbs in our notebooks.\",\n 'Next, we are going to learn about adjectives.',\n 'An adjective is a word that describes a noun.',\n 'Can someone give me an example of an adjective?',\n \"Exactly, 'beautiful' is an adjective because it describes a noun.\",\n \"Let's write down some adjectives in our notebooks.\",\n 'Now we are going to form sentences using nouns, verbs, and adjectives.',\n 'A sentence is a group of words that expresses a complete thought.',\n \"Let's build a sentence together. I'll start with a noun: 'The cat'.\",\n 'Can someone add a verb to our sentence?',\n \"Great, now our sentence is: 'The cat runs'.\",\n 'Can someone add an adjective to our sentence?',\n \"Wonderful, our sentence is now: 'The fast cat runs'.\",\n \"Let's write down some of our own sentences in our notebooks.\",\n 'Now we are going to learn about punctuation.',\n 'Punctuation marks are symbols that help us to organize and structure sentences.',\n 'The period is a punctuation mark used to end a sentence.',\n 'The question mark is used at the end of a question.',\n 'The exclamation mark is used to express excitement or emphasis.',\n 'Can someone give me a sentence with an exclamation mark?',\n 'Great job, that sentence definitely needed an exclamation mark!',\n \"Let's write down some sentences with different punctuation marks in our notebooks.\",\n 'Next, we are going to learn about pronouns.',\n 'A pronoun is a word that can take the place of a noun.',\n 'Can someone give me an example of a pronoun?',\n \"That's right, 'he' is a pronoun because it can take the place of a noun.\",\n \"Let's write down some pronouns in our notebooks.\",\n 'Now, we are going to practice using pronouns in sentences.',\n \"Let's build a sentence together. I'll start with a noun: 'The girl'.\",\n 'Can someone replace the noun with a pronoun?',\n \"Great, now our sentence is: 'She reads a book'.\",\n \"Let's write down some of our own sentences using pronouns in our notebooks.\",\n 'Next, we are going to learn about adverbs.',\n 'An adverb is a word that describes a verb, an adjective, or another adverb.',\n 'Can someone give me an example of an adverb?',\n \"Exactly, 'quickly' is an adverb because it describes how an action is done.\",\n \"Let's write down some adverbs in our notebooks.\",\n 'Now we are going to use adverbs in sentences.',\n \"Let's build a sentence together. I'll start with a verb: 'runs'.\",\n 'Can someone add an adverb to our sentence?',\n \"Great, now our sentence is: 'She runs quickly'.\",\n \"Let's write down some of our own sentences using adverbs in our notebooks.\",\n 'Well done, everyone! You have learned a lot today.',\n 'Remember to practice using these new words in your writing.',\n 'For homework, please write a short story using the words we learned today.',\n 'Make sure to include nouns, verbs, adjectives, and adverbs in your story.',\n \"Don't forget to use correct punctuation in your sentences.\",\n 'I am looking forward to reading your stories.',\n 'Have a great day, and remember to keep practicing your English!']"
     },
     "execution_count": 29,
     "metadata": {},
     "output_type": "execute_result"
    }
   ],
   "source": [
    "lines"
   ]
  },
  {
   "cell_type": "code",
   "execution_count": 17,
   "metadata": {
    "ExecuteTime": {
     "end_time": "2023-12-09T08:01:58.066516Z",
     "start_time": "2023-12-09T08:01:29.730716Z"
    }
   },
   "outputs": [],
   "source": [
    "# need to make this a group and feed in x number of lines at a time increasing the beatch size along with the accuracy\n",
    "messages = process_lines(lines[0:4], assistant_manager)\n"
   ]
  },
  {
   "cell_type": "code",
   "execution_count": 18,
   "metadata": {
    "ExecuteTime": {
     "end_time": "2023-12-09T08:01:58.077381Z",
     "start_time": "2023-12-09T08:01:58.069785Z"
    }
   },
   "outputs": [
    {
     "data": {
      "text/plain": "[('Good morning class, today we are going to learn about nouns.', 'nouns.'),\n ('A noun is a word that represents a person, place, thing, or idea.',\n  'idea.'),\n ('Can anyone give me an example of a noun?', 'noun?'),\n (\"That's right, 'dog' is a noun because it is a thing.\", 'thing.')]"
     },
     "execution_count": 18,
     "metadata": {},
     "output_type": "execute_result"
    }
   ],
   "source": [
    "messages"
   ]
  },
  {
   "cell_type": "code",
   "execution_count": 19,
   "metadata": {
    "ExecuteTime": {
     "end_time": "2023-12-09T08:02:04.819313Z",
     "start_time": "2023-12-09T08:02:04.814861Z"
    }
   },
   "outputs": [],
   "source": [
    "df = pd.DataFrame(messages, columns=[\"Text\", \"Label\"])"
   ]
  },
  {
   "cell_type": "code",
   "execution_count": 20,
   "metadata": {
    "ExecuteTime": {
     "end_time": "2023-12-09T08:02:07.910076Z",
     "start_time": "2023-12-09T08:02:07.898862Z"
    }
   },
   "outputs": [
    {
     "data": {
      "text/plain": "                                                Text   Label\n0  Good morning class, today we are going to lear...  nouns.\n1  A noun is a word that represents a person, pla...   idea.\n2           Can anyone give me an example of a noun?   noun?\n3  That's right, 'dog' is a noun because it is a ...  thing.",
      "text/html": "<div>\n<style scoped>\n    .dataframe tbody tr th:only-of-type {\n        vertical-align: middle;\n    }\n\n    .dataframe tbody tr th {\n        vertical-align: top;\n    }\n\n    .dataframe thead th {\n        text-align: right;\n    }\n</style>\n<table border=\"1\" class=\"dataframe\">\n  <thead>\n    <tr style=\"text-align: right;\">\n      <th></th>\n      <th>Text</th>\n      <th>Label</th>\n    </tr>\n  </thead>\n  <tbody>\n    <tr>\n      <th>0</th>\n      <td>Good morning class, today we are going to lear...</td>\n      <td>nouns.</td>\n    </tr>\n    <tr>\n      <th>1</th>\n      <td>A noun is a word that represents a person, pla...</td>\n      <td>idea.</td>\n    </tr>\n    <tr>\n      <th>2</th>\n      <td>Can anyone give me an example of a noun?</td>\n      <td>noun?</td>\n    </tr>\n    <tr>\n      <th>3</th>\n      <td>That's right, 'dog' is a noun because it is a ...</td>\n      <td>thing.</td>\n    </tr>\n  </tbody>\n</table>\n</div>"
     },
     "execution_count": 20,
     "metadata": {},
     "output_type": "execute_result"
    }
   ],
   "source": [
    "# need to make this interactive and feed in the label and then make it available for download as a csv\n",
    "df"
   ]
  },
  {
   "cell_type": "code",
   "execution_count": 21,
   "metadata": {
    "ExecuteTime": {
     "end_time": "2023-12-09T08:02:08.924625Z",
     "start_time": "2023-12-09T08:02:08.916258Z"
    }
   },
   "outputs": [
    {
     "data": {
      "text/plain": "' \\nGreat. Here are some more examples of how to classify utterances::\\n\\nuser: Can someone give me an example of a pronoun?\\nassistant: OTR\\nuser: That\\'s right, \\'he\\' is a pronoun because it can take the place of a noun.\\nassistant: PRS\\nuser: \"You need to keep quiet while someone else is reading.\"\\nassistant: REP\\nuser: A pronoun is a word that can take the place of a noun.\\nassistant: NEU\\n\\nI am going to provide several more sentences. Only answer with the following labels: OTR, PRS, REP, NEU\\n'"
     },
     "execution_count": 21,
     "metadata": {},
     "output_type": "execute_result"
    }
   ],
   "source": [
    "# after labels are fed in send message like this WITH THE new labels \n",
    "\n",
    "\"\"\" \n",
    "Great. Here are some more examples of how to classify utterances::\n",
    "\n",
    "user: Can someone give me an example of a pronoun?\n",
    "assistant: OTR\n",
    "user: That's right, 'he' is a pronoun because it can take the place of a noun.\n",
    "assistant: PRS\n",
    "user: \"You need to keep quiet while someone else is reading.\"\n",
    "assistant: REP\n",
    "user: A pronoun is a word that can take the place of a noun.\n",
    "assistant: NEU\n",
    "\n",
    "I am going to provide several more sentences. Only answer with the following labels: OTR, PRS, REP, NEU\n",
    "\"\"\"\n",
    "\n",
    "# feed in next batch of labels and iterate "
   ]
  },
  {
   "cell_type": "code",
   "execution_count": 22,
   "outputs": [
    {
     "ename": "KeyboardInterrupt",
     "evalue": "",
     "output_type": "error",
     "traceback": [
      "\u001B[0;31m---------------------------------------------------------------------------\u001B[0m",
      "\u001B[0;31mKeyboardInterrupt\u001B[0m                         Traceback (most recent call last)",
      "Cell \u001B[0;32mIn[22], line 10\u001B[0m\n\u001B[1;32m      7\u001B[0m     \u001B[38;5;28;01mreturn\u001B[39;00m batched_data\n\u001B[1;32m      9\u001B[0m lines \u001B[38;5;241m=\u001B[39m read_csv(\u001B[38;5;124m'\u001B[39m\u001B[38;5;124mdata/009-1.csv\u001B[39m\u001B[38;5;124m'\u001B[39m)\n\u001B[0;32m---> 10\u001B[0m batched_messages \u001B[38;5;241m=\u001B[39m \u001B[43mprocess_lines_in_batches\u001B[49m\u001B[43m(\u001B[49m\u001B[43mlines\u001B[49m\u001B[43m,\u001B[49m\u001B[43m \u001B[49m\u001B[43massistant_manager\u001B[49m\u001B[43m,\u001B[49m\u001B[43m \u001B[49m\u001B[43mbatch_size\u001B[49m\u001B[38;5;241;43m=\u001B[39;49m\u001B[38;5;241;43m10\u001B[39;49m\u001B[43m)\u001B[49m\n\u001B[1;32m     11\u001B[0m \u001B[38;5;28mprint\u001B[39m(batched_messages[:\u001B[38;5;241m20\u001B[39m])\n",
      "Cell \u001B[0;32mIn[22], line 6\u001B[0m, in \u001B[0;36mprocess_lines_in_batches\u001B[0;34m(lines, assistant_manager, batch_size)\u001B[0m\n\u001B[1;32m      4\u001B[0m \u001B[38;5;28;01mfor\u001B[39;00m i \u001B[38;5;129;01min\u001B[39;00m \u001B[38;5;28mrange\u001B[39m(\u001B[38;5;241m0\u001B[39m, \u001B[38;5;28mlen\u001B[39m(lines), batch_size):\n\u001B[1;32m      5\u001B[0m     batch \u001B[38;5;241m=\u001B[39m lines[i:i \u001B[38;5;241m+\u001B[39m batch_size]\n\u001B[0;32m----> 6\u001B[0m     batched_data\u001B[38;5;241m.\u001B[39mextend(\u001B[43mprocess_lines\u001B[49m\u001B[43m(\u001B[49m\u001B[43mbatch\u001B[49m\u001B[43m,\u001B[49m\u001B[43m \u001B[49m\u001B[43massistant_manager\u001B[49m\u001B[43m)\u001B[49m)\n\u001B[1;32m      7\u001B[0m \u001B[38;5;28;01mreturn\u001B[39;00m batched_data\n",
      "Cell \u001B[0;32mIn[14], line 4\u001B[0m, in \u001B[0;36mprocess_lines\u001B[0;34m(lines, assistant_manager)\u001B[0m\n\u001B[1;32m      2\u001B[0m data \u001B[38;5;241m=\u001B[39m []\n\u001B[1;32m      3\u001B[0m \u001B[38;5;28;01mfor\u001B[39;00m line \u001B[38;5;129;01min\u001B[39;00m lines:\n\u001B[0;32m----> 4\u001B[0m     thread, completed_run \u001B[38;5;241m=\u001B[39m \u001B[43massistant_manager\u001B[49m\u001B[38;5;241;43m.\u001B[39;49m\u001B[43mcreate_thread_and_run\u001B[49m\u001B[43m(\u001B[49m\u001B[43mline\u001B[49m\u001B[43m)\u001B[49m\n\u001B[1;32m      6\u001B[0m     \u001B[38;5;66;03m# Wait for the response and get it\u001B[39;00m\n\u001B[1;32m      7\u001B[0m     response_page \u001B[38;5;241m=\u001B[39m assistant_manager\u001B[38;5;241m.\u001B[39mget_response()\n",
      "File \u001B[0;32m~/Documents/team-hummingbird/team-hummingbird/ai_assisted_coding_final/assistant.py:126\u001B[0m, in \u001B[0;36mOpenAIAssistantManager.create_thread_and_run\u001B[0;34m(self, user_input)\u001B[0m\n\u001B[1;32m    123\u001B[0m \u001B[38;5;28mself\u001B[39m\u001B[38;5;241m.\u001B[39mcurrent_thread \u001B[38;5;241m=\u001B[39m \u001B[38;5;28mself\u001B[39m\u001B[38;5;241m.\u001B[39mclient\u001B[38;5;241m.\u001B[39mbeta\u001B[38;5;241m.\u001B[39mthreads\u001B[38;5;241m.\u001B[39mcreate()\n\u001B[1;32m    125\u001B[0m \u001B[38;5;66;03m# Submit the message and wait for the run to complete\u001B[39;00m\n\u001B[0;32m--> 126\u001B[0m run \u001B[38;5;241m=\u001B[39m \u001B[38;5;28;43mself\u001B[39;49m\u001B[38;5;241;43m.\u001B[39;49m\u001B[43msubmit_message\u001B[49m\u001B[43m(\u001B[49m\u001B[43muser_input\u001B[49m\u001B[43m)\u001B[49m\n\u001B[1;32m    127\u001B[0m completed_run \u001B[38;5;241m=\u001B[39m \u001B[38;5;28mself\u001B[39m\u001B[38;5;241m.\u001B[39mwait_on_run(run)\n\u001B[1;32m    129\u001B[0m \u001B[38;5;28;01mreturn\u001B[39;00m \u001B[38;5;28mself\u001B[39m\u001B[38;5;241m.\u001B[39mcurrent_thread, completed_run\n",
      "File \u001B[0;32m~/Documents/team-hummingbird/team-hummingbird/ai_assisted_coding_final/assistant.py:157\u001B[0m, in \u001B[0;36mOpenAIAssistantManager.submit_message\u001B[0;34m(self, user_message)\u001B[0m\n\u001B[1;32m    151\u001B[0m run \u001B[38;5;241m=\u001B[39m \u001B[38;5;28mself\u001B[39m\u001B[38;5;241m.\u001B[39mclient\u001B[38;5;241m.\u001B[39mbeta\u001B[38;5;241m.\u001B[39mthreads\u001B[38;5;241m.\u001B[39mruns\u001B[38;5;241m.\u001B[39mcreate(\n\u001B[1;32m    152\u001B[0m     thread_id\u001B[38;5;241m=\u001B[39m\u001B[38;5;28mself\u001B[39m\u001B[38;5;241m.\u001B[39mcurrent_thread\u001B[38;5;241m.\u001B[39mid,\n\u001B[1;32m    153\u001B[0m     assistant_id\u001B[38;5;241m=\u001B[39m\u001B[38;5;28mself\u001B[39m\u001B[38;5;241m.\u001B[39mcurrent_assistant\u001B[38;5;241m.\u001B[39mid,\n\u001B[1;32m    154\u001B[0m )\n\u001B[1;32m    156\u001B[0m \u001B[38;5;66;03m# Wait for the run to complete before returning\u001B[39;00m\n\u001B[0;32m--> 157\u001B[0m \u001B[38;5;28;01mreturn\u001B[39;00m \u001B[38;5;28;43mself\u001B[39;49m\u001B[38;5;241;43m.\u001B[39;49m\u001B[43mwait_on_run\u001B[49m\u001B[43m(\u001B[49m\u001B[43mrun\u001B[49m\u001B[43m)\u001B[49m\n",
      "File \u001B[0;32m~/Documents/team-hummingbird/team-hummingbird/ai_assisted_coding_final/assistant.py:139\u001B[0m, in \u001B[0;36mOpenAIAssistantManager.wait_on_run\u001B[0;34m(self, run)\u001B[0m\n\u001B[1;32m    134\u001B[0m \u001B[38;5;28;01mwhile\u001B[39;00m run\u001B[38;5;241m.\u001B[39mstatus \u001B[38;5;241m==\u001B[39m \u001B[38;5;124m\"\u001B[39m\u001B[38;5;124mqueued\u001B[39m\u001B[38;5;124m\"\u001B[39m \u001B[38;5;129;01mor\u001B[39;00m run\u001B[38;5;241m.\u001B[39mstatus \u001B[38;5;241m==\u001B[39m \u001B[38;5;124m\"\u001B[39m\u001B[38;5;124min_progress\u001B[39m\u001B[38;5;124m\"\u001B[39m:\n\u001B[1;32m    135\u001B[0m     run \u001B[38;5;241m=\u001B[39m \u001B[38;5;28mself\u001B[39m\u001B[38;5;241m.\u001B[39mclient\u001B[38;5;241m.\u001B[39mbeta\u001B[38;5;241m.\u001B[39mthreads\u001B[38;5;241m.\u001B[39mruns\u001B[38;5;241m.\u001B[39mretrieve(\n\u001B[1;32m    136\u001B[0m         thread_id\u001B[38;5;241m=\u001B[39m\u001B[38;5;28mself\u001B[39m\u001B[38;5;241m.\u001B[39mcurrent_thread\u001B[38;5;241m.\u001B[39mid,\n\u001B[1;32m    137\u001B[0m         run_id\u001B[38;5;241m=\u001B[39mrun\u001B[38;5;241m.\u001B[39mid,\n\u001B[1;32m    138\u001B[0m     )\n\u001B[0;32m--> 139\u001B[0m     \u001B[43mtime\u001B[49m\u001B[38;5;241;43m.\u001B[39;49m\u001B[43msleep\u001B[49m\u001B[43m(\u001B[49m\u001B[38;5;241;43m0.5\u001B[39;49m\u001B[43m)\u001B[49m\n\u001B[1;32m    140\u001B[0m \u001B[38;5;28;01mreturn\u001B[39;00m run\n",
      "\u001B[0;31mKeyboardInterrupt\u001B[0m: "
     ]
    }
   ],
   "source": [
    "# function to process the data in batches\n",
    "def process_lines_in_batches(lines, assistant_manager, batch_size=10):\n",
    "    batched_data = []\n",
    "    for i in range(0, len(lines), batch_size):\n",
    "        batch = lines[i:i + batch_size]\n",
    "        batched_data.extend(process_lines(batch, assistant_manager))\n",
    "    return batched_data\n",
    "\n",
    "lines = read_csv('data/009-1.csv')\n",
    "batched_messages = process_lines_in_batches(lines, assistant_manager, batch_size=10)\n",
    "print(batched_messages[:20])"
   ],
   "metadata": {
    "collapsed": false,
    "ExecuteTime": {
     "end_time": "2023-12-09T08:08:30.485755Z",
     "start_time": "2023-12-09T08:02:10.463704Z"
    }
   }
  },
  {
   "cell_type": "code",
   "execution_count": null,
   "outputs": [],
   "source": [],
   "metadata": {
    "collapsed": false
   }
  },
  {
   "cell_type": "code",
   "execution_count": 28,
   "outputs": [
    {
     "name": "stdout",
     "output_type": "stream",
     "text": [
      "[('Good morning class, today we are going to learn about nouns.', 'nouns.'), ('A noun is a word that represents a person, place, thing, or idea.', 'idea.'), ('Can anyone give me an example of a noun?', 'noun?'), (\"That's right, 'dog' is a noun because it is a thing.\", 'thing.'), (\"Let's write down some nouns in our notebooks.\", 'notebooks.')]\n"
     ]
    }
   ],
   "source": [
    "# file path test file\n",
    "csv_file_path = 'data/009-1.csv'\n",
    "\n",
    "# reading in data\n",
    "lines = read_csv(csv_file_path)\n",
    "\n",
    "# process data in batches of size 10\n",
    "batched_messages = process_lines_in_batches(lines, assistant_manager, batch_size=10)\n",
    "\n",
    "# Display the first few results for testing\n",
    "print(batched_messages[:5])  # Adjust as needed to check the results\n",
    "\n",
    "# function to export the data to csv\n",
    "#def export_to_csv(data, output_file_path):\n",
    "   # data.to_csv(output_file_path, index=False)\n"
   ],
   "metadata": {
    "collapsed": false,
    "ExecuteTime": {
     "end_time": "2023-12-09T08:43:37.488413Z",
     "start_time": "2023-12-09T08:36:45.690441Z"
    }
   }
  },
  {
   "cell_type": "code",
   "execution_count": 27,
   "outputs": [],
   "source": [
    "def label_data(user_input):\n",
    "    # This function should take user input and return the labeled data\n",
    "    # For simplicity, assume the user inputs the correct label directly\n",
    "    return user_input\n",
    "\n",
    "def get_predictions_with_context(context, new_data, assistant_manager):\n",
    "    predictions = []\n",
    "    for data in new_data:\n",
    "        prompt = context + f\"\\n\\n{data}\"\n",
    "        print(f\"Sending prompt: {prompt}\")  # Debugging line\n",
    "        thread, completed_run = assistant_manager.create_thread_and_run(prompt)\n",
    "        response_page = assistant_manager.get_response()\n",
    "        messages = [msg for msg in response_page]\n",
    "        print(f\"Received messages: {messages}\")  # Debugging line\n",
    "        if messages:\n",
    "            prediction = messages[-1].content[0].text.value.split()[-1]\n",
    "            predictions.append(prediction)\n",
    "    return predictions\n",
    "\n",
    "\n",
    "def interactive_labeling_loop(initial_data, unlabeled_data, assistant_manager):\n",
    "    context = \"\"\n",
    "    batch_size = 5  # Start with 5\n",
    "    all_labeled_data = []\n",
    "\n",
    "    # Start with initial data for context\n",
    "    for data in initial_data:\n",
    "        label = label_data(data)\n",
    "        context += f\"\\n{data}: {label}\"\n",
    "        all_labeled_data.append((data, label))\n",
    "\n",
    "    # Loop through unlabeled data in batches\n",
    "    for i in range(0, len(unlabeled_data), batch_size):\n",
    "        batch = unlabeled_data[i:i + batch_size]\n",
    "        predictions = get_predictions_with_context(context, batch, assistant_manager)\n",
    "\n",
    "        # User reviews and corrects predictions\n",
    "        for data, prediction in zip(batch, predictions):\n",
    "            print(f\"Predicted for '{data}': {prediction}\")\n",
    "            correct_label = label_data(data)\n",
    "            context += f\"\\n{data}: {correct_label}\"\n",
    "            all_labeled_data.append((data, correct_label))\n",
    "\n",
    "        # function to increase batch size based on accuracy or other criteria\n",
    "        # def increase_batch_size(batch_size, accuracy):\n",
    "        # if accuracy > 0.9:\n",
    "        # batch_size += 5\n",
    "        # if accuracy > 0.95:\n",
    "        # batch_size += 5\n",
    "        # return batch_size\n",
    "\n",
    "        # Increase batch size based on accuracy\n",
    "        # batch_size = increase_batch_size(batch_size, accuracy)\n",
    "\n",
    "        # Re-train the model\n",
    "        # ...\n",
    "\n",
    "        # Get the accuracy\n",
    "        # accuracy = get_accuracy()\n",
    "        # print(f\"Accuracy: {accuracy}\")\n",
    "\n",
    "        # Export the labeled data\n",
    "        # export_to_csv(all_labeled_data, \"labeled_data.csv\")\n",
    "        # ...\n",
    "\n",
    "    return all_labeled_data\n",
    "\n",
    "# Example usage\n",
    "# initial_data = [...]  # Your initial 5 sentences\n",
    "# unlabeled_data = [...]  # The rest of your data\n",
    "# all_labeled_data = interactive_labeling_loop(initial_data, unlabeled_data, assistant_manager)\n"
   ],
   "metadata": {
    "collapsed": false,
    "ExecuteTime": {
     "end_time": "2023-12-09T08:36:20.354393Z",
     "start_time": "2023-12-09T08:36:20.352347Z"
    }
   }
  },
  {
   "cell_type": "code",
   "execution_count": null,
   "outputs": [],
   "source": [
    "# file path test file\n",
    "csv_file_path = 'data/009-1.csv'\n",
    "\n",
    "# reading in data\n",
    "lines = read_csv(csv_file_path)\n",
    "\n",
    "# process data in batches of size 10\n",
    "batched_messages = process_lines_in_batches(lines, assistant_manager, batch_size=10)\n",
    "\n",
    "# Display the first few results for testing\n",
    "print(batched_messages[:5])  # Adjust as needed to check the results\n",
    "\n",
    "# function to export the data to csv\n",
    "#def export_to_csv(data, output_file_path):\n",
    "# data.to_csv(output_file_path, index=False)\n"
   ],
   "metadata": {
    "collapsed": false
   }
  },
  {
   "cell_type": "markdown",
   "metadata": {},
   "source": []
  }
 ],
 "metadata": {
  "kernelspec": {
   "display_name": "Python 3 (ipykernel)",
   "language": "python",
   "name": "python3"
  },
  "language_info": {
   "codemirror_mode": {
    "name": "ipython",
    "version": 3
   },
   "file_extension": ".py",
   "mimetype": "text/x-python",
   "name": "python",
   "nbconvert_exporter": "python",
   "pygments_lexer": "ipython3",
   "version": "3.10.6"
  }
 },
 "nbformat": 4,
 "nbformat_minor": 4
}
