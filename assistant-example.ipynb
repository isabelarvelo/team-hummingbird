{
 "cells": [
  {
   "cell_type": "markdown",
   "metadata": {},
   "source": [
    "# Open AI Assistant Example (to be deleted)"
   ]
  },
  {
   "cell_type": "markdown",
   "metadata": {},
   "source": [
    "This is just an example of how the module can be used for classification or other tasks. I will probably add some of this functionality into the module for ease of use. "
   ]
  },
  {
   "cell_type": "code",
   "execution_count": 1,
   "metadata": {},
   "outputs": [],
   "source": [
    "import os\n",
    "import getpass\n",
    "import pandas as pd \n",
    "import time"
   ]
  },
  {
   "cell_type": "code",
   "execution_count": 2,
   "metadata": {},
   "outputs": [],
   "source": [
    "os.environ[\"OPENAI_API_KEY\"] = getpass.getpass(\"OpenAI API Key:\")"
   ]
  },
  {
   "cell_type": "code",
   "execution_count": 3,
   "metadata": {},
   "outputs": [],
   "source": [
    "from ai_assisted_coding_final import assistant"
   ]
  },
  {
   "cell_type": "code",
   "execution_count": 3,
   "metadata": {},
   "outputs": [],
   "source": [
    "from openai import OpenAI\n",
    "client = OpenAI()"
   ]
  },
  {
   "cell_type": "code",
   "execution_count": 5,
   "metadata": {},
   "outputs": [],
   "source": [
    "assistant_manager = assistant.OpenAIAssistantManager(client)"
   ]
  },
  {
   "cell_type": "code",
   "execution_count": 50,
   "metadata": {},
   "outputs": [
    {
     "name": "stdout",
     "output_type": "stream",
     "text": [
      "asst_1jBtgFga9hc1pHZE7Djb0YmD\n"
     ]
    }
   ],
   "source": [
    "assistant = assistant_manager.create_assistant(\"ReTeach Assistant 6\",\n",
    "                                                description = \"You are the co-founder of an ed-tech startup training an automated teacher feedback tool to label classroom transcripts\",  \n",
    "                                                instructions= \"Generate the most probable label out of these three for each sentence I provide: OTR (opportunity to respond), PRS (praise), REP (reprimand), or NEU (neutral). Please return just the three letter code.\",\n",
    "                                                model = \"gpt-3.5-turbo\", \n",
    "                                                tools = [{\"type\": \"code_interpreter\"}])"
   ]
  },
  {
   "cell_type": "code",
   "execution_count": 51,
   "metadata": {},
   "outputs": [
    {
     "data": {
      "text/plain": [
       "Assistant(id='asst_1jBtgFga9hc1pHZE7Djb0YmD', created_at=1701956529, description='You are the co-founder of an ed-tech startup training an automated teacher feedback tool to label classroom transcripts', file_ids=[], instructions='Generate the most probable label out of these three for each sentence I provide: OTR (opportunity to respond), PRS (praise), REP (reprimand), or NEU (neutral). Please return just the three letter code.', metadata={}, model='gpt-3.5-turbo', name='ReTeach Assistant 6', object='assistant', tools=[ToolCodeInterpreter(type='code_interpreter')])"
      ]
     },
     "execution_count": 51,
     "metadata": {},
     "output_type": "execute_result"
    }
   ],
   "source": [
    "assistant_manager.current_assistant"
   ]
  },
  {
   "cell_type": "markdown",
   "metadata": {},
   "source": [
    "# Without File - feeding in line by line"
   ]
  },
  {
   "cell_type": "code",
   "execution_count": 17,
   "metadata": {},
   "outputs": [
    {
     "data": {
      "text/plain": [
       "Assistant(id='asst_ef4nwJD4mnJ4RRXDKt0vsPXC', created_at=1701955434, description='You are the co-founder of an ed-tech startup training an automated teacher feedback tool to label classroom transcripts', file_ids=[], instructions='Generate the most probable label out of these three for the sentence: OTR (opportunity to respond), PRS (praise), REP (reprimand), or NEU (neutral). Please return just the three letter code.', metadata={}, model='gpt-3.5-turbo', name='ReTeach Assistant 2', object='assistant', tools=[ToolCodeInterpreter(type='code_interpreter')])"
      ]
     },
     "execution_count": 17,
     "metadata": {},
     "output_type": "execute_result"
    }
   ],
   "source": [
    "# This is how you retrive an assistant you already created so you don't create a new one everytime you run the code, the id is printed when you create it \n",
    "assistant_manager.retrieve_assistant(\"asst_1jBtgFga9hc1pHZE7Djb0YmD\")"
   ]
  },
  {
   "cell_type": "code",
   "execution_count": 10,
   "metadata": {},
   "outputs": [
    {
     "name": "stdout",
     "output_type": "stream",
     "text": [
      "Assistant(id='asst_zcB4MoSc2EXEQdvM3MIJNsrf', created_at=1701916907, description=\"You are the co-founder of an ed-tech startup, you're demonstrating an automated teacher feedback tool to label classroom transcripts. These transcripts, with text and labels per row, help ReTeach iteratively learn and improve its predictions.\", file_ids=['file-sJjiQMGpueUaTvWQlRyE6b8v'], instructions='Generate the most probable label: OTR (opportunity to respond), PRS (praise), REP (reprimand), or NEU (neutral) for each row in the file where the value in the label column is missing or NA.', metadata={}, model='gpt-3.5-turbo', name='ReTeach Assistant 41', object='assistant', tools=[ToolCodeInterpreter(type='code_interpreter')])\n"
     ]
    }
   ],
   "source": [
    "#my_assistant = client.beta.assistants.retrieve(\"asst_zcB4MoSc2EXEQdvM3MIJNsrf\")\n",
    "#print(my_assistant)"
   ]
  },
  {
   "cell_type": "code",
   "execution_count": 52,
   "metadata": {},
   "outputs": [
    {
     "data": {
      "text/plain": [
       "Thread(id='thread_Sfd964TogXiO4m4Z8xu0j6RB', created_at=1701956596, metadata={}, object='thread')"
      ]
     },
     "execution_count": 52,
     "metadata": {},
     "output_type": "execute_result"
    }
   ],
   "source": [
    "assistant_manager.create_thread(\"I am going to provide several sentences. Do not respond with anything for each other than the three label you predict.\")"
   ]
  },
  {
   "cell_type": "markdown",
   "metadata": {},
   "source": [
    "Need to play around with this more in the openai playground in terms of the inputs/outputs but its a start"
   ]
  },
  {
   "cell_type": "code",
   "execution_count": 53,
   "metadata": {},
   "outputs": [
    {
     "data": {
      "text/plain": [
       "ThreadMessage(id='msg_kYSFX7dSXGvQulDDZXTJbY6f', assistant_id=None, content=[MessageContentText(text=Text(annotations=[], value=\"Can someone replace 'happy' with a synonym? Please return only the three later label.\"), type='text')], created_at=1701956613, file_ids=[], metadata={}, object='thread.message', role='user', run_id=None, thread_id='thread_Sfd964TogXiO4m4Z8xu0j6RB')"
      ]
     },
     "execution_count": 53,
     "metadata": {},
     "output_type": "execute_result"
    }
   ],
   "source": [
    "assistant_manager.send_message(\"Can someone replace 'happy' with a synonym? Please return only the three later label.\")"
   ]
  },
  {
   "cell_type": "code",
   "execution_count": 54,
   "metadata": {},
   "outputs": [
    {
     "data": {
      "text/plain": [
       "ThreadMessage(id='msg_z7g2EYY9kM6K2o6E86nFalAN', assistant_id=None, content=[MessageContentText(text=Text(annotations=[], value='For homework, please write a short story using synonyms, antonyms, and homophones. Please return only the three later label.'), type='text')], created_at=1701956613, file_ids=[], metadata={}, object='thread.message', role='user', run_id=None, thread_id='thread_Sfd964TogXiO4m4Z8xu0j6RB')"
      ]
     },
     "execution_count": 54,
     "metadata": {},
     "output_type": "execute_result"
    }
   ],
   "source": [
    "assistant_manager.send_message(\"For homework, please write a short story using synonyms, antonyms, and homophones. Please return only the three later label.\")"
   ]
  },
  {
   "cell_type": "code",
   "execution_count": 55,
   "metadata": {},
   "outputs": [
    {
     "data": {
      "text/plain": [
       "ThreadMessage(id='msg_BxVIjeR26KEhyMO12xHPkYpM', assistant_id=None, content=[MessageContentText(text=Text(annotations=[], value='I am looking forward to reading your stories. Please return only the three later label.'), type='text')], created_at=1701956614, file_ids=[], metadata={}, object='thread.message', role='user', run_id=None, thread_id='thread_Sfd964TogXiO4m4Z8xu0j6RB')"
      ]
     },
     "execution_count": 55,
     "metadata": {},
     "output_type": "execute_result"
    }
   ],
   "source": [
    "assistant_manager.send_message(\"I am looking forward to reading your stories. Please return only the three later label.\")"
   ]
  },
  {
   "cell_type": "code",
   "execution_count": 56,
   "metadata": {},
   "outputs": [
    {
     "name": "stdout",
     "output_type": "stream",
     "text": [
      "SyncCursorPage[ThreadMessage](data=[ThreadMessage(id='msg_BxVIjeR26KEhyMO12xHPkYpM', assistant_id=None, content=[MessageContentText(text=Text(annotations=[], value='I am looking forward to reading your stories. Please return only the three later label.'), type='text')], created_at=1701956614, file_ids=[], metadata={}, object='thread.message', role='user', run_id=None, thread_id='thread_Sfd964TogXiO4m4Z8xu0j6RB'), ThreadMessage(id='msg_z7g2EYY9kM6K2o6E86nFalAN', assistant_id=None, content=[MessageContentText(text=Text(annotations=[], value='For homework, please write a short story using synonyms, antonyms, and homophones. Please return only the three later label.'), type='text')], created_at=1701956613, file_ids=[], metadata={}, object='thread.message', role='user', run_id=None, thread_id='thread_Sfd964TogXiO4m4Z8xu0j6RB'), ThreadMessage(id='msg_kYSFX7dSXGvQulDDZXTJbY6f', assistant_id=None, content=[MessageContentText(text=Text(annotations=[], value=\"Can someone replace 'happy' with a synonym? Please return only the three later label.\"), type='text')], created_at=1701956613, file_ids=[], metadata={}, object='thread.message', role='user', run_id=None, thread_id='thread_Sfd964TogXiO4m4Z8xu0j6RB'), ThreadMessage(id='msg_7nF8qfeSY15ZmIk4o2uhEji5', assistant_id=None, content=[MessageContentText(text=Text(annotations=[], value='I am going to provide several sentences. Do not respond with anything for each other than the three label you predict.'), type='text')], created_at=1701956596, file_ids=[], metadata={}, object='thread.message', role='user', run_id=None, thread_id='thread_Sfd964TogXiO4m4Z8xu0j6RB')], object='list', first_id='msg_BxVIjeR26KEhyMO12xHPkYpM', last_id='msg_7nF8qfeSY15ZmIk4o2uhEji5', has_more=False)\n",
      "Run(id='run_HCEsBjv9vlp2EuhdKDoDIupT', assistant_id='asst_1jBtgFga9hc1pHZE7Djb0YmD', cancelled_at=None, completed_at=None, created_at=1701956615, expires_at=1701957215, failed_at=None, file_ids=[], instructions='Generate the most probable label out of these three for each sentence I provide: OTR (opportunity to respond), PRS (praise), REP (reprimand), or NEU (neutral). Please return just the three letter code.', last_error=None, metadata={}, model='gpt-3.5-turbo', object='thread.run', required_action=None, started_at=1701956616, status='in_progress', thread_id='thread_Sfd964TogXiO4m4Z8xu0j6RB', tools=[ToolAssistantToolsCode(type='code_interpreter')])\n",
      "\t\tRun(id='run_HCEsBjv9vlp2EuhdKDoDIupT', assistant_id='asst_1jBtgFga9hc1pHZE7Djb0YmD', cancelled_at=None, completed_at=None, created_at=1701956615, expires_at=1701957215, failed_at=None, file_ids=[], instructions='Generate the most probable label out of these three for each sentence I provide: OTR (opportunity to respond), PRS (praise), REP (reprimand), or NEU (neutral). Please return just the three letter code.', last_error=None, metadata={}, model='gpt-3.5-turbo', object='thread.run', required_action=None, started_at=1701956616, status='in_progress', thread_id='thread_Sfd964TogXiO4m4Z8xu0j6RB', tools=[ToolAssistantToolsCode(type='code_interpreter')])\n"
     ]
    }
   ],
   "source": [
    "#result = assistant_manager.run_assistant()\n",
    "run = assistant_manager.run_assistant()"
   ]
  },
  {
   "cell_type": "code",
   "execution_count": 57,
   "metadata": {},
   "outputs": [
    {
     "name": "stdout",
     "output_type": "stream",
     "text": [
      "OTR\n",
      "I am looking forward to reading your stories. Please return only the three later label.\n",
      "For homework, please write a short story using synonyms, antonyms, and homophones. Please return only the three later label.\n",
      "Can someone replace 'happy' with a synonym? Please return only the three later label.\n",
      "I am going to provide several sentences. Do not respond with anything for each other than the three label you predict.\n"
     ]
    }
   ],
   "source": [
    "for thread_message in run.data:\n",
    "    # Iterate over the 'content' attribute of the ThreadMessage, which is a list\n",
    "    for content_item in thread_message.content:\n",
    "        # Assuming content_item is a MessageContentText object with a 'text' attribute\n",
    "        # and that 'text' has a 'value' attribute, print it\n",
    "        print(content_item.text.value)"
   ]
  },
  {
   "cell_type": "code",
   "execution_count": null,
   "metadata": {},
   "outputs": [],
   "source": [
    "assistant.retrieve_messages()"
   ]
  },
  {
   "cell_type": "code",
   "execution_count": null,
   "metadata": {},
   "outputs": [],
   "source": [
    "run = client.beta.threads.runs.create(\n",
    "  thread_id=\"thread_maAUdMLifogaELysO3lxuae1\",\n",
    "  assistant_id=\"asst_zcB4MoSc2EXEQdvM3MIJNsrf\"\n",
    ")\n",
    "print(run)"
   ]
  },
  {
   "cell_type": "markdown",
   "metadata": {},
   "source": [
    "# With File"
   ]
  },
  {
   "cell_type": "code",
   "execution_count": 9,
   "metadata": {},
   "outputs": [],
   "source": [
    "file = assistant_manager.add_file(\"data/009-1.csv\")"
   ]
  },
  {
   "cell_type": "code",
   "execution_count": 10,
   "metadata": {},
   "outputs": [
    {
     "name": "stdout",
     "output_type": "stream",
     "text": [
      "asst_PvNLfSqWjpEImJ6sRyP8Qhjk\n"
     ]
    }
   ],
   "source": [
    "assistant = assistant_manager.create_assistant(\"ReTeach Assistant F\",\n",
    "                                                description = \"You are the co-founder of an ed-tech startup training an automated teacher feedback tool to label classroom transcripts\",  \n",
    "                                                instructions= \"Generate the most probable label out of these three for each sentence I provide: OTR (opportunity to respond), PRS (praise), REP (reprimand), or NEU (neutral). Please return just the three letter code.\",\n",
    "                                                model = \"gpt-3.5-turbo\", \n",
    "                                                tools = [{\"type\": \"code_interpreter\"}], \n",
    "                                                file_id = file.id)"
   ]
  },
  {
   "cell_type": "markdown",
   "metadata": {},
   "source": []
  },
  {
   "cell_type": "code",
   "execution_count": 11,
   "metadata": {},
   "outputs": [
    {
     "data": {
      "text/plain": [
       "Thread(id='thread_YQu70IIGVyaXVfe7TsQvOGCl', created_at=1701957311, metadata={}, object='thread')"
      ]
     },
     "execution_count": 11,
     "metadata": {},
     "output_type": "execute_result"
    }
   ],
   "source": [
    "assistant_manager.create_thread(\"Classify the first 5 rows in the file I just uploaded. Please return only the three later label for each.\")"
   ]
  },
  {
   "cell_type": "code",
   "execution_count": 12,
   "metadata": {},
   "outputs": [
    {
     "name": "stdout",
     "output_type": "stream",
     "text": [
      "SyncCursorPage[ThreadMessage](data=[ThreadMessage(id='msg_hq8gUy7XACcFvvNBb7eM3Nm1', assistant_id=None, content=[MessageContentText(text=Text(annotations=[], value='Classify the first 5 rows in the file I just uploaded. Please return only the three later label for each.'), type='text')], created_at=1701957311, file_ids=[], metadata={}, object='thread.message', role='user', run_id=None, thread_id='thread_YQu70IIGVyaXVfe7TsQvOGCl')], object='list', first_id='msg_hq8gUy7XACcFvvNBb7eM3Nm1', last_id='msg_hq8gUy7XACcFvvNBb7eM3Nm1', has_more=False)\n",
      "Run(id='run_9g4MvWqOzeNfFsKX6bhHSaoZ', assistant_id='asst_PvNLfSqWjpEImJ6sRyP8Qhjk', cancelled_at=None, completed_at=None, created_at=1701957322, expires_at=1701957922, failed_at=None, file_ids=['file-IEadrEsd2c0FiaZ73xph5lwT'], instructions='Generate the most probable label out of these three for each sentence I provide: OTR (opportunity to respond), PRS (praise), REP (reprimand), or NEU (neutral). Please return just the three letter code.', last_error=None, metadata={}, model='gpt-3.5-turbo', object='thread.run', required_action=None, started_at=1701957323, status='in_progress', thread_id='thread_YQu70IIGVyaXVfe7TsQvOGCl', tools=[ToolAssistantToolsCode(type='code_interpreter')])\n",
      "\t\tRun(id='run_9g4MvWqOzeNfFsKX6bhHSaoZ', assistant_id='asst_PvNLfSqWjpEImJ6sRyP8Qhjk', cancelled_at=None, completed_at=None, created_at=1701957322, expires_at=1701957922, failed_at=None, file_ids=['file-IEadrEsd2c0FiaZ73xph5lwT'], instructions='Generate the most probable label out of these three for each sentence I provide: OTR (opportunity to respond), PRS (praise), REP (reprimand), or NEU (neutral). Please return just the three letter code.', last_error=None, metadata={}, model='gpt-3.5-turbo', object='thread.run', required_action=None, started_at=1701957323, status='in_progress', thread_id='thread_YQu70IIGVyaXVfe7TsQvOGCl', tools=[ToolAssistantToolsCode(type='code_interpreter')])\n"
     ]
    }
   ],
   "source": [
    "run = assistant_manager.run_assistant()"
   ]
  },
  {
   "cell_type": "code",
   "execution_count": 13,
   "metadata": {},
   "outputs": [
    {
     "name": "stdout",
     "output_type": "stream",
     "text": [
      "The three-letter labels for the first 5 rows are:\n",
      "\n",
      "1. PRS (praise)\n",
      "2. NaN (not available)\n",
      "3. OTR (opportunity to respond)\n",
      "4. NaN (not available)\n",
      "5. NaN (not available)\n",
      "Classify the first 5 rows in the file I just uploaded. Please return only the three later label for each.\n"
     ]
    }
   ],
   "source": [
    "for thread_message in run.data:\n",
    "    # Iterate over the 'content' attribute of the ThreadMessage, which is a list\n",
    "    for content_item in thread_message.content:\n",
    "        # Assuming content_item is a MessageContentText object with a 'text' attribute\n",
    "        # and that 'text' has a 'value' attribute, print it\n",
    "        print(content_item.text.value)"
   ]
  },
  {
   "cell_type": "code",
   "execution_count": 14,
   "metadata": {},
   "outputs": [
    {
     "data": {
      "text/plain": [
       "ThreadMessage(id='msg_jVSYccQBflSl8AZ22CX44GnH', assistant_id=None, content=[MessageContentText(text=Text(annotations=[], value='Please classify the next 5 rows in the file I just uploaded. Please return only the three later label for each.'), type='text')], created_at=1701957426, file_ids=[], metadata={}, object='thread.message', role='user', run_id=None, thread_id='thread_YQu70IIGVyaXVfe7TsQvOGCl')"
      ]
     },
     "execution_count": 14,
     "metadata": {},
     "output_type": "execute_result"
    }
   ],
   "source": [
    "assistant_manager.send_message(\"Please classify the next 5 rows in the file I just uploaded. Please return only the three later label for each.\")"
   ]
  },
  {
   "cell_type": "code",
   "execution_count": 15,
   "metadata": {},
   "outputs": [
    {
     "name": "stdout",
     "output_type": "stream",
     "text": [
      "SyncCursorPage[ThreadMessage](data=[ThreadMessage(id='msg_jVSYccQBflSl8AZ22CX44GnH', assistant_id=None, content=[MessageContentText(text=Text(annotations=[], value='Please classify the next 5 rows in the file I just uploaded. Please return only the three later label for each.'), type='text')], created_at=1701957426, file_ids=[], metadata={}, object='thread.message', role='user', run_id=None, thread_id='thread_YQu70IIGVyaXVfe7TsQvOGCl'), ThreadMessage(id='msg_fkZOewL0iNJG9qBJxNTY1Bb7', assistant_id='asst_PvNLfSqWjpEImJ6sRyP8Qhjk', content=[MessageContentText(text=Text(annotations=[], value='The three-letter labels for the first 5 rows are:\\n\\n1. PRS (praise)\\n2. NaN (not available)\\n3. OTR (opportunity to respond)\\n4. NaN (not available)\\n5. NaN (not available)'), type='text')], created_at=1701957328, file_ids=[], metadata={}, object='thread.message', role='assistant', run_id='run_9g4MvWqOzeNfFsKX6bhHSaoZ', thread_id='thread_YQu70IIGVyaXVfe7TsQvOGCl'), ThreadMessage(id='msg_hq8gUy7XACcFvvNBb7eM3Nm1', assistant_id=None, content=[MessageContentText(text=Text(annotations=[], value='Classify the first 5 rows in the file I just uploaded. Please return only the three later label for each.'), type='text')], created_at=1701957311, file_ids=[], metadata={}, object='thread.message', role='user', run_id=None, thread_id='thread_YQu70IIGVyaXVfe7TsQvOGCl')], object='list', first_id='msg_jVSYccQBflSl8AZ22CX44GnH', last_id='msg_hq8gUy7XACcFvvNBb7eM3Nm1', has_more=False)\n",
      "Run(id='run_AfalnhmjdwJ87l0MFSk6n9HH', assistant_id='asst_PvNLfSqWjpEImJ6sRyP8Qhjk', cancelled_at=None, completed_at=None, created_at=1701957442, expires_at=1701958042, failed_at=None, file_ids=['file-IEadrEsd2c0FiaZ73xph5lwT'], instructions='Generate the most probable label out of these three for each sentence I provide: OTR (opportunity to respond), PRS (praise), REP (reprimand), or NEU (neutral). Please return just the three letter code.', last_error=None, metadata={}, model='gpt-3.5-turbo', object='thread.run', required_action=None, started_at=1701957442, status='in_progress', thread_id='thread_YQu70IIGVyaXVfe7TsQvOGCl', tools=[ToolAssistantToolsCode(type='code_interpreter')])\n",
      "\t\tRun(id='run_AfalnhmjdwJ87l0MFSk6n9HH', assistant_id='asst_PvNLfSqWjpEImJ6sRyP8Qhjk', cancelled_at=None, completed_at=None, created_at=1701957442, expires_at=1701958042, failed_at=None, file_ids=['file-IEadrEsd2c0FiaZ73xph5lwT'], instructions='Generate the most probable label out of these three for each sentence I provide: OTR (opportunity to respond), PRS (praise), REP (reprimand), or NEU (neutral). Please return just the three letter code.', last_error=None, metadata={}, model='gpt-3.5-turbo', object='thread.run', required_action=None, started_at=1701957442, status='in_progress', thread_id='thread_YQu70IIGVyaXVfe7TsQvOGCl', tools=[ToolAssistantToolsCode(type='code_interpreter')])\n"
     ]
    }
   ],
   "source": [
    "run = assistant_manager.run_assistant()"
   ]
  },
  {
   "cell_type": "code",
   "execution_count": 16,
   "metadata": {},
   "outputs": [
    {
     "name": "stdout",
     "output_type": "stream",
     "text": [
      "The three-letter labels for the next 5 rows are:\n",
      "\n",
      "1. NaN (not available)\n",
      "2. NaN (not available)\n",
      "3. OTR (opportunity to respond)\n",
      "4. PRS (praise)\n",
      "5. NaN (not available)\n",
      "Please classify the next 5 rows in the file I just uploaded. Please return only the three later label for each.\n",
      "The three-letter labels for the first 5 rows are:\n",
      "\n",
      "1. PRS (praise)\n",
      "2. NaN (not available)\n",
      "3. OTR (opportunity to respond)\n",
      "4. NaN (not available)\n",
      "5. NaN (not available)\n",
      "Classify the first 5 rows in the file I just uploaded. Please return only the three later label for each.\n"
     ]
    }
   ],
   "source": [
    "for thread_message in run.data:\n",
    "    # Iterate over the 'content' attribute of the ThreadMessage, which is a list\n",
    "    for content_item in thread_message.content:\n",
    "        # Assuming content_item is a MessageContentText object with a 'text' attribute\n",
    "        # and that 'text' has a 'value' attribute, print it\n",
    "        print(content_item.text.value)"
   ]
  },
  {
   "cell_type": "code",
   "execution_count": null,
   "metadata": {},
   "outputs": [],
   "source": []
  },
  {
   "cell_type": "code",
   "execution_count": null,
   "metadata": {},
   "outputs": [],
   "source": []
  }
 ],
 "metadata": {
  "kernelspec": {
   "display_name": "Python 3",
   "language": "python",
   "name": "python3"
  },
  "language_info": {
   "codemirror_mode": {
    "name": "ipython",
    "version": 3
   },
   "file_extension": ".py",
   "mimetype": "text/x-python",
   "name": "python",
   "nbconvert_exporter": "python",
   "pygments_lexer": "ipython3",
   "version": "3.10.12"
  }
 },
 "nbformat": 4,
 "nbformat_minor": 2
}
