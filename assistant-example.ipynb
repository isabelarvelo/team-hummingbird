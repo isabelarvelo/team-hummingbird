{
 "cells": [
  {
   "cell_type": "markdown",
   "metadata": {},
   "source": [
    "# Open AI Assistant Example (to be deleted)"
   ]
  },
  {
   "cell_type": "markdown",
   "metadata": {},
   "source": [
    "This is just an example of how the module can be used for classification or other tasks. I will probably add some of this functionality into the module for ease of use. "
   ]
  },
  {
   "cell_type": "code",
   "execution_count": null,
   "metadata": {},
   "outputs": [],
   "source": [
    "import os\n",
    "import getpass\n",
    "import pandas as pd "
   ]
  },
  {
   "cell_type": "code",
   "execution_count": 83,
   "metadata": {},
   "outputs": [],
   "source": [
    "os.environ[\"OPENAI_API_KEY\"] = getpass.getpass(\"OpenAI API Key:\")"
   ]
  },
  {
   "cell_type": "code",
   "execution_count": 97,
   "metadata": {},
   "outputs": [],
   "source": [
    "from ai_assisted_coding_final import assistant"
   ]
  },
  {
   "cell_type": "code",
   "execution_count": 98,
   "metadata": {},
   "outputs": [],
   "source": [
    "from openai import OpenAI\n",
    "client = OpenAI()"
   ]
  },
  {
   "cell_type": "code",
   "execution_count": 99,
   "metadata": {},
   "outputs": [],
   "source": [
    "assistant_manager = assistant.OpenAIAssistantManager(client)"
   ]
  },
  {
   "cell_type": "markdown",
   "metadata": {},
   "source": [
    "Need to play around with this more in the openai playground in terms of the inputs/outputs but its a start"
   ]
  },
  {
   "cell_type": "code",
   "execution_count": 100,
   "metadata": {},
   "outputs": [],
   "source": [
    "# Create file, assistant, thread, and send a message\n",
    "file = assistant_manager.add_file(\"data/009-1.csv\")\n",
    "assistant = assistant_manager.create_assistant(\"ReTeach Assistant\",\n",
    "                                                \"\"\"As a co-founder of an ed-tech startup, you're demonstrating \"ReTeach,\" an automated teacher feedback tool. These transcripts, with text and labels per row, help ReTeach iteratively learn and improve its predictions.\"\"\",  \n",
    "                                                \"gpt-3.5-turbo\", [{\"type\": \"code_interpreter\"}], \n",
    "                                                file.id)\n",
    "thread = assistant_manager.create_thread(\"There is no training data, so based on your analysis of the text column, generate the most probable label: OTR (opportunity to respond), PRS (praise), REP (reprimand), or NEU (neutral) for each row in the file where the value in the label column is missing or NA. Return the response as json with the Label column populated for each row\", file.id)"
   ]
  },
  {
   "cell_type": "code",
   "execution_count": 101,
   "metadata": {},
   "outputs": [
    {
     "name": "stdout",
     "output_type": "stream",
     "text": [
      "SyncCursorPage[ThreadMessage](data=[ThreadMessage(id='msg_cQWd743gazdhVgwJ6qkE8Gyk', assistant_id=None, content=[MessageContentText(text=Text(annotations=[], value='There is no training data, so based on your analysis of the text column, generate the most probable label: OTR (opportunity to respond), PRS (praise), REP (reprimand), or NEU (neutral) for each row in the file where the value in the label column is missing or NA. Return the response as json with the Label column populated for each row'), type='text')], created_at=1701873520, file_ids=['file-3FN5YJUiNBWaBIF92WatU9DP'], metadata={}, object='thread.message', role='user', run_id=None, thread_id='thread_mymJoyU8ZA8fyjeWPB88zn5U')], object='list', first_id='msg_cQWd743gazdhVgwJ6qkE8Gyk', last_id='msg_cQWd743gazdhVgwJ6qkE8Gyk', has_more=False)\n",
      "Run(id='run_VLL6CoG8cWJ9WammU6rSkVmB', assistant_id='asst_ZzO8hpFqEwPnAo40ZseZejuk', cancelled_at=None, completed_at=None, created_at=1701873520, expires_at=1701874120, failed_at=None, file_ids=['file-3FN5YJUiNBWaBIF92WatU9DP'], instructions=None, last_error=None, metadata={}, model='gpt-3.5-turbo', object='thread.run', required_action=None, started_at=1701873521, status='in_progress', thread_id='thread_mymJoyU8ZA8fyjeWPB88zn5U', tools=[ToolAssistantToolsCode(type='code_interpreter')])\n",
      "\t\tRun(id='run_VLL6CoG8cWJ9WammU6rSkVmB', assistant_id='asst_ZzO8hpFqEwPnAo40ZseZejuk', cancelled_at=None, completed_at=None, created_at=1701873520, expires_at=1701874120, failed_at=None, file_ids=['file-3FN5YJUiNBWaBIF92WatU9DP'], instructions=None, last_error=None, metadata={}, model='gpt-3.5-turbo', object='thread.run', required_action=None, started_at=1701873521, status='in_progress', thread_id='thread_mymJoyU8ZA8fyjeWPB88zn5U', tools=[ToolAssistantToolsCode(type='code_interpreter')])\n"
     ]
    }
   ],
   "source": [
    "result = assistant_manager.run_assistant()"
   ]
  },
  {
   "cell_type": "code",
   "execution_count": 102,
   "metadata": {},
   "outputs": [
    {
     "name": "stdout",
     "output_type": "stream",
     "text": [
      "Here is the JSON response with the most probable label populated for each row:\n",
      "\n",
      "```json\n",
      "[\n",
      "  {\n",
      "    \"Text\": \"Good morning class, today we are going to learn about nouns.\",\n",
      "    \"Label\": \"PRS\"\n",
      "  },\n",
      "  {\n",
      "    \"Text\": \"A noun is a word that represents a person, place, thing, or idea.\",\n",
      "    \"Label\": \"OTR\"\n",
      "  },\n",
      "  {\n",
      "    \"Text\": \"Can anyone give me an example of a noun?\",\n",
      "    \"Label\": \"OTR\"\n",
      "  },\n",
      "  {\n",
      "    \"Text\": \"That's right, 'dog' is a noun because it is a thing.\",\n",
      "    \"Label\": \"OTR\"\n",
      "  },\n",
      "  {\n",
      "    \"Text\": \"Let's write down some nouns in our notebooks.\",\n",
      "    \"Label\": \"OTR\"\n",
      "  },\n",
      "  ...\n",
      "]\n",
      "```\n",
      "\n",
      "Each row in the JSON response contains the \"Text\" column and the corresponding \"Label\" column, with the label populated based on the analysis of the text. The labels can be \"OTR\" (opportunity to respond), \"PRS\" (praise), \"REP\" (reprimand), or \"NEU\" (neutral).\n",
      "Sure! Let's read the file and generate the most probable label for each row where the label is missing or NA.\n",
      "There is no training data, so based on your analysis of the text column, generate the most probable label: OTR (opportunity to respond), PRS (praise), REP (reprimand), or NEU (neutral) for each row in the file where the value in the label column is missing or NA. Return the response as json with the Label column populated for each row\n"
     ]
    }
   ],
   "source": [
    "for thread_message in result.data:\n",
    "    # Iterate over the 'content' attribute of the ThreadMessage, which is a list\n",
    "    for content_item in thread_message.content:\n",
    "        # Assuming content_item is a MessageContentText object with a 'text' attribute\n",
    "        # and that 'text' has a 'value' attribute, print it\n",
    "        print(content_item.text.value)"
   ]
  }
 ],
 "metadata": {
  "kernelspec": {
   "display_name": "Python 3",
   "language": "python",
   "name": "python3"
  },
  "language_info": {
   "codemirror_mode": {
    "name": "ipython",
    "version": 3
   },
   "file_extension": ".py",
   "mimetype": "text/x-python",
   "name": "python",
   "nbconvert_exporter": "python",
   "pygments_lexer": "ipython3",
   "version": "3.10.12"
  }
 },
 "nbformat": 4,
 "nbformat_minor": 2
}
