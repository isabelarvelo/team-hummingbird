{
 "cells": [
  {
   "cell_type": "code",
   "execution_count": 1,
   "metadata": {},
   "outputs": [],
   "source": [
    "import os\n",
    "import getpass"
   ]
  },
  {
   "cell_type": "code",
   "execution_count": 2,
   "metadata": {},
   "outputs": [],
   "source": [
    "os.environ[\"OPENAI_API_KEY\"] = getpass.getpass(\"OpenAI API Key:\")"
   ]
  },
  {
   "cell_type": "code",
   "execution_count": 3,
   "metadata": {},
   "outputs": [],
   "source": [
    "from ai_assisted_coding_final import assistant"
   ]
  },
  {
   "cell_type": "code",
   "execution_count": 4,
   "metadata": {},
   "outputs": [],
   "source": [
    "from openai import OpenAI\n",
    "client = OpenAI()"
   ]
  },
  {
   "cell_type": "code",
   "execution_count": 5,
   "metadata": {},
   "outputs": [],
   "source": [
    "assistant_manager = assistant.OpenAIAssistantManager(client)"
   ]
  },
  {
   "cell_type": "markdown",
   "metadata": {},
   "source": [
    "Need to play around with this more in the openai playground in terms of the inputs/outputs but its a start"
   ]
  },
  {
   "cell_type": "code",
   "execution_count": 6,
   "metadata": {},
   "outputs": [],
   "source": [
    "# Create file, assistant, thread, and send a message\n",
    "file = assistant_manager.add_file(\"data/009-1.csv\")\n",
    "assistant = assistant_manager.create_assistant(\"ReTeach Assistant\",\n",
    "                                                \"\"\"As a co-founder of an ed-tech startup, you're demonstrating \"ReTeach,\" an automated teacher feedback tool. These transcripts, with text and labels per row, help ReTeach iteratively learn and improve its predictions. Labels include OTR (opportunity to respond), PRS (praise), REP (reprimand), and NEU (neutral).\"\"\",  \n",
    "                                                \"gpt-3.5-turbo\", [{\"type\": \"code_interpreter\"}], \n",
    "                                                file.id)\n",
    "thread = assistant_manager.create_thread(\"Ignore TimeStamp column. Please generate the most probable label(OTR, PRS, REP, NEU) for each row in the dataset where the Label value is missing or NA and return it as a DataFrame with the Label column populated for each row\", file.id)"
   ]
  },
  {
   "cell_type": "code",
   "execution_count": 7,
   "metadata": {},
   "outputs": [
    {
     "name": "stdout",
     "output_type": "stream",
     "text": [
      "SyncCursorPage[ThreadMessage](data=[ThreadMessage(id='msg_gyMkkQq1Cc2WI7uzSerZmhL3', assistant_id=None, content=[MessageContentText(text=Text(annotations=[], value='Ignore TimeStamp column. Please generate the most probable label(OTR, PRS, REP, NEU) for each row in the dataset where the Label value is missing or NA and return it as a DataFrame with the Label column populated for each row'), type='text')], created_at=1701834767, file_ids=['file-ZwjpdjD9PBgcpXslomaP5oi7'], metadata={}, object='thread.message', role='user', run_id=None, thread_id='thread_txHHjOcXZE99rQD481zPqIEU')], object='list', first_id='msg_gyMkkQq1Cc2WI7uzSerZmhL3', last_id='msg_gyMkkQq1Cc2WI7uzSerZmhL3', has_more=False)\n",
      "Run(id='run_3NxduEX4GAw4QWIiCZXF3umS', assistant_id='asst_YVYfDQ6j6ZRaf2IcBAh13Kq2', cancelled_at=None, completed_at=None, created_at=1701834768, expires_at=1701835368, failed_at=None, file_ids=['file-ZwjpdjD9PBgcpXslomaP5oi7'], instructions=None, last_error=None, metadata={}, model='gpt-3.5-turbo', object='thread.run', required_action=None, started_at=1701834768, status='in_progress', thread_id='thread_txHHjOcXZE99rQD481zPqIEU', tools=[ToolAssistantToolsCode(type='code_interpreter')])\n",
      "\t\tRun(id='run_3NxduEX4GAw4QWIiCZXF3umS', assistant_id='asst_YVYfDQ6j6ZRaf2IcBAh13Kq2', cancelled_at=None, completed_at=None, created_at=1701834768, expires_at=1701835368, failed_at=None, file_ids=['file-ZwjpdjD9PBgcpXslomaP5oi7'], instructions=None, last_error=None, metadata={}, model='gpt-3.5-turbo', object='thread.run', required_action=None, started_at=1701834768, status='in_progress', thread_id='thread_txHHjOcXZE99rQD481zPqIEU', tools=[ToolAssistantToolsCode(type='code_interpreter')])\n",
      "\t\tRun(id='run_3NxduEX4GAw4QWIiCZXF3umS', assistant_id='asst_YVYfDQ6j6ZRaf2IcBAh13Kq2', cancelled_at=None, completed_at=None, created_at=1701834768, expires_at=1701835368, failed_at=None, file_ids=['file-ZwjpdjD9PBgcpXslomaP5oi7'], instructions=None, last_error=None, metadata={}, model='gpt-3.5-turbo', object='thread.run', required_action=None, started_at=1701834768, status='in_progress', thread_id='thread_txHHjOcXZE99rQD481zPqIEU', tools=[ToolAssistantToolsCode(type='code_interpreter')])\n"
     ]
    },
    {
     "data": {
      "text/plain": [
       "SyncCursorPage[ThreadMessage](data=[ThreadMessage(id='msg_1OB91GAWFNykbvC1DKcNv4Id', assistant_id='asst_YVYfDQ6j6ZRaf2IcBAh13Kq2', content=[MessageContentText(text=Text(annotations=[], value=\"I have converted the labels to numeric values and generated the most probable label for the missing or NA values. The resulting DataFrame `new_df` has the 'Label' column populated for each row.\\n\\nHere is a preview of the updated DataFrame:\\n\\n```\\n                                                Text  Label\\n0  Good morning class, today we are going to lear...    1.0\\n2           Can anyone give me an example of a noun?    0.0\\n7          Can someone give me an example of a verb?    0.0\\n8  Great example, 'run' is a verb because it is a...    1.0\\n12   Can someone give me an example of an adjective?    0.0\\n...\\n```\\n\\nPlease note that the 'Label' column now contains numeric values instead of the original labels ('OTR', 'PRS', 'REP', 'NEU').\"), type='text')], created_at=1701834850, file_ids=[], metadata={}, object='thread.message', role='assistant', run_id='run_3NxduEX4GAw4QWIiCZXF3umS', thread_id='thread_txHHjOcXZE99rQD481zPqIEU'), ThreadMessage(id='msg_cBKM2K0bDqvvLmI77bcWRNm3', assistant_id='asst_YVYfDQ6j6ZRaf2IcBAh13Kq2', content=[MessageContentText(text=Text(annotations=[], value=\"Both the 'Text' and 'Label' columns have object dtype, which is expected for text data. The error is not related to the data types. \\n\\nThe issue arises because some of the values in the 'Label' column are not numeric. The `idxmax` function requires numeric values to determine the column with the maximum value. \\n\\nTo resolve this issue, we need to convert the values in the 'Label' column to numeric type. In your case, the labels are 'OTR', 'PRS', 'REP', 'NEU', so we can map them to numeric values as follows:\\n- 'OTR' -> 0\\n- 'PRS' -> 1\\n- 'REP' -> 2\\n- 'NEU' -> 3\\n\\nLet's convert the labels to numeric values and then generate the most probable label for the missing or NA values.\"), type='text')], created_at=1701834821, file_ids=[], metadata={}, object='thread.message', role='assistant', run_id='run_3NxduEX4GAw4QWIiCZXF3umS', thread_id='thread_txHHjOcXZE99rQD481zPqIEU'), ThreadMessage(id='msg_HUrIzugr8BneVIVnR27RiViL', assistant_id='asst_YVYfDQ6j6ZRaf2IcBAh13Kq2', content=[MessageContentText(text=Text(annotations=[], value=\"It seems that there is an issue with the data types in the dataset which is causing the error. Let's check the data types of the columns in the dataset to identify the problem.\"), type='text')], created_at=1701834816, file_ids=[], metadata={}, object='thread.message', role='assistant', run_id='run_3NxduEX4GAw4QWIiCZXF3umS', thread_id='thread_txHHjOcXZE99rQD481zPqIEU'), ThreadMessage(id='msg_Y2NeT7ghuPo5INhq4s8VhwVm', assistant_id='asst_YVYfDQ6j6ZRaf2IcBAh13Kq2', content=[MessageContentText(text=Text(annotations=[], value=\"Apologies for the confusion. I mistakenly referred to the 'TimeStamp' column instead of the 'Timestamp' column. Let me correct the code and continue with generating the most probable label for each missing or NA value.\"), type='text')], created_at=1701834800, file_ids=[], metadata={}, object='thread.message', role='assistant', run_id='run_3NxduEX4GAw4QWIiCZXF3umS', thread_id='thread_txHHjOcXZE99rQD481zPqIEU'), ThreadMessage(id='msg_pTChBN2lkTcXtTAZnGpbV08w', assistant_id='asst_YVYfDQ6j6ZRaf2IcBAh13Kq2', content=[MessageContentText(text=Text(annotations=[], value=\"It seems that the 'TimeStamp' column does not exist in the uploaded dataset. Let me verify the columns in the dataset.\"), type='text')], created_at=1701834790, file_ids=[], metadata={}, object='thread.message', role='assistant', run_id='run_3NxduEX4GAw4QWIiCZXF3umS', thread_id='thread_txHHjOcXZE99rQD481zPqIEU'), ThreadMessage(id='msg_gyMkkQq1Cc2WI7uzSerZmhL3', assistant_id=None, content=[MessageContentText(text=Text(annotations=[], value='Ignore TimeStamp column. Please generate the most probable label(OTR, PRS, REP, NEU) for each row in the dataset where the Label value is missing or NA and return it as a DataFrame with the Label column populated for each row'), type='text')], created_at=1701834767, file_ids=['file-ZwjpdjD9PBgcpXslomaP5oi7'], metadata={}, object='thread.message', role='user', run_id=None, thread_id='thread_txHHjOcXZE99rQD481zPqIEU')], object='list', first_id='msg_1OB91GAWFNykbvC1DKcNv4Id', last_id='msg_gyMkkQq1Cc2WI7uzSerZmhL3', has_more=False)"
      ]
     },
     "execution_count": 7,
     "metadata": {},
     "output_type": "execute_result"
    }
   ],
   "source": [
    "assistant_manager.run_assistant()"
   ]
  }
 ],
 "metadata": {
  "kernelspec": {
   "display_name": "Python 3",
   "language": "python",
   "name": "python3"
  },
  "language_info": {
   "codemirror_mode": {
    "name": "ipython",
    "version": 3
   },
   "file_extension": ".py",
   "mimetype": "text/x-python",
   "name": "python",
   "nbconvert_exporter": "python",
   "pygments_lexer": "ipython3",
   "version": "3.10.12"
  }
 },
 "nbformat": 4,
 "nbformat_minor": 2
}
