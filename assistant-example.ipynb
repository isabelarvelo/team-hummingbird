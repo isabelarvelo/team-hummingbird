{
 "cells": [
  {
   "cell_type": "markdown",
   "metadata": {},
   "source": [
    "# Open AI Assistant Example (to be deleted)"
   ]
  },
  {
   "cell_type": "markdown",
   "metadata": {},
   "source": [
    "This is just an example of how the module can be used for classification or other tasks. I will probably add some of this functionality into the module for ease of use. "
   ]
  },
  {
   "cell_type": "code",
   "execution_count": 4,
   "metadata": {},
   "outputs": [],
   "source": [
    "import os\n",
    "import getpass\n",
    "import pandas as pd "
   ]
  },
  {
   "cell_type": "code",
   "execution_count": 5,
   "metadata": {},
   "outputs": [],
   "source": [
    "os.environ[\"OPENAI_API_KEY\"] = getpass.getpass(\"OpenAI API Key:\")"
   ]
  },
  {
   "cell_type": "code",
   "execution_count": 1,
   "metadata": {},
   "outputs": [],
   "source": [
    "from ai_assisted_coding_final import assistant"
   ]
  },
  {
   "cell_type": "code",
   "execution_count": 6,
   "metadata": {},
   "outputs": [],
   "source": [
    "from openai import OpenAI\n",
    "client = OpenAI()"
   ]
  },
  {
   "cell_type": "code",
   "execution_count": 7,
   "metadata": {},
   "outputs": [],
   "source": [
    "assistant_manager = assistant.OpenAIAssistantManager(client)"
   ]
  },
  {
   "cell_type": "code",
   "execution_count": 8,
   "metadata": {},
   "outputs": [
    {
     "name": "stdout",
     "output_type": "stream",
     "text": [
      "asst_dbBIrMC7GFIeNXzEDl2dRkug\n"
     ]
    }
   ],
   "source": [
    "file = assistant_manager.add_file(\"data/009-1.csv\")\n",
    "assistant = assistant_manager.create_assistant(\"ReTeach Assistant\",\n",
    "                                                description = \"You are the co-founder of an ed-tech startup, you're demonstrating an automated teacher feedback tool to label classroom transcripts. These transcripts, with text and labels per row, help ReTeach iteratively learn and improve its predictions.\",  \n",
    "                                                instructions= \"Generate the most probable label: OTR (opportunity to respond), PRS (praise), REP (reprimand), or NEU (neutral) for each row in the file where the value in the label column is missing or NA.\",\n",
    "                                                model = \"gpt-3.5-turbo\", \n",
    "                                                tools = [{\"type\": \"code_interpreter\"}], \n",
    "                                                file_id = file.id)"
   ]
  },
  {
   "cell_type": "code",
   "execution_count": 10,
   "metadata": {},
   "outputs": [],
   "source": [
    "# This is how you retrive an assistant you already created so you don't create a new one everytime you run the code, the id is printed when you create it \n",
    "new_assistant = assistant_manager.retrieve_assistant(\"asst_dbBIrMC7GFIeNXzEDl2dRkug\")"
   ]
  },
  {
   "cell_type": "code",
   "execution_count": 9,
   "metadata": {},
   "outputs": [
    {
     "name": "stdout",
     "output_type": "stream",
     "text": [
      "Assistant(id='asst_Uy09vDtrQNIDvd5zoDdTjFrp', created_at=1701877792, description=\"You are the co-founder of an ed-tech startup, you're demonstrating an automated teacher feedback tool to label classroom transcripts. These transcripts, with text and labels per row, help ReTeach iteratively learn and improve its predictions.\", file_ids=['file-3vo23OUhjMu6ZpGoqeAEMomw'], instructions='Generate the most probable label: OTR (opportunity to respond), PRS (praise), REP (reprimand), or NEU (neutral) for each row in the file where the value in the label column is missing or NA. Return the response as json with the Label column populated for each row', metadata={}, model='gpt-3.5-turbo', name='ReTeach Assistant', object='assistant', tools=[ToolCodeInterpreter(type='code_interpreter')])\n"
     ]
    }
   ],
   "source": [
    "my_assistant = client.beta.assistants.retrieve(\"asst_Uy09vDtrQNIDvd5zoDdTjFrp\")\n",
    "print(my_assistant)"
   ]
  },
  {
   "cell_type": "markdown",
   "metadata": {},
   "source": [
    "Need to play around with this more in the openai playground in terms of the inputs/outputs but its a start"
   ]
  },
  {
   "cell_type": "code",
   "execution_count": 11,
   "metadata": {},
   "outputs": [],
   "source": [
    "# Create file, assistant, thread, and send a message\n",
    "thread = assistant_manager.create_thread(\"There is no training data, so based on your analysis of the text column, generate the most probable label: OTR (opportunity to respond), PRS (praise), REP (reprimand), or NEU (neutral) for each row in the file where the value in the label column is missing or NA. Return the response as json with the Label column populated for each row\", file.id)"
   ]
  },
  {
   "cell_type": "code",
   "execution_count": 12,
   "metadata": {},
   "outputs": [
    {
     "name": "stdout",
     "output_type": "stream",
     "text": [
      "SyncCursorPage[ThreadMessage](data=[ThreadMessage(id='msg_LyGcg5skWzVwBB46gXD5gYJd', assistant_id=None, content=[MessageContentText(text=Text(annotations=[], value='There is no training data, so based on your analysis of the text column, generate the most probable label: OTR (opportunity to respond), PRS (praise), REP (reprimand), or NEU (neutral) for each row in the file where the value in the label column is missing or NA. Return the response as json with the Label column populated for each row'), type='text')], created_at=1701879849, file_ids=['file-cKiLRe8Z8YKbtdRlBNfCLKiU'], metadata={}, object='thread.message', role='user', run_id=None, thread_id='thread_knqPBgSm7ojaGU1TkZhnqyGo')], object='list', first_id='msg_LyGcg5skWzVwBB46gXD5gYJd', last_id='msg_LyGcg5skWzVwBB46gXD5gYJd', has_more=False)\n",
      "Run(id='run_Xjuf0ABc1lccs5U9J2dGO9jk', assistant_id='asst_dbBIrMC7GFIeNXzEDl2dRkug', cancelled_at=None, completed_at=None, created_at=1701879849, expires_at=1701880449, failed_at=None, file_ids=['file-cKiLRe8Z8YKbtdRlBNfCLKiU'], instructions='Generate the most probable label: OTR (opportunity to respond), PRS (praise), REP (reprimand), or NEU (neutral) for each row in the file where the value in the label column is missing or NA.', last_error=None, metadata={}, model='gpt-3.5-turbo', object='thread.run', required_action=None, started_at=1701879850, status='in_progress', thread_id='thread_knqPBgSm7ojaGU1TkZhnqyGo', tools=[ToolAssistantToolsCode(type='code_interpreter')])\n",
      "\t\tRun(id='run_Xjuf0ABc1lccs5U9J2dGO9jk', assistant_id='asst_dbBIrMC7GFIeNXzEDl2dRkug', cancelled_at=None, completed_at=None, created_at=1701879849, expires_at=1701880449, failed_at=None, file_ids=['file-cKiLRe8Z8YKbtdRlBNfCLKiU'], instructions='Generate the most probable label: OTR (opportunity to respond), PRS (praise), REP (reprimand), or NEU (neutral) for each row in the file where the value in the label column is missing or NA.', last_error=None, metadata={}, model='gpt-3.5-turbo', object='thread.run', required_action=None, started_at=1701879850, status='in_progress', thread_id='thread_knqPBgSm7ojaGU1TkZhnqyGo', tools=[ToolAssistantToolsCode(type='code_interpreter')])\n",
      "\t\tRun(id='run_Xjuf0ABc1lccs5U9J2dGO9jk', assistant_id='asst_dbBIrMC7GFIeNXzEDl2dRkug', cancelled_at=None, completed_at=1701879900, created_at=1701879849, expires_at=None, failed_at=None, file_ids=['file-cKiLRe8Z8YKbtdRlBNfCLKiU'], instructions='Generate the most probable label: OTR (opportunity to respond), PRS (praise), REP (reprimand), or NEU (neutral) for each row in the file where the value in the label column is missing or NA.', last_error=None, metadata={}, model='gpt-3.5-turbo', object='thread.run', required_action=None, started_at=1701879850, status='completed', thread_id='thread_knqPBgSm7ojaGU1TkZhnqyGo', tools=[ToolAssistantToolsCode(type='code_interpreter')])\n"
     ]
    }
   ],
   "source": [
    "result = assistant_manager.run_assistant()"
   ]
  },
  {
   "cell_type": "code",
   "execution_count": 13,
   "metadata": {},
   "outputs": [
    {
     "name": "stdout",
     "output_type": "stream",
     "text": [
      "Here is the JSON data with the most probable label generated for each row where the label is missing or NA:\n",
      "\n",
      "```json\n",
      "[\n",
      "  {\n",
      "    \"Text\": \"Good morning class, today we are going to learn about nouns.\",\n",
      "    \"Label\": \"PRS\"\n",
      "  },\n",
      "  {\n",
      "    \"Text\": \"A noun is a word that represents a person, place, thing, or idea.\",\n",
      "    \"Label\": \"NEU\"\n",
      "  },\n",
      "  {\n",
      "    \"Text\": \"Can anyone give me an example of a noun?\",\n",
      "    \"Label\": \"OTR\"\n",
      "  },\n",
      "  {\n",
      "    \"Text\": \"That's right, 'dog' is a noun because it is a thing.\",\n",
      "    \"Label\": \"NEU\"\n",
      "  },\n",
      "  ...\n",
      "]\n",
      "```\n",
      "\n",
      "Each row in the JSON data contains the original text and the corresponding most probable label.\n",
      "Apologies for the error again. It appears that the `determine_label` function was not defined in the current cell. Let me redefine the function and rerun the code.\n",
      "Thank you for your patience. I have verified the column names in the file:\n",
      "\n",
      "- The text column appears to be named \"Text\" (with a capital \"T\").\n",
      "- The label column is named \"Label\".\n",
      "\n",
      "I will use these column names to populate the missing labels.\n",
      "Apologies for the error. It seems that the column name \"text\" does not exist in the file.\n",
      "\n",
      "Let me load the file and display its contents to verify the column names.\n",
      "There is no training data, so based on your analysis of the text column, generate the most probable label: OTR (opportunity to respond), PRS (praise), REP (reprimand), or NEU (neutral) for each row in the file where the value in the label column is missing or NA. Return the response as json with the Label column populated for each row\n"
     ]
    }
   ],
   "source": [
    "for thread_message in result.data:\n",
    "    # Iterate over the 'content' attribute of the ThreadMessage, which is a list\n",
    "    for content_item in thread_message.content:\n",
    "        # Assuming content_item is a MessageContentText object with a 'text' attribute\n",
    "        # and that 'text' has a 'value' attribute, print it\n",
    "        print(content_item.text.value)"
   ]
  }
 ],
 "metadata": {
  "kernelspec": {
   "display_name": "Python 3",
   "language": "python",
   "name": "python3"
  },
  "language_info": {
   "codemirror_mode": {
    "name": "ipython",
    "version": 3
   },
   "file_extension": ".py",
   "mimetype": "text/x-python",
   "name": "python",
   "nbconvert_exporter": "python",
   "pygments_lexer": "ipython3",
   "version": "3.10.12"
  }
 },
 "nbformat": 4,
 "nbformat_minor": 2
}
